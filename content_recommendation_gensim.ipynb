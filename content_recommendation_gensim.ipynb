{
 "cells": [
  {
   "cell_type": "code",
   "execution_count": 1,
   "metadata": {},
   "outputs": [],
   "source": [
    "#Lakshminarayanan\n",
    "import pprint\n",
    "import pandas as pd\n",
    "import numpy as np\n",
    "import pickle\n",
    "import joblib"
   ]
  },
  {
   "cell_type": "markdown",
   "metadata": {},
   "source": [
    "# Loading processed_corpus from pickle"
   ]
  },
  {
   "cell_type": "markdown",
   "metadata": {},
   "source": [
    "**processed_pickle has tokenized value of song_data_with_genre['text'], which as given below**\n",
    "\n",
    "song_data_with_genre['text'] = song_data_with_genre['title'] + ' ' + song_data_with_genre['artist_name'] + ' ' + song_data_with_genre['genre'] + ' ' + song_data_with_genre['release']"
   ]
  },
  {
   "cell_type": "code",
   "execution_count": 2,
   "metadata": {},
   "outputs": [],
   "source": [
    "processed_corpus = pickle.load( open( \"processed_corpus.pkl\", \"rb\" ) )"
   ]
  },
  {
   "cell_type": "markdown",
   "metadata": {
    "scrolled": true
   },
   "source": [
    "# Using corpora dictionary from gensim "
   ]
  },
  {
   "cell_type": "code",
   "execution_count": 3,
   "metadata": {},
   "outputs": [],
   "source": [
    "from gensim import corpora\n",
    "\n",
    "dictionary = corpora.Dictionary(processed_corpus)"
   ]
  },
  {
   "cell_type": "code",
   "execution_count": 4,
   "metadata": {},
   "outputs": [
    {
     "data": {
      "text/plain": [
       "43757"
      ]
     },
     "execution_count": 4,
     "metadata": {},
     "output_type": "execute_result"
    }
   ],
   "source": [
    "len(dictionary.token2id)"
   ]
  },
  {
   "cell_type": "code",
   "execution_count": 5,
   "metadata": {},
   "outputs": [
    {
     "name": "stdout",
     "output_type": "stream",
     "text": [
      "[(3004, 1), (7344, 1)]\n"
     ]
    }
   ],
   "source": [
    "# testing with new doc\n",
    "new_doc = \"Human computer interaction\"\n",
    "new_vec = dictionary.doc2bow(new_doc.lower().split())\n",
    "print(new_vec)"
   ]
  },
  {
   "cell_type": "markdown",
   "metadata": {},
   "source": [
    "# USING SparseMatrixSimilarity FROM GENSIM"
   ]
  },
  {
   "cell_type": "code",
   "execution_count": 9,
   "metadata": {},
   "outputs": [],
   "source": [
    "tfidf = joblib.load('gensim_tfidf_model.pkl')"
   ]
  },
  {
   "cell_type": "code",
   "execution_count": 10,
   "metadata": {},
   "outputs": [],
   "source": [
    "index = joblib.load('gensim_sparse_similarities.pkl')"
   ]
  },
  {
   "cell_type": "code",
   "execution_count": 11,
   "metadata": {},
   "outputs": [],
   "source": [
    "query_document = \"Elton John\".lower().split()\n",
    "query_bow = dictionary.doc2bow(query_document)\n",
    "sims = index[tfidf[query_bow]]"
   ]
  },
  {
   "cell_type": "code",
   "execution_count": 12,
   "metadata": {},
   "outputs": [
    {
     "data": {
      "text/plain": [
       "array([0., 0., 0., 0., 0., 0., 0., 0., 0., 0.], dtype=float32)"
      ]
     },
     "execution_count": 12,
     "metadata": {},
     "output_type": "execute_result"
    }
   ],
   "source": [
    "sims[:10]"
   ]
  },
  {
   "cell_type": "code",
   "execution_count": 13,
   "metadata": {},
   "outputs": [],
   "source": [
    "doc_l = []\n",
    "score_l = []\n",
    "for document_number, score in sorted(enumerate(sims), key=lambda x: x[1], reverse=True):\n",
    "    doc_l.append(document_number)\n",
    "    score_l.append(score)\n",
    "    "
   ]
  },
  {
   "cell_type": "code",
   "execution_count": 14,
   "metadata": {},
   "outputs": [
    {
     "data": {
      "text/html": [
       "<div>\n",
       "<style scoped>\n",
       "    .dataframe tbody tr th:only-of-type {\n",
       "        vertical-align: middle;\n",
       "    }\n",
       "\n",
       "    .dataframe tbody tr th {\n",
       "        vertical-align: top;\n",
       "    }\n",
       "\n",
       "    .dataframe thead th {\n",
       "        text-align: right;\n",
       "    }\n",
       "</style>\n",
       "<table border=\"1\" class=\"dataframe\">\n",
       "  <thead>\n",
       "    <tr style=\"text-align: right;\">\n",
       "      <th></th>\n",
       "      <th>score</th>\n",
       "    </tr>\n",
       "    <tr>\n",
       "      <th>index</th>\n",
       "      <th></th>\n",
       "    </tr>\n",
       "  </thead>\n",
       "  <tbody>\n",
       "    <tr>\n",
       "      <th>53092</th>\n",
       "      <td>0.917258</td>\n",
       "    </tr>\n",
       "    <tr>\n",
       "      <th>159502</th>\n",
       "      <td>0.901199</td>\n",
       "    </tr>\n",
       "    <tr>\n",
       "      <th>97122</th>\n",
       "      <td>0.869411</td>\n",
       "    </tr>\n",
       "    <tr>\n",
       "      <th>157010</th>\n",
       "      <td>0.864635</td>\n",
       "    </tr>\n",
       "    <tr>\n",
       "      <th>86828</th>\n",
       "      <td>0.794120</td>\n",
       "    </tr>\n",
       "    <tr>\n",
       "      <th>61951</th>\n",
       "      <td>0.741077</td>\n",
       "    </tr>\n",
       "    <tr>\n",
       "      <th>53753</th>\n",
       "      <td>0.668568</td>\n",
       "    </tr>\n",
       "    <tr>\n",
       "      <th>7438</th>\n",
       "      <td>0.638758</td>\n",
       "    </tr>\n",
       "    <tr>\n",
       "      <th>98942</th>\n",
       "      <td>0.632582</td>\n",
       "    </tr>\n",
       "    <tr>\n",
       "      <th>141602</th>\n",
       "      <td>0.621983</td>\n",
       "    </tr>\n",
       "  </tbody>\n",
       "</table>\n",
       "</div>"
      ],
      "text/plain": [
       "           score\n",
       "index           \n",
       "53092   0.917258\n",
       "159502  0.901199\n",
       "97122   0.869411\n",
       "157010  0.864635\n",
       "86828   0.794120\n",
       "61951   0.741077\n",
       "53753   0.668568\n",
       "7438    0.638758\n",
       "98942   0.632582\n",
       "141602  0.621983"
      ]
     },
     "execution_count": 14,
     "metadata": {},
     "output_type": "execute_result"
    }
   ],
   "source": [
    "recommended_songs = pd.DataFrame(score_l,doc_l).head(10)\n",
    "recommended_songs=recommended_songs.reset_index()\n",
    "recommended_songs.columns = ['index','score']\n",
    "recommended_songs.set_index('index',inplace = True)\n",
    "recommended_songs"
   ]
  },
  {
   "cell_type": "code",
   "execution_count": 15,
   "metadata": {},
   "outputs": [
    {
     "data": {
      "text/plain": [
       "183885"
      ]
     },
     "execution_count": 15,
     "metadata": {},
     "output_type": "execute_result"
    }
   ],
   "source": [
    "len(sims)"
   ]
  },
  {
   "cell_type": "code",
   "execution_count": 16,
   "metadata": {},
   "outputs": [
    {
     "data": {
      "text/plain": [
       "0.0"
      ]
     },
     "execution_count": 16,
     "metadata": {},
     "output_type": "execute_result"
    }
   ],
   "source": [
    "sims[document_number]"
   ]
  },
  {
   "cell_type": "code",
   "execution_count": 17,
   "metadata": {},
   "outputs": [],
   "source": [
    "song_data_with_genre=pd.read_csv('song_data_with_genre.csv')"
   ]
  },
  {
   "cell_type": "code",
   "execution_count": 18,
   "metadata": {},
   "outputs": [],
   "source": [
    "#song_data_with_genre = song_data_with_genre.drop(columns=['Unnamed: 0','Unnamed: 0.1','tid'])"
   ]
  },
  {
   "cell_type": "code",
   "execution_count": 19,
   "metadata": {},
   "outputs": [
    {
     "data": {
      "text/html": [
       "<div>\n",
       "<style scoped>\n",
       "    .dataframe tbody tr th:only-of-type {\n",
       "        vertical-align: middle;\n",
       "    }\n",
       "\n",
       "    .dataframe tbody tr th {\n",
       "        vertical-align: top;\n",
       "    }\n",
       "\n",
       "    .dataframe thead th {\n",
       "        text-align: right;\n",
       "    }\n",
       "</style>\n",
       "<table border=\"1\" class=\"dataframe\">\n",
       "  <thead>\n",
       "    <tr style=\"text-align: right;\">\n",
       "      <th></th>\n",
       "      <th>Unnamed: 0</th>\n",
       "      <th>title</th>\n",
       "      <th>artist_name</th>\n",
       "      <th>genre</th>\n",
       "      <th>song_id</th>\n",
       "      <th>release</th>\n",
       "      <th>year</th>\n",
       "      <th>artist_gender</th>\n",
       "      <th>text</th>\n",
       "    </tr>\n",
       "  </thead>\n",
       "  <tbody>\n",
       "    <tr>\n",
       "      <th>0</th>\n",
       "      <td>0</td>\n",
       "      <td>El hijo del pueblo</td>\n",
       "      <td>Jorge Negrete</td>\n",
       "      <td>Latin</td>\n",
       "      <td>SOLJTLX12AB01890ED</td>\n",
       "      <td>32 Grandes Éxitos  CD 2</td>\n",
       "      <td>1997</td>\n",
       "      <td>female</td>\n",
       "      <td>El hijo del pueblo Jorge Negrete Latin 32 Gran...</td>\n",
       "    </tr>\n",
       "    <tr>\n",
       "      <th>1</th>\n",
       "      <td>1</td>\n",
       "      <td>N Gana</td>\n",
       "      <td>Waldemar Bastos</td>\n",
       "      <td>World</td>\n",
       "      <td>SOGPCJI12A8C13CCA0</td>\n",
       "      <td>Afropea 3 - Telling Stories To The Sea</td>\n",
       "      <td>0</td>\n",
       "      <td>male</td>\n",
       "      <td>N Gana Waldemar Bastos World Afropea 3 - Telli...</td>\n",
       "    </tr>\n",
       "    <tr>\n",
       "      <th>2</th>\n",
       "      <td>2</td>\n",
       "      <td>006</td>\n",
       "      <td>Lena Philipsson</td>\n",
       "      <td>Pop</td>\n",
       "      <td>SOSDCFG12AB0184647</td>\n",
       "      <td>Lena 20 År</td>\n",
       "      <td>1998</td>\n",
       "      <td>male</td>\n",
       "      <td>006 Lena Philipsson Pop Lena 20 År</td>\n",
       "    </tr>\n",
       "    <tr>\n",
       "      <th>3</th>\n",
       "      <td>3</td>\n",
       "      <td>Rock-N-Rule</td>\n",
       "      <td>Emery</td>\n",
       "      <td>Rock</td>\n",
       "      <td>SOIMMJJ12AF72AD643</td>\n",
       "      <td>I'm Only A Man (Bonus Track Version)</td>\n",
       "      <td>2007</td>\n",
       "      <td>female</td>\n",
       "      <td>Rock-N-Rule Emery Rock I'm Only A Man (Bonus T...</td>\n",
       "    </tr>\n",
       "    <tr>\n",
       "      <th>4</th>\n",
       "      <td>4</td>\n",
       "      <td>I'm Ready</td>\n",
       "      <td>Aerosmith</td>\n",
       "      <td>Rock</td>\n",
       "      <td>SOEEHEY12CF5F88FB4</td>\n",
       "      <td>Honkin' On Bobo</td>\n",
       "      <td>2004</td>\n",
       "      <td>female</td>\n",
       "      <td>I'm Ready Aerosmith Rock Honkin' On Bobo</td>\n",
       "    </tr>\n",
       "    <tr>\n",
       "      <th>...</th>\n",
       "      <td>...</td>\n",
       "      <td>...</td>\n",
       "      <td>...</td>\n",
       "      <td>...</td>\n",
       "      <td>...</td>\n",
       "      <td>...</td>\n",
       "      <td>...</td>\n",
       "      <td>...</td>\n",
       "      <td>...</td>\n",
       "    </tr>\n",
       "    <tr>\n",
       "      <th>183880</th>\n",
       "      <td>185179</td>\n",
       "      <td>Interrotte Speranze</td>\n",
       "      <td>Coronatus</td>\n",
       "      <td>Metal</td>\n",
       "      <td>SOIQNVK12A8C13B061</td>\n",
       "      <td>Lux Noctis</td>\n",
       "      <td>2007</td>\n",
       "      <td>male</td>\n",
       "      <td>Interrotte Speranze Coronatus Metal Lux Noctis</td>\n",
       "    </tr>\n",
       "    <tr>\n",
       "      <th>183881</th>\n",
       "      <td>185180</td>\n",
       "      <td>Wouldn't Get Far</td>\n",
       "      <td>The Game</td>\n",
       "      <td>Rap</td>\n",
       "      <td>SOQDFGV12AB0183F25</td>\n",
       "      <td>R&amp;B Collaborations 2007</td>\n",
       "      <td>0</td>\n",
       "      <td>female</td>\n",
       "      <td>Wouldn't Get Far The Game Rap R&amp;B Collaboratio...</td>\n",
       "    </tr>\n",
       "    <tr>\n",
       "      <th>183882</th>\n",
       "      <td>185181</td>\n",
       "      <td>Wouldn't Get Far</td>\n",
       "      <td>The Game</td>\n",
       "      <td>Rap</td>\n",
       "      <td>SOYKHSL12AF72A35AC</td>\n",
       "      <td>Wouldn't Get Far</td>\n",
       "      <td>0</td>\n",
       "      <td>female</td>\n",
       "      <td>Wouldn't Get Far The Game Rap Wouldn't Get Far</td>\n",
       "    </tr>\n",
       "    <tr>\n",
       "      <th>183883</th>\n",
       "      <td>185182</td>\n",
       "      <td>Chill</td>\n",
       "      <td>Jazz Addixx</td>\n",
       "      <td>Rap</td>\n",
       "      <td>SOIDAMG12AB0182B3A</td>\n",
       "      <td>Oxygen Refreshed (Instrumentals)</td>\n",
       "      <td>0</td>\n",
       "      <td>female</td>\n",
       "      <td>Chill Jazz Addixx Rap Oxygen Refreshed (Instru...</td>\n",
       "    </tr>\n",
       "    <tr>\n",
       "      <th>183884</th>\n",
       "      <td>185183</td>\n",
       "      <td>Way Down</td>\n",
       "      <td>Taylor Hawkins &amp; The Coattail Riders</td>\n",
       "      <td>Rock</td>\n",
       "      <td>SOFAXZU12AB01881C4</td>\n",
       "      <td>Way Down</td>\n",
       "      <td>2010</td>\n",
       "      <td>male</td>\n",
       "      <td>Way Down Taylor Hawkins &amp; The Coattail Riders ...</td>\n",
       "    </tr>\n",
       "  </tbody>\n",
       "</table>\n",
       "<p>183885 rows × 9 columns</p>\n",
       "</div>"
      ],
      "text/plain": [
       "        Unnamed: 0                title                           artist_name  \\\n",
       "0                0   El hijo del pueblo                         Jorge Negrete   \n",
       "1                1               N Gana                       Waldemar Bastos   \n",
       "2                2                  006                       Lena Philipsson   \n",
       "3                3          Rock-N-Rule                                 Emery   \n",
       "4                4            I'm Ready                             Aerosmith   \n",
       "...            ...                  ...                                   ...   \n",
       "183880      185179  Interrotte Speranze                             Coronatus   \n",
       "183881      185180     Wouldn't Get Far                              The Game   \n",
       "183882      185181     Wouldn't Get Far                              The Game   \n",
       "183883      185182                Chill                           Jazz Addixx   \n",
       "183884      185183             Way Down  Taylor Hawkins & The Coattail Riders   \n",
       "\n",
       "        genre             song_id                                 release  \\\n",
       "0       Latin  SOLJTLX12AB01890ED                 32 Grandes Éxitos  CD 2   \n",
       "1       World  SOGPCJI12A8C13CCA0  Afropea 3 - Telling Stories To The Sea   \n",
       "2         Pop  SOSDCFG12AB0184647                              Lena 20 År   \n",
       "3        Rock  SOIMMJJ12AF72AD643    I'm Only A Man (Bonus Track Version)   \n",
       "4        Rock  SOEEHEY12CF5F88FB4                         Honkin' On Bobo   \n",
       "...       ...                 ...                                     ...   \n",
       "183880  Metal  SOIQNVK12A8C13B061                              Lux Noctis   \n",
       "183881    Rap  SOQDFGV12AB0183F25                 R&B Collaborations 2007   \n",
       "183882    Rap  SOYKHSL12AF72A35AC                        Wouldn't Get Far   \n",
       "183883    Rap  SOIDAMG12AB0182B3A        Oxygen Refreshed (Instrumentals)   \n",
       "183884   Rock  SOFAXZU12AB01881C4                                Way Down   \n",
       "\n",
       "        year artist_gender                                               text  \n",
       "0       1997        female  El hijo del pueblo Jorge Negrete Latin 32 Gran...  \n",
       "1          0          male  N Gana Waldemar Bastos World Afropea 3 - Telli...  \n",
       "2       1998          male                 006 Lena Philipsson Pop Lena 20 År  \n",
       "3       2007        female  Rock-N-Rule Emery Rock I'm Only A Man (Bonus T...  \n",
       "4       2004        female           I'm Ready Aerosmith Rock Honkin' On Bobo  \n",
       "...      ...           ...                                                ...  \n",
       "183880  2007          male     Interrotte Speranze Coronatus Metal Lux Noctis  \n",
       "183881     0        female  Wouldn't Get Far The Game Rap R&B Collaboratio...  \n",
       "183882     0        female     Wouldn't Get Far The Game Rap Wouldn't Get Far  \n",
       "183883     0        female  Chill Jazz Addixx Rap Oxygen Refreshed (Instru...  \n",
       "183884  2010          male  Way Down Taylor Hawkins & The Coattail Riders ...  \n",
       "\n",
       "[183885 rows x 9 columns]"
      ]
     },
     "execution_count": 19,
     "metadata": {},
     "output_type": "execute_result"
    }
   ],
   "source": [
    "song_data_with_genre"
   ]
  },
  {
   "cell_type": "code",
   "execution_count": 20,
   "metadata": {},
   "outputs": [
    {
     "data": {
      "text/plain": [
       "False    183885\n",
       "dtype: int64"
      ]
     },
     "execution_count": 20,
     "metadata": {},
     "output_type": "execute_result"
    }
   ],
   "source": [
    "song_data_with_genre.duplicated(subset=['song_id']).value_counts()"
   ]
  },
  {
   "cell_type": "code",
   "execution_count": 21,
   "metadata": {},
   "outputs": [],
   "source": [
    "#song_data_with_genre.drop_duplicates(subset=['song_id'])"
   ]
  },
  {
   "cell_type": "code",
   "execution_count": 22,
   "metadata": {},
   "outputs": [],
   "source": [
    "d = []\n",
    "for idx in recommended_songs.index:\n",
    "    dic = dict(song_data_with_genre.loc[idx][['title','artist_name']])\n",
    "    d.append(dic)"
   ]
  },
  {
   "cell_type": "code",
   "execution_count": 23,
   "metadata": {},
   "outputs": [
    {
     "data": {
      "text/html": [
       "<div>\n",
       "<style scoped>\n",
       "    .dataframe tbody tr th:only-of-type {\n",
       "        vertical-align: middle;\n",
       "    }\n",
       "\n",
       "    .dataframe tbody tr th {\n",
       "        vertical-align: top;\n",
       "    }\n",
       "\n",
       "    .dataframe thead th {\n",
       "        text-align: right;\n",
       "    }\n",
       "</style>\n",
       "<table border=\"1\" class=\"dataframe\">\n",
       "  <thead>\n",
       "    <tr style=\"text-align: right;\">\n",
       "      <th></th>\n",
       "      <th>title</th>\n",
       "      <th>artist_name</th>\n",
       "    </tr>\n",
       "  </thead>\n",
       "  <tbody>\n",
       "    <tr>\n",
       "      <th>0</th>\n",
       "      <td>The Cage</td>\n",
       "      <td>Elton John</td>\n",
       "    </tr>\n",
       "    <tr>\n",
       "      <th>1</th>\n",
       "      <td>I Need You To Turn To</td>\n",
       "      <td>Elton John</td>\n",
       "    </tr>\n",
       "    <tr>\n",
       "      <th>2</th>\n",
       "      <td>First Episode At Hienton</td>\n",
       "      <td>Elton John</td>\n",
       "    </tr>\n",
       "    <tr>\n",
       "      <th>3</th>\n",
       "      <td>Grey Seal</td>\n",
       "      <td>Elton John</td>\n",
       "    </tr>\n",
       "    <tr>\n",
       "      <th>4</th>\n",
       "      <td>Philadelphia Freedom</td>\n",
       "      <td>Elton John</td>\n",
       "    </tr>\n",
       "    <tr>\n",
       "      <th>5</th>\n",
       "      <td>Chime Bells</td>\n",
       "      <td>Elton Britt</td>\n",
       "    </tr>\n",
       "    <tr>\n",
       "      <th>6</th>\n",
       "      <td>Just Like Belgium</td>\n",
       "      <td>Elton John</td>\n",
       "    </tr>\n",
       "    <tr>\n",
       "      <th>7</th>\n",
       "      <td>Believe</td>\n",
       "      <td>Elton John</td>\n",
       "    </tr>\n",
       "    <tr>\n",
       "      <th>8</th>\n",
       "      <td>Heart In The Right Place</td>\n",
       "      <td>Elton John</td>\n",
       "    </tr>\n",
       "    <tr>\n",
       "      <th>9</th>\n",
       "      <td>In Neon</td>\n",
       "      <td>Elton John</td>\n",
       "    </tr>\n",
       "  </tbody>\n",
       "</table>\n",
       "</div>"
      ],
      "text/plain": [
       "                      title  artist_name\n",
       "0                  The Cage   Elton John\n",
       "1     I Need You To Turn To   Elton John\n",
       "2  First Episode At Hienton   Elton John\n",
       "3                 Grey Seal   Elton John\n",
       "4      Philadelphia Freedom   Elton John\n",
       "5               Chime Bells  Elton Britt\n",
       "6         Just Like Belgium   Elton John\n",
       "7                   Believe   Elton John\n",
       "8  Heart In The Right Place   Elton John\n",
       "9                   In Neon   Elton John"
      ]
     },
     "execution_count": 23,
     "metadata": {},
     "output_type": "execute_result"
    }
   ],
   "source": [
    "final_recommendation_df = pd.DataFrame(d)\n",
    "final_recommendation_df"
   ]
  },
  {
   "cell_type": "code",
   "execution_count": 24,
   "metadata": {},
   "outputs": [],
   "source": [
    "final_recommendation_df['score'] = list(recommended_songs.score.values)"
   ]
  },
  {
   "cell_type": "code",
   "execution_count": 25,
   "metadata": {},
   "outputs": [
    {
     "data": {
      "text/html": [
       "<div>\n",
       "<style scoped>\n",
       "    .dataframe tbody tr th:only-of-type {\n",
       "        vertical-align: middle;\n",
       "    }\n",
       "\n",
       "    .dataframe tbody tr th {\n",
       "        vertical-align: top;\n",
       "    }\n",
       "\n",
       "    .dataframe thead th {\n",
       "        text-align: right;\n",
       "    }\n",
       "</style>\n",
       "<table border=\"1\" class=\"dataframe\">\n",
       "  <thead>\n",
       "    <tr style=\"text-align: right;\">\n",
       "      <th></th>\n",
       "      <th>title</th>\n",
       "      <th>artist_name</th>\n",
       "      <th>score</th>\n",
       "    </tr>\n",
       "  </thead>\n",
       "  <tbody>\n",
       "    <tr>\n",
       "      <th>0</th>\n",
       "      <td>The Cage</td>\n",
       "      <td>Elton John</td>\n",
       "      <td>0.917258</td>\n",
       "    </tr>\n",
       "    <tr>\n",
       "      <th>1</th>\n",
       "      <td>I Need You To Turn To</td>\n",
       "      <td>Elton John</td>\n",
       "      <td>0.901199</td>\n",
       "    </tr>\n",
       "    <tr>\n",
       "      <th>2</th>\n",
       "      <td>First Episode At Hienton</td>\n",
       "      <td>Elton John</td>\n",
       "      <td>0.869411</td>\n",
       "    </tr>\n",
       "    <tr>\n",
       "      <th>3</th>\n",
       "      <td>Grey Seal</td>\n",
       "      <td>Elton John</td>\n",
       "      <td>0.864635</td>\n",
       "    </tr>\n",
       "    <tr>\n",
       "      <th>4</th>\n",
       "      <td>Philadelphia Freedom</td>\n",
       "      <td>Elton John</td>\n",
       "      <td>0.794120</td>\n",
       "    </tr>\n",
       "    <tr>\n",
       "      <th>5</th>\n",
       "      <td>Chime Bells</td>\n",
       "      <td>Elton Britt</td>\n",
       "      <td>0.741077</td>\n",
       "    </tr>\n",
       "    <tr>\n",
       "      <th>6</th>\n",
       "      <td>Just Like Belgium</td>\n",
       "      <td>Elton John</td>\n",
       "      <td>0.668568</td>\n",
       "    </tr>\n",
       "    <tr>\n",
       "      <th>7</th>\n",
       "      <td>Believe</td>\n",
       "      <td>Elton John</td>\n",
       "      <td>0.638758</td>\n",
       "    </tr>\n",
       "    <tr>\n",
       "      <th>8</th>\n",
       "      <td>Heart In The Right Place</td>\n",
       "      <td>Elton John</td>\n",
       "      <td>0.632582</td>\n",
       "    </tr>\n",
       "    <tr>\n",
       "      <th>9</th>\n",
       "      <td>In Neon</td>\n",
       "      <td>Elton John</td>\n",
       "      <td>0.621983</td>\n",
       "    </tr>\n",
       "  </tbody>\n",
       "</table>\n",
       "</div>"
      ],
      "text/plain": [
       "                      title  artist_name     score\n",
       "0                  The Cage   Elton John  0.917258\n",
       "1     I Need You To Turn To   Elton John  0.901199\n",
       "2  First Episode At Hienton   Elton John  0.869411\n",
       "3                 Grey Seal   Elton John  0.864635\n",
       "4      Philadelphia Freedom   Elton John  0.794120\n",
       "5               Chime Bells  Elton Britt  0.741077\n",
       "6         Just Like Belgium   Elton John  0.668568\n",
       "7                   Believe   Elton John  0.638758\n",
       "8  Heart In The Right Place   Elton John  0.632582\n",
       "9                   In Neon   Elton John  0.621983"
      ]
     },
     "execution_count": 25,
     "metadata": {},
     "output_type": "execute_result"
    }
   ],
   "source": [
    "final_recommendation_df"
   ]
  },
  {
   "cell_type": "code",
   "execution_count": null,
   "metadata": {},
   "outputs": [],
   "source": []
  }
 ],
 "metadata": {
  "kernelspec": {
   "display_name": "Python 3",
   "language": "python",
   "name": "python3"
  },
  "language_info": {
   "codemirror_mode": {
    "name": "ipython",
    "version": 3
   },
   "file_extension": ".py",
   "mimetype": "text/x-python",
   "name": "python",
   "nbconvert_exporter": "python",
   "pygments_lexer": "ipython3",
   "version": "3.7.2"
  }
 },
 "nbformat": 4,
 "nbformat_minor": 2
}
