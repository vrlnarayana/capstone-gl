{
 "cells": [
  {
   "cell_type": "code",
   "execution_count": 43,
   "metadata": {},
   "outputs": [],
   "source": [
    "#Lakshminarayanan\n",
    "import pprint\n",
    "import pandas as pd\n",
    "import numpy as np\n",
    "import pickle\n",
    "import joblib"
   ]
  },
  {
   "cell_type": "markdown",
   "metadata": {},
   "source": [
    "# Loading processed_corpus from pickle"
   ]
  },
  {
   "cell_type": "markdown",
   "metadata": {},
   "source": [
    "**processed_pickle has tokenized value of song_data_with_genre['text'], which as given below**\n",
    "\n",
    "song_data_with_genre['text'] = song_data_with_genre['title'] + ' ' + song_data_with_genre['artist_name'] + ' ' + song_data_with_genre['genre'] + ' ' + song_data_with_genre['release']"
   ]
  },
  {
   "cell_type": "code",
   "execution_count": 22,
   "metadata": {},
   "outputs": [],
   "source": [
    "processed_corpus = pickle.load( open( \"processed_corpus.pkl\", \"rb\" ) )"
   ]
  },
  {
   "cell_type": "markdown",
   "metadata": {
    "scrolled": true
   },
   "source": [
    "# Using corpora dictionary from gensim "
   ]
  },
  {
   "cell_type": "code",
   "execution_count": null,
   "metadata": {},
   "outputs": [],
   "source": [
    "from gensim import corpora\n",
    "\n",
    "dictionary = corpora.Dictionary(processed_corpus)"
   ]
  },
  {
   "cell_type": "code",
   "execution_count": 24,
   "metadata": {},
   "outputs": [
    {
     "data": {
      "text/plain": [
       "43862"
      ]
     },
     "execution_count": 24,
     "metadata": {},
     "output_type": "execute_result"
    }
   ],
   "source": [
    "len(dictionary.token2id)"
   ]
  },
  {
   "cell_type": "code",
   "execution_count": 25,
   "metadata": {},
   "outputs": [
    {
     "name": "stdout",
     "output_type": "stream",
     "text": [
      "[(3005, 1), (7351, 1)]\n"
     ]
    }
   ],
   "source": [
    "# testing with new doc\n",
    "new_doc = \"Human computer interaction\"\n",
    "new_vec = dictionary.doc2bow(new_doc.lower().split())\n",
    "print(new_vec)"
   ]
  },
  {
   "cell_type": "markdown",
   "metadata": {},
   "source": [
    "# Loading bow_corpus from pickle"
   ]
  },
  {
   "cell_type": "code",
   "execution_count": 26,
   "metadata": {},
   "outputs": [],
   "source": [
    "bow_corpus = pickle.load( open( \"bow_corpus.pkl\", \"rb\" ) )"
   ]
  },
  {
   "cell_type": "code",
   "execution_count": 42,
   "metadata": {},
   "outputs": [],
   "source": [
    "tfidf = joblib.load('gensim_tfidf_model.pkl')"
   ]
  },
  {
   "cell_type": "markdown",
   "metadata": {},
   "source": [
    "# USING SparseMatrixSimilarity FROM GENSIM"
   ]
  },
  {
   "cell_type": "code",
   "execution_count": 28,
   "metadata": {},
   "outputs": [],
   "source": [
    "# Compute similarity against a corpus of documents by storing the sparse index matrix in memory. \n",
    "# The similarity measure used in cosine is between two vectors.\n",
    "\n",
    "from gensim import similarities\n",
    "\n",
    "index = similarities.SparseMatrixSimilarity(tfidf[bow_corpus], num_features=len(dictionary.token2id))"
   ]
  },
  {
   "cell_type": "code",
   "execution_count": 29,
   "metadata": {},
   "outputs": [],
   "source": [
    "query_document = \"Systems Engineering\".lower().split()\n",
    "query_bow = dictionary.doc2bow(query_document)\n",
    "sims = index[tfidf[query_bow]]"
   ]
  },
  {
   "cell_type": "code",
   "execution_count": 30,
   "metadata": {},
   "outputs": [],
   "source": [
    "doc_l = []\n",
    "score_l = []\n",
    "for document_number, score in sorted(enumerate(sims), key=lambda x: x[1], reverse=True):\n",
    "    doc_l.append(document_number)\n",
    "    score_l.append(score)\n",
    "    "
   ]
  },
  {
   "cell_type": "code",
   "execution_count": 40,
   "metadata": {},
   "outputs": [
    {
     "data": {
      "text/html": [
       "<div>\n",
       "<style scoped>\n",
       "    .dataframe tbody tr th:only-of-type {\n",
       "        vertical-align: middle;\n",
       "    }\n",
       "\n",
       "    .dataframe tbody tr th {\n",
       "        vertical-align: top;\n",
       "    }\n",
       "\n",
       "    .dataframe thead th {\n",
       "        text-align: right;\n",
       "    }\n",
       "</style>\n",
       "<table border=\"1\" class=\"dataframe\">\n",
       "  <thead>\n",
       "    <tr style=\"text-align: right;\">\n",
       "      <th></th>\n",
       "      <th>score</th>\n",
       "    </tr>\n",
       "    <tr>\n",
       "      <th>index</th>\n",
       "      <th></th>\n",
       "    </tr>\n",
       "  </thead>\n",
       "  <tbody>\n",
       "    <tr>\n",
       "      <th>102576</th>\n",
       "      <td>0.515689</td>\n",
       "    </tr>\n",
       "    <tr>\n",
       "      <th>168317</th>\n",
       "      <td>0.434985</td>\n",
       "    </tr>\n",
       "    <tr>\n",
       "      <th>7166</th>\n",
       "      <td>0.426236</td>\n",
       "    </tr>\n",
       "    <tr>\n",
       "      <th>134317</th>\n",
       "      <td>0.425991</td>\n",
       "    </tr>\n",
       "    <tr>\n",
       "      <th>60802</th>\n",
       "      <td>0.395005</td>\n",
       "    </tr>\n",
       "    <tr>\n",
       "      <th>52044</th>\n",
       "      <td>0.385815</td>\n",
       "    </tr>\n",
       "    <tr>\n",
       "      <th>109564</th>\n",
       "      <td>0.379896</td>\n",
       "    </tr>\n",
       "    <tr>\n",
       "      <th>38726</th>\n",
       "      <td>0.378609</td>\n",
       "    </tr>\n",
       "    <tr>\n",
       "      <th>136961</th>\n",
       "      <td>0.378119</td>\n",
       "    </tr>\n",
       "    <tr>\n",
       "      <th>110495</th>\n",
       "      <td>0.373770</td>\n",
       "    </tr>\n",
       "  </tbody>\n",
       "</table>\n",
       "</div>"
      ],
      "text/plain": [
       "           score\n",
       "index           \n",
       "102576  0.515689\n",
       "168317  0.434985\n",
       "7166    0.426236\n",
       "134317  0.425991\n",
       "60802   0.395005\n",
       "52044   0.385815\n",
       "109564  0.379896\n",
       "38726   0.378609\n",
       "136961  0.378119\n",
       "110495  0.373770"
      ]
     },
     "execution_count": 40,
     "metadata": {},
     "output_type": "execute_result"
    }
   ],
   "source": [
    "recommended_songs = pd.DataFrame(score_l,doc_l).head(10)\n",
    "recommended_songs=recommended_songs.reset_index()\n",
    "recommended_songs.columns = ['index','score']\n",
    "recommended_songs.set_index('index',inplace = True)\n",
    "recommended_songs"
   ]
  },
  {
   "cell_type": "code",
   "execution_count": 32,
   "metadata": {},
   "outputs": [
    {
     "data": {
      "text/plain": [
       "185184"
      ]
     },
     "execution_count": 32,
     "metadata": {},
     "output_type": "execute_result"
    }
   ],
   "source": [
    "len(sims)"
   ]
  },
  {
   "cell_type": "code",
   "execution_count": 33,
   "metadata": {},
   "outputs": [
    {
     "data": {
      "text/plain": [
       "0.0"
      ]
     },
     "execution_count": 33,
     "metadata": {},
     "output_type": "execute_result"
    }
   ],
   "source": [
    "sims[document_number]"
   ]
  },
  {
   "cell_type": "code",
   "execution_count": 34,
   "metadata": {},
   "outputs": [],
   "source": [
    "song_data_with_genre=pd.read_csv('song_data_with_genre.csv')"
   ]
  },
  {
   "cell_type": "code",
   "execution_count": 35,
   "metadata": {},
   "outputs": [],
   "source": [
    "song_data_with_genre = song_data_with_genre.drop(columns=['Unnamed: 0','Unnamed: 0.1','tid'])"
   ]
  },
  {
   "cell_type": "code",
   "execution_count": 36,
   "metadata": {},
   "outputs": [
    {
     "data": {
      "text/html": [
       "<div>\n",
       "<style scoped>\n",
       "    .dataframe tbody tr th:only-of-type {\n",
       "        vertical-align: middle;\n",
       "    }\n",
       "\n",
       "    .dataframe tbody tr th {\n",
       "        vertical-align: top;\n",
       "    }\n",
       "\n",
       "    .dataframe thead th {\n",
       "        text-align: right;\n",
       "    }\n",
       "</style>\n",
       "<table border=\"1\" class=\"dataframe\">\n",
       "  <thead>\n",
       "    <tr style=\"text-align: right;\">\n",
       "      <th></th>\n",
       "      <th>title</th>\n",
       "      <th>artist_name</th>\n",
       "      <th>genre</th>\n",
       "      <th>song_id</th>\n",
       "      <th>release</th>\n",
       "      <th>year</th>\n",
       "      <th>artist_gender</th>\n",
       "    </tr>\n",
       "  </thead>\n",
       "  <tbody>\n",
       "    <tr>\n",
       "      <th>0</th>\n",
       "      <td>El hijo del pueblo</td>\n",
       "      <td>Jorge Negrete</td>\n",
       "      <td>Latin</td>\n",
       "      <td>SOLJTLX12AB01890ED</td>\n",
       "      <td>32 Grandes Éxitos  CD 2</td>\n",
       "      <td>1997</td>\n",
       "      <td>female</td>\n",
       "    </tr>\n",
       "    <tr>\n",
       "      <th>1</th>\n",
       "      <td>N Gana</td>\n",
       "      <td>Waldemar Bastos</td>\n",
       "      <td>World</td>\n",
       "      <td>SOGPCJI12A8C13CCA0</td>\n",
       "      <td>Afropea 3 - Telling Stories To The Sea</td>\n",
       "      <td>0</td>\n",
       "      <td>male</td>\n",
       "    </tr>\n",
       "    <tr>\n",
       "      <th>2</th>\n",
       "      <td>006</td>\n",
       "      <td>Lena Philipsson</td>\n",
       "      <td>Pop</td>\n",
       "      <td>SOSDCFG12AB0184647</td>\n",
       "      <td>Lena 20 År</td>\n",
       "      <td>1998</td>\n",
       "      <td>male</td>\n",
       "    </tr>\n",
       "    <tr>\n",
       "      <th>3</th>\n",
       "      <td>Rock-N-Rule</td>\n",
       "      <td>Emery</td>\n",
       "      <td>Rock</td>\n",
       "      <td>SOIMMJJ12AF72AD643</td>\n",
       "      <td>I'm Only A Man (Bonus Track Version)</td>\n",
       "      <td>2007</td>\n",
       "      <td>female</td>\n",
       "    </tr>\n",
       "    <tr>\n",
       "      <th>4</th>\n",
       "      <td>I'm Ready</td>\n",
       "      <td>Aerosmith</td>\n",
       "      <td>Rock</td>\n",
       "      <td>SOEEHEY12CF5F88FB4</td>\n",
       "      <td>Honkin' On Bobo</td>\n",
       "      <td>2004</td>\n",
       "      <td>female</td>\n",
       "    </tr>\n",
       "    <tr>\n",
       "      <th>...</th>\n",
       "      <td>...</td>\n",
       "      <td>...</td>\n",
       "      <td>...</td>\n",
       "      <td>...</td>\n",
       "      <td>...</td>\n",
       "      <td>...</td>\n",
       "      <td>...</td>\n",
       "    </tr>\n",
       "    <tr>\n",
       "      <th>185179</th>\n",
       "      <td>Interrotte Speranze</td>\n",
       "      <td>Coronatus</td>\n",
       "      <td>Metal</td>\n",
       "      <td>SOIQNVK12A8C13B061</td>\n",
       "      <td>Lux Noctis</td>\n",
       "      <td>2007</td>\n",
       "      <td>male</td>\n",
       "    </tr>\n",
       "    <tr>\n",
       "      <th>185180</th>\n",
       "      <td>Wouldn't Get Far</td>\n",
       "      <td>The Game</td>\n",
       "      <td>Rap</td>\n",
       "      <td>SOQDFGV12AB0183F25</td>\n",
       "      <td>R&amp;B Collaborations 2007</td>\n",
       "      <td>0</td>\n",
       "      <td>female</td>\n",
       "    </tr>\n",
       "    <tr>\n",
       "      <th>185181</th>\n",
       "      <td>Wouldn't Get Far</td>\n",
       "      <td>The Game</td>\n",
       "      <td>Rap</td>\n",
       "      <td>SOYKHSL12AF72A35AC</td>\n",
       "      <td>Wouldn't Get Far</td>\n",
       "      <td>0</td>\n",
       "      <td>female</td>\n",
       "    </tr>\n",
       "    <tr>\n",
       "      <th>185182</th>\n",
       "      <td>Chill</td>\n",
       "      <td>Jazz Addixx</td>\n",
       "      <td>Rap</td>\n",
       "      <td>SOIDAMG12AB0182B3A</td>\n",
       "      <td>Oxygen Refreshed (Instrumentals)</td>\n",
       "      <td>0</td>\n",
       "      <td>female</td>\n",
       "    </tr>\n",
       "    <tr>\n",
       "      <th>185183</th>\n",
       "      <td>Way Down</td>\n",
       "      <td>Taylor Hawkins &amp; The Coattail Riders</td>\n",
       "      <td>Rock</td>\n",
       "      <td>SOFAXZU12AB01881C4</td>\n",
       "      <td>Way Down</td>\n",
       "      <td>2010</td>\n",
       "      <td>male</td>\n",
       "    </tr>\n",
       "  </tbody>\n",
       "</table>\n",
       "<p>185184 rows × 7 columns</p>\n",
       "</div>"
      ],
      "text/plain": [
       "                      title                           artist_name  genre  \\\n",
       "0        El hijo del pueblo                         Jorge Negrete  Latin   \n",
       "1                    N Gana                       Waldemar Bastos  World   \n",
       "2                       006                       Lena Philipsson    Pop   \n",
       "3               Rock-N-Rule                                 Emery   Rock   \n",
       "4                 I'm Ready                             Aerosmith   Rock   \n",
       "...                     ...                                   ...    ...   \n",
       "185179  Interrotte Speranze                             Coronatus  Metal   \n",
       "185180     Wouldn't Get Far                              The Game    Rap   \n",
       "185181     Wouldn't Get Far                              The Game    Rap   \n",
       "185182                Chill                           Jazz Addixx    Rap   \n",
       "185183             Way Down  Taylor Hawkins & The Coattail Riders   Rock   \n",
       "\n",
       "                   song_id                                 release  year  \\\n",
       "0       SOLJTLX12AB01890ED                 32 Grandes Éxitos  CD 2  1997   \n",
       "1       SOGPCJI12A8C13CCA0  Afropea 3 - Telling Stories To The Sea     0   \n",
       "2       SOSDCFG12AB0184647                              Lena 20 År  1998   \n",
       "3       SOIMMJJ12AF72AD643    I'm Only A Man (Bonus Track Version)  2007   \n",
       "4       SOEEHEY12CF5F88FB4                         Honkin' On Bobo  2004   \n",
       "...                    ...                                     ...   ...   \n",
       "185179  SOIQNVK12A8C13B061                              Lux Noctis  2007   \n",
       "185180  SOQDFGV12AB0183F25                 R&B Collaborations 2007     0   \n",
       "185181  SOYKHSL12AF72A35AC                        Wouldn't Get Far     0   \n",
       "185182  SOIDAMG12AB0182B3A        Oxygen Refreshed (Instrumentals)     0   \n",
       "185183  SOFAXZU12AB01881C4                                Way Down  2010   \n",
       "\n",
       "       artist_gender  \n",
       "0             female  \n",
       "1               male  \n",
       "2               male  \n",
       "3             female  \n",
       "4             female  \n",
       "...              ...  \n",
       "185179          male  \n",
       "185180        female  \n",
       "185181        female  \n",
       "185182        female  \n",
       "185183          male  \n",
       "\n",
       "[185184 rows x 7 columns]"
      ]
     },
     "execution_count": 36,
     "metadata": {},
     "output_type": "execute_result"
    }
   ],
   "source": [
    "song_data_with_genre"
   ]
  },
  {
   "cell_type": "code",
   "execution_count": 37,
   "metadata": {},
   "outputs": [],
   "source": [
    "d = []\n",
    "for idx in top_10_reco.index:\n",
    "    dic = dict(song_data_with_genre.loc[idx][['title','artist_name']])\n",
    "    d.append(dic)"
   ]
  },
  {
   "cell_type": "code",
   "execution_count": 38,
   "metadata": {},
   "outputs": [
    {
     "data": {
      "text/html": [
       "<div>\n",
       "<style scoped>\n",
       "    .dataframe tbody tr th:only-of-type {\n",
       "        vertical-align: middle;\n",
       "    }\n",
       "\n",
       "    .dataframe tbody tr th {\n",
       "        vertical-align: top;\n",
       "    }\n",
       "\n",
       "    .dataframe thead th {\n",
       "        text-align: right;\n",
       "    }\n",
       "</style>\n",
       "<table border=\"1\" class=\"dataframe\">\n",
       "  <thead>\n",
       "    <tr style=\"text-align: right;\">\n",
       "      <th></th>\n",
       "      <th>title</th>\n",
       "      <th>artist_name</th>\n",
       "    </tr>\n",
       "  </thead>\n",
       "  <tbody>\n",
       "    <tr>\n",
       "      <th>0</th>\n",
       "      <td>Faltered</td>\n",
       "      <td>Adelyn</td>\n",
       "    </tr>\n",
       "    <tr>\n",
       "      <th>1</th>\n",
       "      <td>UXB</td>\n",
       "      <td>Raven</td>\n",
       "    </tr>\n",
       "    <tr>\n",
       "      <th>2</th>\n",
       "      <td>Diamonds</td>\n",
       "      <td>Something With Numbers</td>\n",
       "    </tr>\n",
       "    <tr>\n",
       "      <th>3</th>\n",
       "      <td>Lavenderloops</td>\n",
       "      <td>Phonophani</td>\n",
       "    </tr>\n",
       "    <tr>\n",
       "      <th>4</th>\n",
       "      <td>Systems</td>\n",
       "      <td>Jah Free</td>\n",
       "    </tr>\n",
       "    <tr>\n",
       "      <th>5</th>\n",
       "      <td>Crazy World</td>\n",
       "      <td>Raven</td>\n",
       "    </tr>\n",
       "    <tr>\n",
       "      <th>6</th>\n",
       "      <td>Fire Power</td>\n",
       "      <td>Raven</td>\n",
       "    </tr>\n",
       "    <tr>\n",
       "      <th>7</th>\n",
       "      <td>End Of All Things</td>\n",
       "      <td>Phonophani</td>\n",
       "    </tr>\n",
       "    <tr>\n",
       "      <th>8</th>\n",
       "      <td>All For One</td>\n",
       "      <td>Raven</td>\n",
       "    </tr>\n",
       "    <tr>\n",
       "      <th>9</th>\n",
       "      <td>Take Control</td>\n",
       "      <td>Raven</td>\n",
       "    </tr>\n",
       "  </tbody>\n",
       "</table>\n",
       "</div>"
      ],
      "text/plain": [
       "               title             artist_name\n",
       "0           Faltered                  Adelyn\n",
       "1                UXB                   Raven\n",
       "2           Diamonds  Something With Numbers\n",
       "3      Lavenderloops              Phonophani\n",
       "4            Systems                Jah Free\n",
       "5        Crazy World                   Raven\n",
       "6         Fire Power                   Raven\n",
       "7  End Of All Things              Phonophani\n",
       "8        All For One                   Raven\n",
       "9       Take Control                   Raven"
      ]
     },
     "execution_count": 38,
     "metadata": {},
     "output_type": "execute_result"
    }
   ],
   "source": [
    "pd.DataFrame(d)"
   ]
  }
 ],
 "metadata": {
  "kernelspec": {
   "display_name": "Python 3",
   "language": "python",
   "name": "python3"
  },
  "language_info": {
   "codemirror_mode": {
    "name": "ipython",
    "version": 3
   },
   "file_extension": ".py",
   "mimetype": "text/x-python",
   "name": "python",
   "nbconvert_exporter": "python",
   "pygments_lexer": "ipython3",
   "version": "3.7.2"
  }
 },
 "nbformat": 4,
 "nbformat_minor": 2
}
