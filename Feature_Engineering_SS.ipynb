{
  "nbformat": 4,
  "nbformat_minor": 0,
  "metadata": {
    "colab": {
      "name": "Feature Engineering SS.ipynb",
      "provenance": [],
      "collapsed_sections": [],
      "toc_visible": true,
      "authorship_tag": "ABX9TyP0sxU3QgLXwPwju7efJcmV",
      "include_colab_link": true
    },
    "kernelspec": {
      "display_name": "Python 3",
      "name": "python3"
    }
  },
  "cells": [
    {
      "cell_type": "markdown",
      "metadata": {
        "id": "view-in-github",
        "colab_type": "text"
      },
      "source": [
        "<a href=\"https://colab.research.google.com/github/vrlnarayana/capstone-gl/blob/main/Feature_Engineering_SS.ipynb\" target=\"_parent\"><img src=\"https://colab.research.google.com/assets/colab-badge.svg\" alt=\"Open In Colab\"/></a>"
      ]
    },
    {
      "cell_type": "markdown",
      "metadata": {
        "id": "eNsB-KzUw53e"
      },
      "source": [
        "# Capstone Project : Group 4 : Data Processing"
      ]
    },
    {
      "cell_type": "code",
      "metadata": {
        "colab": {
          "base_uri": "https://localhost:8080/"
        },
        "id": "ZjR4S8rnw4uB",
        "outputId": "7665929d-0d30-4894-f4f4-dfe69be8949e"
      },
      "source": [
        "from google.colab import drive\n",
        "drive.mount('/content/drive')"
      ],
      "execution_count": 2,
      "outputs": [
        {
          "output_type": "stream",
          "text": [
            "Drive already mounted at /content/drive; to attempt to forcibly remount, call drive.mount(\"/content/drive\", force_remount=True).\n"
          ],
          "name": "stdout"
        }
      ]
    },
    {
      "cell_type": "code",
      "metadata": {
        "id": "TW9UAn-uxMJd"
      },
      "source": [
        "import numpy as np\n",
        "import pandas as pd\n",
        "import seaborn as sns\n",
        "import plotly.express as px\n",
        "import matplotlib.pyplot as plt\n",
        "from google.colab import files\n",
        "from scipy.sparse import csr_matrix\n",
        "import warnings; warnings.simplefilter('ignore')\n",
        "\n",
        "# Remove scientific notations and display numbers with 2 decimal points instead\n",
        "pd.options.display.float_format = '{:,.2f}'.format   \n",
        "\n",
        "plt.rcParams[\"figure.figsize\"] = [20, 6]  # width, height\n",
        "plt.rcParams['xtick.direction'] = 'out'"
      ],
      "execution_count": 3,
      "outputs": []
    },
    {
      "cell_type": "markdown",
      "metadata": {
        "id": "z3jrINPox7EA"
      },
      "source": [
        "# Fetching the Metadata\n",
        "The Million Song Dataset is a freely-available collection of audio features and metadata for a million contemporary popular music tracks. The dataset is the result of a collaboration between The Echo Nest and LabROSA at Columbia University, supported in part by the NSF.\n",
        "\n",
        "Within this dataset there are several subsets of data. The original data set is augmented with track metadata extract in SQLite3 format. The following is the  download it from Columbia University's Servers - http://labrosa.ee.columbia.edu/millionsong/sites/default/files/AdditionalFiles/track_metadata.db\n",
        "\n",
        "The file song_augmented_location.csv is a result of join between two datasets"
      ]
    },
    {
      "cell_type": "code",
      "metadata": {
        "id": "EloUDE0UxbTC"
      },
      "source": [
        "song_data_df =pd.read_csv(r'/content/drive/My Drive/songs_augmented_location.csv')"
      ],
      "execution_count": 4,
      "outputs": []
    },
    {
      "cell_type": "code",
      "metadata": {
        "colab": {
          "base_uri": "https://localhost:8080/",
          "height": 233
        },
        "id": "tHrj-v4txsJp",
        "outputId": "e04ee875-72fc-428c-c7df-9d1204bdc16c"
      },
      "source": [
        "song_data_df.head(2)"
      ],
      "execution_count": 5,
      "outputs": [
        {
          "output_type": "execute_result",
          "data": {
            "text/html": [
              "<div>\n",
              "<style scoped>\n",
              "    .dataframe tbody tr th:only-of-type {\n",
              "        vertical-align: middle;\n",
              "    }\n",
              "\n",
              "    .dataframe tbody tr th {\n",
              "        vertical-align: top;\n",
              "    }\n",
              "\n",
              "    .dataframe thead th {\n",
              "        text-align: right;\n",
              "    }\n",
              "</style>\n",
              "<table border=\"1\" class=\"dataframe\">\n",
              "  <thead>\n",
              "    <tr style=\"text-align: right;\">\n",
              "      <th></th>\n",
              "      <th>song_id</th>\n",
              "      <th>title</th>\n",
              "      <th>release</th>\n",
              "      <th>artist_name</th>\n",
              "      <th>year</th>\n",
              "      <th>track_id</th>\n",
              "      <th>artist_id</th>\n",
              "      <th>artist_mbid</th>\n",
              "      <th>duration</th>\n",
              "      <th>artist_familiarity</th>\n",
              "      <th>artist_hotttnesss</th>\n",
              "      <th>track_7digitalid</th>\n",
              "      <th>shs_perf</th>\n",
              "      <th>shs_work</th>\n",
              "      <th>lat</th>\n",
              "      <th>long</th>\n",
              "      <th>location</th>\n",
              "      <th>country_code</th>\n",
              "      <th>country_name</th>\n",
              "    </tr>\n",
              "  </thead>\n",
              "  <tbody>\n",
              "    <tr>\n",
              "      <th>0</th>\n",
              "      <td>SOQMMHC12AB0180CB8</td>\n",
              "      <td>Silent Night</td>\n",
              "      <td>Monster Ballads X-Mas</td>\n",
              "      <td>Faster Pussy cat</td>\n",
              "      <td>2003</td>\n",
              "      <td>TRMMMYQ128F932D901</td>\n",
              "      <td>ARYZTJS1187B98C555</td>\n",
              "      <td>357ff05d-848a-44cf-b608-cb34b5701ae5</td>\n",
              "      <td>252.06</td>\n",
              "      <td>0.65</td>\n",
              "      <td>0.39</td>\n",
              "      <td>7032331</td>\n",
              "      <td>-1</td>\n",
              "      <td>0</td>\n",
              "      <td>nan</td>\n",
              "      <td>nan</td>\n",
              "      <td>NaN</td>\n",
              "      <td>NaN</td>\n",
              "      <td>NaN</td>\n",
              "    </tr>\n",
              "    <tr>\n",
              "      <th>1</th>\n",
              "      <td>SOVFVAK12A8C1350D9</td>\n",
              "      <td>Tanssi vaan</td>\n",
              "      <td>Karkuteillä</td>\n",
              "      <td>Karkkiautomaatti</td>\n",
              "      <td>1995</td>\n",
              "      <td>TRMMMKD128F425225D</td>\n",
              "      <td>ARMVN3U1187FB3A1EB</td>\n",
              "      <td>8d7ef530-a6fd-4f8f-b2e2-74aec765e0f9</td>\n",
              "      <td>156.55</td>\n",
              "      <td>0.44</td>\n",
              "      <td>0.36</td>\n",
              "      <td>1514808</td>\n",
              "      <td>-1</td>\n",
              "      <td>0</td>\n",
              "      <td>nan</td>\n",
              "      <td>nan</td>\n",
              "      <td>NaN</td>\n",
              "      <td>NaN</td>\n",
              "      <td>NaN</td>\n",
              "    </tr>\n",
              "  </tbody>\n",
              "</table>\n",
              "</div>"
            ],
            "text/plain": [
              "              song_id         title  ... country_code country_name\n",
              "0  SOQMMHC12AB0180CB8  Silent Night  ...          NaN          NaN\n",
              "1  SOVFVAK12A8C1350D9   Tanssi vaan  ...          NaN          NaN\n",
              "\n",
              "[2 rows x 19 columns]"
            ]
          },
          "metadata": {
            "tags": []
          },
          "execution_count": 5
        }
      ]
    },
    {
      "cell_type": "markdown",
      "metadata": {
        "id": "NIj8rOuq3qHH"
      },
      "source": [
        "Additional \"Genre\" data is in the data set located at - http://www.ifs.tuwien.ac.at/mir/msd/partitions/msd-MAGD-genreAssignment.cls\n"
      ]
    },
    {
      "cell_type": "code",
      "metadata": {
        "id": "RnMaq3-3xx0L"
      },
      "source": [
        "track_genres_df = pd.read_table(r'/content/drive/My Drive/msd-MAGD-genreAssignment.cls',names=['track_id', 'genre'],sep='\\t')"
      ],
      "execution_count": 6,
      "outputs": []
    },
    {
      "cell_type": "code",
      "metadata": {
        "colab": {
          "base_uri": "https://localhost:8080/",
          "height": 204
        },
        "id": "LA-fLPH03PlN",
        "outputId": "6d2c2bc0-c631-41ff-97a3-3a54cefdae0b"
      },
      "source": [
        "track_genres_df.head(5)"
      ],
      "execution_count": 7,
      "outputs": [
        {
          "output_type": "execute_result",
          "data": {
            "text/html": [
              "<div>\n",
              "<style scoped>\n",
              "    .dataframe tbody tr th:only-of-type {\n",
              "        vertical-align: middle;\n",
              "    }\n",
              "\n",
              "    .dataframe tbody tr th {\n",
              "        vertical-align: top;\n",
              "    }\n",
              "\n",
              "    .dataframe thead th {\n",
              "        text-align: right;\n",
              "    }\n",
              "</style>\n",
              "<table border=\"1\" class=\"dataframe\">\n",
              "  <thead>\n",
              "    <tr style=\"text-align: right;\">\n",
              "      <th></th>\n",
              "      <th>track_id</th>\n",
              "      <th>genre</th>\n",
              "    </tr>\n",
              "  </thead>\n",
              "  <tbody>\n",
              "    <tr>\n",
              "      <th>0</th>\n",
              "      <td>TRAAAAK128F9318786</td>\n",
              "      <td>Pop_Rock</td>\n",
              "    </tr>\n",
              "    <tr>\n",
              "      <th>1</th>\n",
              "      <td>TRAAAAV128F421A322</td>\n",
              "      <td>Pop_Rock</td>\n",
              "    </tr>\n",
              "    <tr>\n",
              "      <th>2</th>\n",
              "      <td>TRAAAAW128F429D538</td>\n",
              "      <td>Rap</td>\n",
              "    </tr>\n",
              "    <tr>\n",
              "      <th>3</th>\n",
              "      <td>TRAAABD128F429CF47</td>\n",
              "      <td>Pop_Rock</td>\n",
              "    </tr>\n",
              "    <tr>\n",
              "      <th>4</th>\n",
              "      <td>TRAAACV128F423E09E</td>\n",
              "      <td>Pop_Rock</td>\n",
              "    </tr>\n",
              "  </tbody>\n",
              "</table>\n",
              "</div>"
            ],
            "text/plain": [
              "             track_id     genre\n",
              "0  TRAAAAK128F9318786  Pop_Rock\n",
              "1  TRAAAAV128F421A322  Pop_Rock\n",
              "2  TRAAAAW128F429D538       Rap\n",
              "3  TRAAABD128F429CF47  Pop_Rock\n",
              "4  TRAAACV128F423E09E  Pop_Rock"
            ]
          },
          "metadata": {
            "tags": []
          },
          "execution_count": 7
        }
      ]
    },
    {
      "cell_type": "markdown",
      "metadata": {
        "id": "RfOZuepk4FRg"
      },
      "source": [
        "There are only 422,714 i.e. around 42% tracks with Genre data. let's join it with Song data table"
      ]
    },
    {
      "cell_type": "code",
      "metadata": {
        "id": "2QkqQ83j3lYN"
      },
      "source": [
        "song_data_with_genre_df = pd.merge(song_data_df, track_genres_df, on=\"track_id\", how=\"left\")"
      ],
      "execution_count": 8,
      "outputs": []
    },
    {
      "cell_type": "code",
      "metadata": {
        "colab": {
          "base_uri": "https://localhost:8080/",
          "height": 932
        },
        "id": "oCB4wVuz4Wib",
        "outputId": "d971fa79-93e9-49bd-c145-8eda874e3802"
      },
      "source": [
        "song_data_with_genre_df"
      ],
      "execution_count": 9,
      "outputs": [
        {
          "output_type": "execute_result",
          "data": {
            "text/html": [
              "<div>\n",
              "<style scoped>\n",
              "    .dataframe tbody tr th:only-of-type {\n",
              "        vertical-align: middle;\n",
              "    }\n",
              "\n",
              "    .dataframe tbody tr th {\n",
              "        vertical-align: top;\n",
              "    }\n",
              "\n",
              "    .dataframe thead th {\n",
              "        text-align: right;\n",
              "    }\n",
              "</style>\n",
              "<table border=\"1\" class=\"dataframe\">\n",
              "  <thead>\n",
              "    <tr style=\"text-align: right;\">\n",
              "      <th></th>\n",
              "      <th>song_id</th>\n",
              "      <th>title</th>\n",
              "      <th>release</th>\n",
              "      <th>artist_name</th>\n",
              "      <th>year</th>\n",
              "      <th>track_id</th>\n",
              "      <th>artist_id</th>\n",
              "      <th>artist_mbid</th>\n",
              "      <th>duration</th>\n",
              "      <th>artist_familiarity</th>\n",
              "      <th>artist_hotttnesss</th>\n",
              "      <th>track_7digitalid</th>\n",
              "      <th>shs_perf</th>\n",
              "      <th>shs_work</th>\n",
              "      <th>lat</th>\n",
              "      <th>long</th>\n",
              "      <th>location</th>\n",
              "      <th>country_code</th>\n",
              "      <th>country_name</th>\n",
              "      <th>genre</th>\n",
              "    </tr>\n",
              "  </thead>\n",
              "  <tbody>\n",
              "    <tr>\n",
              "      <th>0</th>\n",
              "      <td>SOQMMHC12AB0180CB8</td>\n",
              "      <td>Silent Night</td>\n",
              "      <td>Monster Ballads X-Mas</td>\n",
              "      <td>Faster Pussy cat</td>\n",
              "      <td>2003</td>\n",
              "      <td>TRMMMYQ128F932D901</td>\n",
              "      <td>ARYZTJS1187B98C555</td>\n",
              "      <td>357ff05d-848a-44cf-b608-cb34b5701ae5</td>\n",
              "      <td>252.06</td>\n",
              "      <td>0.65</td>\n",
              "      <td>0.39</td>\n",
              "      <td>7032331</td>\n",
              "      <td>-1</td>\n",
              "      <td>0</td>\n",
              "      <td>nan</td>\n",
              "      <td>nan</td>\n",
              "      <td>NaN</td>\n",
              "      <td>NaN</td>\n",
              "      <td>NaN</td>\n",
              "      <td>NaN</td>\n",
              "    </tr>\n",
              "    <tr>\n",
              "      <th>1</th>\n",
              "      <td>SOVFVAK12A8C1350D9</td>\n",
              "      <td>Tanssi vaan</td>\n",
              "      <td>Karkuteillä</td>\n",
              "      <td>Karkkiautomaatti</td>\n",
              "      <td>1995</td>\n",
              "      <td>TRMMMKD128F425225D</td>\n",
              "      <td>ARMVN3U1187FB3A1EB</td>\n",
              "      <td>8d7ef530-a6fd-4f8f-b2e2-74aec765e0f9</td>\n",
              "      <td>156.55</td>\n",
              "      <td>0.44</td>\n",
              "      <td>0.36</td>\n",
              "      <td>1514808</td>\n",
              "      <td>-1</td>\n",
              "      <td>0</td>\n",
              "      <td>nan</td>\n",
              "      <td>nan</td>\n",
              "      <td>NaN</td>\n",
              "      <td>NaN</td>\n",
              "      <td>NaN</td>\n",
              "      <td>NaN</td>\n",
              "    </tr>\n",
              "    <tr>\n",
              "      <th>2</th>\n",
              "      <td>SOGTUKN12AB017F4F1</td>\n",
              "      <td>No One Could Ever</td>\n",
              "      <td>Butter</td>\n",
              "      <td>Hudson Mohawke</td>\n",
              "      <td>2006</td>\n",
              "      <td>TRMMMRX128F93187D9</td>\n",
              "      <td>ARGEKB01187FB50750</td>\n",
              "      <td>3d403d44-36ce-465c-ad43-ae877e65adc4</td>\n",
              "      <td>138.97</td>\n",
              "      <td>0.64</td>\n",
              "      <td>0.44</td>\n",
              "      <td>6945353</td>\n",
              "      <td>-1</td>\n",
              "      <td>0</td>\n",
              "      <td>55.86</td>\n",
              "      <td>-4.24</td>\n",
              "      <td>Glasgow, Scotland</td>\n",
              "      <td>gb</td>\n",
              "      <td>United Kingdom</td>\n",
              "      <td>Electronic</td>\n",
              "    </tr>\n",
              "    <tr>\n",
              "      <th>3</th>\n",
              "      <td>SOBNYVR12A8C13558C</td>\n",
              "      <td>Si Vos Querés</td>\n",
              "      <td>De Culo</td>\n",
              "      <td>Yerba Brava</td>\n",
              "      <td>2003</td>\n",
              "      <td>TRMMMCH128F425532C</td>\n",
              "      <td>ARNWYLR1187B9B2F9C</td>\n",
              "      <td>12be7648-7094-495f-90e6-df4189d68615</td>\n",
              "      <td>145.06</td>\n",
              "      <td>0.45</td>\n",
              "      <td>0.37</td>\n",
              "      <td>2168257</td>\n",
              "      <td>-1</td>\n",
              "      <td>0</td>\n",
              "      <td>nan</td>\n",
              "      <td>nan</td>\n",
              "      <td>NaN</td>\n",
              "      <td>NaN</td>\n",
              "      <td>NaN</td>\n",
              "      <td>International</td>\n",
              "    </tr>\n",
              "    <tr>\n",
              "      <th>4</th>\n",
              "      <td>SOHSBXH12A8C13B0DF</td>\n",
              "      <td>Tangle Of Aspens</td>\n",
              "      <td>Rene Ablaze Presents Winter Sessions</td>\n",
              "      <td>Der Mystic</td>\n",
              "      <td>0</td>\n",
              "      <td>TRMMMWA128F426B589</td>\n",
              "      <td>AREQDTE1269FB37231</td>\n",
              "      <td>NaN</td>\n",
              "      <td>514.30</td>\n",
              "      <td>0.00</td>\n",
              "      <td>0.00</td>\n",
              "      <td>2264873</td>\n",
              "      <td>-1</td>\n",
              "      <td>0</td>\n",
              "      <td>nan</td>\n",
              "      <td>nan</td>\n",
              "      <td>NaN</td>\n",
              "      <td>NaN</td>\n",
              "      <td>NaN</td>\n",
              "      <td>NaN</td>\n",
              "    </tr>\n",
              "    <tr>\n",
              "      <th>...</th>\n",
              "      <td>...</td>\n",
              "      <td>...</td>\n",
              "      <td>...</td>\n",
              "      <td>...</td>\n",
              "      <td>...</td>\n",
              "      <td>...</td>\n",
              "      <td>...</td>\n",
              "      <td>...</td>\n",
              "      <td>...</td>\n",
              "      <td>...</td>\n",
              "      <td>...</td>\n",
              "      <td>...</td>\n",
              "      <td>...</td>\n",
              "      <td>...</td>\n",
              "      <td>...</td>\n",
              "      <td>...</td>\n",
              "      <td>...</td>\n",
              "      <td>...</td>\n",
              "      <td>...</td>\n",
              "      <td>...</td>\n",
              "    </tr>\n",
              "    <tr>\n",
              "      <th>999995</th>\n",
              "      <td>SOTXAME12AB018F136</td>\n",
              "      <td>O Samba Da Vida</td>\n",
              "      <td>Pacha V.I.P.</td>\n",
              "      <td>Kiko Navarro</td>\n",
              "      <td>0</td>\n",
              "      <td>TRYYYUS12903CD2DF0</td>\n",
              "      <td>AR7Z4J81187FB3FC59</td>\n",
              "      <td>9d50cb20-7e42-45cc-b0dd-154c3e92a577</td>\n",
              "      <td>217.44</td>\n",
              "      <td>0.53</td>\n",
              "      <td>0.41</td>\n",
              "      <td>7522478</td>\n",
              "      <td>-1</td>\n",
              "      <td>0</td>\n",
              "      <td>nan</td>\n",
              "      <td>nan</td>\n",
              "      <td>NaN</td>\n",
              "      <td>NaN</td>\n",
              "      <td>NaN</td>\n",
              "      <td>NaN</td>\n",
              "    </tr>\n",
              "    <tr>\n",
              "      <th>999996</th>\n",
              "      <td>SOXQYIQ12A8C137FBB</td>\n",
              "      <td>Jago Chhadeo</td>\n",
              "      <td>Naale Baba Lassi Pee Gya</td>\n",
              "      <td>Kuldeep Manak</td>\n",
              "      <td>0</td>\n",
              "      <td>TRYYYJO128F426DA37</td>\n",
              "      <td>ART5FZD1187B9A7FCF</td>\n",
              "      <td>2357c400-9109-42b6-b3fe-9e2d9f8e3872</td>\n",
              "      <td>244.17</td>\n",
              "      <td>0.40</td>\n",
              "      <td>0.37</td>\n",
              "      <td>1632096</td>\n",
              "      <td>-1</td>\n",
              "      <td>0</td>\n",
              "      <td>nan</td>\n",
              "      <td>nan</td>\n",
              "      <td>NaN</td>\n",
              "      <td>NaN</td>\n",
              "      <td>NaN</td>\n",
              "      <td>NaN</td>\n",
              "    </tr>\n",
              "    <tr>\n",
              "      <th>999997</th>\n",
              "      <td>SOHODZI12A8C137BB3</td>\n",
              "      <td>Novemba</td>\n",
              "      <td>Dub_Connected: electronic music</td>\n",
              "      <td>Gabriel Le Mar</td>\n",
              "      <td>0</td>\n",
              "      <td>TRYYYMG128F4260ECA</td>\n",
              "      <td>ARZ3R6M1187B9AF750</td>\n",
              "      <td>8b97e9c8-61f5-4615-9a96-276f24204e34</td>\n",
              "      <td>553.04</td>\n",
              "      <td>0.56</td>\n",
              "      <td>0.34</td>\n",
              "      <td>2219291</td>\n",
              "      <td>-1</td>\n",
              "      <td>0</td>\n",
              "      <td>nan</td>\n",
              "      <td>nan</td>\n",
              "      <td>NaN</td>\n",
              "      <td>NaN</td>\n",
              "      <td>NaN</td>\n",
              "      <td>NaN</td>\n",
              "    </tr>\n",
              "    <tr>\n",
              "      <th>999998</th>\n",
              "      <td>SOLXGOR12A81C21EB7</td>\n",
              "      <td>Faraday</td>\n",
              "      <td>The Trance Collection Vol. 2</td>\n",
              "      <td>Elude</td>\n",
              "      <td>0</td>\n",
              "      <td>TRYYYDJ128F9310A21</td>\n",
              "      <td>ARCMCOK1187B9B1073</td>\n",
              "      <td>4ac5f3de-c5ad-475e-ad50-41f1ef9dba20</td>\n",
              "      <td>484.52</td>\n",
              "      <td>0.40</td>\n",
              "      <td>0.26</td>\n",
              "      <td>5472456</td>\n",
              "      <td>-1</td>\n",
              "      <td>0</td>\n",
              "      <td>nan</td>\n",
              "      <td>nan</td>\n",
              "      <td>NaN</td>\n",
              "      <td>NaN</td>\n",
              "      <td>NaN</td>\n",
              "      <td>NaN</td>\n",
              "    </tr>\n",
              "    <tr>\n",
              "      <th>999999</th>\n",
              "      <td>SOWXJXQ12AB0189F43</td>\n",
              "      <td>Fernweh feat. Sektion Kuchikäschtli</td>\n",
              "      <td>So Oder So</td>\n",
              "      <td>Texta</td>\n",
              "      <td>2004</td>\n",
              "      <td>TRYYYVU12903CD01E3</td>\n",
              "      <td>AR7PLM21187B990D08</td>\n",
              "      <td>3af2b07e-c91c-4160-9bda-f0b9e3144ed3</td>\n",
              "      <td>295.08</td>\n",
              "      <td>0.55</td>\n",
              "      <td>0.45</td>\n",
              "      <td>8486723</td>\n",
              "      <td>-1</td>\n",
              "      <td>0</td>\n",
              "      <td>nan</td>\n",
              "      <td>nan</td>\n",
              "      <td>NaN</td>\n",
              "      <td>NaN</td>\n",
              "      <td>NaN</td>\n",
              "      <td>Rap</td>\n",
              "    </tr>\n",
              "  </tbody>\n",
              "</table>\n",
              "<p>1000000 rows × 20 columns</p>\n",
              "</div>"
            ],
            "text/plain": [
              "                   song_id  ...          genre\n",
              "0       SOQMMHC12AB0180CB8  ...            NaN\n",
              "1       SOVFVAK12A8C1350D9  ...            NaN\n",
              "2       SOGTUKN12AB017F4F1  ...     Electronic\n",
              "3       SOBNYVR12A8C13558C  ...  International\n",
              "4       SOHSBXH12A8C13B0DF  ...            NaN\n",
              "...                    ...  ...            ...\n",
              "999995  SOTXAME12AB018F136  ...            NaN\n",
              "999996  SOXQYIQ12A8C137FBB  ...            NaN\n",
              "999997  SOHODZI12A8C137BB3  ...            NaN\n",
              "999998  SOLXGOR12A81C21EB7  ...            NaN\n",
              "999999  SOWXJXQ12AB0189F43  ...            Rap\n",
              "\n",
              "[1000000 rows x 20 columns]"
            ]
          },
          "metadata": {
            "tags": []
          },
          "execution_count": 9
        }
      ]
    },
    {
      "cell_type": "code",
      "metadata": {
        "id": "ATGSjXPxCfY6"
      },
      "source": [
        "song_duration_year_df = song_data_with_genre_df[['year','duration']].groupby('year').mean().reset_index().sort_values(by='year')"
      ],
      "execution_count": 10,
      "outputs": []
    },
    {
      "cell_type": "code",
      "metadata": {
        "colab": {
          "base_uri": "https://localhost:8080/",
          "height": 406
        },
        "id": "UCOZjsfBEfGw",
        "outputId": "cf955b1c-dc31-4173-a61e-8df1fca5b98c"
      },
      "source": [
        "objects = (list(song_duration_year_df['year']))\n",
        "y_pos = np.arange(len(objects))\n",
        "duration = list(song_duration_year_df['duration'])\n",
        " \n",
        "plt.bar(y_pos, duration, align='center', alpha=0.5,color='orange')\n",
        "plt.xticks(y_pos, objects, rotation='vertical')\n",
        "plt.ylabel('Duration')\n",
        "plt.title('Average Song Duration per Year')\n",
        " \n",
        "plt.show()"
      ],
      "execution_count": 11,
      "outputs": [
        {
          "output_type": "display_data",
          "data": {
            "image/png": "[encoded data removed]",
            "text/plain": [
              "<Figure size 1440x432 with 1 Axes>"
            ]
          },
          "metadata": {
            "tags": [],
            "needs_background": "light"
          }
        }
      ]
    },
    {
      "cell_type": "markdown",
      "metadata": {
        "id": "0wjDNsd6LLwb"
      },
      "source": [
        "After 1971, the song duration is on average 250 seconds."
      ]
    },
    {
      "cell_type": "code",
      "metadata": {
        "colab": {
          "base_uri": "https://localhost:8080/",
          "height": 370
        },
        "id": "dNr8OlvsJNQ8",
        "outputId": "efa4d52c-4cd9-4d80-b006-4ea0b0ef708d"
      },
      "source": [
        "song_data_with_genre_df.hist(column='duration',bins=20, grid=False, figsize=(12,5), color='#86bf91', zorder=2, rwidth=0.9)\n"
      ],
      "execution_count": 12,
      "outputs": [
        {
          "output_type": "execute_result",
          "data": {
            "text/plain": [
              "array([[<matplotlib.axes._subplots.AxesSubplot object at 0x7fda98d9edd8>]],\n",
              "      dtype=object)"
            ]
          },
          "metadata": {
            "tags": []
          },
          "execution_count": 12
        },
        {
          "output_type": "display_data",
          "data": {
            "image/png": "[encoded data removed]",
            "text/plain": [
              "<Figure size 864x360 with 1 Axes>"
            ]
          },
          "metadata": {
            "tags": [],
            "needs_background": "light"
          }
        }
      ]
    },
    {
      "cell_type": "markdown",
      "metadata": {
        "id": "RsF60TaNKl7H"
      },
      "source": [
        "Most of the songs have durtaion from 200 sec to 300 sec. but there are very few songs with duration of 3000 seconds i.e. 5 min"
      ]
    },
    {
      "cell_type": "code",
      "metadata": {
        "id": "C0ZygVKlFYGg"
      },
      "source": [
        "long_duration_songs_top_20 = song_data_with_genre_df.sort_values(by='duration', ascending=False).head(30)"
      ],
      "execution_count": 13,
      "outputs": []
    },
    {
      "cell_type": "code",
      "metadata": {
        "colab": {
          "base_uri": "https://localhost:8080/",
          "height": 770
        },
        "id": "GsK1sdDrG8vf",
        "outputId": "63f9f463-8522-4de0-db93-51f6e5e849aa"
      },
      "source": [
        "objects = (list(long_duration_songs_top_20['title']))\n",
        "y_pos = np.arange(len(objects))\n",
        "duration = list(long_duration_songs_top_20['duration'])\n",
        " \n",
        "plt.bar(y_pos, duration, align='center', alpha=0.5)\n",
        "plt.xticks(y_pos, objects, rotation='vertical')\n",
        "plt.ylabel('Duration')\n",
        "plt.title('Top 20 songs with by duration')\n",
        " \n",
        "plt.show()"
      ],
      "execution_count": 14,
      "outputs": [
        {
          "output_type": "display_data",
          "data": {
            "image/png": "[encoded data removed]",
            "text/plain": [
              "<Figure size 1440x432 with 1 Axes>"
            ]
          },
          "metadata": {
            "tags": [],
            "needs_background": "light"
          }
        }
      ]
    },
    {
      "cell_type": "markdown",
      "metadata": {
        "id": "iOD-wUDXiEso"
      },
      "source": [
        "You can also notice 3 Indian Raga songs in top 20 long duration songs"
      ]
    },
    {
      "cell_type": "code",
      "metadata": {
        "id": "ylmoiWBJiBsx"
      },
      "source": [
        "country_song_data = song_data_with_genre_df.groupby(by=\"country_name\").count()['country_code'].sort_values(ascending=False).reset_index()\n",
        "top_20_sog_countries = country_song_data.head(20)"
      ],
      "execution_count": 15,
      "outputs": []
    },
    {
      "cell_type": "code",
      "metadata": {
        "colab": {
          "base_uri": "https://localhost:8080/",
          "height": 460
        },
        "id": "vsMc_1GEjvzP",
        "outputId": "3d21189b-b3b5-4f0a-f5b9-e5a1f82df7a0"
      },
      "source": [
        "objects = (list(top_20_sog_countries['country_name']))\n",
        "y_pos = np.arange(len(objects))\n",
        "duration = list(top_20_sog_countries['country_code'])\n",
        " \n",
        "plt.bar(y_pos, duration, align='center', alpha=0.5)\n",
        "plt.xticks(y_pos, objects, rotation='vertical')\n",
        "plt.ylabel('Total Songs')\n",
        "plt.title('Top 20 songs with by Country')\n",
        " \n",
        "plt.show()"
      ],
      "execution_count": 16,
      "outputs": [
        {
          "output_type": "display_data",
          "data": {
            "image/png": "[encoded data removed]",
            "text/plain": [
              "<Figure size 1440x432 with 1 Axes>"
            ]
          },
          "metadata": {
            "tags": [],
            "needs_background": "light"
          }
        }
      ]
    },
    {
      "cell_type": "markdown",
      "metadata": {
        "id": "UbReoxIkkb6X"
      },
      "source": [
        "US has contributed more to million songs database followed by UK annd Canada"
      ]
    },
    {
      "cell_type": "code",
      "metadata": {
        "colab": {
          "base_uri": "https://localhost:8080/"
        },
        "id": "-d5oGTF3Sp6H",
        "outputId": "9b3d0bb8-f4cc-4ddb-bb2a-ec8378efb1e4"
      },
      "source": [
        "!pip install geopandas"
      ],
      "execution_count": 17,
      "outputs": [
        {
          "output_type": "stream",
          "text": [
            "Collecting geopandas\n",
            "\u001b[?25l  Downloading https://files.pythonhosted.org/packages/f7/a4/e66aafbefcbb717813bf3a355c8c4fc3ed04ea1dd7feb2920f2f4f868921/geopandas-0.8.1-py2.py3-none-any.whl (962kB)\n",
            "\u001b[K     |████████████████████████████████| 972kB 7.9MB/s \n",
            "\u001b[?25hCollecting pyproj>=2.2.0\n",
            "\u001b[?25l  Downloading https://files.pythonhosted.org/packages/e4/ab/280e80a67cfc109d15428c0ec56391fc03a65857b7727cf4e6e6f99a4204/pyproj-3.0.0.post1-cp36-cp36m-manylinux2010_x86_64.whl (6.4MB)\n",
            "\u001b[K     |████████████████████████████████| 6.5MB 27.9MB/s \n",
            "\u001b[?25hCollecting fiona\n",
            "\u001b[?25l  Downloading https://files.pythonhosted.org/packages/37/94/4910fd55246c1d963727b03885ead6ef1cd3748a465f7b0239ab25dfc9a3/Fiona-1.8.18-cp36-cp36m-manylinux1_x86_64.whl (14.8MB)\n",
            "\u001b[K     |████████████████████████████████| 14.8MB 318kB/s \n",
            "\u001b[?25hRequirement already satisfied: pandas>=0.23.0 in /usr/local/lib/python3.6/dist-packages (from geopandas) (1.1.5)\n",
            "Requirement already satisfied: shapely in /usr/local/lib/python3.6/dist-packages (from geopandas) (1.7.1)\n",
            "Requirement already satisfied: certifi in /usr/local/lib/python3.6/dist-packages (from pyproj>=2.2.0->geopandas) (2020.12.5)\n",
            "Requirement already satisfied: click<8,>=4.0 in /usr/local/lib/python3.6/dist-packages (from fiona->geopandas) (7.1.2)\n",
            "Collecting click-plugins>=1.0\n",
            "  Downloading https://files.pythonhosted.org/packages/e9/da/824b92d9942f4e472702488857914bdd50f73021efea15b4cad9aca8ecef/click_plugins-1.1.1-py2.py3-none-any.whl\n",
            "Collecting cligj>=0.5\n",
            "  Downloading https://files.pythonhosted.org/packages/42/1e/947eadf10d6804bf276eb8a038bd5307996dceaaa41cfd21b7a15ec62f5d/cligj-0.7.1-py3-none-any.whl\n",
            "Collecting munch\n",
            "  Downloading https://files.pythonhosted.org/packages/cc/ab/85d8da5c9a45e072301beb37ad7f833cd344e04c817d97e0cc75681d248f/munch-2.5.0-py2.py3-none-any.whl\n",
            "Requirement already satisfied: attrs>=17 in /usr/local/lib/python3.6/dist-packages (from fiona->geopandas) (20.3.0)\n",
            "Requirement already satisfied: six>=1.7 in /usr/local/lib/python3.6/dist-packages (from fiona->geopandas) (1.15.0)\n",
            "Requirement already satisfied: numpy>=1.15.4 in /usr/local/lib/python3.6/dist-packages (from pandas>=0.23.0->geopandas) (1.19.5)\n",
            "Requirement already satisfied: python-dateutil>=2.7.3 in /usr/local/lib/python3.6/dist-packages (from pandas>=0.23.0->geopandas) (2.8.1)\n",
            "Requirement already satisfied: pytz>=2017.2 in /usr/local/lib/python3.6/dist-packages (from pandas>=0.23.0->geopandas) (2018.9)\n",
            "Installing collected packages: pyproj, click-plugins, cligj, munch, fiona, geopandas\n",
            "Successfully installed click-plugins-1.1.1 cligj-0.7.1 fiona-1.8.18 geopandas-0.8.1 munch-2.5.0 pyproj-3.0.0.post1\n"
          ],
          "name": "stdout"
        }
      ]
    },
    {
      "cell_type": "code",
      "metadata": {
        "colab": {
          "base_uri": "https://localhost:8080/"
        },
        "id": "wzLIJUN9VXds",
        "outputId": "b699052e-dd18-4333-c80c-cb5f93e51279"
      },
      "source": [
        "artist_location = song_data_with_genre_df[song_data_with_genre_df['lat'].notna()]\n",
        "artist_location.columns\n"
      ],
      "execution_count": 18,
      "outputs": [
        {
          "output_type": "execute_result",
          "data": {
            "text/plain": [
              "Index(['song_id', 'title', 'release', 'artist_name', 'year', 'track_id',\n",
              "       'artist_id', 'artist_mbid', 'duration', 'artist_familiarity',\n",
              "       'artist_hotttnesss', 'track_7digitalid', 'shs_perf', 'shs_work', 'lat',\n",
              "       'long', 'location', 'country_code', 'country_name', 'genre'],\n",
              "      dtype='object')"
            ]
          },
          "metadata": {
            "tags": []
          },
          "execution_count": 18
        }
      ]
    },
    {
      "cell_type": "code",
      "metadata": {
        "id": "v2Ep9gmoM7iq"
      },
      "source": [
        "import geopandas\n",
        "gdf = geopandas.GeoDataFrame(\n",
        "    artist_location, geometry=geopandas.points_from_xy(artist_location['long'], artist_location['lat']))"
      ],
      "execution_count": 19,
      "outputs": []
    },
    {
      "cell_type": "code",
      "metadata": {
        "colab": {
          "base_uri": "https://localhost:8080/",
          "height": 374
        },
        "id": "WOyfG-QFVArF",
        "outputId": "34fd0a62-c044-4a20-cc5d-982788102a48"
      },
      "source": [
        "world = geopandas.read_file(geopandas.datasets.get_path('naturalearth_lowres'))\n",
        "\n",
        "# We restrict to South America.\n",
        "ax = world.plot(\n",
        "    color='white', edgecolor='black')\n",
        "\n",
        "# We can now plot our ``GeoDataFrame``.\n",
        "gdf.plot(ax=ax, color='green',figsize=(8, 4))\n",
        "\n",
        "plt.show()"
      ],
      "execution_count": 20,
      "outputs": [
        {
          "output_type": "display_data",
          "data": {
            "image/png": "[encoded data removed]",
            "text/plain": [
              "<Figure size 1440x432 with 1 Axes>"
            ]
          },
          "metadata": {
            "tags": [],
            "needs_background": "light"
          }
        }
      ]
    },
    {
      "cell_type": "markdown",
      "metadata": {
        "id": "F0u9KpmCYXHV"
      },
      "source": [
        "The data set contains data from around the world"
      ]
    },
    {
      "cell_type": "code",
      "metadata": {
        "colab": {
          "base_uri": "https://localhost:8080/"
        },
        "id": "WdwEznV__tn5",
        "outputId": "68aaa58e-3fe2-46ad-f8bf-fbe86cb1d1de"
      },
      "source": [
        "song_data_with_genre_df.columns"
      ],
      "execution_count": 21,
      "outputs": [
        {
          "output_type": "execute_result",
          "data": {
            "text/plain": [
              "Index(['song_id', 'title', 'release', 'artist_name', 'year', 'track_id',\n",
              "       'artist_id', 'artist_mbid', 'duration', 'artist_familiarity',\n",
              "       'artist_hotttnesss', 'track_7digitalid', 'shs_perf', 'shs_work', 'lat',\n",
              "       'long', 'location', 'country_code', 'country_name', 'genre'],\n",
              "      dtype='object')"
            ]
          },
          "metadata": {
            "tags": []
          },
          "execution_count": 21
        }
      ]
    },
    {
      "cell_type": "markdown",
      "metadata": {
        "id": "jLLHDgJ3CV1o"
      },
      "source": [
        "##Data Dictionary\n",
        "\n",
        "\n",
        "| Column Namee      | Description |\n",
        "| ----------- | ----------- |\n",
        "| song_id      | The Echo Nest song ID, note that a song can be associated with many tracks|\n",
        "| title   | song title        |\n",
        "| release | album name from which the track was taken, some songs / tracks can come from many albums, only one is given |\n",
        "| artist_name | artist name      |\n",
        "| year        | year when the song was released, according to musicbrainz.org        | \n",
        "| track_id   | unique ID for each track |\n",
        "| artist_id. | the musicbrainz.org ID for the artist       |\n",
        "| artist_mbid | artist's MusicBrainz Identifier         |\n",
        "| duration.   | duration of the track in seconds      |\n",
        "| artist_familiarity | An indication of how well known the artist is. Top familiar artists are bands like Led Zeppelin, Coldplay, and The Beatles.       |\n",
        "| artist_hotttnesss | according to The Echo Nest, artist 'hotttnesss' (on a scale of 0 and 1) is an indication of how much buzz the artist was getting at the time of download. top <e2><80><98>hottt<e2><80><99> artists are artists like Katy Perry, The Boy Least Likely to, and Mastodon.         |\n",
        "| track_7digitalid |  Track's 7 digital ID     |\n",
        "|.lat.  | Latitude associated with the artist location.   |\n",
        "| long. | Longitude associated with the artist location   |\n",
        "| location.| city, and where available state or country associated with the artist location.   |\n",
        "| genre   | Song's genre  |\n",
        "| country_code | country code where the song was recorded |\n",
        "| country_name | Name of the country where the song was recorded |\n",
        "\n"
      ]
    },
    {
      "cell_type": "code",
      "metadata": {
        "id": "elrocKrYCJh-"
      },
      "source": [
        "song_data_with_genre_df.to_pickle(r'/content/drive/My Drive/song_data_augmented_all_records.pkl')"
      ],
      "execution_count": 22,
      "outputs": []
    },
    {
      "cell_type": "code",
      "metadata": {
        "colab": {
          "base_uri": "https://localhost:8080/",
          "height": 932
        },
        "id": "EKDL1rp_I1Aw",
        "outputId": "4accc486-285f-427c-a715-d1e04c4b4a31"
      },
      "source": [
        "song_data_with_genre_df"
      ],
      "execution_count": 23,
      "outputs": [
        {
          "output_type": "execute_result",
          "data": {
            "text/html": [
              "<div>\n",
              "<style scoped>\n",
              "    .dataframe tbody tr th:only-of-type {\n",
              "        vertical-align: middle;\n",
              "    }\n",
              "\n",
              "    .dataframe tbody tr th {\n",
              "        vertical-align: top;\n",
              "    }\n",
              "\n",
              "    .dataframe thead th {\n",
              "        text-align: right;\n",
              "    }\n",
              "</style>\n",
              "<table border=\"1\" class=\"dataframe\">\n",
              "  <thead>\n",
              "    <tr style=\"text-align: right;\">\n",
              "      <th></th>\n",
              "      <th>song_id</th>\n",
              "      <th>title</th>\n",
              "      <th>release</th>\n",
              "      <th>artist_name</th>\n",
              "      <th>year</th>\n",
              "      <th>track_id</th>\n",
              "      <th>artist_id</th>\n",
              "      <th>artist_mbid</th>\n",
              "      <th>duration</th>\n",
              "      <th>artist_familiarity</th>\n",
              "      <th>artist_hotttnesss</th>\n",
              "      <th>track_7digitalid</th>\n",
              "      <th>shs_perf</th>\n",
              "      <th>shs_work</th>\n",
              "      <th>lat</th>\n",
              "      <th>long</th>\n",
              "      <th>location</th>\n",
              "      <th>country_code</th>\n",
              "      <th>country_name</th>\n",
              "      <th>genre</th>\n",
              "    </tr>\n",
              "  </thead>\n",
              "  <tbody>\n",
              "    <tr>\n",
              "      <th>0</th>\n",
              "      <td>SOQMMHC12AB0180CB8</td>\n",
              "      <td>Silent Night</td>\n",
              "      <td>Monster Ballads X-Mas</td>\n",
              "      <td>Faster Pussy cat</td>\n",
              "      <td>2003</td>\n",
              "      <td>TRMMMYQ128F932D901</td>\n",
              "      <td>ARYZTJS1187B98C555</td>\n",
              "      <td>357ff05d-848a-44cf-b608-cb34b5701ae5</td>\n",
              "      <td>252.06</td>\n",
              "      <td>0.65</td>\n",
              "      <td>0.39</td>\n",
              "      <td>7032331</td>\n",
              "      <td>-1</td>\n",
              "      <td>0</td>\n",
              "      <td>nan</td>\n",
              "      <td>nan</td>\n",
              "      <td>NaN</td>\n",
              "      <td>NaN</td>\n",
              "      <td>NaN</td>\n",
              "      <td>NaN</td>\n",
              "    </tr>\n",
              "    <tr>\n",
              "      <th>1</th>\n",
              "      <td>SOVFVAK12A8C1350D9</td>\n",
              "      <td>Tanssi vaan</td>\n",
              "      <td>Karkuteillä</td>\n",
              "      <td>Karkkiautomaatti</td>\n",
              "      <td>1995</td>\n",
              "      <td>TRMMMKD128F425225D</td>\n",
              "      <td>ARMVN3U1187FB3A1EB</td>\n",
              "      <td>8d7ef530-a6fd-4f8f-b2e2-74aec765e0f9</td>\n",
              "      <td>156.55</td>\n",
              "      <td>0.44</td>\n",
              "      <td>0.36</td>\n",
              "      <td>1514808</td>\n",
              "      <td>-1</td>\n",
              "      <td>0</td>\n",
              "      <td>nan</td>\n",
              "      <td>nan</td>\n",
              "      <td>NaN</td>\n",
              "      <td>NaN</td>\n",
              "      <td>NaN</td>\n",
              "      <td>NaN</td>\n",
              "    </tr>\n",
              "    <tr>\n",
              "      <th>2</th>\n",
              "      <td>SOGTUKN12AB017F4F1</td>\n",
              "      <td>No One Could Ever</td>\n",
              "      <td>Butter</td>\n",
              "      <td>Hudson Mohawke</td>\n",
              "      <td>2006</td>\n",
              "      <td>TRMMMRX128F93187D9</td>\n",
              "      <td>ARGEKB01187FB50750</td>\n",
              "      <td>3d403d44-36ce-465c-ad43-ae877e65adc4</td>\n",
              "      <td>138.97</td>\n",
              "      <td>0.64</td>\n",
              "      <td>0.44</td>\n",
              "      <td>6945353</td>\n",
              "      <td>-1</td>\n",
              "      <td>0</td>\n",
              "      <td>55.86</td>\n",
              "      <td>-4.24</td>\n",
              "      <td>Glasgow, Scotland</td>\n",
              "      <td>gb</td>\n",
              "      <td>United Kingdom</td>\n",
              "      <td>Electronic</td>\n",
              "    </tr>\n",
              "    <tr>\n",
              "      <th>3</th>\n",
              "      <td>SOBNYVR12A8C13558C</td>\n",
              "      <td>Si Vos Querés</td>\n",
              "      <td>De Culo</td>\n",
              "      <td>Yerba Brava</td>\n",
              "      <td>2003</td>\n",
              "      <td>TRMMMCH128F425532C</td>\n",
              "      <td>ARNWYLR1187B9B2F9C</td>\n",
              "      <td>12be7648-7094-495f-90e6-df4189d68615</td>\n",
              "      <td>145.06</td>\n",
              "      <td>0.45</td>\n",
              "      <td>0.37</td>\n",
              "      <td>2168257</td>\n",
              "      <td>-1</td>\n",
              "      <td>0</td>\n",
              "      <td>nan</td>\n",
              "      <td>nan</td>\n",
              "      <td>NaN</td>\n",
              "      <td>NaN</td>\n",
              "      <td>NaN</td>\n",
              "      <td>International</td>\n",
              "    </tr>\n",
              "    <tr>\n",
              "      <th>4</th>\n",
              "      <td>SOHSBXH12A8C13B0DF</td>\n",
              "      <td>Tangle Of Aspens</td>\n",
              "      <td>Rene Ablaze Presents Winter Sessions</td>\n",
              "      <td>Der Mystic</td>\n",
              "      <td>0</td>\n",
              "      <td>TRMMMWA128F426B589</td>\n",
              "      <td>AREQDTE1269FB37231</td>\n",
              "      <td>NaN</td>\n",
              "      <td>514.30</td>\n",
              "      <td>0.00</td>\n",
              "      <td>0.00</td>\n",
              "      <td>2264873</td>\n",
              "      <td>-1</td>\n",
              "      <td>0</td>\n",
              "      <td>nan</td>\n",
              "      <td>nan</td>\n",
              "      <td>NaN</td>\n",
              "      <td>NaN</td>\n",
              "      <td>NaN</td>\n",
              "      <td>NaN</td>\n",
              "    </tr>\n",
              "    <tr>\n",
              "      <th>...</th>\n",
              "      <td>...</td>\n",
              "      <td>...</td>\n",
              "      <td>...</td>\n",
              "      <td>...</td>\n",
              "      <td>...</td>\n",
              "      <td>...</td>\n",
              "      <td>...</td>\n",
              "      <td>...</td>\n",
              "      <td>...</td>\n",
              "      <td>...</td>\n",
              "      <td>...</td>\n",
              "      <td>...</td>\n",
              "      <td>...</td>\n",
              "      <td>...</td>\n",
              "      <td>...</td>\n",
              "      <td>...</td>\n",
              "      <td>...</td>\n",
              "      <td>...</td>\n",
              "      <td>...</td>\n",
              "      <td>...</td>\n",
              "    </tr>\n",
              "    <tr>\n",
              "      <th>999995</th>\n",
              "      <td>SOTXAME12AB018F136</td>\n",
              "      <td>O Samba Da Vida</td>\n",
              "      <td>Pacha V.I.P.</td>\n",
              "      <td>Kiko Navarro</td>\n",
              "      <td>0</td>\n",
              "      <td>TRYYYUS12903CD2DF0</td>\n",
              "      <td>AR7Z4J81187FB3FC59</td>\n",
              "      <td>9d50cb20-7e42-45cc-b0dd-154c3e92a577</td>\n",
              "      <td>217.44</td>\n",
              "      <td>0.53</td>\n",
              "      <td>0.41</td>\n",
              "      <td>7522478</td>\n",
              "      <td>-1</td>\n",
              "      <td>0</td>\n",
              "      <td>nan</td>\n",
              "      <td>nan</td>\n",
              "      <td>NaN</td>\n",
              "      <td>NaN</td>\n",
              "      <td>NaN</td>\n",
              "      <td>NaN</td>\n",
              "    </tr>\n",
              "    <tr>\n",
              "      <th>999996</th>\n",
              "      <td>SOXQYIQ12A8C137FBB</td>\n",
              "      <td>Jago Chhadeo</td>\n",
              "      <td>Naale Baba Lassi Pee Gya</td>\n",
              "      <td>Kuldeep Manak</td>\n",
              "      <td>0</td>\n",
              "      <td>TRYYYJO128F426DA37</td>\n",
              "      <td>ART5FZD1187B9A7FCF</td>\n",
              "      <td>2357c400-9109-42b6-b3fe-9e2d9f8e3872</td>\n",
              "      <td>244.17</td>\n",
              "      <td>0.40</td>\n",
              "      <td>0.37</td>\n",
              "      <td>1632096</td>\n",
              "      <td>-1</td>\n",
              "      <td>0</td>\n",
              "      <td>nan</td>\n",
              "      <td>nan</td>\n",
              "      <td>NaN</td>\n",
              "      <td>NaN</td>\n",
              "      <td>NaN</td>\n",
              "      <td>NaN</td>\n",
              "    </tr>\n",
              "    <tr>\n",
              "      <th>999997</th>\n",
              "      <td>SOHODZI12A8C137BB3</td>\n",
              "      <td>Novemba</td>\n",
              "      <td>Dub_Connected: electronic music</td>\n",
              "      <td>Gabriel Le Mar</td>\n",
              "      <td>0</td>\n",
              "      <td>TRYYYMG128F4260ECA</td>\n",
              "      <td>ARZ3R6M1187B9AF750</td>\n",
              "      <td>8b97e9c8-61f5-4615-9a96-276f24204e34</td>\n",
              "      <td>553.04</td>\n",
              "      <td>0.56</td>\n",
              "      <td>0.34</td>\n",
              "      <td>2219291</td>\n",
              "      <td>-1</td>\n",
              "      <td>0</td>\n",
              "      <td>nan</td>\n",
              "      <td>nan</td>\n",
              "      <td>NaN</td>\n",
              "      <td>NaN</td>\n",
              "      <td>NaN</td>\n",
              "      <td>NaN</td>\n",
              "    </tr>\n",
              "    <tr>\n",
              "      <th>999998</th>\n",
              "      <td>SOLXGOR12A81C21EB7</td>\n",
              "      <td>Faraday</td>\n",
              "      <td>The Trance Collection Vol. 2</td>\n",
              "      <td>Elude</td>\n",
              "      <td>0</td>\n",
              "      <td>TRYYYDJ128F9310A21</td>\n",
              "      <td>ARCMCOK1187B9B1073</td>\n",
              "      <td>4ac5f3de-c5ad-475e-ad50-41f1ef9dba20</td>\n",
              "      <td>484.52</td>\n",
              "      <td>0.40</td>\n",
              "      <td>0.26</td>\n",
              "      <td>5472456</td>\n",
              "      <td>-1</td>\n",
              "      <td>0</td>\n",
              "      <td>nan</td>\n",
              "      <td>nan</td>\n",
              "      <td>NaN</td>\n",
              "      <td>NaN</td>\n",
              "      <td>NaN</td>\n",
              "      <td>NaN</td>\n",
              "    </tr>\n",
              "    <tr>\n",
              "      <th>999999</th>\n",
              "      <td>SOWXJXQ12AB0189F43</td>\n",
              "      <td>Fernweh feat. Sektion Kuchikäschtli</td>\n",
              "      <td>So Oder So</td>\n",
              "      <td>Texta</td>\n",
              "      <td>2004</td>\n",
              "      <td>TRYYYVU12903CD01E3</td>\n",
              "      <td>AR7PLM21187B990D08</td>\n",
              "      <td>3af2b07e-c91c-4160-9bda-f0b9e3144ed3</td>\n",
              "      <td>295.08</td>\n",
              "      <td>0.55</td>\n",
              "      <td>0.45</td>\n",
              "      <td>8486723</td>\n",
              "      <td>-1</td>\n",
              "      <td>0</td>\n",
              "      <td>nan</td>\n",
              "      <td>nan</td>\n",
              "      <td>NaN</td>\n",
              "      <td>NaN</td>\n",
              "      <td>NaN</td>\n",
              "      <td>Rap</td>\n",
              "    </tr>\n",
              "  </tbody>\n",
              "</table>\n",
              "<p>1000000 rows × 20 columns</p>\n",
              "</div>"
            ],
            "text/plain": [
              "                   song_id  ...          genre\n",
              "0       SOQMMHC12AB0180CB8  ...            NaN\n",
              "1       SOVFVAK12A8C1350D9  ...            NaN\n",
              "2       SOGTUKN12AB017F4F1  ...     Electronic\n",
              "3       SOBNYVR12A8C13558C  ...  International\n",
              "4       SOHSBXH12A8C13B0DF  ...            NaN\n",
              "...                    ...  ...            ...\n",
              "999995  SOTXAME12AB018F136  ...            NaN\n",
              "999996  SOXQYIQ12A8C137FBB  ...            NaN\n",
              "999997  SOHODZI12A8C137BB3  ...            NaN\n",
              "999998  SOLXGOR12A81C21EB7  ...            NaN\n",
              "999999  SOWXJXQ12AB0189F43  ...            Rap\n",
              "\n",
              "[1000000 rows x 20 columns]"
            ]
          },
          "metadata": {
            "tags": []
          },
          "execution_count": 23
        }
      ]
    },
    {
      "cell_type": "markdown",
      "metadata": {
        "id": "NxIQZNx8mhl6"
      },
      "source": [
        "## Clean the Song Dataset for model processing"
      ]
    },
    {
      "cell_type": "code",
      "metadata": {
        "colab": {
          "base_uri": "https://localhost:8080/"
        },
        "id": "r3jBv6eTllbV",
        "outputId": "088998fe-7fec-4ffe-9ca2-024c6b6a9d5b"
      },
      "source": [
        "song_data_with_genre_df.duplicated(subset=['track_id']).value_counts()"
      ],
      "execution_count": 24,
      "outputs": [
        {
          "output_type": "execute_result",
          "data": {
            "text/plain": [
              "False    999056\n",
              "True        944\n",
              "dtype: int64"
            ]
          },
          "metadata": {
            "tags": []
          },
          "execution_count": 24
        }
      ]
    },
    {
      "cell_type": "markdown",
      "metadata": {
        "id": "ov1bn99hmWz9"
      },
      "source": [
        "### There are 944 duplicate records in the Song database"
      ]
    },
    {
      "cell_type": "code",
      "metadata": {
        "id": "66fSeN1WHvdK"
      },
      "source": [
        "song_data_with_genre_df = song_data_with_genre_df.drop_duplicates(subset=['track_id'])"
      ],
      "execution_count": 25,
      "outputs": []
    },
    {
      "cell_type": "markdown",
      "metadata": {
        "id": "ggPpmnP5PSzM"
      },
      "source": [
        "### Remove the records which do not have \"Genre\""
      ]
    },
    {
      "cell_type": "code",
      "metadata": {
        "id": "r0-z49t9PKPL"
      },
      "source": [
        "song_data_with_genre_df = song_data_with_genre_df[song_data_with_genre_df['genre'].notna()]"
      ],
      "execution_count": 26,
      "outputs": []
    },
    {
      "cell_type": "code",
      "metadata": {
        "colab": {
          "base_uri": "https://localhost:8080/"
        },
        "id": "PLJ8VHIfPSCv",
        "outputId": "0819540f-2d0c-4fcb-bfc3-46268f3a999a"
      },
      "source": [
        "len(song_data_with_genre_df)"
      ],
      "execution_count": 27,
      "outputs": [
        {
          "output_type": "execute_result",
          "data": {
            "text/plain": [
              "422140"
            ]
          },
          "metadata": {
            "tags": []
          },
          "execution_count": 27
        }
      ]
    },
    {
      "cell_type": "markdown",
      "metadata": {
        "id": "W4DQRMTuPw1a"
      },
      "source": [
        "### Around 422,140 records have \"Genre\". Now delete the records which do ot have \"Lat and Longitude data"
      ]
    },
    {
      "cell_type": "code",
      "metadata": {
        "id": "CXuQ8oXWPKet"
      },
      "source": [
        "song_data_with_genre_df = song_data_with_genre_df[song_data_with_genre_df['lat'].notna()]"
      ],
      "execution_count": 28,
      "outputs": []
    },
    {
      "cell_type": "code",
      "metadata": {
        "colab": {
          "base_uri": "https://localhost:8080/"
        },
        "id": "mw9IWLY1PKkz",
        "outputId": "9072151e-528e-42a3-8285-d8e4f60af5e7"
      },
      "source": [
        "len(song_data_with_genre_df)"
      ],
      "execution_count": 29,
      "outputs": [
        {
          "output_type": "execute_result",
          "data": {
            "text/plain": [
              "177304"
            ]
          },
          "metadata": {
            "tags": []
          },
          "execution_count": 29
        }
      ]
    },
    {
      "cell_type": "markdown",
      "metadata": {
        "id": "qqnnS1pRQklO"
      },
      "source": [
        "### Total records in the final set are 177304. Let's remove unnecessary columns \n",
        "\n",
        "\n",
        "1.   track_7digitalid\n",
        "2.   shs_perf\n",
        "3.   she_work\n",
        "4.   artist_mib\n",
        "\n",
        "\n"
      ]
    },
    {
      "cell_type": "code",
      "metadata": {
        "colab": {
          "base_uri": "https://localhost:8080/"
        },
        "id": "hkmfwM8BPKn4",
        "outputId": "50e11935-96eb-47e2-9ba7-220e3048a630"
      },
      "source": [
        "song_data_with_genre_df.columns"
      ],
      "execution_count": 30,
      "outputs": [
        {
          "output_type": "execute_result",
          "data": {
            "text/plain": [
              "Index(['song_id', 'title', 'release', 'artist_name', 'year', 'track_id',\n",
              "       'artist_id', 'artist_mbid', 'duration', 'artist_familiarity',\n",
              "       'artist_hotttnesss', 'track_7digitalid', 'shs_perf', 'shs_work', 'lat',\n",
              "       'long', 'location', 'country_code', 'country_name', 'genre'],\n",
              "      dtype='object')"
            ]
          },
          "metadata": {
            "tags": []
          },
          "execution_count": 30
        }
      ]
    },
    {
      "cell_type": "code",
      "metadata": {
        "id": "H0AIig9SPKqQ"
      },
      "source": [
        "song_data_with_genre_df.drop(columns=['track_7digitalid','artist_mbid','shs_perf','shs_work'],inplace=True)"
      ],
      "execution_count": 31,
      "outputs": []
    },
    {
      "cell_type": "code",
      "metadata": {
        "colab": {
          "base_uri": "https://localhost:8080/"
        },
        "id": "MCqB-XUwPKsy",
        "outputId": "fe130a0c-62be-4388-eddd-58932cacd8d4"
      },
      "source": [
        "song_data_with_genre_df.columns"
      ],
      "execution_count": 32,
      "outputs": [
        {
          "output_type": "execute_result",
          "data": {
            "text/plain": [
              "Index(['song_id', 'title', 'release', 'artist_name', 'year', 'track_id',\n",
              "       'artist_id', 'duration', 'artist_familiarity', 'artist_hotttnesss',\n",
              "       'lat', 'long', 'location', 'country_code', 'country_name', 'genre'],\n",
              "      dtype='object')"
            ]
          },
          "metadata": {
            "tags": []
          },
          "execution_count": 32
        }
      ]
    },
    {
      "cell_type": "markdown",
      "metadata": {
        "id": "opwv6lWSSKYo"
      },
      "source": [
        "### Fix column types"
      ]
    },
    {
      "cell_type": "code",
      "metadata": {
        "colab": {
          "base_uri": "https://localhost:8080/"
        },
        "id": "X0qbLupPPKvm",
        "outputId": "c1e996f3-ab27-4464-da90-8cf32e283d96"
      },
      "source": [
        "song_data_with_genre_df.info()"
      ],
      "execution_count": 34,
      "outputs": [
        {
          "output_type": "stream",
          "text": [
            "<class 'pandas.core.frame.DataFrame'>\n",
            "Int64Index: 177304 entries, 2 to 999983\n",
            "Data columns (total 16 columns):\n",
            " #   Column              Non-Null Count   Dtype  \n",
            "---  ------              --------------   -----  \n",
            " 0   song_id             177304 non-null  object \n",
            " 1   title               177304 non-null  object \n",
            " 2   release             177304 non-null  object \n",
            " 3   artist_name         177304 non-null  object \n",
            " 4   year                177304 non-null  int64  \n",
            " 5   track_id            177304 non-null  object \n",
            " 6   artist_id           177304 non-null  object \n",
            " 7   duration            177304 non-null  float64\n",
            " 8   artist_familiarity  177304 non-null  float64\n",
            " 9   artist_hotttnesss   177304 non-null  float64\n",
            " 10  lat                 177304 non-null  float64\n",
            " 11  long                177304 non-null  float64\n",
            " 12  location            177293 non-null  object \n",
            " 13  country_code        177216 non-null  object \n",
            " 14  country_name        177216 non-null  object \n",
            " 15  genre               177304 non-null  object \n",
            "dtypes: float64(5), int64(1), object(10)\n",
            "memory usage: 23.0+ MB\n"
          ],
          "name": "stdout"
        }
      ]
    },
    {
      "cell_type": "code",
      "metadata": {
        "id": "fEEBuTV_SoHd"
      },
      "source": [
        "song_data_with_genre_df['song_id'] = song_data_with_genre_df['song_id'].astype('string')"
      ],
      "execution_count": 35,
      "outputs": []
    },
    {
      "cell_type": "code",
      "metadata": {
        "id": "CQnOhDMFSoQ9"
      },
      "source": [
        "song_data_with_genre_df['title'] = song_data_with_genre_df['title'].astype('string')"
      ],
      "execution_count": 36,
      "outputs": []
    },
    {
      "cell_type": "code",
      "metadata": {
        "id": "FyHEX6GTSoUk"
      },
      "source": [
        "song_data_with_genre_df['release'] = song_data_with_genre_df['release'].astype('string')"
      ],
      "execution_count": 37,
      "outputs": []
    },
    {
      "cell_type": "code",
      "metadata": {
        "id": "ONg9iMSUSoYD"
      },
      "source": [
        "song_data_with_genre_df['artist_name'] = song_data_with_genre_df['artist_name'].astype('string')"
      ],
      "execution_count": 38,
      "outputs": []
    },
    {
      "cell_type": "code",
      "metadata": {
        "id": "xGaFtlBXSobA"
      },
      "source": [
        "song_data_with_genre_df['track_id'] = song_data_with_genre_df['track_id'].astype('string')"
      ],
      "execution_count": 39,
      "outputs": []
    },
    {
      "cell_type": "code",
      "metadata": {
        "id": "xEo7mCUPSoeY"
      },
      "source": [
        "song_data_with_genre_df['artist_id'] = song_data_with_genre_df['artist_id'].astype('string')"
      ],
      "execution_count": 40,
      "outputs": []
    },
    {
      "cell_type": "code",
      "metadata": {
        "id": "c2Aa3bBBTXTk"
      },
      "source": [
        "song_data_with_genre_df['location'] = song_data_with_genre_df['location'].astype('string')"
      ],
      "execution_count": 41,
      "outputs": []
    },
    {
      "cell_type": "code",
      "metadata": {
        "id": "D0sNjdr7TXc3"
      },
      "source": [
        "song_data_with_genre_df['country_code'] = song_data_with_genre_df['country_code'].astype('string')"
      ],
      "execution_count": 42,
      "outputs": []
    },
    {
      "cell_type": "code",
      "metadata": {
        "id": "p92Kiup6TXfw"
      },
      "source": [
        "song_data_with_genre_df['country_name'] = song_data_with_genre_df['country_name'].astype('string')"
      ],
      "execution_count": 43,
      "outputs": []
    },
    {
      "cell_type": "code",
      "metadata": {
        "id": "V2YNhlpdTXjA"
      },
      "source": [
        "song_data_with_genre_df['genre'] = song_data_with_genre_df['genre'].astype('string')"
      ],
      "execution_count": 44,
      "outputs": []
    },
    {
      "cell_type": "code",
      "metadata": {
        "colab": {
          "base_uri": "https://localhost:8080/"
        },
        "id": "sPKw-N-xUBOC",
        "outputId": "c279f36e-fbb2-452c-fff5-935ed39b02fc"
      },
      "source": [
        "song_data_with_genre_df.info()"
      ],
      "execution_count": 45,
      "outputs": [
        {
          "output_type": "stream",
          "text": [
            "<class 'pandas.core.frame.DataFrame'>\n",
            "Int64Index: 177304 entries, 2 to 999983\n",
            "Data columns (total 16 columns):\n",
            " #   Column              Non-Null Count   Dtype  \n",
            "---  ------              --------------   -----  \n",
            " 0   song_id             177304 non-null  string \n",
            " 1   title               177304 non-null  string \n",
            " 2   release             177304 non-null  string \n",
            " 3   artist_name         177304 non-null  string \n",
            " 4   year                177304 non-null  int64  \n",
            " 5   track_id            177304 non-null  string \n",
            " 6   artist_id           177304 non-null  string \n",
            " 7   duration            177304 non-null  float64\n",
            " 8   artist_familiarity  177304 non-null  float64\n",
            " 9   artist_hotttnesss   177304 non-null  float64\n",
            " 10  lat                 177304 non-null  float64\n",
            " 11  long                177304 non-null  float64\n",
            " 12  location            177293 non-null  string \n",
            " 13  country_code        177216 non-null  string \n",
            " 14  country_name        177216 non-null  string \n",
            " 15  genre               177304 non-null  string \n",
            "dtypes: float64(5), int64(1), string(10)\n",
            "memory usage: 23.0 MB\n"
          ],
          "name": "stdout"
        }
      ]
    },
    {
      "cell_type": "markdown",
      "metadata": {
        "id": "YM7ZE-2iULXD"
      },
      "source": [
        "### Save the copy of the dataset in a pickle file"
      ]
    },
    {
      "cell_type": "code",
      "metadata": {
        "colab": {
          "base_uri": "https://localhost:8080/"
        },
        "id": "YiBsly7mXmTZ",
        "outputId": "e5bc138e-b7c0-48e3-ce69-e8a33cf146f8"
      },
      "source": [
        "len(song_data_with_genre_df)"
      ],
      "execution_count": 48,
      "outputs": [
        {
          "output_type": "execute_result",
          "data": {
            "text/plain": [
              "177304"
            ]
          },
          "metadata": {
            "tags": []
          },
          "execution_count": 48
        }
      ]
    },
    {
      "cell_type": "code",
      "metadata": {
        "id": "DP0LJnW2UKeX"
      },
      "source": [
        "song_data_with_genre_df.to_pickle(r'/content/drive/My Drive/song_data_cleaned_records.pkl')"
      ],
      "execution_count": 46,
      "outputs": []
    },
    {
      "cell_type": "markdown",
      "metadata": {
        "id": "jQinIIX1U1pu"
      },
      "source": [
        "## Add lyrics BoW to songs dataset"
      ]
    },
    {
      "cell_type": "markdown",
      "metadata": {
        "id": "GMx9GrtonT9r"
      },
      "source": [
        "READ Bags of words, extracting them from the train dataset"
      ]
    },
    {
      "cell_type": "code",
      "metadata": {
        "id": "RHaAEjzMmTr5"
      },
      "source": [
        "#import file\n",
        "lyrics = pd.read_table(r'/content/drive/My Drive/mxm_dataset_train.txt', error_bad_lines=False)\n",
        "\n",
        "#change name of the column\n",
        "lyrics.columns = ['Raw_Training']\n",
        "\n",
        "# take the bag of word to use it later\n",
        "words_train = lyrics.iloc[16]\n",
        "\n",
        "#drop useless rows\n",
        "lyrics=lyrics[17:].copy()\n",
        "\n",
        "# get TrackID, MxMID and lyrics and put them separated columns\n",
        "def sortdata(x):\n",
        "    splitted = x['Raw_Training'].split(',')\n",
        "    x['Tid']=splitted[0]\n",
        "    #x['MXM_Tid']=splitted[1]\n",
        "    x['words_freq']=splitted[2:]\n",
        "    return x\n",
        "\n",
        "#Apply the function to every column\n",
        "lyrics = lyrics.apply(sortdata,axis=1)\n",
        "lyrics = lyrics[['Tid','words_freq']]"
      ],
      "execution_count": 47,
      "outputs": []
    },
    {
      "cell_type": "code",
      "metadata": {
        "id": "LP8Jx69QnYXG",
        "colab": {
          "base_uri": "https://localhost:8080/",
          "height": 419
        },
        "outputId": "813a9bc0-bb25-4a4b-ef12-ec60ff933459"
      },
      "source": [
        "lyrics"
      ],
      "execution_count": 49,
      "outputs": [
        {
          "output_type": "execute_result",
          "data": {
            "text/html": [
              "<div>\n",
              "<style scoped>\n",
              "    .dataframe tbody tr th:only-of-type {\n",
              "        vertical-align: middle;\n",
              "    }\n",
              "\n",
              "    .dataframe tbody tr th {\n",
              "        vertical-align: top;\n",
              "    }\n",
              "\n",
              "    .dataframe thead th {\n",
              "        text-align: right;\n",
              "    }\n",
              "</style>\n",
              "<table border=\"1\" class=\"dataframe\">\n",
              "  <thead>\n",
              "    <tr style=\"text-align: right;\">\n",
              "      <th></th>\n",
              "      <th>Tid</th>\n",
              "      <th>words_freq</th>\n",
              "    </tr>\n",
              "  </thead>\n",
              "  <tbody>\n",
              "    <tr>\n",
              "      <th>17</th>\n",
              "      <td>TRAAAAV128F421A322</td>\n",
              "      <td>[1:6, 2:4, 3:2, 4:2, 5:5, 6:3, 7:1, 8:1, 11:1,...</td>\n",
              "    </tr>\n",
              "    <tr>\n",
              "      <th>18</th>\n",
              "      <td>TRAAABD128F429CF47</td>\n",
              "      <td>[1:10, 3:17, 4:8, 5:2, 6:2, 7:1, 8:3, 9:2, 10:...</td>\n",
              "    </tr>\n",
              "    <tr>\n",
              "      <th>19</th>\n",
              "      <td>TRAAAED128E0783FAB</td>\n",
              "      <td>[1:28, 2:15, 3:2, 4:12, 5:22, 6:2, 7:2, 8:4, 9...</td>\n",
              "    </tr>\n",
              "    <tr>\n",
              "      <th>20</th>\n",
              "      <td>TRAAAEF128F4273421</td>\n",
              "      <td>[1:5, 2:4, 3:3, 4:2, 5:1, 6:11, 9:4, 12:9, 13:...</td>\n",
              "    </tr>\n",
              "    <tr>\n",
              "      <th>21</th>\n",
              "      <td>TRAAAEW128F42930C0</td>\n",
              "      <td>[1:4, 4:5, 5:7, 6:2, 7:4, 9:1, 10:1, 11:9, 15:...</td>\n",
              "    </tr>\n",
              "    <tr>\n",
              "      <th>...</th>\n",
              "      <td>...</td>\n",
              "      <td>...</td>\n",
              "    </tr>\n",
              "    <tr>\n",
              "      <th>210531</th>\n",
              "      <td>TRZZZWS128F429CF87</td>\n",
              "      <td>[6:1, 24:9, 38:7, 42:1, 77:4, 90:1, 112:5, 114...</td>\n",
              "    </tr>\n",
              "    <tr>\n",
              "      <th>210532</th>\n",
              "      <td>TRZZZXA128F428ED56</td>\n",
              "      <td>[1:1, 2:13, 3:6, 4:5, 5:4, 6:6, 9:4, 10:4, 12:...</td>\n",
              "    </tr>\n",
              "    <tr>\n",
              "      <th>210533</th>\n",
              "      <td>TRZZZXV128F4289747</td>\n",
              "      <td>[1:13, 2:3, 3:17, 4:5, 5:9, 7:8, 8:2, 9:1, 11:...</td>\n",
              "    </tr>\n",
              "    <tr>\n",
              "      <th>210534</th>\n",
              "      <td>TRZZZYV128F92E996D</td>\n",
              "      <td>[1:10, 2:6, 3:20, 5:2, 7:30, 8:1, 9:6, 10:3, 1...</td>\n",
              "    </tr>\n",
              "    <tr>\n",
              "      <th>210535</th>\n",
              "      <td>TRZZZYX128F92D32C6</td>\n",
              "      <td>[1:4, 2:18, 4:3, 5:6, 6:9, 7:1, 8:5, 9:1, 10:1...</td>\n",
              "    </tr>\n",
              "  </tbody>\n",
              "</table>\n",
              "<p>210519 rows × 2 columns</p>\n",
              "</div>"
            ],
            "text/plain": [
              "                       Tid                                         words_freq\n",
              "17      TRAAAAV128F421A322  [1:6, 2:4, 3:2, 4:2, 5:5, 6:3, 7:1, 8:1, 11:1,...\n",
              "18      TRAAABD128F429CF47  [1:10, 3:17, 4:8, 5:2, 6:2, 7:1, 8:3, 9:2, 10:...\n",
              "19      TRAAAED128E0783FAB  [1:28, 2:15, 3:2, 4:12, 5:22, 6:2, 7:2, 8:4, 9...\n",
              "20      TRAAAEF128F4273421  [1:5, 2:4, 3:3, 4:2, 5:1, 6:11, 9:4, 12:9, 13:...\n",
              "21      TRAAAEW128F42930C0  [1:4, 4:5, 5:7, 6:2, 7:4, 9:1, 10:1, 11:9, 15:...\n",
              "...                    ...                                                ...\n",
              "210531  TRZZZWS128F429CF87  [6:1, 24:9, 38:7, 42:1, 77:4, 90:1, 112:5, 114...\n",
              "210532  TRZZZXA128F428ED56  [1:1, 2:13, 3:6, 4:5, 5:4, 6:6, 9:4, 10:4, 12:...\n",
              "210533  TRZZZXV128F4289747  [1:13, 2:3, 3:17, 4:5, 5:9, 7:8, 8:2, 9:1, 11:...\n",
              "210534  TRZZZYV128F92E996D  [1:10, 2:6, 3:20, 5:2, 7:30, 8:1, 9:6, 10:3, 1...\n",
              "210535  TRZZZYX128F92D32C6  [1:4, 2:18, 4:3, 5:6, 6:9, 7:1, 8:5, 9:1, 10:1...\n",
              "\n",
              "[210519 rows x 2 columns]"
            ]
          },
          "metadata": {
            "tags": []
          },
          "execution_count": 49
        }
      ]
    },
    {
      "cell_type": "code",
      "metadata": {
        "colab": {
          "base_uri": "https://localhost:8080/"
        },
        "id": "yiOoCZTAYBYi",
        "outputId": "69d94a5f-0742-4ed7-ea2b-6c0f44592aa6"
      },
      "source": [
        "len(lyrics['Tid'].unique())"
      ],
      "execution_count": 50,
      "outputs": [
        {
          "output_type": "execute_result",
          "data": {
            "text/plain": [
              "210519"
            ]
          },
          "metadata": {
            "tags": []
          },
          "execution_count": 50
        }
      ]
    },
    {
      "cell_type": "markdown",
      "metadata": {
        "id": "rINbj-zDYSHy"
      },
      "source": [
        "#### There are no duplicate records in lyrics dataset"
      ]
    },
    {
      "cell_type": "code",
      "metadata": {
        "id": "yOBCT3rNYOvb"
      },
      "source": [
        "song_data_with_bow_df =pd.merge(song_data_with_genre_df,lyrics,left_on='track_id', right_on='Tid',how='left')"
      ],
      "execution_count": 51,
      "outputs": []
    },
    {
      "cell_type": "code",
      "metadata": {
        "colab": {
          "base_uri": "https://localhost:8080/",
          "height": 813
        },
        "id": "SxmKP4u5Y5H9",
        "outputId": "91fd4095-d700-4bd4-bc5d-ab5dfac72661"
      },
      "source": [
        "song_data_with_bow_df"
      ],
      "execution_count": 52,
      "outputs": [
        {
          "output_type": "execute_result",
          "data": {
            "text/html": [
              "<div>\n",
              "<style scoped>\n",
              "    .dataframe tbody tr th:only-of-type {\n",
              "        vertical-align: middle;\n",
              "    }\n",
              "\n",
              "    .dataframe tbody tr th {\n",
              "        vertical-align: top;\n",
              "    }\n",
              "\n",
              "    .dataframe thead th {\n",
              "        text-align: right;\n",
              "    }\n",
              "</style>\n",
              "<table border=\"1\" class=\"dataframe\">\n",
              "  <thead>\n",
              "    <tr style=\"text-align: right;\">\n",
              "      <th></th>\n",
              "      <th>song_id</th>\n",
              "      <th>title</th>\n",
              "      <th>release</th>\n",
              "      <th>artist_name</th>\n",
              "      <th>year</th>\n",
              "      <th>track_id</th>\n",
              "      <th>artist_id</th>\n",
              "      <th>duration</th>\n",
              "      <th>artist_familiarity</th>\n",
              "      <th>artist_hotttnesss</th>\n",
              "      <th>lat</th>\n",
              "      <th>long</th>\n",
              "      <th>location</th>\n",
              "      <th>country_code</th>\n",
              "      <th>country_name</th>\n",
              "      <th>genre</th>\n",
              "      <th>Tid</th>\n",
              "      <th>words_freq</th>\n",
              "    </tr>\n",
              "  </thead>\n",
              "  <tbody>\n",
              "    <tr>\n",
              "      <th>0</th>\n",
              "      <td>SOGTUKN12AB017F4F1</td>\n",
              "      <td>No One Could Ever</td>\n",
              "      <td>Butter</td>\n",
              "      <td>Hudson Mohawke</td>\n",
              "      <td>2006</td>\n",
              "      <td>TRMMMRX128F93187D9</td>\n",
              "      <td>ARGEKB01187FB50750</td>\n",
              "      <td>138.97</td>\n",
              "      <td>0.64</td>\n",
              "      <td>0.44</td>\n",
              "      <td>55.86</td>\n",
              "      <td>-4.24</td>\n",
              "      <td>Glasgow, Scotland</td>\n",
              "      <td>gb</td>\n",
              "      <td>United Kingdom</td>\n",
              "      <td>Electronic</td>\n",
              "      <td>NaN</td>\n",
              "      <td>NaN</td>\n",
              "    </tr>\n",
              "    <tr>\n",
              "      <th>1</th>\n",
              "      <td>SOEYRFT12AB018936C</td>\n",
              "      <td>2 Da Beat Ch'yall</td>\n",
              "      <td>Da Bomb</td>\n",
              "      <td>Kris Kross</td>\n",
              "      <td>1993</td>\n",
              "      <td>TRMMMBB12903CB7D21</td>\n",
              "      <td>AR3Z9WY1187FB4CDC2</td>\n",
              "      <td>221.20</td>\n",
              "      <td>0.59</td>\n",
              "      <td>0.40</td>\n",
              "      <td>38.90</td>\n",
              "      <td>-77.03</td>\n",
              "      <td>Washington DC</td>\n",
              "      <td>us</td>\n",
              "      <td>United States</td>\n",
              "      <td>Rap</td>\n",
              "      <td>NaN</td>\n",
              "      <td>NaN</td>\n",
              "    </tr>\n",
              "    <tr>\n",
              "      <th>2</th>\n",
              "      <td>SOBARPM12A8C133DFF</td>\n",
              "      <td>(Looking For) The Heart Of Saturday</td>\n",
              "      <td>Cover Girl</td>\n",
              "      <td>Shawn Colvin</td>\n",
              "      <td>1994</td>\n",
              "      <td>TRMMMUT128F42646E8</td>\n",
              "      <td>ARDW5AW1187FB55708</td>\n",
              "      <td>216.48</td>\n",
              "      <td>0.69</td>\n",
              "      <td>0.45</td>\n",
              "      <td>42.79</td>\n",
              "      <td>-96.93</td>\n",
              "      <td>Vermillion, SD</td>\n",
              "      <td>us</td>\n",
              "      <td>United States</td>\n",
              "      <td>Pop_Rock</td>\n",
              "      <td>TRMMMUT128F42646E8</td>\n",
              "      <td>[2:36, 3:25, 4:2, 5:8, 6:2, 7:1, 8:6, 10:8, 12...</td>\n",
              "    </tr>\n",
              "    <tr>\n",
              "      <th>3</th>\n",
              "      <td>SOKOVRQ12A8C142811</td>\n",
              "      <td>Ethos of Coercion</td>\n",
              "      <td>Descend Into Depravity</td>\n",
              "      <td>Dying Fetus</td>\n",
              "      <td>2009</td>\n",
              "      <td>TRMMMQY128F92F0EA3</td>\n",
              "      <td>ARGWPP11187B9AEF43</td>\n",
              "      <td>196.02</td>\n",
              "      <td>0.73</td>\n",
              "      <td>0.51</td>\n",
              "      <td>38.82</td>\n",
              "      <td>-75.92</td>\n",
              "      <td>Maryland</td>\n",
              "      <td>us</td>\n",
              "      <td>United States</td>\n",
              "      <td>Pop_Rock</td>\n",
              "      <td>NaN</td>\n",
              "      <td>NaN</td>\n",
              "    </tr>\n",
              "    <tr>\n",
              "      <th>4</th>\n",
              "      <td>SOYNOIK12A6D4F7F3F</td>\n",
              "      <td>All For A Purpose (Speak Life Album Version)</td>\n",
              "      <td>Speak Life</td>\n",
              "      <td>Sev Statik</td>\n",
              "      <td>0</td>\n",
              "      <td>TRMMMWA128F1462C8C</td>\n",
              "      <td>ARPMCDB1187FB4B5D2</td>\n",
              "      <td>236.04</td>\n",
              "      <td>0.50</td>\n",
              "      <td>0.34</td>\n",
              "      <td>40.71</td>\n",
              "      <td>-74.01</td>\n",
              "      <td>New York</td>\n",
              "      <td>us</td>\n",
              "      <td>United States</td>\n",
              "      <td>Rap</td>\n",
              "      <td>NaN</td>\n",
              "      <td>NaN</td>\n",
              "    </tr>\n",
              "    <tr>\n",
              "      <th>...</th>\n",
              "      <td>...</td>\n",
              "      <td>...</td>\n",
              "      <td>...</td>\n",
              "      <td>...</td>\n",
              "      <td>...</td>\n",
              "      <td>...</td>\n",
              "      <td>...</td>\n",
              "      <td>...</td>\n",
              "      <td>...</td>\n",
              "      <td>...</td>\n",
              "      <td>...</td>\n",
              "      <td>...</td>\n",
              "      <td>...</td>\n",
              "      <td>...</td>\n",
              "      <td>...</td>\n",
              "      <td>...</td>\n",
              "      <td>...</td>\n",
              "      <td>...</td>\n",
              "    </tr>\n",
              "    <tr>\n",
              "      <th>177299</th>\n",
              "      <td>SOXAXCJ12AB017F02A</td>\n",
              "      <td>Gaze</td>\n",
              "      <td>When You Feel the Love</td>\n",
              "      <td>Rodney Jones</td>\n",
              "      <td>0</td>\n",
              "      <td>TRYYYJB128F930A811</td>\n",
              "      <td>ARU20IJ1187B9901D9</td>\n",
              "      <td>364.25</td>\n",
              "      <td>0.48</td>\n",
              "      <td>0.34</td>\n",
              "      <td>41.31</td>\n",
              "      <td>-72.92</td>\n",
              "      <td>New Haven, CT</td>\n",
              "      <td>us</td>\n",
              "      <td>United States</td>\n",
              "      <td>Jazz</td>\n",
              "      <td>NaN</td>\n",
              "      <td>NaN</td>\n",
              "    </tr>\n",
              "    <tr>\n",
              "      <th>177300</th>\n",
              "      <td>SOMOWRE12A81C2348C</td>\n",
              "      <td>Are You Ready? (Album Version)</td>\n",
              "      <td>Now I See</td>\n",
              "      <td>Tata Vega</td>\n",
              "      <td>0</td>\n",
              "      <td>TRYYYWY128F4238934</td>\n",
              "      <td>AR1TQH71187B994258</td>\n",
              "      <td>181.58</td>\n",
              "      <td>0.52</td>\n",
              "      <td>0.31</td>\n",
              "      <td>40.70</td>\n",
              "      <td>-73.83</td>\n",
              "      <td>Queens, NY</td>\n",
              "      <td>us</td>\n",
              "      <td>United States</td>\n",
              "      <td>RnB</td>\n",
              "      <td>NaN</td>\n",
              "      <td>NaN</td>\n",
              "    </tr>\n",
              "    <tr>\n",
              "      <th>177301</th>\n",
              "      <td>SOALVIX12AB01885A1</td>\n",
              "      <td>Major Pain &amp; Mr. Bossalini (Feat. Spice 1)</td>\n",
              "      <td>Til My Casket Drops</td>\n",
              "      <td>C-Bo</td>\n",
              "      <td>0</td>\n",
              "      <td>TRYYYST128F93223E1</td>\n",
              "      <td>ARI08MT1187FB57312</td>\n",
              "      <td>270.37</td>\n",
              "      <td>0.61</td>\n",
              "      <td>0.45</td>\n",
              "      <td>37.27</td>\n",
              "      <td>-119.27</td>\n",
              "      <td>California</td>\n",
              "      <td>us</td>\n",
              "      <td>United States</td>\n",
              "      <td>Rap</td>\n",
              "      <td>TRYYYST128F93223E1</td>\n",
              "      <td>[1:23, 2:19, 3:5, 4:11, 6:13, 7:8, 8:5, 9:6, 1...</td>\n",
              "    </tr>\n",
              "    <tr>\n",
              "      <th>177302</th>\n",
              "      <td>SOJYTFC12A6D4FD812</td>\n",
              "      <td>Deliverance</td>\n",
              "      <td>Rock Love</td>\n",
              "      <td>Steve Miller Band</td>\n",
              "      <td>1971</td>\n",
              "      <td>TRYYYJZ128F424BFA1</td>\n",
              "      <td>ARNLVQB1187B9AEAB0</td>\n",
              "      <td>561.19</td>\n",
              "      <td>0.77</td>\n",
              "      <td>0.55</td>\n",
              "      <td>36.61</td>\n",
              "      <td>-86.44</td>\n",
              "      <td>Swingtown</td>\n",
              "      <td>us</td>\n",
              "      <td>United States</td>\n",
              "      <td>Pop_Rock</td>\n",
              "      <td>NaN</td>\n",
              "      <td>NaN</td>\n",
              "    </tr>\n",
              "    <tr>\n",
              "      <th>177303</th>\n",
              "      <td>SOVPZKZ12AB01845DE</td>\n",
              "      <td>A Love Of Home</td>\n",
              "      <td>Laughter At Dawn</td>\n",
              "      <td>Jim Chappell</td>\n",
              "      <td>0</td>\n",
              "      <td>TRYYYUP128F933063B</td>\n",
              "      <td>ARWGIOC1187FB4CBEF</td>\n",
              "      <td>231.97</td>\n",
              "      <td>0.52</td>\n",
              "      <td>0.36</td>\n",
              "      <td>37.17</td>\n",
              "      <td>-95.85</td>\n",
              "      <td>United States</td>\n",
              "      <td>us</td>\n",
              "      <td>United States</td>\n",
              "      <td>New Age</td>\n",
              "      <td>NaN</td>\n",
              "      <td>NaN</td>\n",
              "    </tr>\n",
              "  </tbody>\n",
              "</table>\n",
              "<p>177304 rows × 18 columns</p>\n",
              "</div>"
            ],
            "text/plain": [
              "                   song_id  ...                                         words_freq\n",
              "0       SOGTUKN12AB017F4F1  ...                                                NaN\n",
              "1       SOEYRFT12AB018936C  ...                                                NaN\n",
              "2       SOBARPM12A8C133DFF  ...  [2:36, 3:25, 4:2, 5:8, 6:2, 7:1, 8:6, 10:8, 12...\n",
              "3       SOKOVRQ12A8C142811  ...                                                NaN\n",
              "4       SOYNOIK12A6D4F7F3F  ...                                                NaN\n",
              "...                    ...  ...                                                ...\n",
              "177299  SOXAXCJ12AB017F02A  ...                                                NaN\n",
              "177300  SOMOWRE12A81C2348C  ...                                                NaN\n",
              "177301  SOALVIX12AB01885A1  ...  [1:23, 2:19, 3:5, 4:11, 6:13, 7:8, 8:5, 9:6, 1...\n",
              "177302  SOJYTFC12A6D4FD812  ...                                                NaN\n",
              "177303  SOVPZKZ12AB01845DE  ...                                                NaN\n",
              "\n",
              "[177304 rows x 18 columns]"
            ]
          },
          "metadata": {
            "tags": []
          },
          "execution_count": 52
        }
      ]
    },
    {
      "cell_type": "code",
      "metadata": {
        "id": "iZFc-TMrY6-S"
      },
      "source": [
        "song_data_with_bow_clean_df = song_data_with_bow_df[song_data_with_bow_df['Tid'].notna()]"
      ],
      "execution_count": 54,
      "outputs": []
    },
    {
      "cell_type": "code",
      "metadata": {
        "id": "1ncU-oKYZgWR"
      },
      "source": [
        "song_data_with_bow_clean_df.drop(columns=['Tid'],inplace=True)"
      ],
      "execution_count": 58,
      "outputs": []
    },
    {
      "cell_type": "code",
      "metadata": {
        "colab": {
          "base_uri": "https://localhost:8080/",
          "height": 547
        },
        "id": "oH_4voFjZVm3",
        "outputId": "173592c6-5a9b-4be8-9fe8-d61b92d3a112"
      },
      "source": [
        "song_data_with_bow_clean_df.head(5)"
      ],
      "execution_count": 59,
      "outputs": [
        {
          "output_type": "execute_result",
          "data": {
            "text/html": [
              "<div>\n",
              "<style scoped>\n",
              "    .dataframe tbody tr th:only-of-type {\n",
              "        vertical-align: middle;\n",
              "    }\n",
              "\n",
              "    .dataframe tbody tr th {\n",
              "        vertical-align: top;\n",
              "    }\n",
              "\n",
              "    .dataframe thead th {\n",
              "        text-align: right;\n",
              "    }\n",
              "</style>\n",
              "<table border=\"1\" class=\"dataframe\">\n",
              "  <thead>\n",
              "    <tr style=\"text-align: right;\">\n",
              "      <th></th>\n",
              "      <th>song_id</th>\n",
              "      <th>title</th>\n",
              "      <th>release</th>\n",
              "      <th>artist_name</th>\n",
              "      <th>year</th>\n",
              "      <th>track_id</th>\n",
              "      <th>artist_id</th>\n",
              "      <th>duration</th>\n",
              "      <th>artist_familiarity</th>\n",
              "      <th>artist_hotttnesss</th>\n",
              "      <th>lat</th>\n",
              "      <th>long</th>\n",
              "      <th>location</th>\n",
              "      <th>country_code</th>\n",
              "      <th>country_name</th>\n",
              "      <th>genre</th>\n",
              "      <th>words_freq</th>\n",
              "    </tr>\n",
              "  </thead>\n",
              "  <tbody>\n",
              "    <tr>\n",
              "      <th>2</th>\n",
              "      <td>SOBARPM12A8C133DFF</td>\n",
              "      <td>(Looking For) The Heart Of Saturday</td>\n",
              "      <td>Cover Girl</td>\n",
              "      <td>Shawn Colvin</td>\n",
              "      <td>1994</td>\n",
              "      <td>TRMMMUT128F42646E8</td>\n",
              "      <td>ARDW5AW1187FB55708</td>\n",
              "      <td>216.48</td>\n",
              "      <td>0.69</td>\n",
              "      <td>0.45</td>\n",
              "      <td>42.79</td>\n",
              "      <td>-96.93</td>\n",
              "      <td>Vermillion, SD</td>\n",
              "      <td>us</td>\n",
              "      <td>United States</td>\n",
              "      <td>Pop_Rock</td>\n",
              "      <td>[2:36, 3:25, 4:2, 5:8, 6:2, 7:1, 8:6, 10:8, 12...</td>\n",
              "    </tr>\n",
              "    <tr>\n",
              "      <th>5</th>\n",
              "      <td>SOOLRHW12A8C142643</td>\n",
              "      <td>All of the same blood</td>\n",
              "      <td>Violent revolution</td>\n",
              "      <td>Kreator</td>\n",
              "      <td>2001</td>\n",
              "      <td>TRMMMKQ128F92EBCB5</td>\n",
              "      <td>AR79L0D1187FB3AFB6</td>\n",
              "      <td>372.43</td>\n",
              "      <td>0.74</td>\n",
              "      <td>0.47</td>\n",
              "      <td>51.45</td>\n",
              "      <td>7.01</td>\n",
              "      <td>Essen</td>\n",
              "      <td>de</td>\n",
              "      <td>Germany</td>\n",
              "      <td>Pop_Rock</td>\n",
              "      <td>[2:12, 3:2, 4:3, 5:4, 10:2, 12:1, 13:9, 15:2, ...</td>\n",
              "    </tr>\n",
              "    <tr>\n",
              "      <th>12</th>\n",
              "      <td>SOVOIOQ12AC4688FAC</td>\n",
              "      <td>The Rest of the Night</td>\n",
              "      <td>The Wind</td>\n",
              "      <td>Warren Zevon</td>\n",
              "      <td>2003</td>\n",
              "      <td>TRMMWNY12903CF28D2</td>\n",
              "      <td>ARUQFUJ1187FB42AEC</td>\n",
              "      <td>279.30</td>\n",
              "      <td>0.69</td>\n",
              "      <td>0.47</td>\n",
              "      <td>41.88</td>\n",
              "      <td>-87.63</td>\n",
              "      <td>Chicago, IL</td>\n",
              "      <td>us</td>\n",
              "      <td>United States</td>\n",
              "      <td>Pop_Rock</td>\n",
              "      <td>[1:1, 2:31, 3:2, 4:1, 5:2, 6:1, 7:4, 8:2, 10:1...</td>\n",
              "    </tr>\n",
              "    <tr>\n",
              "      <th>17</th>\n",
              "      <td>SOGXPYA12A58A769A7</td>\n",
              "      <td>Rock Can't Last Forever  (You Hate Me Hate Mus...</td>\n",
              "      <td>You Make Me Hate Music</td>\n",
              "      <td>Fine China</td>\n",
              "      <td>2002</td>\n",
              "      <td>TRMMGDQ128F4277AE7</td>\n",
              "      <td>AR6KJQA1187FB3EF30</td>\n",
              "      <td>295.94</td>\n",
              "      <td>0.49</td>\n",
              "      <td>0.36</td>\n",
              "      <td>33.45</td>\n",
              "      <td>-112.08</td>\n",
              "      <td>Phoenix, Arizona</td>\n",
              "      <td>us</td>\n",
              "      <td>United States</td>\n",
              "      <td>Pop_Rock</td>\n",
              "      <td>[1:5, 2:1, 3:4, 4:5, 5:6, 6:3, 7:2, 8:3, 9:3, ...</td>\n",
              "    </tr>\n",
              "    <tr>\n",
              "      <th>32</th>\n",
              "      <td>SOWSOVJ12A8C13A8C1</td>\n",
              "      <td>Zuviel Hitze</td>\n",
              "      <td>Einzelhaft</td>\n",
              "      <td>Falco</td>\n",
              "      <td>1982</td>\n",
              "      <td>TRMMHVN128F428E67E</td>\n",
              "      <td>AR5DXUU1187B9B0E42</td>\n",
              "      <td>274.02</td>\n",
              "      <td>0.67</td>\n",
              "      <td>0.46</td>\n",
              "      <td>48.20</td>\n",
              "      <td>16.37</td>\n",
              "      <td>Vienna, Austria</td>\n",
              "      <td>at</td>\n",
              "      <td>Austria</td>\n",
              "      <td>Pop_Rock</td>\n",
              "      <td>[3:1, 10:5, 14:1, 20:1, 28:2, 32:1, 33:1, 73:1...</td>\n",
              "    </tr>\n",
              "  </tbody>\n",
              "</table>\n",
              "</div>"
            ],
            "text/plain": [
              "               song_id  ...                                         words_freq\n",
              "2   SOBARPM12A8C133DFF  ...  [2:36, 3:25, 4:2, 5:8, 6:2, 7:1, 8:6, 10:8, 12...\n",
              "5   SOOLRHW12A8C142643  ...  [2:12, 3:2, 4:3, 5:4, 10:2, 12:1, 13:9, 15:2, ...\n",
              "12  SOVOIOQ12AC4688FAC  ...  [1:1, 2:31, 3:2, 4:1, 5:2, 6:1, 7:4, 8:2, 10:1...\n",
              "17  SOGXPYA12A58A769A7  ...  [1:5, 2:1, 3:4, 4:5, 5:6, 6:3, 7:2, 8:3, 9:3, ...\n",
              "32  SOWSOVJ12A8C13A8C1  ...  [3:1, 10:5, 14:1, 20:1, 28:2, 32:1, 33:1, 73:1...\n",
              "\n",
              "[5 rows x 17 columns]"
            ]
          },
          "metadata": {
            "tags": []
          },
          "execution_count": 59
        }
      ]
    },
    {
      "cell_type": "markdown",
      "metadata": {
        "id": "sYnDvwkCbXPa"
      },
      "source": [
        "###From generic bags of words to lyrics"
      ]
    },
    {
      "cell_type": "code",
      "metadata": {
        "colab": {
          "base_uri": "https://localhost:8080/",
          "height": 51
        },
        "id": "gR_SgFvAZ3oz",
        "outputId": "0a72c5e8-d79e-484e-c121-77e406852e4e"
      },
      "source": [
        "#get the word data\n",
        "bag_of_words = words_train\n",
        "# clean the data and split it to create a list of 5000 words\n",
        "bag_of_words = bag_of_words.str.replace('%','')\n",
        "bag_of_words = bag_of_words.str.split(',')\n",
        "\n",
        "display(bag_of_words.head())\n"
      ],
      "execution_count": 60,
      "outputs": [
        {
          "output_type": "display_data",
          "data": {
            "text/plain": [
              "Raw_Training    [i, the, you, to, and, a, me, it, not, in, my,...\n",
              "Name: 16, dtype: object"
            ]
          },
          "metadata": {
            "tags": []
          }
        }
      ]
    },
    {
      "cell_type": "code",
      "metadata": {
        "id": "8y-lZRYObgMl"
      },
      "source": [
        "#Defining a function\n",
        "def create_text(words_freq):\n",
        "    #create the final list of all words\n",
        "    list_words=''\n",
        "    #iterate over every id of words\n",
        "    for compteur in words_freq:\n",
        "        \n",
        "        word = bag_of_words[0][int(compteur.split(':')[0])-1]\n",
        "        times = int(compteur.split(':')[1])\n",
        "        \n",
        "        #Separating every word with a space to be able to work on it with librairies during part 2\n",
        "        for i in range(times):\n",
        "            list_words += ' ' + word + ' '\n",
        "    return list_words"
      ],
      "execution_count": 61,
      "outputs": []
    },
    {
      "cell_type": "code",
      "metadata": {
        "colab": {
          "base_uri": "https://localhost:8080/"
        },
        "id": "9v9M7Wy_blBM",
        "outputId": "29f94d79-6a2b-4d5d-ad85-59c152bcff9b"
      },
      "source": [
        "print(create_text(lyrics.iloc[0]['words_freq']))"
      ],
      "execution_count": 62,
      "outputs": [
        {
          "output_type": "stream",
          "text": [
            " i  i  i  i  i  i  the  the  the  the  you  you  to  to  and  and  and  and  and  a  a  a  me  it  my  is  is  of  of  of  your  that  are  are  we  we  am  am  will  will  for  for  for  for  be  have  have  so  this  like  like  de  up  was  was  if  got  would  been  these  these  seem  someon  understand  pass  river  met  piec  damn  worth  flesh  grace  poor  poor  somehow  ignor  passion  tide  season  seed  resist  order  order  piti  fashion  grant  captur  captur  ici  soil  patienc  social  social  highest  highest  slice  leaf  lifeless  arrang  wilder  shark  devast  element \n"
          ],
          "name": "stdout"
        }
      ]
    },
    {
      "cell_type": "code",
      "metadata": {
        "id": "f4EBg0VIboRS"
      },
      "source": [
        "song_data_with_bow_clean_df['lyrics_text'] = song_data_with_bow_clean_df['words_freq'].apply(create_text)"
      ],
      "execution_count": 63,
      "outputs": []
    },
    {
      "cell_type": "code",
      "metadata": {
        "id": "xfTbQj_5cc7r"
      },
      "source": [
        "song_data_with_bow_clean_df.drop(columns=['words_freq'],inplace=True)"
      ],
      "execution_count": 65,
      "outputs": []
    },
    {
      "cell_type": "code",
      "metadata": {
        "colab": {
          "base_uri": "https://localhost:8080/",
          "height": 496
        },
        "id": "wfepDG-Wc5ZG",
        "outputId": "7136d3ee-246b-45aa-e0a5-9bc33bcecb5f"
      },
      "source": [
        "song_data_with_bow_clean_df.head()"
      ],
      "execution_count": 69,
      "outputs": [
        {
          "output_type": "execute_result",
          "data": {
            "text/html": [
              "<div>\n",
              "<style scoped>\n",
              "    .dataframe tbody tr th:only-of-type {\n",
              "        vertical-align: middle;\n",
              "    }\n",
              "\n",
              "    .dataframe tbody tr th {\n",
              "        vertical-align: top;\n",
              "    }\n",
              "\n",
              "    .dataframe thead th {\n",
              "        text-align: right;\n",
              "    }\n",
              "</style>\n",
              "<table border=\"1\" class=\"dataframe\">\n",
              "  <thead>\n",
              "    <tr style=\"text-align: right;\">\n",
              "      <th></th>\n",
              "      <th>song_id</th>\n",
              "      <th>title</th>\n",
              "      <th>release</th>\n",
              "      <th>artist_name</th>\n",
              "      <th>year</th>\n",
              "      <th>track_id</th>\n",
              "      <th>artist_id</th>\n",
              "      <th>duration</th>\n",
              "      <th>artist_familiarity</th>\n",
              "      <th>artist_hotttnesss</th>\n",
              "      <th>lat</th>\n",
              "      <th>long</th>\n",
              "      <th>location</th>\n",
              "      <th>country_code</th>\n",
              "      <th>country_name</th>\n",
              "      <th>genre</th>\n",
              "      <th>lyrics_text</th>\n",
              "    </tr>\n",
              "  </thead>\n",
              "  <tbody>\n",
              "    <tr>\n",
              "      <th>2</th>\n",
              "      <td>SOBARPM12A8C133DFF</td>\n",
              "      <td>(Looking For) The Heart Of Saturday</td>\n",
              "      <td>Cover Girl</td>\n",
              "      <td>Shawn Colvin</td>\n",
              "      <td>1994</td>\n",
              "      <td>TRMMMUT128F42646E8</td>\n",
              "      <td>ARDW5AW1187FB55708</td>\n",
              "      <td>216.48</td>\n",
              "      <td>0.69</td>\n",
              "      <td>0.45</td>\n",
              "      <td>42.79</td>\n",
              "      <td>-96.93</td>\n",
              "      <td>Vermillion, SD</td>\n",
              "      <td>us</td>\n",
              "      <td>United States</td>\n",
              "      <td>Pop_Rock</td>\n",
              "      <td>the  the  the  the  the  the  the  the  the  ...</td>\n",
              "    </tr>\n",
              "    <tr>\n",
              "      <th>5</th>\n",
              "      <td>SOOLRHW12A8C142643</td>\n",
              "      <td>All of the same blood</td>\n",
              "      <td>Violent revolution</td>\n",
              "      <td>Kreator</td>\n",
              "      <td>2001</td>\n",
              "      <td>TRMMMKQ128F92EBCB5</td>\n",
              "      <td>AR79L0D1187FB3AFB6</td>\n",
              "      <td>372.43</td>\n",
              "      <td>0.74</td>\n",
              "      <td>0.47</td>\n",
              "      <td>51.45</td>\n",
              "      <td>7.01</td>\n",
              "      <td>Essen</td>\n",
              "      <td>de</td>\n",
              "      <td>Germany</td>\n",
              "      <td>Pop_Rock</td>\n",
              "      <td>the  the  the  the  the  the  the  the  the  ...</td>\n",
              "    </tr>\n",
              "    <tr>\n",
              "      <th>12</th>\n",
              "      <td>SOVOIOQ12AC4688FAC</td>\n",
              "      <td>The Rest of the Night</td>\n",
              "      <td>The Wind</td>\n",
              "      <td>Warren Zevon</td>\n",
              "      <td>2003</td>\n",
              "      <td>TRMMWNY12903CF28D2</td>\n",
              "      <td>ARUQFUJ1187FB42AEC</td>\n",
              "      <td>279.30</td>\n",
              "      <td>0.69</td>\n",
              "      <td>0.47</td>\n",
              "      <td>41.88</td>\n",
              "      <td>-87.63</td>\n",
              "      <td>Chicago, IL</td>\n",
              "      <td>us</td>\n",
              "      <td>United States</td>\n",
              "      <td>Pop_Rock</td>\n",
              "      <td>i  the  the  the  the  the  the  the  the  th...</td>\n",
              "    </tr>\n",
              "    <tr>\n",
              "      <th>17</th>\n",
              "      <td>SOGXPYA12A58A769A7</td>\n",
              "      <td>Rock Can't Last Forever  (You Hate Me Hate Mus...</td>\n",
              "      <td>You Make Me Hate Music</td>\n",
              "      <td>Fine China</td>\n",
              "      <td>2002</td>\n",
              "      <td>TRMMGDQ128F4277AE7</td>\n",
              "      <td>AR6KJQA1187FB3EF30</td>\n",
              "      <td>295.94</td>\n",
              "      <td>0.49</td>\n",
              "      <td>0.36</td>\n",
              "      <td>33.45</td>\n",
              "      <td>-112.08</td>\n",
              "      <td>Phoenix, Arizona</td>\n",
              "      <td>us</td>\n",
              "      <td>United States</td>\n",
              "      <td>Pop_Rock</td>\n",
              "      <td>i  i  i  i  i  the  you  you  you  you  to  t...</td>\n",
              "    </tr>\n",
              "    <tr>\n",
              "      <th>32</th>\n",
              "      <td>SOWSOVJ12A8C13A8C1</td>\n",
              "      <td>Zuviel Hitze</td>\n",
              "      <td>Einzelhaft</td>\n",
              "      <td>Falco</td>\n",
              "      <td>1982</td>\n",
              "      <td>TRMMHVN128F428E67E</td>\n",
              "      <td>AR5DXUU1187B9B0E42</td>\n",
              "      <td>274.02</td>\n",
              "      <td>0.67</td>\n",
              "      <td>0.46</td>\n",
              "      <td>48.20</td>\n",
              "      <td>16.37</td>\n",
              "      <td>Vienna, Austria</td>\n",
              "      <td>at</td>\n",
              "      <td>Austria</td>\n",
              "      <td>Pop_Rock</td>\n",
              "      <td>you  in  in  in  in  in  your  am  so  so  wi...</td>\n",
              "    </tr>\n",
              "  </tbody>\n",
              "</table>\n",
              "</div>"
            ],
            "text/plain": [
              "               song_id  ...                                        lyrics_text\n",
              "2   SOBARPM12A8C133DFF  ...   the  the  the  the  the  the  the  the  the  ...\n",
              "5   SOOLRHW12A8C142643  ...   the  the  the  the  the  the  the  the  the  ...\n",
              "12  SOVOIOQ12AC4688FAC  ...   i  the  the  the  the  the  the  the  the  th...\n",
              "17  SOGXPYA12A58A769A7  ...   i  i  i  i  i  the  you  you  you  you  to  t...\n",
              "32  SOWSOVJ12A8C13A8C1  ...   you  in  in  in  in  in  your  am  so  so  wi...\n",
              "\n",
              "[5 rows x 17 columns]"
            ]
          },
          "metadata": {
            "tags": []
          },
          "execution_count": 69
        }
      ]
    },
    {
      "cell_type": "code",
      "metadata": {
        "colab": {
          "base_uri": "https://localhost:8080/"
        },
        "id": "DgJ6MiqOdRDM",
        "outputId": "32d7b775-f1f5-47dc-d2e6-08b2a4ec6fe0"
      },
      "source": [
        "song_data_with_bow_clean_df.isna().sum()"
      ],
      "execution_count": 78,
      "outputs": [
        {
          "output_type": "execute_result",
          "data": {
            "text/plain": [
              "song_id                0\n",
              "title                  0\n",
              "release                0\n",
              "artist_name            0\n",
              "year                   0\n",
              "track_id               0\n",
              "artist_id              0\n",
              "duration               0\n",
              "artist_familiarity     0\n",
              "artist_hotttnesss      0\n",
              "lat                    0\n",
              "long                   0\n",
              "location               0\n",
              "country_code          12\n",
              "country_name          12\n",
              "genre                  0\n",
              "lyrics_text            0\n",
              "dtype: int64"
            ]
          },
          "metadata": {
            "tags": []
          },
          "execution_count": 78
        }
      ]
    },
    {
      "cell_type": "code",
      "metadata": {
        "id": "5H3hj-jddfxv"
      },
      "source": [
        "song_data_with_bow_clean_df = song_data_with_bow_clean_df[song_data_with_bow_clean_df['country_code'].notna()]"
      ],
      "execution_count": 79,
      "outputs": []
    },
    {
      "cell_type": "code",
      "metadata": {
        "colab": {
          "base_uri": "https://localhost:8080/"
        },
        "id": "piObp5jceher",
        "outputId": "b3a28f8e-3298-4b9e-b6bd-b85cf18d5030"
      },
      "source": [
        "song_data_with_bow_clean_df.isna().sum()"
      ],
      "execution_count": 80,
      "outputs": [
        {
          "output_type": "execute_result",
          "data": {
            "text/plain": [
              "song_id               0\n",
              "title                 0\n",
              "release               0\n",
              "artist_name           0\n",
              "year                  0\n",
              "track_id              0\n",
              "artist_id             0\n",
              "duration              0\n",
              "artist_familiarity    0\n",
              "artist_hotttnesss     0\n",
              "lat                   0\n",
              "long                  0\n",
              "location              0\n",
              "country_code          0\n",
              "country_name          0\n",
              "genre                 0\n",
              "lyrics_text           0\n",
              "dtype: int64"
            ]
          },
          "metadata": {
            "tags": []
          },
          "execution_count": 80
        }
      ]
    },
    {
      "cell_type": "code",
      "metadata": {
        "id": "y6lSic60ej0J"
      },
      "source": [
        "song_data_with_bow_clean_df['lyrics_text'] = song_data_with_bow_clean_df['lyrics_text'].astype('string')"
      ],
      "execution_count": 82,
      "outputs": []
    },
    {
      "cell_type": "code",
      "metadata": {
        "colab": {
          "base_uri": "https://localhost:8080/"
        },
        "id": "TDy6rWKecoNY",
        "outputId": "dd978dce-aa2e-41db-d271-7809effb361b"
      },
      "source": [
        "song_data_with_bow_clean_df.info()"
      ],
      "execution_count": 83,
      "outputs": [
        {
          "output_type": "stream",
          "text": [
            "<class 'pandas.core.frame.DataFrame'>\n",
            "Int64Index: 50113 entries, 2 to 177301\n",
            "Data columns (total 17 columns):\n",
            " #   Column              Non-Null Count  Dtype  \n",
            "---  ------              --------------  -----  \n",
            " 0   song_id             50113 non-null  string \n",
            " 1   title               50113 non-null  string \n",
            " 2   release             50113 non-null  string \n",
            " 3   artist_name         50113 non-null  string \n",
            " 4   year                50113 non-null  int64  \n",
            " 5   track_id            50113 non-null  object \n",
            " 6   artist_id           50113 non-null  string \n",
            " 7   duration            50113 non-null  float64\n",
            " 8   artist_familiarity  50113 non-null  float64\n",
            " 9   artist_hotttnesss   50113 non-null  float64\n",
            " 10  lat                 50113 non-null  float64\n",
            " 11  long                50113 non-null  float64\n",
            " 12  location            50113 non-null  string \n",
            " 13  country_code        50113 non-null  string \n",
            " 14  country_name        50113 non-null  string \n",
            " 15  genre               50113 non-null  string \n",
            " 16  lyrics_text         50113 non-null  string \n",
            "dtypes: float64(5), int64(1), object(1), string(10)\n",
            "memory usage: 6.9+ MB\n"
          ],
          "name": "stdout"
        }
      ]
    },
    {
      "cell_type": "code",
      "metadata": {
        "colab": {
          "base_uri": "https://localhost:8080/"
        },
        "id": "iK_wvvjWe1Yh",
        "outputId": "9c14adb3-1813-444d-9d55-94e2f134ea32"
      },
      "source": [
        "len(song_data_with_bow_clean_df)"
      ],
      "execution_count": 84,
      "outputs": [
        {
          "output_type": "execute_result",
          "data": {
            "text/plain": [
              "50113"
            ]
          },
          "metadata": {
            "tags": []
          },
          "execution_count": 84
        }
      ]
    },
    {
      "cell_type": "code",
      "metadata": {
        "id": "6LZF8i2gfCfk"
      },
      "source": [
        "song_data_with_bow_clean_df.to_pickle(r'/content/drive/My Drive/song_data_with_lyrics.pkl')"
      ],
      "execution_count": 85,
      "outputs": []
    },
    {
      "cell_type": "code",
      "metadata": {
        "id": "vlib15_KfSQ2"
      },
      "source": [
        ""
      ],
      "execution_count": null,
      "outputs": []
    }
  ]
}