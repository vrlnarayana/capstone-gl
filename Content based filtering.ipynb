{
  "nbformat": 4,
  "nbformat_minor": 0,
  "metadata": {
    "colab": {
      "name": "Copy of Capstone Recommendation Systems Project.ipynb",
      "provenance": [],
      "collapsed_sections": [],
      "toc_visible": true
    },
    "kernelspec": {
      "name": "python3",
      "display_name": "Python 3"
    }
  },
  "cells": [
    {
      "cell_type": "markdown",
      "metadata": {
        "id": "I60AXnI-z14Y"
      },
      "source": [
        "# Capstone Project : Group 4 : Sub Part : Song Recommendation through content based filtering"
      ]
    },
    {
      "cell_type": "code",
      "metadata": {
        "id": "2SvIV_IhrMG3",
        "colab": {
          "base_uri": "https://localhost:8080/"
        },
        "outputId": "e7dad78b-246e-461b-eb87-0cd2f8168798"
      },
      "source": [
        "from google.colab import drive\r\n",
        "drive.mount('/content/drive')"
      ],
      "execution_count": 2,
      "outputs": [
        {
          "output_type": "stream",
          "text": [
            "Drive already mounted at /content/drive; to attempt to forcibly remount, call drive.mount(\"/content/drive\", force_remount=True).\n"
          ],
          "name": "stdout"
        }
      ]
    },
    {
      "cell_type": "code",
      "metadata": {
        "id": "uAPKit6mrSnO"
      },
      "source": [
        "import numpy as np\r\n",
        "import pandas as pd\r\n",
        "import seaborn as sns\r\n",
        "import plotly.express as px\r\n",
        "import matplotlib.pyplot as plt\r\n",
        "from google.colab import files\r\n",
        "from scipy.sparse import csr_matrix\r\n",
        "import warnings; warnings.simplefilter('ignore')\r\n",
        "\r\n",
        "# Remove scientific notations and display numbers with 2 decimal points instead\r\n",
        "pd.options.display.float_format = '{:,.2f}'.format   \r\n",
        "\r\n",
        "plt.rcParams[\"figure.figsize\"] = [20, 6]  # width, height\r\n",
        "plt.rcParams['xtick.direction'] = 'out'"
      ],
      "execution_count": 3,
      "outputs": []
    },
    {
      "cell_type": "markdown",
      "metadata": {
        "id": "VXAs8W3v2ifc"
      },
      "source": [
        "**READ SONG DATA**"
      ]
    },
    {
      "cell_type": "code",
      "metadata": {
        "id": "USjp6v_jrnsK"
      },
      "source": [
        "song_data=pd.read_csv(r'/content/drive/My Drive/song_data_with_gender.csv')"
      ],
      "execution_count": 4,
      "outputs": []
    },
    {
      "cell_type": "markdown",
      "metadata": {
        "id": "inUYJv4q2o_6"
      },
      "source": [
        "**READ PLAY COUNT DATA**"
      ]
    },
    {
      "cell_type": "code",
      "metadata": {
        "id": "uZSH8c9xsBme"
      },
      "source": [
        "count_data=pd.read_csv(r'/content/drive/My Drive/count_data.csv', index_col='Unnamed: 0') #Making unnamed: 0 an index column"
      ],
      "execution_count": 5,
      "outputs": []
    },
    {
      "cell_type": "markdown",
      "metadata": {
        "id": "QMnb_tu12u0S"
      },
      "source": [
        "**READ IMDb RATING DATA - \"Externally Added\"**"
      ]
    },
    {
      "cell_type": "code",
      "metadata": {
        "id": "W3lmRMrRBCsI"
      },
      "source": [
        "df_rating_data=pd.read_csv(r'/content/drive/My Drive/rating data.tsv', sep='\\t')"
      ],
      "execution_count": 6,
      "outputs": []
    },
    {
      "cell_type": "markdown",
      "metadata": {
        "id": "cOGHGAcf2zll"
      },
      "source": [
        "**READ IMDb MOVIE TITLES DATA - \"Externally Added\"**"
      ]
    },
    {
      "cell_type": "code",
      "metadata": {
        "id": "z5UmLgYlBDnT"
      },
      "source": [
        "df_akas_data=pd.read_csv(r'/content/drive/My Drive/akas data.tsv', sep='\\t')"
      ],
      "execution_count": 7,
      "outputs": []
    },
    {
      "cell_type": "markdown",
      "metadata": {
        "id": "L79R55XS-Uku"
      },
      "source": [
        "**READ musixmatch mxm_779k_matches dataset \"Externally Added\"**"
      ]
    },
    {
      "cell_type": "code",
      "metadata": {
        "id": "_gvOvtBw-Ta_"
      },
      "source": [
        "df_trackid_msd_artist=pd.read_csv(r'/content/drive/My Drive/mxm_779k_matches.txt', sep='<SEP>') # from http://millionsongdataset.com/musixmatch/#getting"
      ],
      "execution_count": 8,
      "outputs": []
    },
    {
      "cell_type": "markdown",
      "metadata": {
        "id": "4uThbZDs-pX8"
      },
      "source": [
        "**READ tagtraum msd_tagtraum_cd2c dataset \"Externally Added\"**"
      ]
    },
    {
      "cell_type": "code",
      "metadata": {
        "id": "5WrEuc9B-pys"
      },
      "source": [
        "df_genre_data=pd.read_csv(r'/content/drive/My Drive/msd_tagtraum_cd2c.cls', sep='\\t') #data from https://www.tagtraum.com/msd_genre_datasets.html"
      ],
      "execution_count": 9,
      "outputs": []
    },
    {
      "cell_type": "code",
      "metadata": {
        "id": "8mSCBG_wr4GP",
        "colab": {
          "base_uri": "https://localhost:8080/",
          "height": 195
        },
        "outputId": "6947aded-7961-435e-ac8a-3dc79899a568"
      },
      "source": [
        "song_data.head()"
      ],
      "execution_count": 10,
      "outputs": [
        {
          "output_type": "execute_result",
          "data": {
            "text/html": [
              "<div>\n",
              "<style scoped>\n",
              "    .dataframe tbody tr th:only-of-type {\n",
              "        vertical-align: middle;\n",
              "    }\n",
              "\n",
              "    .dataframe tbody tr th {\n",
              "        vertical-align: top;\n",
              "    }\n",
              "\n",
              "    .dataframe thead th {\n",
              "        text-align: right;\n",
              "    }\n",
              "</style>\n",
              "<table border=\"1\" class=\"dataframe\">\n",
              "  <thead>\n",
              "    <tr style=\"text-align: right;\">\n",
              "      <th></th>\n",
              "      <th>Unnamed: 0</th>\n",
              "      <th>song_id</th>\n",
              "      <th>title</th>\n",
              "      <th>release</th>\n",
              "      <th>artist_name</th>\n",
              "      <th>year</th>\n",
              "      <th>artist_gender</th>\n",
              "    </tr>\n",
              "  </thead>\n",
              "  <tbody>\n",
              "    <tr>\n",
              "      <th>0</th>\n",
              "      <td>0</td>\n",
              "      <td>SOQMMHC12AB0180CB8</td>\n",
              "      <td>Silent Night</td>\n",
              "      <td>Monster Ballads X-Mas</td>\n",
              "      <td>Faster Pussy cat</td>\n",
              "      <td>2003</td>\n",
              "      <td>male</td>\n",
              "    </tr>\n",
              "    <tr>\n",
              "      <th>1</th>\n",
              "      <td>1</td>\n",
              "      <td>SOVFVAK12A8C1350D9</td>\n",
              "      <td>Tanssi vaan</td>\n",
              "      <td>Karkuteillä</td>\n",
              "      <td>Karkkiautomaatti</td>\n",
              "      <td>1995</td>\n",
              "      <td>female</td>\n",
              "    </tr>\n",
              "    <tr>\n",
              "      <th>2</th>\n",
              "      <td>2</td>\n",
              "      <td>SOGTUKN12AB017F4F1</td>\n",
              "      <td>No One Could Ever</td>\n",
              "      <td>Butter</td>\n",
              "      <td>Hudson Mohawke</td>\n",
              "      <td>2006</td>\n",
              "      <td>female</td>\n",
              "    </tr>\n",
              "    <tr>\n",
              "      <th>3</th>\n",
              "      <td>3</td>\n",
              "      <td>SOBNYVR12A8C13558C</td>\n",
              "      <td>Si Vos Querés</td>\n",
              "      <td>De Culo</td>\n",
              "      <td>Yerba Brava</td>\n",
              "      <td>2003</td>\n",
              "      <td>female</td>\n",
              "    </tr>\n",
              "    <tr>\n",
              "      <th>4</th>\n",
              "      <td>4</td>\n",
              "      <td>SOHSBXH12A8C13B0DF</td>\n",
              "      <td>Tangle Of Aspens</td>\n",
              "      <td>Rene Ablaze Presents Winter Sessions</td>\n",
              "      <td>Der Mystic</td>\n",
              "      <td>0</td>\n",
              "      <td>male</td>\n",
              "    </tr>\n",
              "  </tbody>\n",
              "</table>\n",
              "</div>"
            ],
            "text/plain": [
              "   Unnamed: 0             song_id  ...  year artist_gender\n",
              "0           0  SOQMMHC12AB0180CB8  ...  2003          male\n",
              "1           1  SOVFVAK12A8C1350D9  ...  1995        female\n",
              "2           2  SOGTUKN12AB017F4F1  ...  2006        female\n",
              "3           3  SOBNYVR12A8C13558C  ...  2003        female\n",
              "4           4  SOHSBXH12A8C13B0DF  ...     0          male\n",
              "\n",
              "[5 rows x 7 columns]"
            ]
          },
          "metadata": {
            "tags": []
          },
          "execution_count": 10
        }
      ]
    },
    {
      "cell_type": "code",
      "metadata": {
        "id": "7_6kGThZtGUK",
        "colab": {
          "base_uri": "https://localhost:8080/",
          "height": 195
        },
        "outputId": "f061fa44-a5ba-463a-8d9a-a749cf66236e"
      },
      "source": [
        "count_data.head()"
      ],
      "execution_count": 11,
      "outputs": [
        {
          "output_type": "execute_result",
          "data": {
            "text/html": [
              "<div>\n",
              "<style scoped>\n",
              "    .dataframe tbody tr th:only-of-type {\n",
              "        vertical-align: middle;\n",
              "    }\n",
              "\n",
              "    .dataframe tbody tr th {\n",
              "        vertical-align: top;\n",
              "    }\n",
              "\n",
              "    .dataframe thead th {\n",
              "        text-align: right;\n",
              "    }\n",
              "</style>\n",
              "<table border=\"1\" class=\"dataframe\">\n",
              "  <thead>\n",
              "    <tr style=\"text-align: right;\">\n",
              "      <th></th>\n",
              "      <th>user_id</th>\n",
              "      <th>song_id</th>\n",
              "      <th>play_count</th>\n",
              "    </tr>\n",
              "  </thead>\n",
              "  <tbody>\n",
              "    <tr>\n",
              "      <th>0</th>\n",
              "      <td>b80344d063b5ccb3212f76538f3d9e43d87dca9e</td>\n",
              "      <td>SOAKIMP12A8C130995</td>\n",
              "      <td>1</td>\n",
              "    </tr>\n",
              "    <tr>\n",
              "      <th>1</th>\n",
              "      <td>b80344d063b5ccb3212f76538f3d9e43d87dca9e</td>\n",
              "      <td>SOBBMDR12A8C13253B</td>\n",
              "      <td>2</td>\n",
              "    </tr>\n",
              "    <tr>\n",
              "      <th>2</th>\n",
              "      <td>b80344d063b5ccb3212f76538f3d9e43d87dca9e</td>\n",
              "      <td>SOBXHDL12A81C204C0</td>\n",
              "      <td>1</td>\n",
              "    </tr>\n",
              "    <tr>\n",
              "      <th>3</th>\n",
              "      <td>b80344d063b5ccb3212f76538f3d9e43d87dca9e</td>\n",
              "      <td>SOBYHAJ12A6701BF1D</td>\n",
              "      <td>1</td>\n",
              "    </tr>\n",
              "    <tr>\n",
              "      <th>4</th>\n",
              "      <td>b80344d063b5ccb3212f76538f3d9e43d87dca9e</td>\n",
              "      <td>SODACBL12A8C13C273</td>\n",
              "      <td>1</td>\n",
              "    </tr>\n",
              "  </tbody>\n",
              "</table>\n",
              "</div>"
            ],
            "text/plain": [
              "                                    user_id             song_id  play_count\n",
              "0  b80344d063b5ccb3212f76538f3d9e43d87dca9e  SOAKIMP12A8C130995           1\n",
              "1  b80344d063b5ccb3212f76538f3d9e43d87dca9e  SOBBMDR12A8C13253B           2\n",
              "2  b80344d063b5ccb3212f76538f3d9e43d87dca9e  SOBXHDL12A81C204C0           1\n",
              "3  b80344d063b5ccb3212f76538f3d9e43d87dca9e  SOBYHAJ12A6701BF1D           1\n",
              "4  b80344d063b5ccb3212f76538f3d9e43d87dca9e  SODACBL12A8C13C273           1"
            ]
          },
          "metadata": {
            "tags": []
          },
          "execution_count": 11
        }
      ]
    },
    {
      "cell_type": "code",
      "metadata": {
        "id": "wf0gknGrBDC-",
        "colab": {
          "base_uri": "https://localhost:8080/",
          "height": 195
        },
        "outputId": "4da446c0-f58d-48c2-a3a1-01607ed7c7fc"
      },
      "source": [
        "df_rating_data.head()"
      ],
      "execution_count": 12,
      "outputs": [
        {
          "output_type": "execute_result",
          "data": {
            "text/html": [
              "<div>\n",
              "<style scoped>\n",
              "    .dataframe tbody tr th:only-of-type {\n",
              "        vertical-align: middle;\n",
              "    }\n",
              "\n",
              "    .dataframe tbody tr th {\n",
              "        vertical-align: top;\n",
              "    }\n",
              "\n",
              "    .dataframe thead th {\n",
              "        text-align: right;\n",
              "    }\n",
              "</style>\n",
              "<table border=\"1\" class=\"dataframe\">\n",
              "  <thead>\n",
              "    <tr style=\"text-align: right;\">\n",
              "      <th></th>\n",
              "      <th>tconst</th>\n",
              "      <th>averageRating</th>\n",
              "      <th>numVotes</th>\n",
              "    </tr>\n",
              "  </thead>\n",
              "  <tbody>\n",
              "    <tr>\n",
              "      <th>0</th>\n",
              "      <td>tt0000001</td>\n",
              "      <td>5.70</td>\n",
              "      <td>1669</td>\n",
              "    </tr>\n",
              "    <tr>\n",
              "      <th>1</th>\n",
              "      <td>tt0000002</td>\n",
              "      <td>6.10</td>\n",
              "      <td>207</td>\n",
              "    </tr>\n",
              "    <tr>\n",
              "      <th>2</th>\n",
              "      <td>tt0000003</td>\n",
              "      <td>6.50</td>\n",
              "      <td>1392</td>\n",
              "    </tr>\n",
              "    <tr>\n",
              "      <th>3</th>\n",
              "      <td>tt0000004</td>\n",
              "      <td>6.20</td>\n",
              "      <td>123</td>\n",
              "    </tr>\n",
              "    <tr>\n",
              "      <th>4</th>\n",
              "      <td>tt0000005</td>\n",
              "      <td>6.20</td>\n",
              "      <td>2181</td>\n",
              "    </tr>\n",
              "  </tbody>\n",
              "</table>\n",
              "</div>"
            ],
            "text/plain": [
              "      tconst  averageRating  numVotes\n",
              "0  tt0000001           5.70      1669\n",
              "1  tt0000002           6.10       207\n",
              "2  tt0000003           6.50      1392\n",
              "3  tt0000004           6.20       123\n",
              "4  tt0000005           6.20      2181"
            ]
          },
          "metadata": {
            "tags": []
          },
          "execution_count": 12
        }
      ]
    },
    {
      "cell_type": "code",
      "metadata": {
        "id": "KugSL8GRBDwB",
        "colab": {
          "base_uri": "https://localhost:8080/",
          "height": 195
        },
        "outputId": "6c4220ee-202a-4f40-a5c6-0938e5604ae6"
      },
      "source": [
        "df_akas_data.head()"
      ],
      "execution_count": 13,
      "outputs": [
        {
          "output_type": "execute_result",
          "data": {
            "text/html": [
              "<div>\n",
              "<style scoped>\n",
              "    .dataframe tbody tr th:only-of-type {\n",
              "        vertical-align: middle;\n",
              "    }\n",
              "\n",
              "    .dataframe tbody tr th {\n",
              "        vertical-align: top;\n",
              "    }\n",
              "\n",
              "    .dataframe thead th {\n",
              "        text-align: right;\n",
              "    }\n",
              "</style>\n",
              "<table border=\"1\" class=\"dataframe\">\n",
              "  <thead>\n",
              "    <tr style=\"text-align: right;\">\n",
              "      <th></th>\n",
              "      <th>titleId</th>\n",
              "      <th>ordering</th>\n",
              "      <th>title</th>\n",
              "      <th>region</th>\n",
              "      <th>language</th>\n",
              "      <th>types</th>\n",
              "      <th>attributes</th>\n",
              "      <th>isOriginalTitle</th>\n",
              "    </tr>\n",
              "  </thead>\n",
              "  <tbody>\n",
              "    <tr>\n",
              "      <th>0</th>\n",
              "      <td>tt0000001</td>\n",
              "      <td>1</td>\n",
              "      <td>Карменсіта</td>\n",
              "      <td>UA</td>\n",
              "      <td>\\N</td>\n",
              "      <td>imdbDisplay</td>\n",
              "      <td>\\N</td>\n",
              "      <td>0</td>\n",
              "    </tr>\n",
              "    <tr>\n",
              "      <th>1</th>\n",
              "      <td>tt0000001</td>\n",
              "      <td>2</td>\n",
              "      <td>Carmencita</td>\n",
              "      <td>DE</td>\n",
              "      <td>\\N</td>\n",
              "      <td>\\N</td>\n",
              "      <td>literal title</td>\n",
              "      <td>0</td>\n",
              "    </tr>\n",
              "    <tr>\n",
              "      <th>2</th>\n",
              "      <td>tt0000001</td>\n",
              "      <td>3</td>\n",
              "      <td>Carmencita - spanyol tánc</td>\n",
              "      <td>HU</td>\n",
              "      <td>\\N</td>\n",
              "      <td>imdbDisplay</td>\n",
              "      <td>\\N</td>\n",
              "      <td>0</td>\n",
              "    </tr>\n",
              "    <tr>\n",
              "      <th>3</th>\n",
              "      <td>tt0000001</td>\n",
              "      <td>4</td>\n",
              "      <td>Καρμενσίτα</td>\n",
              "      <td>GR</td>\n",
              "      <td>\\N</td>\n",
              "      <td>imdbDisplay</td>\n",
              "      <td>\\N</td>\n",
              "      <td>0</td>\n",
              "    </tr>\n",
              "    <tr>\n",
              "      <th>4</th>\n",
              "      <td>tt0000001</td>\n",
              "      <td>5</td>\n",
              "      <td>Карменсита</td>\n",
              "      <td>RU</td>\n",
              "      <td>\\N</td>\n",
              "      <td>imdbDisplay</td>\n",
              "      <td>\\N</td>\n",
              "      <td>0</td>\n",
              "    </tr>\n",
              "  </tbody>\n",
              "</table>\n",
              "</div>"
            ],
            "text/plain": [
              "     titleId  ordering  ...     attributes isOriginalTitle\n",
              "0  tt0000001         1  ...             \\N               0\n",
              "1  tt0000001         2  ...  literal title               0\n",
              "2  tt0000001         3  ...             \\N               0\n",
              "3  tt0000001         4  ...             \\N               0\n",
              "4  tt0000001         5  ...             \\N               0\n",
              "\n",
              "[5 rows x 8 columns]"
            ]
          },
          "metadata": {
            "tags": []
          },
          "execution_count": 13
        }
      ]
    },
    {
      "cell_type": "markdown",
      "metadata": {
        "id": "oMe1Uc-09tTp"
      },
      "source": [
        "**COMMENT:**\n",
        "millionsongs dataset and IMDb have different indexes/keys and hence we need to analyse and see how to join based on common movie title. If there is no match, we need to find an alternate solution"
      ]
    },
    {
      "cell_type": "markdown",
      "metadata": {
        "id": "ATnUCB2472xJ"
      },
      "source": [
        "**COMMENT:**\n",
        "**Song data has some year values 0, which may not be useful in the analysis**\n",
        "\n"
      ]
    },
    {
      "cell_type": "code",
      "metadata": {
        "colab": {
          "base_uri": "https://localhost:8080/"
        },
        "id": "YLkUhtHx5MUl",
        "outputId": "725d927a-b4a3-4be0-b109-a4d499c14870"
      },
      "source": [
        "song_data.isnull().sum()"
      ],
      "execution_count": 14,
      "outputs": [
        {
          "output_type": "execute_result",
          "data": {
            "text/plain": [
              "Unnamed: 0        0\n",
              "song_id           0\n",
              "title            15\n",
              "release           5\n",
              "artist_name       0\n",
              "year              0\n",
              "artist_gender     0\n",
              "dtype: int64"
            ]
          },
          "metadata": {
            "tags": []
          },
          "execution_count": 14
        }
      ]
    },
    {
      "cell_type": "markdown",
      "metadata": {
        "id": "5Yt8zyWu_gOl"
      },
      "source": [
        "**COMMENT**\n",
        "**In Song data 15 titles and 5 releases are null values**"
      ]
    },
    {
      "cell_type": "code",
      "metadata": {
        "colab": {
          "base_uri": "https://localhost:8080/"
        },
        "id": "J1moagCI-R30",
        "outputId": "341b68de-41b1-4f8c-9744-8bc512840f79"
      },
      "source": [
        "print('No of unique artists in the data=> ',song_data.artist_name.nunique())"
      ],
      "execution_count": 15,
      "outputs": [
        {
          "output_type": "stream",
          "text": [
            "No of unique artists in the data=>  72665\n"
          ],
          "name": "stdout"
        }
      ]
    },
    {
      "cell_type": "code",
      "metadata": {
        "colab": {
          "base_uri": "https://localhost:8080/"
        },
        "id": "Wn6YTVNT_2iB",
        "outputId": "a6f28fef-bce5-4fae-b75c-eecd90f4c5f3"
      },
      "source": [
        "count_data.isnull().sum()"
      ],
      "execution_count": 16,
      "outputs": [
        {
          "output_type": "execute_result",
          "data": {
            "text/plain": [
              "user_id       0\n",
              "song_id       0\n",
              "play_count    0\n",
              "dtype: int64"
            ]
          },
          "metadata": {
            "tags": []
          },
          "execution_count": 16
        }
      ]
    },
    {
      "cell_type": "markdown",
      "metadata": {
        "id": "hM5hSL0N__43"
      },
      "source": [
        "**COMMENT**\n",
        "**Play Count data has no null values**"
      ]
    },
    {
      "cell_type": "markdown",
      "metadata": {
        "id": "ijMu0bDOEk6t"
      },
      "source": [
        "# Checking Duplicates in Song Data"
      ]
    },
    {
      "cell_type": "code",
      "metadata": {
        "colab": {
          "base_uri": "https://localhost:8080/"
        },
        "id": "ruOor8ko_-8_",
        "outputId": "0f2e5747-8bda-4e90-d1f5-5ae1a139be7c"
      },
      "source": [
        "song_data.duplicated().value_counts()"
      ],
      "execution_count": 17,
      "outputs": [
        {
          "output_type": "execute_result",
          "data": {
            "text/plain": [
              "False    1000000\n",
              "dtype: int64"
            ]
          },
          "metadata": {
            "tags": []
          },
          "execution_count": 17
        }
      ]
    },
    {
      "cell_type": "markdown",
      "metadata": {
        "id": "krKyBUJ0Aedd"
      },
      "source": [
        "**COMMENT**\n",
        "**Song data has 498 duplicates**, we will have treat duplicates before grouping and analysing data"
      ]
    },
    {
      "cell_type": "code",
      "metadata": {
        "colab": {
          "base_uri": "https://localhost:8080/"
        },
        "id": "XTisrijLATLx",
        "outputId": "0825324e-6072-49f5-f86d-49cd1b611e3a"
      },
      "source": [
        "count_data.duplicated().any()"
      ],
      "execution_count": 18,
      "outputs": [
        {
          "output_type": "execute_result",
          "data": {
            "text/plain": [
              "False"
            ]
          },
          "metadata": {
            "tags": []
          },
          "execution_count": 18
        }
      ]
    },
    {
      "cell_type": "markdown",
      "metadata": {
        "id": "NlOEEV6GBKCP"
      },
      "source": [
        "**COMMENTS**\n",
        "**Count data has no duplicates**"
      ]
    },
    {
      "cell_type": "code",
      "metadata": {
        "colab": {
          "base_uri": "https://localhost:8080/",
          "height": 47
        },
        "id": "_miFtFYwBSN3",
        "outputId": "42374e64-7510-4ad0-8db0-49399b707f8b"
      },
      "source": [
        "# Checking for duplicated rows in song data\n",
        "song_data[song_data.duplicated()] #Duplicates are 498 in count"
      ],
      "execution_count": 19,
      "outputs": [
        {
          "output_type": "execute_result",
          "data": {
            "text/html": [
              "<div>\n",
              "<style scoped>\n",
              "    .dataframe tbody tr th:only-of-type {\n",
              "        vertical-align: middle;\n",
              "    }\n",
              "\n",
              "    .dataframe tbody tr th {\n",
              "        vertical-align: top;\n",
              "    }\n",
              "\n",
              "    .dataframe thead th {\n",
              "        text-align: right;\n",
              "    }\n",
              "</style>\n",
              "<table border=\"1\" class=\"dataframe\">\n",
              "  <thead>\n",
              "    <tr style=\"text-align: right;\">\n",
              "      <th></th>\n",
              "      <th>Unnamed: 0</th>\n",
              "      <th>song_id</th>\n",
              "      <th>title</th>\n",
              "      <th>release</th>\n",
              "      <th>artist_name</th>\n",
              "      <th>year</th>\n",
              "      <th>artist_gender</th>\n",
              "    </tr>\n",
              "  </thead>\n",
              "  <tbody>\n",
              "  </tbody>\n",
              "</table>\n",
              "</div>"
            ],
            "text/plain": [
              "Empty DataFrame\n",
              "Columns: [Unnamed: 0, song_id, title, release, artist_name, year, artist_gender]\n",
              "Index: []"
            ]
          },
          "metadata": {
            "tags": []
          },
          "execution_count": 19
        }
      ]
    },
    {
      "cell_type": "code",
      "metadata": {
        "colab": {
          "base_uri": "https://localhost:8080/",
          "height": 106
        },
        "id": "GFiECab2Bcn0",
        "outputId": "bd7c087e-e146-477f-8580-3cf3a0461501"
      },
      "source": [
        "# Checking a sample data\n",
        "song_data[song_data.song_id=='SOPFBUZ12AF729C896']"
      ],
      "execution_count": 20,
      "outputs": [
        {
          "output_type": "execute_result",
          "data": {
            "text/html": [
              "<div>\n",
              "<style scoped>\n",
              "    .dataframe tbody tr th:only-of-type {\n",
              "        vertical-align: middle;\n",
              "    }\n",
              "\n",
              "    .dataframe tbody tr th {\n",
              "        vertical-align: top;\n",
              "    }\n",
              "\n",
              "    .dataframe thead th {\n",
              "        text-align: right;\n",
              "    }\n",
              "</style>\n",
              "<table border=\"1\" class=\"dataframe\">\n",
              "  <thead>\n",
              "    <tr style=\"text-align: right;\">\n",
              "      <th></th>\n",
              "      <th>Unnamed: 0</th>\n",
              "      <th>song_id</th>\n",
              "      <th>title</th>\n",
              "      <th>release</th>\n",
              "      <th>artist_name</th>\n",
              "      <th>year</th>\n",
              "      <th>artist_gender</th>\n",
              "    </tr>\n",
              "  </thead>\n",
              "  <tbody>\n",
              "    <tr>\n",
              "      <th>7055</th>\n",
              "      <td>7055</td>\n",
              "      <td>SOPFBUZ12AF729C896</td>\n",
              "      <td>Spitting Games</td>\n",
              "      <td>Final Straw</td>\n",
              "      <td>Snow Patrol</td>\n",
              "      <td>2003</td>\n",
              "      <td>male</td>\n",
              "    </tr>\n",
              "    <tr>\n",
              "      <th>18309</th>\n",
              "      <td>18309</td>\n",
              "      <td>SOPFBUZ12AF729C896</td>\n",
              "      <td>Spitting Games</td>\n",
              "      <td>Final Straw</td>\n",
              "      <td>Snow Patrol</td>\n",
              "      <td>2003</td>\n",
              "      <td>male</td>\n",
              "    </tr>\n",
              "  </tbody>\n",
              "</table>\n",
              "</div>"
            ],
            "text/plain": [
              "       Unnamed: 0             song_id  ...  year artist_gender\n",
              "7055         7055  SOPFBUZ12AF729C896  ...  2003          male\n",
              "18309       18309  SOPFBUZ12AF729C896  ...  2003          male\n",
              "\n",
              "[2 rows x 7 columns]"
            ]
          },
          "metadata": {
            "tags": []
          },
          "execution_count": 20
        }
      ]
    },
    {
      "cell_type": "markdown",
      "metadata": {
        "id": "V2S9depgCNh4"
      },
      "source": [
        "# Treating Duplicates in Song Data"
      ]
    },
    {
      "cell_type": "code",
      "metadata": {
        "id": "uznd3Hw8Bl9t"
      },
      "source": [
        "# DROPPING DUPLICATES in SONG DATA with inplace=True\n",
        "song_data.drop(song_data[song_data.duplicated()].index, inplace=True)"
      ],
      "execution_count": 21,
      "outputs": []
    },
    {
      "cell_type": "code",
      "metadata": {
        "colab": {
          "base_uri": "https://localhost:8080/"
        },
        "id": "E5D45drNB1YT",
        "outputId": "e2c0dc16-4514-452b-9965-49fbdc28a889"
      },
      "source": [
        "# CHECKING DUPLICATES AGAIN TO CONFIRM\n",
        "song_data.duplicated().any()"
      ],
      "execution_count": 22,
      "outputs": [
        {
          "output_type": "execute_result",
          "data": {
            "text/plain": [
              "False"
            ]
          },
          "metadata": {
            "tags": []
          },
          "execution_count": 22
        }
      ]
    },
    {
      "cell_type": "markdown",
      "metadata": {
        "id": "YyhaS7MrCb9o"
      },
      "source": [
        "# Checking null values in song title and release column"
      ]
    },
    {
      "cell_type": "code",
      "metadata": {
        "colab": {
          "base_uri": "https://localhost:8080/",
          "height": 639
        },
        "id": "ZRRWdgp5B8PU",
        "outputId": "d73fb2d7-e0c4-4ce7-a616-b8c35c74fd4e"
      },
      "source": [
        "nan_song_df=song_data[song_data.title.isnull() | song_data.release.isnull()]\n",
        "nan_song_df"
      ],
      "execution_count": 23,
      "outputs": [
        {
          "output_type": "execute_result",
          "data": {
            "text/html": [
              "<div>\n",
              "<style scoped>\n",
              "    .dataframe tbody tr th:only-of-type {\n",
              "        vertical-align: middle;\n",
              "    }\n",
              "\n",
              "    .dataframe tbody tr th {\n",
              "        vertical-align: top;\n",
              "    }\n",
              "\n",
              "    .dataframe thead th {\n",
              "        text-align: right;\n",
              "    }\n",
              "</style>\n",
              "<table border=\"1\" class=\"dataframe\">\n",
              "  <thead>\n",
              "    <tr style=\"text-align: right;\">\n",
              "      <th></th>\n",
              "      <th>Unnamed: 0</th>\n",
              "      <th>song_id</th>\n",
              "      <th>title</th>\n",
              "      <th>release</th>\n",
              "      <th>artist_name</th>\n",
              "      <th>year</th>\n",
              "      <th>artist_gender</th>\n",
              "    </tr>\n",
              "  </thead>\n",
              "  <tbody>\n",
              "    <tr>\n",
              "      <th>64262</th>\n",
              "      <td>64262</td>\n",
              "      <td>SOVICLT12A58A7C4D0</td>\n",
              "      <td>NaN</td>\n",
              "      <td>Of Flies And Men</td>\n",
              "      <td>Milton</td>\n",
              "      <td>0</td>\n",
              "      <td>male</td>\n",
              "    </tr>\n",
              "    <tr>\n",
              "      <th>114672</th>\n",
              "      <td>114672</td>\n",
              "      <td>SOAGRAA12AB018D567</td>\n",
              "      <td>NaN</td>\n",
              "      <td>Puce de luxe</td>\n",
              "      <td>Sébastien Roch</td>\n",
              "      <td>0</td>\n",
              "      <td>female</td>\n",
              "    </tr>\n",
              "    <tr>\n",
              "      <th>138011</th>\n",
              "      <td>138011</td>\n",
              "      <td>SOOBGAQ12A6D4F6762</td>\n",
              "      <td>Solitude</td>\n",
              "      <td>NaN</td>\n",
              "      <td>Metro</td>\n",
              "      <td>0</td>\n",
              "      <td>male</td>\n",
              "    </tr>\n",
              "    <tr>\n",
              "      <th>197822</th>\n",
              "      <td>197822</td>\n",
              "      <td>SOGFJER12A6D4F675F</td>\n",
              "      <td>All The Beautiful People</td>\n",
              "      <td>NaN</td>\n",
              "      <td>Metro</td>\n",
              "      <td>0</td>\n",
              "      <td>male</td>\n",
              "    </tr>\n",
              "    <tr>\n",
              "      <th>223019</th>\n",
              "      <td>223019</td>\n",
              "      <td>SOAFJBH12A6D4F6765</td>\n",
              "      <td>Down The Aisles</td>\n",
              "      <td>NaN</td>\n",
              "      <td>Metro</td>\n",
              "      <td>0</td>\n",
              "      <td>male</td>\n",
              "    </tr>\n",
              "    <tr>\n",
              "      <th>229353</th>\n",
              "      <td>229353</td>\n",
              "      <td>SOOAFJX12AB018A028</td>\n",
              "      <td>NaN</td>\n",
              "      <td>Puce de luxe</td>\n",
              "      <td>Sébastien Roch</td>\n",
              "      <td>0</td>\n",
              "      <td>female</td>\n",
              "    </tr>\n",
              "    <tr>\n",
              "      <th>264639</th>\n",
              "      <td>264639</td>\n",
              "      <td>SOLDTFD12AB018AFE6</td>\n",
              "      <td>NaN</td>\n",
              "      <td>Puce de luxe</td>\n",
              "      <td>Sébastien Roch</td>\n",
              "      <td>0</td>\n",
              "      <td>female</td>\n",
              "    </tr>\n",
              "    <tr>\n",
              "      <th>458083</th>\n",
              "      <td>458083</td>\n",
              "      <td>SOAUTVB12AB018AFF0</td>\n",
              "      <td>NaN</td>\n",
              "      <td>Puce de luxe</td>\n",
              "      <td>Sébastien Roch</td>\n",
              "      <td>0</td>\n",
              "      <td>female</td>\n",
              "    </tr>\n",
              "    <tr>\n",
              "      <th>557125</th>\n",
              "      <td>557125</td>\n",
              "      <td>SOMPGYE12AB018AFE0</td>\n",
              "      <td>NaN</td>\n",
              "      <td>Puce de luxe</td>\n",
              "      <td>Sébastien Roch</td>\n",
              "      <td>0</td>\n",
              "      <td>female</td>\n",
              "    </tr>\n",
              "    <tr>\n",
              "      <th>578241</th>\n",
              "      <td>578241</td>\n",
              "      <td>SOVHAZH12AB018D5B3</td>\n",
              "      <td>NaN</td>\n",
              "      <td>Puce de luxe</td>\n",
              "      <td>Sébastien Roch</td>\n",
              "      <td>0</td>\n",
              "      <td>female</td>\n",
              "    </tr>\n",
              "    <tr>\n",
              "      <th>652287</th>\n",
              "      <td>652287</td>\n",
              "      <td>SOECGBQ12AB018D582</td>\n",
              "      <td>NaN</td>\n",
              "      <td>Puce de luxe</td>\n",
              "      <td>Sébastien Roch</td>\n",
              "      <td>0</td>\n",
              "      <td>female</td>\n",
              "    </tr>\n",
              "    <tr>\n",
              "      <th>693232</th>\n",
              "      <td>693232</td>\n",
              "      <td>SOCKQGJ12A6D4F6768</td>\n",
              "      <td>Provincial</td>\n",
              "      <td>NaN</td>\n",
              "      <td>Metro</td>\n",
              "      <td>0</td>\n",
              "      <td>male</td>\n",
              "    </tr>\n",
              "    <tr>\n",
              "      <th>697789</th>\n",
              "      <td>697789</td>\n",
              "      <td>SOTJWHR12AB018D5A0</td>\n",
              "      <td>NaN</td>\n",
              "      <td>Puce de luxe</td>\n",
              "      <td>Sébastien Roch</td>\n",
              "      <td>0</td>\n",
              "      <td>female</td>\n",
              "    </tr>\n",
              "    <tr>\n",
              "      <th>697813</th>\n",
              "      <td>697813</td>\n",
              "      <td>SOBDDHR12AB01888A6</td>\n",
              "      <td>NaN</td>\n",
              "      <td>Grand Glam Outtakes</td>\n",
              "      <td>Remute</td>\n",
              "      <td>0</td>\n",
              "      <td>female</td>\n",
              "    </tr>\n",
              "    <tr>\n",
              "      <th>725270</th>\n",
              "      <td>725270</td>\n",
              "      <td>SOFDILP12AC960A4EF</td>\n",
              "      <td>NaN</td>\n",
              "      <td>Recupera tus Clásicos - Fobia</td>\n",
              "      <td>Fobia</td>\n",
              "      <td>0</td>\n",
              "      <td>female</td>\n",
              "    </tr>\n",
              "    <tr>\n",
              "      <th>795481</th>\n",
              "      <td>795481</td>\n",
              "      <td>SOSFNKO12AB018D5BB</td>\n",
              "      <td>NaN</td>\n",
              "      <td>Puce de luxe</td>\n",
              "      <td>Sébastien Roch</td>\n",
              "      <td>0</td>\n",
              "      <td>female</td>\n",
              "    </tr>\n",
              "    <tr>\n",
              "      <th>841107</th>\n",
              "      <td>841107</td>\n",
              "      <td>SOSQKYC12A6D4F6763</td>\n",
              "      <td>Middlemen</td>\n",
              "      <td>NaN</td>\n",
              "      <td>Metro</td>\n",
              "      <td>0</td>\n",
              "      <td>male</td>\n",
              "    </tr>\n",
              "    <tr>\n",
              "      <th>853170</th>\n",
              "      <td>853170</td>\n",
              "      <td>SOASSAS12AB018AFCF</td>\n",
              "      <td>NaN</td>\n",
              "      <td>Puce de luxe</td>\n",
              "      <td>Sébastien Roch</td>\n",
              "      <td>0</td>\n",
              "      <td>female</td>\n",
              "    </tr>\n",
              "    <tr>\n",
              "      <th>857992</th>\n",
              "      <td>857992</td>\n",
              "      <td>SOZDBDL12AB018AFFF</td>\n",
              "      <td>NaN</td>\n",
              "      <td>Puce de luxe</td>\n",
              "      <td>Sébastien Roch</td>\n",
              "      <td>0</td>\n",
              "      <td>female</td>\n",
              "    </tr>\n",
              "    <tr>\n",
              "      <th>925868</th>\n",
              "      <td>925868</td>\n",
              "      <td>SOQUGMS12AB018B01D</td>\n",
              "      <td>NaN</td>\n",
              "      <td>Puce de luxe</td>\n",
              "      <td>Sébastien Roch</td>\n",
              "      <td>0</td>\n",
              "      <td>female</td>\n",
              "    </tr>\n",
              "  </tbody>\n",
              "</table>\n",
              "</div>"
            ],
            "text/plain": [
              "        Unnamed: 0             song_id  ... year artist_gender\n",
              "64262        64262  SOVICLT12A58A7C4D0  ...    0          male\n",
              "114672      114672  SOAGRAA12AB018D567  ...    0        female\n",
              "138011      138011  SOOBGAQ12A6D4F6762  ...    0          male\n",
              "197822      197822  SOGFJER12A6D4F675F  ...    0          male\n",
              "223019      223019  SOAFJBH12A6D4F6765  ...    0          male\n",
              "229353      229353  SOOAFJX12AB018A028  ...    0        female\n",
              "264639      264639  SOLDTFD12AB018AFE6  ...    0        female\n",
              "458083      458083  SOAUTVB12AB018AFF0  ...    0        female\n",
              "557125      557125  SOMPGYE12AB018AFE0  ...    0        female\n",
              "578241      578241  SOVHAZH12AB018D5B3  ...    0        female\n",
              "652287      652287  SOECGBQ12AB018D582  ...    0        female\n",
              "693232      693232  SOCKQGJ12A6D4F6768  ...    0          male\n",
              "697789      697789  SOTJWHR12AB018D5A0  ...    0        female\n",
              "697813      697813  SOBDDHR12AB01888A6  ...    0        female\n",
              "725270      725270  SOFDILP12AC960A4EF  ...    0        female\n",
              "795481      795481  SOSFNKO12AB018D5BB  ...    0        female\n",
              "841107      841107  SOSQKYC12A6D4F6763  ...    0          male\n",
              "853170      853170  SOASSAS12AB018AFCF  ...    0        female\n",
              "857992      857992  SOZDBDL12AB018AFFF  ...    0        female\n",
              "925868      925868  SOQUGMS12AB018B01D  ...    0        female\n",
              "\n",
              "[20 rows x 7 columns]"
            ]
          },
          "metadata": {
            "tags": []
          },
          "execution_count": 23
        }
      ]
    },
    {
      "cell_type": "markdown",
      "metadata": {
        "id": "Lmf07MnTC3C7"
      },
      "source": [
        "**Checking null values in song title and release has any impact on play count data**\n",
        "**If there is no play count data available for the Null titles and releases then we can ignore them as they will not impact our analysis** "
      ]
    },
    {
      "cell_type": "code",
      "metadata": {
        "colab": {
          "base_uri": "https://localhost:8080/"
        },
        "id": "oiSI9z1vCr1p",
        "outputId": "dcc31865-09e9-4c48-e93f-e98b6048a218"
      },
      "source": [
        "count_data.song_id.isin(nan_song_df.song_id).value_counts() "
      ],
      "execution_count": 24,
      "outputs": [
        {
          "output_type": "execute_result",
          "data": {
            "text/plain": [
              "False    2000000\n",
              "Name: song_id, dtype: int64"
            ]
          },
          "metadata": {
            "tags": []
          },
          "execution_count": 24
        }
      ]
    },
    {
      "cell_type": "markdown",
      "metadata": {
        "id": "OjR1GucpDX8C"
      },
      "source": [
        "**COMMENT:**\n",
        "value_counts provides a False output which means there is **NO IMPACT** null titles do not have play counts. Hence, **IGNORE THEM NULL TITLES and RELEASES**"
      ]
    },
    {
      "cell_type": "markdown",
      "metadata": {
        "id": "tMqGoO79FqG5"
      },
      "source": [
        "# Grouping and Merging DataSets"
      ]
    },
    {
      "cell_type": "code",
      "metadata": {
        "colab": {
          "base_uri": "https://localhost:8080/",
          "height": 431
        },
        "id": "sbHcruDlFuJh",
        "outputId": "85852dca-3652-4b38-de96-e4458b0ad20e"
      },
      "source": [
        "sorted_play_counts_df=count_data.groupby(['song_id','play_count']).sum().sort_values(by='play_count',ascending=False)\n",
        "sorted_play_counts_df.reset_index(inplace=True)\n",
        "sorted_play_counts_df.set_index('song_id', inplace=True)# making song_id index of the df, this is required to merge with song_data df\n",
        "\n",
        "sorted_play_counts_df # Sorted in descending order of play_count to see the top play counts first\n"
      ],
      "execution_count": 25,
      "outputs": [
        {
          "output_type": "execute_result",
          "data": {
            "text/html": [
              "<div>\n",
              "<style scoped>\n",
              "    .dataframe tbody tr th:only-of-type {\n",
              "        vertical-align: middle;\n",
              "    }\n",
              "\n",
              "    .dataframe tbody tr th {\n",
              "        vertical-align: top;\n",
              "    }\n",
              "\n",
              "    .dataframe thead th {\n",
              "        text-align: right;\n",
              "    }\n",
              "</style>\n",
              "<table border=\"1\" class=\"dataframe\">\n",
              "  <thead>\n",
              "    <tr style=\"text-align: right;\">\n",
              "      <th></th>\n",
              "      <th>play_count</th>\n",
              "      <th>user_id</th>\n",
              "    </tr>\n",
              "    <tr>\n",
              "      <th>song_id</th>\n",
              "      <th></th>\n",
              "      <th></th>\n",
              "    </tr>\n",
              "  </thead>\n",
              "  <tbody>\n",
              "    <tr>\n",
              "      <th>SOFCGSE12AF72A674F</th>\n",
              "      <td>2213</td>\n",
              "      <td>d13609d62db6df876d3cc388225478618bb7b912</td>\n",
              "    </tr>\n",
              "    <tr>\n",
              "      <th>SOUAGPQ12A8AE47B3A</th>\n",
              "      <td>920</td>\n",
              "      <td>50996bbabb6f7857bf0c8019435b5246a0e45cfd</td>\n",
              "    </tr>\n",
              "    <tr>\n",
              "      <th>SOKOSPK12A8C13C088</th>\n",
              "      <td>879</td>\n",
              "      <td>5ea608df0357ec4fda191cb9316fe8e6e65e3777</td>\n",
              "    </tr>\n",
              "    <tr>\n",
              "      <th>SOZQSVB12A8C13C271</th>\n",
              "      <td>796</td>\n",
              "      <td>bb85bb79612e5373ac714fcd4469cabeb5ed94e1</td>\n",
              "    </tr>\n",
              "    <tr>\n",
              "      <th>SOBONKR12A58A7A7E0</th>\n",
              "      <td>683</td>\n",
              "      <td>c012ec364329bb08cbe3e62fe76db31f8c5d8ec3</td>\n",
              "    </tr>\n",
              "    <tr>\n",
              "      <th>...</th>\n",
              "      <td>...</td>\n",
              "      <td>...</td>\n",
              "    </tr>\n",
              "    <tr>\n",
              "      <th>SOPRQRO12AB018906E</th>\n",
              "      <td>1</td>\n",
              "      <td>25fc0200450bbf726c8511fabe31ecfdb81732eb3fd3ac...</td>\n",
              "    </tr>\n",
              "    <tr>\n",
              "      <th>SOPROPB12A8C1385BD</th>\n",
              "      <td>1</td>\n",
              "      <td>732f88be38fae217f8ab7e24c20dd072436e3e40b12c78...</td>\n",
              "    </tr>\n",
              "    <tr>\n",
              "      <th>SOPROEW12A6D4FD0F7</th>\n",
              "      <td>1</td>\n",
              "      <td>4691b4c353503da2c108e372ff056a9ac847c4d1fb51c7...</td>\n",
              "    </tr>\n",
              "    <tr>\n",
              "      <th>SOPRNPL12A6D4FD323</th>\n",
              "      <td>1</td>\n",
              "      <td>ed789db32c9ccb59fb75e04a2b923b0f4777ae07b055b6...</td>\n",
              "    </tr>\n",
              "    <tr>\n",
              "      <th>SOMTXSB12AF72ACC38</th>\n",
              "      <td>1</td>\n",
              "      <td>685480702e45a90a3b38b543941d8ebb422aeef38f0e25...</td>\n",
              "    </tr>\n",
              "  </tbody>\n",
              "</table>\n",
              "<p>140228 rows × 2 columns</p>\n",
              "</div>"
            ],
            "text/plain": [
              "                    play_count                                            user_id\n",
              "song_id                                                                          \n",
              "SOFCGSE12AF72A674F        2213           d13609d62db6df876d3cc388225478618bb7b912\n",
              "SOUAGPQ12A8AE47B3A         920           50996bbabb6f7857bf0c8019435b5246a0e45cfd\n",
              "SOKOSPK12A8C13C088         879           5ea608df0357ec4fda191cb9316fe8e6e65e3777\n",
              "SOZQSVB12A8C13C271         796           bb85bb79612e5373ac714fcd4469cabeb5ed94e1\n",
              "SOBONKR12A58A7A7E0         683           c012ec364329bb08cbe3e62fe76db31f8c5d8ec3\n",
              "...                        ...                                                ...\n",
              "SOPRQRO12AB018906E           1  25fc0200450bbf726c8511fabe31ecfdb81732eb3fd3ac...\n",
              "SOPROPB12A8C1385BD           1  732f88be38fae217f8ab7e24c20dd072436e3e40b12c78...\n",
              "SOPROEW12A6D4FD0F7           1  4691b4c353503da2c108e372ff056a9ac847c4d1fb51c7...\n",
              "SOPRNPL12A6D4FD323           1  ed789db32c9ccb59fb75e04a2b923b0f4777ae07b055b6...\n",
              "SOMTXSB12AF72ACC38           1  685480702e45a90a3b38b543941d8ebb422aeef38f0e25...\n",
              "\n",
              "[140228 rows x 2 columns]"
            ]
          },
          "metadata": {
            "tags": []
          },
          "execution_count": 25
        }
      ]
    },
    {
      "cell_type": "code",
      "metadata": {
        "id": "DBAlLjTqF25p"
      },
      "source": [
        "songs_play_count_df=pd.merge(sorted_play_counts_df,song_data,on='song_id')"
      ],
      "execution_count": 26,
      "outputs": []
    },
    {
      "cell_type": "code",
      "metadata": {
        "id": "9Tnyv6GgG50s",
        "colab": {
          "base_uri": "https://localhost:8080/",
          "height": 539
        },
        "outputId": "d2461ebf-7375-46e1-823f-f6b41ee97474"
      },
      "source": [
        "songs_play_count_df"
      ],
      "execution_count": 27,
      "outputs": [
        {
          "output_type": "execute_result",
          "data": {
            "text/html": [
              "<div>\n",
              "<style scoped>\n",
              "    .dataframe tbody tr th:only-of-type {\n",
              "        vertical-align: middle;\n",
              "    }\n",
              "\n",
              "    .dataframe tbody tr th {\n",
              "        vertical-align: top;\n",
              "    }\n",
              "\n",
              "    .dataframe thead th {\n",
              "        text-align: right;\n",
              "    }\n",
              "</style>\n",
              "<table border=\"1\" class=\"dataframe\">\n",
              "  <thead>\n",
              "    <tr style=\"text-align: right;\">\n",
              "      <th></th>\n",
              "      <th>song_id</th>\n",
              "      <th>play_count</th>\n",
              "      <th>user_id</th>\n",
              "      <th>Unnamed: 0</th>\n",
              "      <th>title</th>\n",
              "      <th>release</th>\n",
              "      <th>artist_name</th>\n",
              "      <th>year</th>\n",
              "      <th>artist_gender</th>\n",
              "    </tr>\n",
              "  </thead>\n",
              "  <tbody>\n",
              "    <tr>\n",
              "      <th>0</th>\n",
              "      <td>SOFCGSE12AF72A674F</td>\n",
              "      <td>2213</td>\n",
              "      <td>d13609d62db6df876d3cc388225478618bb7b912</td>\n",
              "      <td>567847</td>\n",
              "      <td>Starshine</td>\n",
              "      <td>Gorillaz</td>\n",
              "      <td>Gorillaz</td>\n",
              "      <td>2000</td>\n",
              "      <td>male</td>\n",
              "    </tr>\n",
              "    <tr>\n",
              "      <th>1</th>\n",
              "      <td>SOFCGSE12AF72A674F</td>\n",
              "      <td>26</td>\n",
              "      <td>a2f4a835133971255b6153bcd3472f2d9c414c1f</td>\n",
              "      <td>567847</td>\n",
              "      <td>Starshine</td>\n",
              "      <td>Gorillaz</td>\n",
              "      <td>Gorillaz</td>\n",
              "      <td>2000</td>\n",
              "      <td>male</td>\n",
              "    </tr>\n",
              "    <tr>\n",
              "      <th>2</th>\n",
              "      <td>SOFCGSE12AF72A674F</td>\n",
              "      <td>9</td>\n",
              "      <td>5843a275e43c5de3b77b6c5f0e9d521fadef2560</td>\n",
              "      <td>567847</td>\n",
              "      <td>Starshine</td>\n",
              "      <td>Gorillaz</td>\n",
              "      <td>Gorillaz</td>\n",
              "      <td>2000</td>\n",
              "      <td>male</td>\n",
              "    </tr>\n",
              "    <tr>\n",
              "      <th>3</th>\n",
              "      <td>SOFCGSE12AF72A674F</td>\n",
              "      <td>7</td>\n",
              "      <td>d45dadf7dd306b2f17afa48555c8d10cc2be219ed5a8ef...</td>\n",
              "      <td>567847</td>\n",
              "      <td>Starshine</td>\n",
              "      <td>Gorillaz</td>\n",
              "      <td>Gorillaz</td>\n",
              "      <td>2000</td>\n",
              "      <td>male</td>\n",
              "    </tr>\n",
              "    <tr>\n",
              "      <th>4</th>\n",
              "      <td>SOFCGSE12AF72A674F</td>\n",
              "      <td>6</td>\n",
              "      <td>d029b50513fe385d6b40b237da1ec0bf8745df6fee4feb...</td>\n",
              "      <td>567847</td>\n",
              "      <td>Starshine</td>\n",
              "      <td>Gorillaz</td>\n",
              "      <td>Gorillaz</td>\n",
              "      <td>2000</td>\n",
              "      <td>male</td>\n",
              "    </tr>\n",
              "    <tr>\n",
              "      <th>...</th>\n",
              "      <td>...</td>\n",
              "      <td>...</td>\n",
              "      <td>...</td>\n",
              "      <td>...</td>\n",
              "      <td>...</td>\n",
              "      <td>...</td>\n",
              "      <td>...</td>\n",
              "      <td>...</td>\n",
              "      <td>...</td>\n",
              "    </tr>\n",
              "    <tr>\n",
              "      <th>144347</th>\n",
              "      <td>SOSVQPX12A8C14078C</td>\n",
              "      <td>1</td>\n",
              "      <td>7da61f8ef076d56881f244daf7fc92e1f7872d563d7d0b...</td>\n",
              "      <td>561982</td>\n",
              "      <td>Pree-Sisters Swallowing a Donkey's Eye</td>\n",
              "      <td>On Avery Island</td>\n",
              "      <td>Neutral Milk Hotel</td>\n",
              "      <td>1996</td>\n",
              "      <td>male</td>\n",
              "    </tr>\n",
              "    <tr>\n",
              "      <th>144348</th>\n",
              "      <td>SOSLEFC12A6D4FC740</td>\n",
              "      <td>2</td>\n",
              "      <td>3d70fa5a6c04cf7fdfc43e73cee80fff24e8bed15cb3fc...</td>\n",
              "      <td>908288</td>\n",
              "      <td>Slan Le Maige</td>\n",
              "      <td>Heroes</td>\n",
              "      <td>Reel Feelings</td>\n",
              "      <td>0</td>\n",
              "      <td>male</td>\n",
              "    </tr>\n",
              "    <tr>\n",
              "      <th>144349</th>\n",
              "      <td>SOSLEFC12A6D4FC740</td>\n",
              "      <td>1</td>\n",
              "      <td>5a905f000fc1ff3df7ca807d57edb608863db05d8b0578...</td>\n",
              "      <td>908288</td>\n",
              "      <td>Slan Le Maige</td>\n",
              "      <td>Heroes</td>\n",
              "      <td>Reel Feelings</td>\n",
              "      <td>0</td>\n",
              "      <td>male</td>\n",
              "    </tr>\n",
              "    <tr>\n",
              "      <th>144350</th>\n",
              "      <td>SOXDPFW12A81C2319B</td>\n",
              "      <td>2</td>\n",
              "      <td>62c39ebced70b7a604682b8311215af24bf72ede0e5696...</td>\n",
              "      <td>641362</td>\n",
              "      <td>Ribbons</td>\n",
              "      <td>Ringer</td>\n",
              "      <td>Four Tet</td>\n",
              "      <td>2008</td>\n",
              "      <td>male</td>\n",
              "    </tr>\n",
              "    <tr>\n",
              "      <th>144351</th>\n",
              "      <td>SOXDPFW12A81C2319B</td>\n",
              "      <td>1</td>\n",
              "      <td>176e3f8a0eb8bb540a0e731230fdea7147c357da17c51e...</td>\n",
              "      <td>641362</td>\n",
              "      <td>Ribbons</td>\n",
              "      <td>Ringer</td>\n",
              "      <td>Four Tet</td>\n",
              "      <td>2008</td>\n",
              "      <td>male</td>\n",
              "    </tr>\n",
              "  </tbody>\n",
              "</table>\n",
              "<p>144352 rows × 9 columns</p>\n",
              "</div>"
            ],
            "text/plain": [
              "                   song_id  play_count  ...  year  artist_gender\n",
              "0       SOFCGSE12AF72A674F        2213  ...  2000           male\n",
              "1       SOFCGSE12AF72A674F          26  ...  2000           male\n",
              "2       SOFCGSE12AF72A674F           9  ...  2000           male\n",
              "3       SOFCGSE12AF72A674F           7  ...  2000           male\n",
              "4       SOFCGSE12AF72A674F           6  ...  2000           male\n",
              "...                    ...         ...  ...   ...            ...\n",
              "144347  SOSVQPX12A8C14078C           1  ...  1996           male\n",
              "144348  SOSLEFC12A6D4FC740           2  ...     0           male\n",
              "144349  SOSLEFC12A6D4FC740           1  ...     0           male\n",
              "144350  SOXDPFW12A81C2319B           2  ...  2008           male\n",
              "144351  SOXDPFW12A81C2319B           1  ...  2008           male\n",
              "\n",
              "[144352 rows x 9 columns]"
            ]
          },
          "metadata": {
            "tags": []
          },
          "execution_count": 27
        }
      ]
    },
    {
      "cell_type": "markdown",
      "metadata": {
        "id": "MCf8S3qzHB5t"
      },
      "source": [
        "**COMMENT**\n",
        "**songs_play_count_df has total rows of 142490 rows afer pd merge**"
      ]
    },
    {
      "cell_type": "code",
      "metadata": {
        "id": "uX1gepTjG_a-",
        "colab": {
          "base_uri": "https://localhost:8080/"
        },
        "outputId": "abae9321-ce8a-488e-9045-e74d814f2415"
      },
      "source": [
        "songs_play_count_df.isnull().any() # reconfirming presence of any null values."
      ],
      "execution_count": 28,
      "outputs": [
        {
          "output_type": "execute_result",
          "data": {
            "text/plain": [
              "song_id          False\n",
              "play_count       False\n",
              "user_id          False\n",
              "Unnamed: 0       False\n",
              "title            False\n",
              "release          False\n",
              "artist_name      False\n",
              "year             False\n",
              "artist_gender    False\n",
              "dtype: bool"
            ]
          },
          "metadata": {
            "tags": []
          },
          "execution_count": 28
        }
      ]
    },
    {
      "cell_type": "markdown",
      "metadata": {
        "id": "vi6d-jDXHevk"
      },
      "source": [
        "**There are no null values**"
      ]
    },
    {
      "cell_type": "code",
      "metadata": {
        "id": "Ga65i9stHWAt",
        "colab": {
          "base_uri": "https://localhost:8080/",
          "height": 774
        },
        "outputId": "e6aeb3eb-e698-42db-fc3b-d45a0030afbd"
      },
      "source": [
        "songs_play_count_df[songs_play_count_df['song_id']=='SOBONKR12A58A7A7E0']"
      ],
      "execution_count": 29,
      "outputs": [
        {
          "output_type": "execute_result",
          "data": {
            "text/html": [
              "<div>\n",
              "<style scoped>\n",
              "    .dataframe tbody tr th:only-of-type {\n",
              "        vertical-align: middle;\n",
              "    }\n",
              "\n",
              "    .dataframe tbody tr th {\n",
              "        vertical-align: top;\n",
              "    }\n",
              "\n",
              "    .dataframe thead th {\n",
              "        text-align: right;\n",
              "    }\n",
              "</style>\n",
              "<table border=\"1\" class=\"dataframe\">\n",
              "  <thead>\n",
              "    <tr style=\"text-align: right;\">\n",
              "      <th></th>\n",
              "      <th>song_id</th>\n",
              "      <th>play_count</th>\n",
              "      <th>user_id</th>\n",
              "      <th>Unnamed: 0</th>\n",
              "      <th>title</th>\n",
              "      <th>release</th>\n",
              "      <th>artist_name</th>\n",
              "      <th>year</th>\n",
              "      <th>artist_gender</th>\n",
              "    </tr>\n",
              "  </thead>\n",
              "  <tbody>\n",
              "    <tr>\n",
              "      <th>89</th>\n",
              "      <td>SOBONKR12A58A7A7E0</td>\n",
              "      <td>683</td>\n",
              "      <td>c012ec364329bb08cbe3e62fe76db31f8c5d8ec3</td>\n",
              "      <td>448841</td>\n",
              "      <td>You're The One</td>\n",
              "      <td>If There Was A Way</td>\n",
              "      <td>Dwight Yoakam</td>\n",
              "      <td>1990</td>\n",
              "      <td>male</td>\n",
              "    </tr>\n",
              "    <tr>\n",
              "      <th>90</th>\n",
              "      <td>SOBONKR12A58A7A7E0</td>\n",
              "      <td>446</td>\n",
              "      <td>66ff466e107e9bcd7c6f2c59501ed0d7844c26c0</td>\n",
              "      <td>448841</td>\n",
              "      <td>You're The One</td>\n",
              "      <td>If There Was A Way</td>\n",
              "      <td>Dwight Yoakam</td>\n",
              "      <td>1990</td>\n",
              "      <td>male</td>\n",
              "    </tr>\n",
              "    <tr>\n",
              "      <th>91</th>\n",
              "      <td>SOBONKR12A58A7A7E0</td>\n",
              "      <td>359</td>\n",
              "      <td>9c82c3083bc78157017cb31de4105e06d3f153f5</td>\n",
              "      <td>448841</td>\n",
              "      <td>You're The One</td>\n",
              "      <td>If There Was A Way</td>\n",
              "      <td>Dwight Yoakam</td>\n",
              "      <td>1990</td>\n",
              "      <td>male</td>\n",
              "    </tr>\n",
              "    <tr>\n",
              "      <th>92</th>\n",
              "      <td>SOBONKR12A58A7A7E0</td>\n",
              "      <td>271</td>\n",
              "      <td>6a944bfe30ae8d6b873139e8305ae131f1607d5f</td>\n",
              "      <td>448841</td>\n",
              "      <td>You're The One</td>\n",
              "      <td>If There Was A Way</td>\n",
              "      <td>Dwight Yoakam</td>\n",
              "      <td>1990</td>\n",
              "      <td>male</td>\n",
              "    </tr>\n",
              "    <tr>\n",
              "      <th>93</th>\n",
              "      <td>SOBONKR12A58A7A7E0</td>\n",
              "      <td>225</td>\n",
              "      <td>a0b5dcfe540fc177349d6f6063099bab8cd16da9</td>\n",
              "      <td>448841</td>\n",
              "      <td>You're The One</td>\n",
              "      <td>If There Was A Way</td>\n",
              "      <td>Dwight Yoakam</td>\n",
              "      <td>1990</td>\n",
              "      <td>male</td>\n",
              "    </tr>\n",
              "    <tr>\n",
              "      <th>...</th>\n",
              "      <td>...</td>\n",
              "      <td>...</td>\n",
              "      <td>...</td>\n",
              "      <td>...</td>\n",
              "      <td>...</td>\n",
              "      <td>...</td>\n",
              "      <td>...</td>\n",
              "      <td>...</td>\n",
              "      <td>...</td>\n",
              "    </tr>\n",
              "    <tr>\n",
              "      <th>199</th>\n",
              "      <td>SOBONKR12A58A7A7E0</td>\n",
              "      <td>5</td>\n",
              "      <td>3f9ed694a79835c921ef6d94acd28f876c1d901e8bc273...</td>\n",
              "      <td>448841</td>\n",
              "      <td>You're The One</td>\n",
              "      <td>If There Was A Way</td>\n",
              "      <td>Dwight Yoakam</td>\n",
              "      <td>1990</td>\n",
              "      <td>male</td>\n",
              "    </tr>\n",
              "    <tr>\n",
              "      <th>200</th>\n",
              "      <td>SOBONKR12A58A7A7E0</td>\n",
              "      <td>4</td>\n",
              "      <td>179b2286bb4eea7193bcfa0c36fcfa4eade2b34d766103...</td>\n",
              "      <td>448841</td>\n",
              "      <td>You're The One</td>\n",
              "      <td>If There Was A Way</td>\n",
              "      <td>Dwight Yoakam</td>\n",
              "      <td>1990</td>\n",
              "      <td>male</td>\n",
              "    </tr>\n",
              "    <tr>\n",
              "      <th>201</th>\n",
              "      <td>SOBONKR12A58A7A7E0</td>\n",
              "      <td>3</td>\n",
              "      <td>be0a4b64e9689c46e94b5a9a9c7910ee61aeb16ffd585a...</td>\n",
              "      <td>448841</td>\n",
              "      <td>You're The One</td>\n",
              "      <td>If There Was A Way</td>\n",
              "      <td>Dwight Yoakam</td>\n",
              "      <td>1990</td>\n",
              "      <td>male</td>\n",
              "    </tr>\n",
              "    <tr>\n",
              "      <th>202</th>\n",
              "      <td>SOBONKR12A58A7A7E0</td>\n",
              "      <td>2</td>\n",
              "      <td>e006b1a48f466bf59feefed32bec6494495a44362b6c2f...</td>\n",
              "      <td>448841</td>\n",
              "      <td>You're The One</td>\n",
              "      <td>If There Was A Way</td>\n",
              "      <td>Dwight Yoakam</td>\n",
              "      <td>1990</td>\n",
              "      <td>male</td>\n",
              "    </tr>\n",
              "    <tr>\n",
              "      <th>203</th>\n",
              "      <td>SOBONKR12A58A7A7E0</td>\n",
              "      <td>1</td>\n",
              "      <td>73d0a0c725c9b2c541635672bb0572bfcb7eb2b495773b...</td>\n",
              "      <td>448841</td>\n",
              "      <td>You're The One</td>\n",
              "      <td>If There Was A Way</td>\n",
              "      <td>Dwight Yoakam</td>\n",
              "      <td>1990</td>\n",
              "      <td>male</td>\n",
              "    </tr>\n",
              "  </tbody>\n",
              "</table>\n",
              "<p>115 rows × 9 columns</p>\n",
              "</div>"
            ],
            "text/plain": [
              "                song_id  play_count  ...  year  artist_gender\n",
              "89   SOBONKR12A58A7A7E0         683  ...  1990           male\n",
              "90   SOBONKR12A58A7A7E0         446  ...  1990           male\n",
              "91   SOBONKR12A58A7A7E0         359  ...  1990           male\n",
              "92   SOBONKR12A58A7A7E0         271  ...  1990           male\n",
              "93   SOBONKR12A58A7A7E0         225  ...  1990           male\n",
              "..                  ...         ...  ...   ...            ...\n",
              "199  SOBONKR12A58A7A7E0           5  ...  1990           male\n",
              "200  SOBONKR12A58A7A7E0           4  ...  1990           male\n",
              "201  SOBONKR12A58A7A7E0           3  ...  1990           male\n",
              "202  SOBONKR12A58A7A7E0           2  ...  1990           male\n",
              "203  SOBONKR12A58A7A7E0           1  ...  1990           male\n",
              "\n",
              "[115 rows x 9 columns]"
            ]
          },
          "metadata": {
            "tags": []
          },
          "execution_count": 29
        }
      ]
    },
    {
      "cell_type": "markdown",
      "metadata": {
        "id": "nRPKgB5QISwd"
      },
      "source": [
        "**COMMENT:**\n",
        "specific song_id = **SOFCGSE12AF72A674F** show that a user_id = **d13609d62db6df876d3cc388225478618bb7b912** has played it 2213 times, must be a crazy listner as the next best is only 26"
      ]
    },
    {
      "cell_type": "code",
      "metadata": {
        "id": "IGHuFd0xa-B_"
      },
      "source": [
        "# Making a dataframe where we have summation of times song is played in general and played by distincet users i.e count_play_count.(Number of times we have play_count for the users)\r\n",
        "sum_play_count = songs_play_count_df.groupby('song_id').sum()['play_count']\r\n",
        "count_play_count = songs_play_count_df.groupby('song_id').count()['play_count']\r\n",
        "final_play_count=pd.DataFrame({'sum_play_count':sum_play_count,'count_play_count':count_play_count})"
      ],
      "execution_count": 30,
      "outputs": []
    },
    {
      "cell_type": "markdown",
      "metadata": {
        "id": "0muOjMo-dYVh"
      },
      "source": [
        "# Merge IMDb with Song Data"
      ]
    },
    {
      "cell_type": "code",
      "metadata": {
        "id": "oBQkNxUEdTLs"
      },
      "source": [
        "imdb_merge=pd.merge(df_akas_data,df_rating_data,left_on='titleId',right_on='tconst')"
      ],
      "execution_count": 31,
      "outputs": []
    },
    {
      "cell_type": "markdown",
      "metadata": {
        "id": "7HHze9Kwew0e"
      },
      "source": [
        "**COMMENT:**\n",
        "IMDb song titles and IMDb ratings data merged"
      ]
    },
    {
      "cell_type": "code",
      "metadata": {
        "id": "1_MJQRaNeuiX"
      },
      "source": [
        "imdb_merge=imdb_merge[imdb_merge.ordering==1] #filtering further to remove duplicate titles"
      ],
      "execution_count": 32,
      "outputs": []
    },
    {
      "cell_type": "code",
      "metadata": {
        "colab": {
          "base_uri": "https://localhost:8080/"
        },
        "id": "fnwJHMcDe7uS",
        "outputId": "b60e324c-2d00-4130-e150-bbaaac706881"
      },
      "source": [
        "imdb_merge.info()"
      ],
      "execution_count": 33,
      "outputs": [
        {
          "output_type": "stream",
          "text": [
            "<class 'pandas.core.frame.DataFrame'>\n",
            "Int64Index: 832707 entries, 0 to 3048144\n",
            "Data columns (total 11 columns):\n",
            " #   Column           Non-Null Count   Dtype  \n",
            "---  ------           --------------   -----  \n",
            " 0   titleId          832707 non-null  object \n",
            " 1   ordering         832707 non-null  int64  \n",
            " 2   title            832707 non-null  object \n",
            " 3   region           832694 non-null  object \n",
            " 4   language         832707 non-null  object \n",
            " 5   types            832707 non-null  object \n",
            " 6   attributes       832707 non-null  object \n",
            " 7   isOriginalTitle  832707 non-null  object \n",
            " 8   tconst           832707 non-null  object \n",
            " 9   averageRating    832707 non-null  float64\n",
            " 10  numVotes         832707 non-null  int64  \n",
            "dtypes: float64(1), int64(2), object(8)\n",
            "memory usage: 76.2+ MB\n"
          ],
          "name": "stdout"
        }
      ]
    },
    {
      "cell_type": "code",
      "metadata": {
        "id": "Bs4i_jYzjz2B",
        "colab": {
          "base_uri": "https://localhost:8080/",
          "height": 521
        },
        "outputId": "3d67d80c-702c-4618-da44-8a3276022537"
      },
      "source": [
        "imdb_merge[imdb_merge.title=='Silent Night'] #Silent Night, Carmencita, Tomorrow Is Ours"
      ],
      "execution_count": 34,
      "outputs": [
        {
          "output_type": "execute_result",
          "data": {
            "text/html": [
              "<div>\n",
              "<style scoped>\n",
              "    .dataframe tbody tr th:only-of-type {\n",
              "        vertical-align: middle;\n",
              "    }\n",
              "\n",
              "    .dataframe tbody tr th {\n",
              "        vertical-align: top;\n",
              "    }\n",
              "\n",
              "    .dataframe thead th {\n",
              "        text-align: right;\n",
              "    }\n",
              "</style>\n",
              "<table border=\"1\" class=\"dataframe\">\n",
              "  <thead>\n",
              "    <tr style=\"text-align: right;\">\n",
              "      <th></th>\n",
              "      <th>titleId</th>\n",
              "      <th>ordering</th>\n",
              "      <th>title</th>\n",
              "      <th>region</th>\n",
              "      <th>language</th>\n",
              "      <th>types</th>\n",
              "      <th>attributes</th>\n",
              "      <th>isOriginalTitle</th>\n",
              "      <th>tconst</th>\n",
              "      <th>averageRating</th>\n",
              "      <th>numVotes</th>\n",
              "    </tr>\n",
              "  </thead>\n",
              "  <tbody>\n",
              "    <tr>\n",
              "      <th>848977</th>\n",
              "      <td>tt0138427</td>\n",
              "      <td>1</td>\n",
              "      <td>Silent Night</td>\n",
              "      <td>DE</td>\n",
              "      <td>\\N</td>\n",
              "      <td>\\N</td>\n",
              "      <td>\\N</td>\n",
              "      <td>0</td>\n",
              "      <td>tt0138427</td>\n",
              "      <td>7.10</td>\n",
              "      <td>149</td>\n",
              "    </tr>\n",
              "    <tr>\n",
              "      <th>1335463</th>\n",
              "      <td>tt0457474</td>\n",
              "      <td>1</td>\n",
              "      <td>Silent Night</td>\n",
              "      <td>US</td>\n",
              "      <td>\\N</td>\n",
              "      <td>\\N</td>\n",
              "      <td>\\N</td>\n",
              "      <td>0</td>\n",
              "      <td>tt0457474</td>\n",
              "      <td>7.40</td>\n",
              "      <td>31</td>\n",
              "    </tr>\n",
              "    <tr>\n",
              "      <th>1388489</th>\n",
              "      <td>tt0511712</td>\n",
              "      <td>1</td>\n",
              "      <td>Silent Night</td>\n",
              "      <td>US</td>\n",
              "      <td>\\N</td>\n",
              "      <td>\\N</td>\n",
              "      <td>\\N</td>\n",
              "      <td>0</td>\n",
              "      <td>tt0511712</td>\n",
              "      <td>8.60</td>\n",
              "      <td>14</td>\n",
              "    </tr>\n",
              "    <tr>\n",
              "      <th>1539708</th>\n",
              "      <td>tt0824401</td>\n",
              "      <td>1</td>\n",
              "      <td>Silent Night</td>\n",
              "      <td>XWW</td>\n",
              "      <td>en</td>\n",
              "      <td>\\N</td>\n",
              "      <td>\\N</td>\n",
              "      <td>0</td>\n",
              "      <td>tt0824401</td>\n",
              "      <td>5.60</td>\n",
              "      <td>12</td>\n",
              "    </tr>\n",
              "    <tr>\n",
              "      <th>1596299</th>\n",
              "      <td>tt0915979</td>\n",
              "      <td>1</td>\n",
              "      <td>Silent Night</td>\n",
              "      <td>GB</td>\n",
              "      <td>\\N</td>\n",
              "      <td>\\N</td>\n",
              "      <td>\\N</td>\n",
              "      <td>0</td>\n",
              "      <td>tt0915979</td>\n",
              "      <td>9.60</td>\n",
              "      <td>7</td>\n",
              "    </tr>\n",
              "    <tr>\n",
              "      <th>1763592</th>\n",
              "      <td>tt1131980</td>\n",
              "      <td>1</td>\n",
              "      <td>Silent Night</td>\n",
              "      <td>AU</td>\n",
              "      <td>\\N</td>\n",
              "      <td>\\N</td>\n",
              "      <td>\\N</td>\n",
              "      <td>0</td>\n",
              "      <td>tt1131980</td>\n",
              "      <td>8.40</td>\n",
              "      <td>27</td>\n",
              "    </tr>\n",
              "    <tr>\n",
              "      <th>1862463</th>\n",
              "      <td>tt1256286</td>\n",
              "      <td>1</td>\n",
              "      <td>Silent Night</td>\n",
              "      <td>US</td>\n",
              "      <td>\\N</td>\n",
              "      <td>\\N</td>\n",
              "      <td>\\N</td>\n",
              "      <td>0</td>\n",
              "      <td>tt1256286</td>\n",
              "      <td>7.90</td>\n",
              "      <td>612</td>\n",
              "    </tr>\n",
              "    <tr>\n",
              "      <th>2195436</th>\n",
              "      <td>tt2098189</td>\n",
              "      <td>1</td>\n",
              "      <td>Silent Night</td>\n",
              "      <td>CA</td>\n",
              "      <td>\\N</td>\n",
              "      <td>\\N</td>\n",
              "      <td>\\N</td>\n",
              "      <td>0</td>\n",
              "      <td>tt2098189</td>\n",
              "      <td>8.00</td>\n",
              "      <td>381</td>\n",
              "    </tr>\n",
              "    <tr>\n",
              "      <th>2233784</th>\n",
              "      <td>tt2234417</td>\n",
              "      <td>1</td>\n",
              "      <td>Silent Night</td>\n",
              "      <td>AU</td>\n",
              "      <td>\\N</td>\n",
              "      <td>\\N</td>\n",
              "      <td>\\N</td>\n",
              "      <td>0</td>\n",
              "      <td>tt2234417</td>\n",
              "      <td>7.80</td>\n",
              "      <td>6</td>\n",
              "    </tr>\n",
              "    <tr>\n",
              "      <th>2239939</th>\n",
              "      <td>tt2254133</td>\n",
              "      <td>1</td>\n",
              "      <td>Silent Night</td>\n",
              "      <td>\\N</td>\n",
              "      <td>\\N</td>\n",
              "      <td>original</td>\n",
              "      <td>\\N</td>\n",
              "      <td>1</td>\n",
              "      <td>tt2254133</td>\n",
              "      <td>6.80</td>\n",
              "      <td>5</td>\n",
              "    </tr>\n",
              "    <tr>\n",
              "      <th>2265706</th>\n",
              "      <td>tt2347497</td>\n",
              "      <td>1</td>\n",
              "      <td>Silent Night</td>\n",
              "      <td>\\N</td>\n",
              "      <td>\\N</td>\n",
              "      <td>original</td>\n",
              "      <td>\\N</td>\n",
              "      <td>1</td>\n",
              "      <td>tt2347497</td>\n",
              "      <td>5.20</td>\n",
              "      <td>7594</td>\n",
              "    </tr>\n",
              "    <tr>\n",
              "      <th>2308801</th>\n",
              "      <td>tt2562132</td>\n",
              "      <td>1</td>\n",
              "      <td>Silent Night</td>\n",
              "      <td>\\N</td>\n",
              "      <td>\\N</td>\n",
              "      <td>original</td>\n",
              "      <td>\\N</td>\n",
              "      <td>1</td>\n",
              "      <td>tt2562132</td>\n",
              "      <td>7.00</td>\n",
              "      <td>156</td>\n",
              "    </tr>\n",
              "    <tr>\n",
              "      <th>2664378</th>\n",
              "      <td>tt5345666</td>\n",
              "      <td>1</td>\n",
              "      <td>Silent Night</td>\n",
              "      <td>GB</td>\n",
              "      <td>\\N</td>\n",
              "      <td>\\N</td>\n",
              "      <td>\\N</td>\n",
              "      <td>0</td>\n",
              "      <td>tt5345666</td>\n",
              "      <td>5.90</td>\n",
              "      <td>8</td>\n",
              "    </tr>\n",
              "    <tr>\n",
              "      <th>2681653</th>\n",
              "      <td>tt5516786</td>\n",
              "      <td>1</td>\n",
              "      <td>Silent Night</td>\n",
              "      <td>US</td>\n",
              "      <td>\\N</td>\n",
              "      <td>\\N</td>\n",
              "      <td>\\N</td>\n",
              "      <td>0</td>\n",
              "      <td>tt5516786</td>\n",
              "      <td>8.00</td>\n",
              "      <td>6</td>\n",
              "    </tr>\n",
              "    <tr>\n",
              "      <th>2850182</th>\n",
              "      <td>tt7133554</td>\n",
              "      <td>1</td>\n",
              "      <td>Silent Night</td>\n",
              "      <td>XWW</td>\n",
              "      <td>en</td>\n",
              "      <td>imdbDisplay</td>\n",
              "      <td>\\N</td>\n",
              "      <td>0</td>\n",
              "      <td>tt7133554</td>\n",
              "      <td>7.20</td>\n",
              "      <td>1913</td>\n",
              "    </tr>\n",
              "    <tr>\n",
              "      <th>3039066</th>\n",
              "      <td>tt9752248</td>\n",
              "      <td>1</td>\n",
              "      <td>Silent Night</td>\n",
              "      <td>\\N</td>\n",
              "      <td>\\N</td>\n",
              "      <td>original</td>\n",
              "      <td>\\N</td>\n",
              "      <td>1</td>\n",
              "      <td>tt9752248</td>\n",
              "      <td>6.30</td>\n",
              "      <td>76</td>\n",
              "    </tr>\n",
              "  </tbody>\n",
              "</table>\n",
              "</div>"
            ],
            "text/plain": [
              "           titleId  ordering         title  ...     tconst averageRating numVotes\n",
              "848977   tt0138427         1  Silent Night  ...  tt0138427          7.10      149\n",
              "1335463  tt0457474         1  Silent Night  ...  tt0457474          7.40       31\n",
              "1388489  tt0511712         1  Silent Night  ...  tt0511712          8.60       14\n",
              "1539708  tt0824401         1  Silent Night  ...  tt0824401          5.60       12\n",
              "1596299  tt0915979         1  Silent Night  ...  tt0915979          9.60        7\n",
              "1763592  tt1131980         1  Silent Night  ...  tt1131980          8.40       27\n",
              "1862463  tt1256286         1  Silent Night  ...  tt1256286          7.90      612\n",
              "2195436  tt2098189         1  Silent Night  ...  tt2098189          8.00      381\n",
              "2233784  tt2234417         1  Silent Night  ...  tt2234417          7.80        6\n",
              "2239939  tt2254133         1  Silent Night  ...  tt2254133          6.80        5\n",
              "2265706  tt2347497         1  Silent Night  ...  tt2347497          5.20     7594\n",
              "2308801  tt2562132         1  Silent Night  ...  tt2562132          7.00      156\n",
              "2664378  tt5345666         1  Silent Night  ...  tt5345666          5.90        8\n",
              "2681653  tt5516786         1  Silent Night  ...  tt5516786          8.00        6\n",
              "2850182  tt7133554         1  Silent Night  ...  tt7133554          7.20     1913\n",
              "3039066  tt9752248         1  Silent Night  ...  tt9752248          6.30       76\n",
              "\n",
              "[16 rows x 11 columns]"
            ]
          },
          "metadata": {
            "tags": []
          },
          "execution_count": 34
        }
      ]
    },
    {
      "cell_type": "code",
      "metadata": {
        "id": "p3k5-JPhu8jf"
      },
      "source": [
        "song_imdb_merge=pd.merge(songs_play_count_df,imdb_merge,left_on='title',right_on='title') #Song data and IMDb rating data merged"
      ],
      "execution_count": 35,
      "outputs": []
    },
    {
      "cell_type": "code",
      "metadata": {
        "id": "kNowsqSE47An"
      },
      "source": [
        "song_imdb_merge.set_index('song_id',inplace=True) #Song data and IMDb rating data merged"
      ],
      "execution_count": 36,
      "outputs": []
    },
    {
      "cell_type": "markdown",
      "metadata": {
        "id": "7wBM9iMV-yZq"
      },
      "source": [
        "**COMMENT:**\n",
        "ABOVE DATA song_imdb_merge is of different regions and hence to get universal rating we can do an average of all regions and sum of numVotes"
      ]
    },
    {
      "cell_type": "code",
      "metadata": {
        "id": "LUlEFchA9x0Q",
        "colab": {
          "base_uri": "https://localhost:8080/",
          "height": 770
        },
        "outputId": "24644433-ae67-478e-c3c0-fd0cdc0f1dc7"
      },
      "source": [
        "song_imdb_merge[song_imdb_merge['numVotes']>20]"
      ],
      "execution_count": 37,
      "outputs": [
        {
          "output_type": "execute_result",
          "data": {
            "text/html": [
              "<div>\n",
              "<style scoped>\n",
              "    .dataframe tbody tr th:only-of-type {\n",
              "        vertical-align: middle;\n",
              "    }\n",
              "\n",
              "    .dataframe tbody tr th {\n",
              "        vertical-align: top;\n",
              "    }\n",
              "\n",
              "    .dataframe thead th {\n",
              "        text-align: right;\n",
              "    }\n",
              "</style>\n",
              "<table border=\"1\" class=\"dataframe\">\n",
              "  <thead>\n",
              "    <tr style=\"text-align: right;\">\n",
              "      <th></th>\n",
              "      <th>play_count</th>\n",
              "      <th>user_id</th>\n",
              "      <th>Unnamed: 0</th>\n",
              "      <th>title</th>\n",
              "      <th>release</th>\n",
              "      <th>artist_name</th>\n",
              "      <th>year</th>\n",
              "      <th>artist_gender</th>\n",
              "      <th>titleId</th>\n",
              "      <th>ordering</th>\n",
              "      <th>region</th>\n",
              "      <th>language</th>\n",
              "      <th>types</th>\n",
              "      <th>attributes</th>\n",
              "      <th>isOriginalTitle</th>\n",
              "      <th>tconst</th>\n",
              "      <th>averageRating</th>\n",
              "      <th>numVotes</th>\n",
              "    </tr>\n",
              "    <tr>\n",
              "      <th>song_id</th>\n",
              "      <th></th>\n",
              "      <th></th>\n",
              "      <th></th>\n",
              "      <th></th>\n",
              "      <th></th>\n",
              "      <th></th>\n",
              "      <th></th>\n",
              "      <th></th>\n",
              "      <th></th>\n",
              "      <th></th>\n",
              "      <th></th>\n",
              "      <th></th>\n",
              "      <th></th>\n",
              "      <th></th>\n",
              "      <th></th>\n",
              "      <th></th>\n",
              "      <th></th>\n",
              "      <th></th>\n",
              "    </tr>\n",
              "  </thead>\n",
              "  <tbody>\n",
              "    <tr>\n",
              "      <th>SOZPMJT12AAF3B40D1</th>\n",
              "      <td>585</td>\n",
              "      <td>f1bdbb9fb7399b402a09fa124210dedf78e76034</td>\n",
              "      <td>577438</td>\n",
              "      <td>The Quest</td>\n",
              "      <td>A Taste Of Extreme Divinity</td>\n",
              "      <td>HYPOCRISY</td>\n",
              "      <td>2009</td>\n",
              "      <td>female</td>\n",
              "      <td>tt0074041</td>\n",
              "      <td>1</td>\n",
              "      <td>US</td>\n",
              "      <td>\\N</td>\n",
              "      <td>\\N</td>\n",
              "      <td>\\N</td>\n",
              "      <td>0</td>\n",
              "      <td>tt0074041</td>\n",
              "      <td>7.20</td>\n",
              "      <td>176</td>\n",
              "    </tr>\n",
              "    <tr>\n",
              "      <th>SOZPMJT12AAF3B40D1</th>\n",
              "      <td>585</td>\n",
              "      <td>f1bdbb9fb7399b402a09fa124210dedf78e76034</td>\n",
              "      <td>577438</td>\n",
              "      <td>The Quest</td>\n",
              "      <td>A Taste Of Extreme Divinity</td>\n",
              "      <td>HYPOCRISY</td>\n",
              "      <td>2009</td>\n",
              "      <td>female</td>\n",
              "      <td>tt0117420</td>\n",
              "      <td>1</td>\n",
              "      <td>AU</td>\n",
              "      <td>\\N</td>\n",
              "      <td>imdbDisplay</td>\n",
              "      <td>\\N</td>\n",
              "      <td>0</td>\n",
              "      <td>tt0117420</td>\n",
              "      <td>5.60</td>\n",
              "      <td>24134</td>\n",
              "    </tr>\n",
              "    <tr>\n",
              "      <th>SOZPMJT12AAF3B40D1</th>\n",
              "      <td>585</td>\n",
              "      <td>f1bdbb9fb7399b402a09fa124210dedf78e76034</td>\n",
              "      <td>577438</td>\n",
              "      <td>The Quest</td>\n",
              "      <td>A Taste Of Extreme Divinity</td>\n",
              "      <td>HYPOCRISY</td>\n",
              "      <td>2009</td>\n",
              "      <td>female</td>\n",
              "      <td>tt0316462</td>\n",
              "      <td>1</td>\n",
              "      <td>GB</td>\n",
              "      <td>\\N</td>\n",
              "      <td>\\N</td>\n",
              "      <td>\\N</td>\n",
              "      <td>0</td>\n",
              "      <td>tt0316462</td>\n",
              "      <td>7.80</td>\n",
              "      <td>71</td>\n",
              "    </tr>\n",
              "    <tr>\n",
              "      <th>SOZPMJT12AAF3B40D1</th>\n",
              "      <td>585</td>\n",
              "      <td>f1bdbb9fb7399b402a09fa124210dedf78e76034</td>\n",
              "      <td>577438</td>\n",
              "      <td>The Quest</td>\n",
              "      <td>A Taste Of Extreme Divinity</td>\n",
              "      <td>HYPOCRISY</td>\n",
              "      <td>2009</td>\n",
              "      <td>female</td>\n",
              "      <td>tt0529800</td>\n",
              "      <td>1</td>\n",
              "      <td>US</td>\n",
              "      <td>\\N</td>\n",
              "      <td>\\N</td>\n",
              "      <td>\\N</td>\n",
              "      <td>0</td>\n",
              "      <td>tt0529800</td>\n",
              "      <td>7.50</td>\n",
              "      <td>72</td>\n",
              "    </tr>\n",
              "    <tr>\n",
              "      <th>SOZPMJT12AAF3B40D1</th>\n",
              "      <td>585</td>\n",
              "      <td>f1bdbb9fb7399b402a09fa124210dedf78e76034</td>\n",
              "      <td>577438</td>\n",
              "      <td>The Quest</td>\n",
              "      <td>A Taste Of Extreme Divinity</td>\n",
              "      <td>HYPOCRISY</td>\n",
              "      <td>2009</td>\n",
              "      <td>female</td>\n",
              "      <td>tt0553467</td>\n",
              "      <td>1</td>\n",
              "      <td>US</td>\n",
              "      <td>\\N</td>\n",
              "      <td>\\N</td>\n",
              "      <td>\\N</td>\n",
              "      <td>0</td>\n",
              "      <td>tt0553467</td>\n",
              "      <td>7.20</td>\n",
              "      <td>84</td>\n",
              "    </tr>\n",
              "    <tr>\n",
              "      <th>...</th>\n",
              "      <td>...</td>\n",
              "      <td>...</td>\n",
              "      <td>...</td>\n",
              "      <td>...</td>\n",
              "      <td>...</td>\n",
              "      <td>...</td>\n",
              "      <td>...</td>\n",
              "      <td>...</td>\n",
              "      <td>...</td>\n",
              "      <td>...</td>\n",
              "      <td>...</td>\n",
              "      <td>...</td>\n",
              "      <td>...</td>\n",
              "      <td>...</td>\n",
              "      <td>...</td>\n",
              "      <td>...</td>\n",
              "      <td>...</td>\n",
              "      <td>...</td>\n",
              "    </tr>\n",
              "    <tr>\n",
              "      <th>SOLYVPG12AB0185318</th>\n",
              "      <td>3</td>\n",
              "      <td>4be8732ad47ad1302dc16f8c30dbb14c138bfb366564c4...</td>\n",
              "      <td>977523</td>\n",
              "      <td>Sympathy</td>\n",
              "      <td>One Beat</td>\n",
              "      <td>Sleater-kinney</td>\n",
              "      <td>2002</td>\n",
              "      <td>female</td>\n",
              "      <td>tt1017461</td>\n",
              "      <td>1</td>\n",
              "      <td>\\N</td>\n",
              "      <td>\\N</td>\n",
              "      <td>original</td>\n",
              "      <td>\\N</td>\n",
              "      <td>1</td>\n",
              "      <td>tt1017461</td>\n",
              "      <td>5.00</td>\n",
              "      <td>360</td>\n",
              "    </tr>\n",
              "    <tr>\n",
              "      <th>SOLYVPG12AB0185318</th>\n",
              "      <td>2</td>\n",
              "      <td>ee03697dfdf668a9cd19a44a6f257b9d6a1dc60a3b8479...</td>\n",
              "      <td>977523</td>\n",
              "      <td>Sympathy</td>\n",
              "      <td>One Beat</td>\n",
              "      <td>Sleater-kinney</td>\n",
              "      <td>2002</td>\n",
              "      <td>female</td>\n",
              "      <td>tt1017461</td>\n",
              "      <td>1</td>\n",
              "      <td>\\N</td>\n",
              "      <td>\\N</td>\n",
              "      <td>original</td>\n",
              "      <td>\\N</td>\n",
              "      <td>1</td>\n",
              "      <td>tt1017461</td>\n",
              "      <td>5.00</td>\n",
              "      <td>360</td>\n",
              "    </tr>\n",
              "    <tr>\n",
              "      <th>SOLYVPG12AB0185318</th>\n",
              "      <td>1</td>\n",
              "      <td>baf47ed8da24d607e50d8684cde78b923538640fe3937c...</td>\n",
              "      <td>977523</td>\n",
              "      <td>Sympathy</td>\n",
              "      <td>One Beat</td>\n",
              "      <td>Sleater-kinney</td>\n",
              "      <td>2002</td>\n",
              "      <td>female</td>\n",
              "      <td>tt1017461</td>\n",
              "      <td>1</td>\n",
              "      <td>\\N</td>\n",
              "      <td>\\N</td>\n",
              "      <td>original</td>\n",
              "      <td>\\N</td>\n",
              "      <td>1</td>\n",
              "      <td>tt1017461</td>\n",
              "      <td>5.00</td>\n",
              "      <td>360</td>\n",
              "    </tr>\n",
              "    <tr>\n",
              "      <th>SOXDPFW12A81C2319B</th>\n",
              "      <td>2</td>\n",
              "      <td>62c39ebced70b7a604682b8311215af24bf72ede0e5696...</td>\n",
              "      <td>641362</td>\n",
              "      <td>Ribbons</td>\n",
              "      <td>Ringer</td>\n",
              "      <td>Four Tet</td>\n",
              "      <td>2008</td>\n",
              "      <td>male</td>\n",
              "      <td>tt4581734</td>\n",
              "      <td>1</td>\n",
              "      <td>US</td>\n",
              "      <td>\\N</td>\n",
              "      <td>\\N</td>\n",
              "      <td>\\N</td>\n",
              "      <td>0</td>\n",
              "      <td>tt4581734</td>\n",
              "      <td>6.10</td>\n",
              "      <td>31</td>\n",
              "    </tr>\n",
              "    <tr>\n",
              "      <th>SOXDPFW12A81C2319B</th>\n",
              "      <td>1</td>\n",
              "      <td>176e3f8a0eb8bb540a0e731230fdea7147c357da17c51e...</td>\n",
              "      <td>641362</td>\n",
              "      <td>Ribbons</td>\n",
              "      <td>Ringer</td>\n",
              "      <td>Four Tet</td>\n",
              "      <td>2008</td>\n",
              "      <td>male</td>\n",
              "      <td>tt4581734</td>\n",
              "      <td>1</td>\n",
              "      <td>US</td>\n",
              "      <td>\\N</td>\n",
              "      <td>\\N</td>\n",
              "      <td>\\N</td>\n",
              "      <td>0</td>\n",
              "      <td>tt4581734</td>\n",
              "      <td>6.10</td>\n",
              "      <td>31</td>\n",
              "    </tr>\n",
              "  </tbody>\n",
              "</table>\n",
              "<p>132327 rows × 18 columns</p>\n",
              "</div>"
            ],
            "text/plain": [
              "                    play_count  ... numVotes\n",
              "song_id                         ...         \n",
              "SOZPMJT12AAF3B40D1         585  ...      176\n",
              "SOZPMJT12AAF3B40D1         585  ...    24134\n",
              "SOZPMJT12AAF3B40D1         585  ...       71\n",
              "SOZPMJT12AAF3B40D1         585  ...       72\n",
              "SOZPMJT12AAF3B40D1         585  ...       84\n",
              "...                        ...  ...      ...\n",
              "SOLYVPG12AB0185318           3  ...      360\n",
              "SOLYVPG12AB0185318           2  ...      360\n",
              "SOLYVPG12AB0185318           1  ...      360\n",
              "SOXDPFW12A81C2319B           2  ...       31\n",
              "SOXDPFW12A81C2319B           1  ...       31\n",
              "\n",
              "[132327 rows x 18 columns]"
            ]
          },
          "metadata": {
            "tags": []
          },
          "execution_count": 37
        }
      ]
    },
    {
      "cell_type": "code",
      "metadata": {
        "id": "z3Xs0jqwPAJ1",
        "colab": {
          "base_uri": "https://localhost:8080/",
          "height": 435
        },
        "outputId": "ccd8de0b-43fd-45c6-89de-627abd1a1f84"
      },
      "source": [
        "df_trackid_msd_artist"
      ],
      "execution_count": 38,
      "outputs": [
        {
          "output_type": "execute_result",
          "data": {
            "text/html": [
              "<div>\n",
              "<style scoped>\n",
              "    .dataframe tbody tr th:only-of-type {\n",
              "        vertical-align: middle;\n",
              "    }\n",
              "\n",
              "    .dataframe tbody tr th {\n",
              "        vertical-align: top;\n",
              "    }\n",
              "\n",
              "    .dataframe thead th {\n",
              "        text-align: right;\n",
              "    }\n",
              "</style>\n",
              "<table border=\"1\" class=\"dataframe\">\n",
              "  <thead>\n",
              "    <tr style=\"text-align: right;\">\n",
              "      <th></th>\n",
              "      <th>tid</th>\n",
              "      <th>artist name</th>\n",
              "      <th>title</th>\n",
              "      <th>mxm tid</th>\n",
              "      <th>artist_name</th>\n",
              "      <th>title.1</th>\n",
              "    </tr>\n",
              "  </thead>\n",
              "  <tbody>\n",
              "    <tr>\n",
              "      <th>0</th>\n",
              "      <td>TRMMMKD128F425225D</td>\n",
              "      <td>Karkkiautomaatti</td>\n",
              "      <td>Tanssi vaan</td>\n",
              "      <td>4418550</td>\n",
              "      <td>Karkkiautomaatti</td>\n",
              "      <td>Tanssi vaan</td>\n",
              "    </tr>\n",
              "    <tr>\n",
              "      <th>1</th>\n",
              "      <td>TRMMMRX128F93187D9</td>\n",
              "      <td>Hudson Mohawke</td>\n",
              "      <td>No One Could Ever</td>\n",
              "      <td>8898149</td>\n",
              "      <td>Hudson Mohawke</td>\n",
              "      <td>No One Could Ever</td>\n",
              "    </tr>\n",
              "    <tr>\n",
              "      <th>2</th>\n",
              "      <td>TRMMMCH128F425532C</td>\n",
              "      <td>Yerba Brava</td>\n",
              "      <td>Si Vos Querés</td>\n",
              "      <td>9239868</td>\n",
              "      <td>Yerba Brava</td>\n",
              "      <td>Si vos queres</td>\n",
              "    </tr>\n",
              "    <tr>\n",
              "      <th>3</th>\n",
              "      <td>TRMMMXN128F42936A5</td>\n",
              "      <td>David Montgomery</td>\n",
              "      <td>Symphony No. 1 G minor \"Sinfonie Serieuse\"/All...</td>\n",
              "      <td>5346741</td>\n",
              "      <td>Franz Berwald</td>\n",
              "      <td>Symphony No. 1 in G minor \"Sinfonie Sérieuse\":...</td>\n",
              "    </tr>\n",
              "    <tr>\n",
              "      <th>4</th>\n",
              "      <td>TRMMMBB12903CB7D21</td>\n",
              "      <td>Kris Kross</td>\n",
              "      <td>2 Da Beat Ch'yall</td>\n",
              "      <td>2511405</td>\n",
              "      <td>Kris Kross</td>\n",
              "      <td>2 Da Beat Ch'yall</td>\n",
              "    </tr>\n",
              "    <tr>\n",
              "      <th>...</th>\n",
              "      <td>...</td>\n",
              "      <td>...</td>\n",
              "      <td>...</td>\n",
              "      <td>...</td>\n",
              "      <td>...</td>\n",
              "      <td>...</td>\n",
              "    </tr>\n",
              "    <tr>\n",
              "      <th>779051</th>\n",
              "      <td>TRYYYZM128F428E804</td>\n",
              "      <td>SKYCLAD</td>\n",
              "      <td>Inequality Street</td>\n",
              "      <td>788003</td>\n",
              "      <td>Skyclad</td>\n",
              "      <td>Inequality Street</td>\n",
              "    </tr>\n",
              "    <tr>\n",
              "      <th>779052</th>\n",
              "      <td>TRYYYON128F932585A</td>\n",
              "      <td>Loose Shus</td>\n",
              "      <td>Taurus (Keenhouse Remix)</td>\n",
              "      <td>8564800</td>\n",
              "      <td>Loose Shus</td>\n",
              "      <td>Red Sonja</td>\n",
              "    </tr>\n",
              "    <tr>\n",
              "      <th>779053</th>\n",
              "      <td>TRYYYUS12903CD2DF0</td>\n",
              "      <td>Kiko Navarro</td>\n",
              "      <td>O Samba Da Vida</td>\n",
              "      <td>8472838</td>\n",
              "      <td>Kiko Navarro</td>\n",
              "      <td>A Samba Da Vida</td>\n",
              "    </tr>\n",
              "    <tr>\n",
              "      <th>779054</th>\n",
              "      <td>TRYYYMG128F4260ECA</td>\n",
              "      <td>Gabriel Le Mar</td>\n",
              "      <td>Novemba</td>\n",
              "      <td>1997445</td>\n",
              "      <td>Gabriel Le Mar</td>\n",
              "      <td>140 Degrees</td>\n",
              "    </tr>\n",
              "    <tr>\n",
              "      <th>779055</th>\n",
              "      <td>TRYYYVU12903CD01E3</td>\n",
              "      <td>Texta</td>\n",
              "      <td>Fernweh feat. Sektion Kuchikäschtli</td>\n",
              "      <td>4116012</td>\n",
              "      <td>Texta</td>\n",
              "      <td>Fernweh (feat. Sektion Kuchikäschtli)</td>\n",
              "    </tr>\n",
              "  </tbody>\n",
              "</table>\n",
              "<p>779056 rows × 6 columns</p>\n",
              "</div>"
            ],
            "text/plain": [
              "                       tid  ...                                            title.1\n",
              "0       TRMMMKD128F425225D  ...                                        Tanssi vaan\n",
              "1       TRMMMRX128F93187D9  ...                                  No One Could Ever\n",
              "2       TRMMMCH128F425532C  ...                                      Si vos queres\n",
              "3       TRMMMXN128F42936A5  ...  Symphony No. 1 in G minor \"Sinfonie Sérieuse\":...\n",
              "4       TRMMMBB12903CB7D21  ...                                  2 Da Beat Ch'yall\n",
              "...                    ...  ...                                                ...\n",
              "779051  TRYYYZM128F428E804  ...                                  Inequality Street\n",
              "779052  TRYYYON128F932585A  ...                                          Red Sonja\n",
              "779053  TRYYYUS12903CD2DF0  ...                                    A Samba Da Vida\n",
              "779054  TRYYYMG128F4260ECA  ...                                        140 Degrees\n",
              "779055  TRYYYVU12903CD01E3  ...              Fernweh (feat. Sektion Kuchikäschtli)\n",
              "\n",
              "[779056 rows x 6 columns]"
            ]
          },
          "metadata": {
            "tags": []
          },
          "execution_count": 38
        }
      ]
    },
    {
      "cell_type": "markdown",
      "metadata": {
        "id": "vHmuqSvd_Ugc"
      },
      "source": [
        "**COMMENT:**\n",
        "df_trackid_msd_artist has 779K rowswith trackID and artist, title mapping"
      ]
    },
    {
      "cell_type": "code",
      "metadata": {
        "colab": {
          "base_uri": "https://localhost:8080/",
          "height": 402
        },
        "id": "Uiz4wsCk_ocy",
        "outputId": "c7473b49-1674-4702-f9e2-a4841f3b8f24"
      },
      "source": [
        "df_genre_data"
      ],
      "execution_count": 39,
      "outputs": [
        {
          "output_type": "execute_result",
          "data": {
            "text/html": [
              "<div>\n",
              "<style scoped>\n",
              "    .dataframe tbody tr th:only-of-type {\n",
              "        vertical-align: middle;\n",
              "    }\n",
              "\n",
              "    .dataframe tbody tr th {\n",
              "        vertical-align: top;\n",
              "    }\n",
              "\n",
              "    .dataframe thead th {\n",
              "        text-align: right;\n",
              "    }\n",
              "</style>\n",
              "<table border=\"1\" class=\"dataframe\">\n",
              "  <thead>\n",
              "    <tr style=\"text-align: right;\">\n",
              "      <th></th>\n",
              "      <th>track_id</th>\n",
              "      <th>genre</th>\n",
              "    </tr>\n",
              "  </thead>\n",
              "  <tbody>\n",
              "    <tr>\n",
              "      <th>0</th>\n",
              "      <td>TRAAAAK128F9318786</td>\n",
              "      <td>Rock</td>\n",
              "    </tr>\n",
              "    <tr>\n",
              "      <th>1</th>\n",
              "      <td>TRAAAAW128F429D538</td>\n",
              "      <td>Rap</td>\n",
              "    </tr>\n",
              "    <tr>\n",
              "      <th>2</th>\n",
              "      <td>TRAAADJ128F4287B47</td>\n",
              "      <td>Rock</td>\n",
              "    </tr>\n",
              "    <tr>\n",
              "      <th>3</th>\n",
              "      <td>TRAAADZ128F9348C2E</td>\n",
              "      <td>Latin</td>\n",
              "    </tr>\n",
              "    <tr>\n",
              "      <th>4</th>\n",
              "      <td>TRAAAED128E0783FAB</td>\n",
              "      <td>Jazz</td>\n",
              "    </tr>\n",
              "    <tr>\n",
              "      <th>...</th>\n",
              "      <td>...</td>\n",
              "      <td>...</td>\n",
              "    </tr>\n",
              "    <tr>\n",
              "      <th>191396</th>\n",
              "      <td>TRZZZMY128F426D7A2</td>\n",
              "      <td>Reggae</td>\n",
              "    </tr>\n",
              "    <tr>\n",
              "      <th>191397</th>\n",
              "      <td>TRZZZRJ128F42819AF</td>\n",
              "      <td>Rock</td>\n",
              "    </tr>\n",
              "    <tr>\n",
              "      <th>191398</th>\n",
              "      <td>TRZZZUK128F92E3C60</td>\n",
              "      <td>Folk</td>\n",
              "    </tr>\n",
              "    <tr>\n",
              "      <th>191399</th>\n",
              "      <td>TRZZZZD128F4236844</td>\n",
              "      <td>Rock</td>\n",
              "    </tr>\n",
              "    <tr>\n",
              "      <th>191400</th>\n",
              "      <td>TRZZZZZ12903D05E3A</td>\n",
              "      <td>Electronic</td>\n",
              "    </tr>\n",
              "  </tbody>\n",
              "</table>\n",
              "<p>191401 rows × 2 columns</p>\n",
              "</div>"
            ],
            "text/plain": [
              "                  track_id       genre\n",
              "0       TRAAAAK128F9318786        Rock\n",
              "1       TRAAAAW128F429D538         Rap\n",
              "2       TRAAADJ128F4287B47        Rock\n",
              "3       TRAAADZ128F9348C2E       Latin\n",
              "4       TRAAAED128E0783FAB        Jazz\n",
              "...                    ...         ...\n",
              "191396  TRZZZMY128F426D7A2      Reggae\n",
              "191397  TRZZZRJ128F42819AF        Rock\n",
              "191398  TRZZZUK128F92E3C60        Folk\n",
              "191399  TRZZZZD128F4236844        Rock\n",
              "191400  TRZZZZZ12903D05E3A  Electronic\n",
              "\n",
              "[191401 rows x 2 columns]"
            ]
          },
          "metadata": {
            "tags": []
          },
          "execution_count": 39
        }
      ]
    },
    {
      "cell_type": "markdown",
      "metadata": {
        "id": "zOs5wQjV_rkK"
      },
      "source": [
        "**COMMENT:**\n",
        "df_genre_data has 191K rows with track_ID and genre data which can be mapped with df_trackid_msd_artist to get genre mapping to MSD"
      ]
    },
    {
      "cell_type": "code",
      "metadata": {
        "id": "J4V422P3ctee",
        "colab": {
          "base_uri": "https://localhost:8080/"
        },
        "outputId": "f207cb7b-8db2-4388-ac29-0d1aed3f89f5"
      },
      "source": [
        "df_genre_data.track_id.isin(df_trackid_msd_artist.tid).value_counts()\n"
      ],
      "execution_count": 40,
      "outputs": [
        {
          "output_type": "execute_result",
          "data": {
            "text/plain": [
              "True     183891\n",
              "False      7510\n",
              "Name: track_id, dtype: int64"
            ]
          },
          "metadata": {
            "tags": []
          },
          "execution_count": 40
        }
      ]
    },
    {
      "cell_type": "markdown",
      "metadata": {
        "id": "Kudk1n1RAC7j"
      },
      "source": [
        "**COMMENT:**\n",
        "There are only 183K rows available with genre data rest of genre will be empty"
      ]
    },
    {
      "cell_type": "code",
      "metadata": {
        "colab": {
          "base_uri": "https://localhost:8080/",
          "height": 402
        },
        "id": "sfeyF8P0CgjK",
        "outputId": "500297c9-4a8d-4846-b56a-baa5685e63f6"
      },
      "source": [
        "genre_final=pd.merge(df_trackid_msd_artist,df_genre_data,left_on='tid', right_on='track_id') # merge df_trackid_msd_artist and df_genre_data\n",
        "genre_final.drop(columns=['mxm tid','track_id','artist name','title.1'],inplace=True)\n",
        "genre_final"
      ],
      "execution_count": 41,
      "outputs": [
        {
          "output_type": "execute_result",
          "data": {
            "text/html": [
              "<div>\n",
              "<style scoped>\n",
              "    .dataframe tbody tr th:only-of-type {\n",
              "        vertical-align: middle;\n",
              "    }\n",
              "\n",
              "    .dataframe tbody tr th {\n",
              "        vertical-align: top;\n",
              "    }\n",
              "\n",
              "    .dataframe thead th {\n",
              "        text-align: right;\n",
              "    }\n",
              "</style>\n",
              "<table border=\"1\" class=\"dataframe\">\n",
              "  <thead>\n",
              "    <tr style=\"text-align: right;\">\n",
              "      <th></th>\n",
              "      <th>tid</th>\n",
              "      <th>title</th>\n",
              "      <th>artist_name</th>\n",
              "      <th>genre</th>\n",
              "    </tr>\n",
              "  </thead>\n",
              "  <tbody>\n",
              "    <tr>\n",
              "      <th>0</th>\n",
              "      <td>TRMMMXJ12903CBF111</td>\n",
              "      <td>El hijo del pueblo</td>\n",
              "      <td>Jorge Negrete</td>\n",
              "      <td>Latin</td>\n",
              "    </tr>\n",
              "    <tr>\n",
              "      <th>1</th>\n",
              "      <td>TRMMMXI128F4285A3F</td>\n",
              "      <td>N Gana</td>\n",
              "      <td>Waldemar Bastos</td>\n",
              "      <td>World</td>\n",
              "    </tr>\n",
              "    <tr>\n",
              "      <th>2</th>\n",
              "      <td>TRMMMKI128F931D80D</td>\n",
              "      <td>006</td>\n",
              "      <td>Lena Philipsson</td>\n",
              "      <td>Pop</td>\n",
              "    </tr>\n",
              "    <tr>\n",
              "      <th>3</th>\n",
              "      <td>TRMMMTK128F424EF7C</td>\n",
              "      <td>Rock-N-Rule</td>\n",
              "      <td>Emery</td>\n",
              "      <td>Rock</td>\n",
              "    </tr>\n",
              "    <tr>\n",
              "      <th>4</th>\n",
              "      <td>TRMMMRZ128F4265EB4</td>\n",
              "      <td>I'm Ready</td>\n",
              "      <td>Aerosmith</td>\n",
              "      <td>Rock</td>\n",
              "    </tr>\n",
              "    <tr>\n",
              "      <th>...</th>\n",
              "      <td>...</td>\n",
              "      <td>...</td>\n",
              "      <td>...</td>\n",
              "      <td>...</td>\n",
              "    </tr>\n",
              "    <tr>\n",
              "      <th>183886</th>\n",
              "      <td>TRYYYOU128F426B209</td>\n",
              "      <td>Interrotte Speranze</td>\n",
              "      <td>Coronatus</td>\n",
              "      <td>Metal</td>\n",
              "    </tr>\n",
              "    <tr>\n",
              "      <th>183887</th>\n",
              "      <td>TRYYYWX128F92E11D1</td>\n",
              "      <td>Wouldn't Get Far</td>\n",
              "      <td>The Game</td>\n",
              "      <td>Rap</td>\n",
              "    </tr>\n",
              "    <tr>\n",
              "      <th>183888</th>\n",
              "      <td>TRYYYHG128F9343EFB</td>\n",
              "      <td>Chill</td>\n",
              "      <td>Jazz Addixx</td>\n",
              "      <td>Rap</td>\n",
              "    </tr>\n",
              "    <tr>\n",
              "      <th>183889</th>\n",
              "      <td>TRYYYYS12903D0605A</td>\n",
              "      <td>Way Down</td>\n",
              "      <td>Taylor Hawkins &amp; The Coattail Riders</td>\n",
              "      <td>Rock</td>\n",
              "    </tr>\n",
              "    <tr>\n",
              "      <th>183890</th>\n",
              "      <td>TRYYYZM128F428E804</td>\n",
              "      <td>Inequality Street</td>\n",
              "      <td>Skyclad</td>\n",
              "      <td>Rock</td>\n",
              "    </tr>\n",
              "  </tbody>\n",
              "</table>\n",
              "<p>183891 rows × 4 columns</p>\n",
              "</div>"
            ],
            "text/plain": [
              "                       tid  ...  genre\n",
              "0       TRMMMXJ12903CBF111  ...  Latin\n",
              "1       TRMMMXI128F4285A3F  ...  World\n",
              "2       TRMMMKI128F931D80D  ...    Pop\n",
              "3       TRMMMTK128F424EF7C  ...   Rock\n",
              "4       TRMMMRZ128F4265EB4  ...   Rock\n",
              "...                    ...  ...    ...\n",
              "183886  TRYYYOU128F426B209  ...  Metal\n",
              "183887  TRYYYWX128F92E11D1  ...    Rap\n",
              "183888  TRYYYHG128F9343EFB  ...    Rap\n",
              "183889  TRYYYYS12903D0605A  ...   Rock\n",
              "183890  TRYYYZM128F428E804  ...   Rock\n",
              "\n",
              "[183891 rows x 4 columns]"
            ]
          },
          "metadata": {
            "tags": []
          },
          "execution_count": 41
        }
      ]
    },
    {
      "cell_type": "markdown",
      "metadata": {
        "id": "J4U1WRkOUiVD"
      },
      "source": [
        "# SONG DATA WITH GENRE"
      ]
    },
    {
      "cell_type": "code",
      "metadata": {
        "colab": {
          "base_uri": "https://localhost:8080/",
          "height": 570
        },
        "id": "_4yL9sotEEHQ",
        "outputId": "e5b89e21-9248-4c57-edc8-bb10cfd3300a"
      },
      "source": [
        "song_data_with_genre=pd.merge(genre_final,song_data,on=['title','artist_name'])\n",
        "song_data_with_genre # SONG DATAFRAME WITH GENRE 185K ROWS"
      ],
      "execution_count": 91,
      "outputs": [
        {
          "output_type": "execute_result",
          "data": {
            "text/html": [
              "<div>\n",
              "<style scoped>\n",
              "    .dataframe tbody tr th:only-of-type {\n",
              "        vertical-align: middle;\n",
              "    }\n",
              "\n",
              "    .dataframe tbody tr th {\n",
              "        vertical-align: top;\n",
              "    }\n",
              "\n",
              "    .dataframe thead th {\n",
              "        text-align: right;\n",
              "    }\n",
              "</style>\n",
              "<table border=\"1\" class=\"dataframe\">\n",
              "  <thead>\n",
              "    <tr style=\"text-align: right;\">\n",
              "      <th></th>\n",
              "      <th>tid</th>\n",
              "      <th>title</th>\n",
              "      <th>artist_name</th>\n",
              "      <th>genre</th>\n",
              "      <th>Unnamed: 0</th>\n",
              "      <th>song_id</th>\n",
              "      <th>release</th>\n",
              "      <th>year</th>\n",
              "      <th>artist_gender</th>\n",
              "    </tr>\n",
              "  </thead>\n",
              "  <tbody>\n",
              "    <tr>\n",
              "      <th>0</th>\n",
              "      <td>TRMMMXJ12903CBF111</td>\n",
              "      <td>El hijo del pueblo</td>\n",
              "      <td>Jorge Negrete</td>\n",
              "      <td>Latin</td>\n",
              "      <td>11</td>\n",
              "      <td>SOLJTLX12AB01890ED</td>\n",
              "      <td>32 Grandes Éxitos  CD 2</td>\n",
              "      <td>1997</td>\n",
              "      <td>female</td>\n",
              "    </tr>\n",
              "    <tr>\n",
              "      <th>1</th>\n",
              "      <td>TRMMMXI128F4285A3F</td>\n",
              "      <td>N Gana</td>\n",
              "      <td>Waldemar Bastos</td>\n",
              "      <td>World</td>\n",
              "      <td>14</td>\n",
              "      <td>SOGPCJI12A8C13CCA0</td>\n",
              "      <td>Afropea 3 - Telling Stories To The Sea</td>\n",
              "      <td>0</td>\n",
              "      <td>male</td>\n",
              "    </tr>\n",
              "    <tr>\n",
              "      <th>2</th>\n",
              "      <td>TRMMMKI128F931D80D</td>\n",
              "      <td>006</td>\n",
              "      <td>Lena Philipsson</td>\n",
              "      <td>Pop</td>\n",
              "      <td>15</td>\n",
              "      <td>SOSDCFG12AB0184647</td>\n",
              "      <td>Lena 20 År</td>\n",
              "      <td>1998</td>\n",
              "      <td>male</td>\n",
              "    </tr>\n",
              "    <tr>\n",
              "      <th>3</th>\n",
              "      <td>TRMMMTK128F424EF7C</td>\n",
              "      <td>Rock-N-Rule</td>\n",
              "      <td>Emery</td>\n",
              "      <td>Rock</td>\n",
              "      <td>18</td>\n",
              "      <td>SOIMMJJ12AF72AD643</td>\n",
              "      <td>I'm Only A Man (Bonus Track Version)</td>\n",
              "      <td>2007</td>\n",
              "      <td>female</td>\n",
              "    </tr>\n",
              "    <tr>\n",
              "      <th>4</th>\n",
              "      <td>TRMMMRZ128F4265EB4</td>\n",
              "      <td>I'm Ready</td>\n",
              "      <td>Aerosmith</td>\n",
              "      <td>Rock</td>\n",
              "      <td>26</td>\n",
              "      <td>SOEEHEY12CF5F88FB4</td>\n",
              "      <td>Honkin' On Bobo</td>\n",
              "      <td>2004</td>\n",
              "      <td>female</td>\n",
              "    </tr>\n",
              "    <tr>\n",
              "      <th>...</th>\n",
              "      <td>...</td>\n",
              "      <td>...</td>\n",
              "      <td>...</td>\n",
              "      <td>...</td>\n",
              "      <td>...</td>\n",
              "      <td>...</td>\n",
              "      <td>...</td>\n",
              "      <td>...</td>\n",
              "      <td>...</td>\n",
              "    </tr>\n",
              "    <tr>\n",
              "      <th>185179</th>\n",
              "      <td>TRYYYOU128F426B209</td>\n",
              "      <td>Interrotte Speranze</td>\n",
              "      <td>Coronatus</td>\n",
              "      <td>Metal</td>\n",
              "      <td>999984</td>\n",
              "      <td>SOIQNVK12A8C13B061</td>\n",
              "      <td>Lux Noctis</td>\n",
              "      <td>2007</td>\n",
              "      <td>male</td>\n",
              "    </tr>\n",
              "    <tr>\n",
              "      <th>185180</th>\n",
              "      <td>TRYYYWX128F92E11D1</td>\n",
              "      <td>Wouldn't Get Far</td>\n",
              "      <td>The Game</td>\n",
              "      <td>Rap</td>\n",
              "      <td>363768</td>\n",
              "      <td>SOQDFGV12AB0183F25</td>\n",
              "      <td>R&amp;B Collaborations 2007</td>\n",
              "      <td>0</td>\n",
              "      <td>female</td>\n",
              "    </tr>\n",
              "    <tr>\n",
              "      <th>185181</th>\n",
              "      <td>TRYYYWX128F92E11D1</td>\n",
              "      <td>Wouldn't Get Far</td>\n",
              "      <td>The Game</td>\n",
              "      <td>Rap</td>\n",
              "      <td>999988</td>\n",
              "      <td>SOYKHSL12AF72A35AC</td>\n",
              "      <td>Wouldn't Get Far</td>\n",
              "      <td>0</td>\n",
              "      <td>female</td>\n",
              "    </tr>\n",
              "    <tr>\n",
              "      <th>185182</th>\n",
              "      <td>TRYYYHG128F9343EFB</td>\n",
              "      <td>Chill</td>\n",
              "      <td>Jazz Addixx</td>\n",
              "      <td>Rap</td>\n",
              "      <td>999989</td>\n",
              "      <td>SOIDAMG12AB0182B3A</td>\n",
              "      <td>Oxygen Refreshed (Instrumentals)</td>\n",
              "      <td>0</td>\n",
              "      <td>female</td>\n",
              "    </tr>\n",
              "    <tr>\n",
              "      <th>185183</th>\n",
              "      <td>TRYYYYS12903D0605A</td>\n",
              "      <td>Way Down</td>\n",
              "      <td>Taylor Hawkins &amp; The Coattail Riders</td>\n",
              "      <td>Rock</td>\n",
              "      <td>999990</td>\n",
              "      <td>SOFAXZU12AB01881C4</td>\n",
              "      <td>Way Down</td>\n",
              "      <td>2010</td>\n",
              "      <td>male</td>\n",
              "    </tr>\n",
              "  </tbody>\n",
              "</table>\n",
              "<p>185184 rows × 9 columns</p>\n",
              "</div>"
            ],
            "text/plain": [
              "                       tid                title  ...  year artist_gender\n",
              "0       TRMMMXJ12903CBF111   El hijo del pueblo  ...  1997        female\n",
              "1       TRMMMXI128F4285A3F               N Gana  ...     0          male\n",
              "2       TRMMMKI128F931D80D                  006  ...  1998          male\n",
              "3       TRMMMTK128F424EF7C          Rock-N-Rule  ...  2007        female\n",
              "4       TRMMMRZ128F4265EB4            I'm Ready  ...  2004        female\n",
              "...                    ...                  ...  ...   ...           ...\n",
              "185179  TRYYYOU128F426B209  Interrotte Speranze  ...  2007          male\n",
              "185180  TRYYYWX128F92E11D1     Wouldn't Get Far  ...     0        female\n",
              "185181  TRYYYWX128F92E11D1     Wouldn't Get Far  ...     0        female\n",
              "185182  TRYYYHG128F9343EFB                Chill  ...     0        female\n",
              "185183  TRYYYYS12903D0605A             Way Down  ...  2010          male\n",
              "\n",
              "[185184 rows x 9 columns]"
            ]
          },
          "metadata": {
            "tags": []
          },
          "execution_count": 91
        }
      ]
    },
    {
      "cell_type": "code",
      "metadata": {
        "colab": {
          "base_uri": "https://localhost:8080/",
          "height": 402
        },
        "id": "0F24NTwFJ408",
        "outputId": "fafa67f5-a13e-4305-ecaa-adefb56675e8"
      },
      "source": [
        "song_data_with_genre[song_data_with_genre.title=='Intro'] #CHECKING SPECIFICALLY ONE TITLE TO CHECK DUPLICATES. FIND NO ISSUES"
      ],
      "execution_count": 92,
      "outputs": [
        {
          "output_type": "execute_result",
          "data": {
            "text/html": [
              "<div>\n",
              "<style scoped>\n",
              "    .dataframe tbody tr th:only-of-type {\n",
              "        vertical-align: middle;\n",
              "    }\n",
              "\n",
              "    .dataframe tbody tr th {\n",
              "        vertical-align: top;\n",
              "    }\n",
              "\n",
              "    .dataframe thead th {\n",
              "        text-align: right;\n",
              "    }\n",
              "</style>\n",
              "<table border=\"1\" class=\"dataframe\">\n",
              "  <thead>\n",
              "    <tr style=\"text-align: right;\">\n",
              "      <th></th>\n",
              "      <th>tid</th>\n",
              "      <th>title</th>\n",
              "      <th>artist_name</th>\n",
              "      <th>genre</th>\n",
              "      <th>Unnamed: 0</th>\n",
              "      <th>song_id</th>\n",
              "      <th>release</th>\n",
              "      <th>year</th>\n",
              "      <th>artist_gender</th>\n",
              "    </tr>\n",
              "  </thead>\n",
              "  <tbody>\n",
              "    <tr>\n",
              "      <th>428</th>\n",
              "      <td>TRMWDJV128F42A3B15</td>\n",
              "      <td>Intro</td>\n",
              "      <td>Kool Savas &amp; Azad</td>\n",
              "      <td>Rap</td>\n",
              "      <td>2721</td>\n",
              "      <td>SOGGXNU12A8C13E437</td>\n",
              "      <td>ONE</td>\n",
              "      <td>2005</td>\n",
              "      <td>male</td>\n",
              "    </tr>\n",
              "    <tr>\n",
              "      <th>1399</th>\n",
              "      <td>TRMRPKX128F932574E</td>\n",
              "      <td>Intro</td>\n",
              "      <td>Guts</td>\n",
              "      <td>Electronic</td>\n",
              "      <td>8224</td>\n",
              "      <td>SORTVZZ12AB018100F</td>\n",
              "      <td>Le Bienheureux</td>\n",
              "      <td>2007</td>\n",
              "      <td>male</td>\n",
              "    </tr>\n",
              "    <tr>\n",
              "      <th>1530</th>\n",
              "      <td>TRMRYPM12903CE17E0</td>\n",
              "      <td>Intro</td>\n",
              "      <td>Sabbat</td>\n",
              "      <td>Metal</td>\n",
              "      <td>8880</td>\n",
              "      <td>SOUDXIE12AB0188DC3</td>\n",
              "      <td>History Of A Time To Come</td>\n",
              "      <td>1988</td>\n",
              "      <td>male</td>\n",
              "    </tr>\n",
              "    <tr>\n",
              "      <th>2388</th>\n",
              "      <td>TRMQKJI128E0789035</td>\n",
              "      <td>Intro</td>\n",
              "      <td>Gorillaz</td>\n",
              "      <td>Rock</td>\n",
              "      <td>13298</td>\n",
              "      <td>SOUHXII12A67021873</td>\n",
              "      <td>Demon Days</td>\n",
              "      <td>2005</td>\n",
              "      <td>male</td>\n",
              "    </tr>\n",
              "    <tr>\n",
              "      <th>5928</th>\n",
              "      <td>TRMOFHL128F93233F7</td>\n",
              "      <td>Intro</td>\n",
              "      <td>Red</td>\n",
              "      <td>Rock</td>\n",
              "      <td>33272</td>\n",
              "      <td>SONIQSQ12AB01846A6</td>\n",
              "      <td>Too Hot</td>\n",
              "      <td>0</td>\n",
              "      <td>male</td>\n",
              "    </tr>\n",
              "    <tr>\n",
              "      <th>...</th>\n",
              "      <td>...</td>\n",
              "      <td>...</td>\n",
              "      <td>...</td>\n",
              "      <td>...</td>\n",
              "      <td>...</td>\n",
              "      <td>...</td>\n",
              "      <td>...</td>\n",
              "      <td>...</td>\n",
              "      <td>...</td>\n",
              "    </tr>\n",
              "    <tr>\n",
              "      <th>179596</th>\n",
              "      <td>TRKYKHX128E07861AA</td>\n",
              "      <td>Intro</td>\n",
              "      <td>Jay-Z</td>\n",
              "      <td>Rap</td>\n",
              "      <td>961567</td>\n",
              "      <td>SOLVAOU12A6702037D</td>\n",
              "      <td>The Dynasty</td>\n",
              "      <td>2000</td>\n",
              "      <td>female</td>\n",
              "    </tr>\n",
              "    <tr>\n",
              "      <th>180227</th>\n",
              "      <td>TRYGSMN128F14792E9</td>\n",
              "      <td>Intro</td>\n",
              "      <td>Ruoska</td>\n",
              "      <td>Metal</td>\n",
              "      <td>965865</td>\n",
              "      <td>SOTPEEC12A6D4F7330</td>\n",
              "      <td>Amortem</td>\n",
              "      <td>2006</td>\n",
              "      <td>female</td>\n",
              "    </tr>\n",
              "    <tr>\n",
              "      <th>180813</th>\n",
              "      <td>TRYRQYT12903CF2550</td>\n",
              "      <td>Intro</td>\n",
              "      <td>Diecast</td>\n",
              "      <td>Metal</td>\n",
              "      <td>969726</td>\n",
              "      <td>SOWLSER12A6D4FAC87</td>\n",
              "      <td>Day Of Reckoning</td>\n",
              "      <td>2001</td>\n",
              "      <td>male</td>\n",
              "    </tr>\n",
              "    <tr>\n",
              "      <th>184057</th>\n",
              "      <td>TRYVVNT128F42AE8C3</td>\n",
              "      <td>Intro</td>\n",
              "      <td>Chris Brown</td>\n",
              "      <td>RnB</td>\n",
              "      <td>992323</td>\n",
              "      <td>SOUZWGN12A58A7F591</td>\n",
              "      <td>Chris Brown</td>\n",
              "      <td>0</td>\n",
              "      <td>male</td>\n",
              "    </tr>\n",
              "    <tr>\n",
              "      <th>184172</th>\n",
              "      <td>TRYDRCN128F1453570</td>\n",
              "      <td>Intro</td>\n",
              "      <td>The Church</td>\n",
              "      <td>Rock</td>\n",
              "      <td>992993</td>\n",
              "      <td>SOUFCBN12A6D4F6753</td>\n",
              "      <td>Parallel Universe</td>\n",
              "      <td>0</td>\n",
              "      <td>female</td>\n",
              "    </tr>\n",
              "  </tbody>\n",
              "</table>\n",
              "<p>240 rows × 9 columns</p>\n",
              "</div>"
            ],
            "text/plain": [
              "                       tid  title  ...  year artist_gender\n",
              "428     TRMWDJV128F42A3B15  Intro  ...  2005          male\n",
              "1399    TRMRPKX128F932574E  Intro  ...  2007          male\n",
              "1530    TRMRYPM12903CE17E0  Intro  ...  1988          male\n",
              "2388    TRMQKJI128E0789035  Intro  ...  2005          male\n",
              "5928    TRMOFHL128F93233F7  Intro  ...     0          male\n",
              "...                    ...    ...  ...   ...           ...\n",
              "179596  TRKYKHX128E07861AA  Intro  ...  2000        female\n",
              "180227  TRYGSMN128F14792E9  Intro  ...  2006        female\n",
              "180813  TRYRQYT12903CF2550  Intro  ...  2001          male\n",
              "184057  TRYVVNT128F42AE8C3  Intro  ...     0          male\n",
              "184172  TRYDRCN128F1453570  Intro  ...     0        female\n",
              "\n",
              "[240 rows x 9 columns]"
            ]
          },
          "metadata": {
            "tags": []
          },
          "execution_count": 92
        }
      ]
    },
    {
      "cell_type": "code",
      "metadata": {
        "colab": {
          "base_uri": "https://localhost:8080/",
          "height": 472
        },
        "id": "mnxqF0toU4NO",
        "outputId": "fa7cd8af-c703-4e44-d57a-c3f23ac915ba"
      },
      "source": [
        "song_data_with_genre.groupby(['genre','artist_gender'])['song_id'].agg('count').plot(kind='bar')\n",
        "#Gender on artist name is actually a QUESTION MARK as the data set does not contain proper names in artist_names, we find band names too in artist names."
      ],
      "execution_count": 93,
      "outputs": [
        {
          "output_type": "execute_result",
          "data": {
            "text/plain": [
              "<matplotlib.axes._subplots.AxesSubplot at 0x7f91334399b0>"
            ]
          },
          "metadata": {
            "tags": []
          },
          "execution_count": 93
        },
        {
          "output_type": "display_data",
          "data": {
            "image/png": "[encoded data removed]",
            "text/plain": [
              "<Figure size 1440x432 with 1 Axes>"
            ]
          },
          "metadata": {
            "tags": [],
            "needs_background": "light"
          }
        }
      ]
    },
    {
      "cell_type": "markdown",
      "metadata": {
        "id": "3cCRFKWIWEXd"
      },
      "source": [
        "**COMMENT:**\n",
        "\n",
        "\n",
        "> There are considerable no of ROCK genre artists in both gender.\n",
        "\n",
        "\n",
        "> Least in both gender in New Age genre\n",
        "\n",
        "\n",
        "> We can do genre and gender'wise recommendation using this data\n",
        "\n",
        "\n",
        "\n",
        "\n",
        "\n"
      ]
    },
    {
      "cell_type": "code",
      "metadata": {
        "id": "iQPeInCyXBnU"
      },
      "source": [
        ""
      ],
      "execution_count": 93,
      "outputs": []
    },
    {
      "cell_type": "markdown",
      "metadata": {
        "id": "dkExZ6eS96Z3"
      },
      "source": [
        "# Content Based Filtering\r\n",
        "\r\n",
        "In content based recommendation system, below features are interesting to recommend a song\r\n",
        "\r\n",
        "- Artist Name\r\n",
        "- Play Count\r\n",
        "- Gender\r\n",
        "- Release\r\n",
        "- Title\r\n",
        "- Reviews\r\n",
        "\r\n",
        "Text data generally is very noisy i.e. present pronunciation, stopwords, non-ascii characters makes it very noisy. So we will first need to pre-process the text. And then we will generate features from the text to compute similarities between the texts/reviews.\r\n"
      ]
    },
    {
      "cell_type": "code",
      "metadata": {
        "colab": {
          "base_uri": "https://localhost:8080/"
        },
        "id": "G1-XoqcxyGzo",
        "outputId": "b4580e2c-cbd1-46c2-ee52-7774e9964b8c"
      },
      "source": [
        "song_data_with_genre.shape"
      ],
      "execution_count": 182,
      "outputs": [
        {
          "output_type": "execute_result",
          "data": {
            "text/plain": [
              "(185184, 9)"
            ]
          },
          "metadata": {
            "tags": []
          },
          "execution_count": 182
        }
      ]
    },
    {
      "cell_type": "code",
      "metadata": {
        "colab": {
          "base_uri": "https://localhost:8080/",
          "height": 195
        },
        "id": "_0dmePDOyHJL",
        "outputId": "3c82a1cc-1d7f-4da1-db08-871be8c8037d"
      },
      "source": [
        "count_data.head()"
      ],
      "execution_count": 183,
      "outputs": [
        {
          "output_type": "execute_result",
          "data": {
            "text/html": [
              "<div>\n",
              "<style scoped>\n",
              "    .dataframe tbody tr th:only-of-type {\n",
              "        vertical-align: middle;\n",
              "    }\n",
              "\n",
              "    .dataframe tbody tr th {\n",
              "        vertical-align: top;\n",
              "    }\n",
              "\n",
              "    .dataframe thead th {\n",
              "        text-align: right;\n",
              "    }\n",
              "</style>\n",
              "<table border=\"1\" class=\"dataframe\">\n",
              "  <thead>\n",
              "    <tr style=\"text-align: right;\">\n",
              "      <th></th>\n",
              "      <th>user_id</th>\n",
              "      <th>song_id</th>\n",
              "      <th>play_count</th>\n",
              "    </tr>\n",
              "  </thead>\n",
              "  <tbody>\n",
              "    <tr>\n",
              "      <th>0</th>\n",
              "      <td>b80344d063b5ccb3212f76538f3d9e43d87dca9e</td>\n",
              "      <td>SOAKIMP12A8C130995</td>\n",
              "      <td>1</td>\n",
              "    </tr>\n",
              "    <tr>\n",
              "      <th>1</th>\n",
              "      <td>b80344d063b5ccb3212f76538f3d9e43d87dca9e</td>\n",
              "      <td>SOBBMDR12A8C13253B</td>\n",
              "      <td>2</td>\n",
              "    </tr>\n",
              "    <tr>\n",
              "      <th>2</th>\n",
              "      <td>b80344d063b5ccb3212f76538f3d9e43d87dca9e</td>\n",
              "      <td>SOBXHDL12A81C204C0</td>\n",
              "      <td>1</td>\n",
              "    </tr>\n",
              "    <tr>\n",
              "      <th>3</th>\n",
              "      <td>b80344d063b5ccb3212f76538f3d9e43d87dca9e</td>\n",
              "      <td>SOBYHAJ12A6701BF1D</td>\n",
              "      <td>1</td>\n",
              "    </tr>\n",
              "    <tr>\n",
              "      <th>4</th>\n",
              "      <td>b80344d063b5ccb3212f76538f3d9e43d87dca9e</td>\n",
              "      <td>SODACBL12A8C13C273</td>\n",
              "      <td>1</td>\n",
              "    </tr>\n",
              "  </tbody>\n",
              "</table>\n",
              "</div>"
            ],
            "text/plain": [
              "                                    user_id             song_id  play_count\n",
              "0  b80344d063b5ccb3212f76538f3d9e43d87dca9e  SOAKIMP12A8C130995           1\n",
              "1  b80344d063b5ccb3212f76538f3d9e43d87dca9e  SOBBMDR12A8C13253B           2\n",
              "2  b80344d063b5ccb3212f76538f3d9e43d87dca9e  SOBXHDL12A81C204C0           1\n",
              "3  b80344d063b5ccb3212f76538f3d9e43d87dca9e  SOBYHAJ12A6701BF1D           1\n",
              "4  b80344d063b5ccb3212f76538f3d9e43d87dca9e  SODACBL12A8C13C273           1"
            ]
          },
          "metadata": {
            "tags": []
          },
          "execution_count": 183
        }
      ]
    },
    {
      "cell_type": "code",
      "metadata": {
        "id": "U6kc7uh4cm72",
        "outputId": "d1c88a92-63a7-430f-fab7-f0efde06aec4",
        "colab": {
          "base_uri": "https://localhost:8080/"
        }
      },
      "source": [
        "count_data.shape"
      ],
      "execution_count": 184,
      "outputs": [
        {
          "output_type": "execute_result",
          "data": {
            "text/plain": [
              "(2000000, 3)"
            ]
          },
          "metadata": {
            "tags": []
          },
          "execution_count": 184
        }
      ]
    },
    {
      "cell_type": "code",
      "metadata": {
        "id": "7SCSFxjdPLv4"
      },
      "source": [
        "song_play_count=songs_play_count_df.drop(['user_id','Unnamed: 0','title','release','artist_name','year','artist_gender',],axis=1)"
      ],
      "execution_count": 185,
      "outputs": []
    },
    {
      "cell_type": "code",
      "metadata": {
        "id": "Q2e8SJBFyhAz"
      },
      "source": [
        "songs_content_final = pd.merge(song_play_count, song_data_with_genre, on='song_id',how='inner')"
      ],
      "execution_count": 188,
      "outputs": []
    },
    {
      "cell_type": "code",
      "metadata": {
        "colab": {
          "base_uri": "https://localhost:8080/"
        },
        "id": "rMXH3hinzaQq",
        "outputId": "51a09532-009a-490f-ea25-0e7e9c8bb63d"
      },
      "source": [
        "songs_content_final.shape"
      ],
      "execution_count": 189,
      "outputs": [
        {
          "output_type": "execute_result",
          "data": {
            "text/plain": [
              "(75609, 10)"
            ]
          },
          "metadata": {
            "tags": []
          },
          "execution_count": 189
        }
      ]
    },
    {
      "cell_type": "code",
      "metadata": {
        "id": "n2mRI3idesUN"
      },
      "source": [
        "songs_content_final.s"
      ],
      "execution_count": null,
      "outputs": []
    },
    {
      "cell_type": "code",
      "metadata": {
        "id": "m5nm1N99uRa5"
      },
      "source": [
        "songs_content_final['text'] = songs_content_final['title'] + ' ' + songs_content_final['artist_name'] + ' ' + songs_content_final['genre'] + ' ' + songs_content_final['release']\r\n",
        "songs_content_final=songs_content_final[:1000]"
      ],
      "execution_count": 98,
      "outputs": []
    },
    {
      "cell_type": "code",
      "metadata": {
        "colab": {
          "base_uri": "https://localhost:8080/"
        },
        "id": "qz2Et4NOJpFU",
        "outputId": "fdd2d2cd-4648-4310-fcd0-16457d0e75bb"
      },
      "source": [
        "songs_content_final.shape"
      ],
      "execution_count": 103,
      "outputs": [
        {
          "output_type": "execute_result",
          "data": {
            "text/plain": [
              "(65, 5)"
            ]
          },
          "metadata": {
            "tags": []
          },
          "execution_count": 103
        }
      ]
    },
    {
      "cell_type": "code",
      "metadata": {
        "colab": {
          "base_uri": "https://localhost:8080/",
          "height": 354
        },
        "id": "SOMZXzkA6I8y",
        "outputId": "e6fc6a54-e54f-4890-98f5-1a95f5bcad54"
      },
      "source": [
        "songs_content_final = songs_content_final[['tid', 'song_id', 'artist_name', 'title', 'text','play_count']]\r\n",
        "songs_content_final = songs_content_final.drop_duplicates(subset=['title'])\r\n",
        "songs_content_final = songs_content_final.set_index('title')\r\n",
        "songs_content_final.head()"
      ],
      "execution_count": 102,
      "outputs": [
        {
          "output_type": "error",
          "ename": "KeyError",
          "evalue": "ignored",
          "traceback": [
            "\u001b[0;31m---------------------------------------------------------------------------\u001b[0m",
            "\u001b[0;31mKeyError\u001b[0m                                  Traceback (most recent call last)",
            "\u001b[0;32m<ipython-input-102-e8864af8af2b>\u001b[0m in \u001b[0;36m<module>\u001b[0;34m()\u001b[0m\n\u001b[0;32m----> 1\u001b[0;31m \u001b[0msongs_content_final\u001b[0m \u001b[0;34m=\u001b[0m \u001b[0msongs_content_final\u001b[0m\u001b[0;34m[\u001b[0m\u001b[0;34m[\u001b[0m\u001b[0;34m'tid'\u001b[0m\u001b[0;34m,\u001b[0m \u001b[0;34m'song_id'\u001b[0m\u001b[0;34m,\u001b[0m \u001b[0;34m'artist_name'\u001b[0m\u001b[0;34m,\u001b[0m \u001b[0;34m'title'\u001b[0m\u001b[0;34m,\u001b[0m \u001b[0;34m'text'\u001b[0m\u001b[0;34m,\u001b[0m\u001b[0;34m'play_count'\u001b[0m\u001b[0;34m]\u001b[0m\u001b[0;34m]\u001b[0m\u001b[0;34m\u001b[0m\u001b[0;34m\u001b[0m\u001b[0m\n\u001b[0m\u001b[1;32m      2\u001b[0m \u001b[0msongs_content_final\u001b[0m \u001b[0;34m=\u001b[0m \u001b[0msongs_content_final\u001b[0m\u001b[0;34m.\u001b[0m\u001b[0mdrop_duplicates\u001b[0m\u001b[0;34m(\u001b[0m\u001b[0msubset\u001b[0m\u001b[0;34m=\u001b[0m\u001b[0;34m[\u001b[0m\u001b[0;34m'title'\u001b[0m\u001b[0;34m]\u001b[0m\u001b[0;34m)\u001b[0m\u001b[0;34m\u001b[0m\u001b[0;34m\u001b[0m\u001b[0m\n\u001b[1;32m      3\u001b[0m \u001b[0msongs_content_final\u001b[0m \u001b[0;34m=\u001b[0m \u001b[0msongs_content_final\u001b[0m\u001b[0;34m.\u001b[0m\u001b[0mset_index\u001b[0m\u001b[0;34m(\u001b[0m\u001b[0;34m'title'\u001b[0m\u001b[0;34m)\u001b[0m\u001b[0;34m\u001b[0m\u001b[0;34m\u001b[0m\u001b[0m\n\u001b[1;32m      4\u001b[0m \u001b[0msongs_content_final\u001b[0m\u001b[0;34m.\u001b[0m\u001b[0mhead\u001b[0m\u001b[0;34m(\u001b[0m\u001b[0;34m)\u001b[0m\u001b[0;34m\u001b[0m\u001b[0;34m\u001b[0m\u001b[0m\n",
            "\u001b[0;32m/usr/local/lib/python3.6/dist-packages/pandas/core/frame.py\u001b[0m in \u001b[0;36m__getitem__\u001b[0;34m(self, key)\u001b[0m\n\u001b[1;32m   2910\u001b[0m             \u001b[0;32mif\u001b[0m \u001b[0mis_iterator\u001b[0m\u001b[0;34m(\u001b[0m\u001b[0mkey\u001b[0m\u001b[0;34m)\u001b[0m\u001b[0;34m:\u001b[0m\u001b[0;34m\u001b[0m\u001b[0;34m\u001b[0m\u001b[0m\n\u001b[1;32m   2911\u001b[0m                 \u001b[0mkey\u001b[0m \u001b[0;34m=\u001b[0m \u001b[0mlist\u001b[0m\u001b[0;34m(\u001b[0m\u001b[0mkey\u001b[0m\u001b[0;34m)\u001b[0m\u001b[0;34m\u001b[0m\u001b[0;34m\u001b[0m\u001b[0m\n\u001b[0;32m-> 2912\u001b[0;31m             \u001b[0mindexer\u001b[0m \u001b[0;34m=\u001b[0m \u001b[0mself\u001b[0m\u001b[0;34m.\u001b[0m\u001b[0mloc\u001b[0m\u001b[0;34m.\u001b[0m\u001b[0m_get_listlike_indexer\u001b[0m\u001b[0;34m(\u001b[0m\u001b[0mkey\u001b[0m\u001b[0;34m,\u001b[0m \u001b[0maxis\u001b[0m\u001b[0;34m=\u001b[0m\u001b[0;36m1\u001b[0m\u001b[0;34m,\u001b[0m \u001b[0mraise_missing\u001b[0m\u001b[0;34m=\u001b[0m\u001b[0;32mTrue\u001b[0m\u001b[0;34m)\u001b[0m\u001b[0;34m[\u001b[0m\u001b[0;36m1\u001b[0m\u001b[0;34m]\u001b[0m\u001b[0;34m\u001b[0m\u001b[0;34m\u001b[0m\u001b[0m\n\u001b[0m\u001b[1;32m   2913\u001b[0m \u001b[0;34m\u001b[0m\u001b[0m\n\u001b[1;32m   2914\u001b[0m         \u001b[0;31m# take() does not accept boolean indexers\u001b[0m\u001b[0;34m\u001b[0m\u001b[0;34m\u001b[0m\u001b[0;34m\u001b[0m\u001b[0m\n",
            "\u001b[0;32m/usr/local/lib/python3.6/dist-packages/pandas/core/indexing.py\u001b[0m in \u001b[0;36m_get_listlike_indexer\u001b[0;34m(self, key, axis, raise_missing)\u001b[0m\n\u001b[1;32m   1252\u001b[0m             \u001b[0mkeyarr\u001b[0m\u001b[0;34m,\u001b[0m \u001b[0mindexer\u001b[0m\u001b[0;34m,\u001b[0m \u001b[0mnew_indexer\u001b[0m \u001b[0;34m=\u001b[0m \u001b[0max\u001b[0m\u001b[0;34m.\u001b[0m\u001b[0m_reindex_non_unique\u001b[0m\u001b[0;34m(\u001b[0m\u001b[0mkeyarr\u001b[0m\u001b[0;34m)\u001b[0m\u001b[0;34m\u001b[0m\u001b[0;34m\u001b[0m\u001b[0m\n\u001b[1;32m   1253\u001b[0m \u001b[0;34m\u001b[0m\u001b[0m\n\u001b[0;32m-> 1254\u001b[0;31m         \u001b[0mself\u001b[0m\u001b[0;34m.\u001b[0m\u001b[0m_validate_read_indexer\u001b[0m\u001b[0;34m(\u001b[0m\u001b[0mkeyarr\u001b[0m\u001b[0;34m,\u001b[0m \u001b[0mindexer\u001b[0m\u001b[0;34m,\u001b[0m \u001b[0maxis\u001b[0m\u001b[0;34m,\u001b[0m \u001b[0mraise_missing\u001b[0m\u001b[0;34m=\u001b[0m\u001b[0mraise_missing\u001b[0m\u001b[0;34m)\u001b[0m\u001b[0;34m\u001b[0m\u001b[0;34m\u001b[0m\u001b[0m\n\u001b[0m\u001b[1;32m   1255\u001b[0m         \u001b[0;32mreturn\u001b[0m \u001b[0mkeyarr\u001b[0m\u001b[0;34m,\u001b[0m \u001b[0mindexer\u001b[0m\u001b[0;34m\u001b[0m\u001b[0;34m\u001b[0m\u001b[0m\n\u001b[1;32m   1256\u001b[0m \u001b[0;34m\u001b[0m\u001b[0m\n",
            "\u001b[0;32m/usr/local/lib/python3.6/dist-packages/pandas/core/indexing.py\u001b[0m in \u001b[0;36m_validate_read_indexer\u001b[0;34m(self, key, indexer, axis, raise_missing)\u001b[0m\n\u001b[1;32m   1302\u001b[0m             \u001b[0;32mif\u001b[0m \u001b[0mraise_missing\u001b[0m\u001b[0;34m:\u001b[0m\u001b[0;34m\u001b[0m\u001b[0;34m\u001b[0m\u001b[0m\n\u001b[1;32m   1303\u001b[0m                 \u001b[0mnot_found\u001b[0m \u001b[0;34m=\u001b[0m \u001b[0mlist\u001b[0m\u001b[0;34m(\u001b[0m\u001b[0mset\u001b[0m\u001b[0;34m(\u001b[0m\u001b[0mkey\u001b[0m\u001b[0;34m)\u001b[0m \u001b[0;34m-\u001b[0m \u001b[0mset\u001b[0m\u001b[0;34m(\u001b[0m\u001b[0max\u001b[0m\u001b[0;34m)\u001b[0m\u001b[0;34m)\u001b[0m\u001b[0;34m\u001b[0m\u001b[0;34m\u001b[0m\u001b[0m\n\u001b[0;32m-> 1304\u001b[0;31m                 \u001b[0;32mraise\u001b[0m \u001b[0mKeyError\u001b[0m\u001b[0;34m(\u001b[0m\u001b[0;34mf\"{not_found} not in index\"\u001b[0m\u001b[0;34m)\u001b[0m\u001b[0;34m\u001b[0m\u001b[0;34m\u001b[0m\u001b[0m\n\u001b[0m\u001b[1;32m   1305\u001b[0m \u001b[0;34m\u001b[0m\u001b[0m\n\u001b[1;32m   1306\u001b[0m             \u001b[0;31m# we skip the warning on Categorical\u001b[0m\u001b[0;34m\u001b[0m\u001b[0;34m\u001b[0m\u001b[0;34m\u001b[0m\u001b[0m\n",
            "\u001b[0;31mKeyError\u001b[0m: \"['title'] not in index\""
          ]
        }
      ]
    },
    {
      "cell_type": "code",
      "metadata": {
        "colab": {
          "base_uri": "https://localhost:8080/",
          "height": 35
        },
        "id": "nJ-l1ZI79uqJ",
        "outputId": "bcb8990d-a8b1-4c76-cb76-5375c62e483e"
      },
      "source": [
        "song_data_with_genre['text'][0]"
      ],
      "execution_count": 49,
      "outputs": [
        {
          "output_type": "execute_result",
          "data": {
            "application/vnd.google.colaboratory.intrinsic+json": {
              "type": "string"
            },
            "text/plain": [
              "'El hijo del pueblo Jorge Negrete Latin 32 Grandes Éxitos  CD 2'"
            ]
          },
          "metadata": {
            "tags": []
          },
          "execution_count": 49
        }
      ]
    },
    {
      "cell_type": "code",
      "metadata": {
        "colab": {
          "base_uri": "https://localhost:8080/"
        },
        "id": "nSm1O9Kz_2Wl",
        "outputId": "65a02190-6ecd-492a-9ddd-74494e91d6d8"
      },
      "source": [
        "song_data_with_genre.shape"
      ],
      "execution_count": 50,
      "outputs": [
        {
          "output_type": "execute_result",
          "data": {
            "text/plain": [
              "(890, 4)"
            ]
          },
          "metadata": {
            "tags": []
          },
          "execution_count": 50
        }
      ]
    },
    {
      "cell_type": "code",
      "metadata": {
        "colab": {
          "base_uri": "https://localhost:8080/"
        },
        "id": "VU3NJLoiAOQI",
        "outputId": "1af7b69c-5d10-41b3-db4a-ca8565f31eb0"
      },
      "source": [
        "indices = pd.Series(song_data_with_genre.index)\r\n",
        "indices[:5]"
      ],
      "execution_count": 51,
      "outputs": [
        {
          "output_type": "execute_result",
          "data": {
            "text/plain": [
              "0    El hijo del pueblo\n",
              "1                N Gana\n",
              "2                   006\n",
              "3           Rock-N-Rule\n",
              "4             I'm Ready\n",
              "Name: title, dtype: object"
            ]
          },
          "metadata": {
            "tags": []
          },
          "execution_count": 51
        }
      ]
    },
    {
      "cell_type": "markdown",
      "metadata": {
        "id": "zhT50B2pAus1"
      },
      "source": [
        "**COMMENT:**\r\n",
        "**Using natural language processing to handle the data in text"
      ]
    },
    {
      "cell_type": "code",
      "metadata": {
        "colab": {
          "base_uri": "https://localhost:8080/"
        },
        "id": "HAHi4V7uAYw3",
        "outputId": "97f2db2f-a8d3-4af4-80e3-5f14b8c8c188"
      },
      "source": [
        "import re\r\n",
        "import nltk\r\n",
        "nltk.download('punkt')\r\n",
        "nltk.download('stopwords')\r\n",
        "nltk.download('wordnet')\r\n",
        "from nltk import word_tokenize\r\n",
        "from nltk.stem import WordNetLemmatizer\r\n",
        "from nltk.corpus import stopwords\r\n",
        "from sklearn.feature_extraction.text import CountVectorizer, TfidfVectorizer"
      ],
      "execution_count": 52,
      "outputs": [
        {
          "output_type": "stream",
          "text": [
            "[nltk_data] Downloading package punkt to /root/nltk_data...\n",
            "[nltk_data]   Unzipping tokenizers/punkt.zip.\n",
            "[nltk_data] Downloading package stopwords to /root/nltk_data...\n",
            "[nltk_data]   Unzipping corpora/stopwords.zip.\n",
            "[nltk_data] Downloading package wordnet to /root/nltk_data...\n",
            "[nltk_data]   Unzipping corpora/wordnet.zip.\n"
          ],
          "name": "stdout"
        }
      ]
    },
    {
      "cell_type": "code",
      "metadata": {
        "id": "5R4PrWO7Afnc"
      },
      "source": [
        "def tokenize(text):\r\n",
        "    text = re.sub(r\"[^a-zA-Z]\",\" \",text.lower())\r\n",
        "    tokens = word_tokenize(text)\r\n",
        "    words = [word for word in tokens if word not in stopwords.words(\"english\")]\r\n",
        "    text_lems = [WordNetLemmatizer().lemmatize(lem).strip() for lem in words]\r\n",
        "\r\n",
        "    return text_lems"
      ],
      "execution_count": 53,
      "outputs": []
    },
    {
      "cell_type": "markdown",
      "metadata": {
        "id": "EHSm9KQlBe2Q"
      },
      "source": [
        "**COMMENT:**\r\n",
        "Feature extraction - here we will be using tfidf as feature extraction technique from texts"
      ]
    },
    {
      "cell_type": "code",
      "metadata": {
        "id": "LcF0um_eBc_S"
      },
      "source": [
        "tfidf = TfidfVectorizer(tokenizer=tokenize)\r\n",
        "songs_tfidf = tfidf.fit_transform(song_data_with_genre['text'].values).toarray()"
      ],
      "execution_count": 54,
      "outputs": []
    },
    {
      "cell_type": "code",
      "metadata": {
        "id": "ie_6NgQVDHKE"
      },
      "source": [
        "from sklearn.metrics.pairwise import cosine_similarity"
      ],
      "execution_count": 55,
      "outputs": []
    },
    {
      "cell_type": "code",
      "metadata": {
        "colab": {
          "base_uri": "https://localhost:8080/"
        },
        "id": "EHE82tIJGfs1",
        "outputId": "fc312c44-0a76-4070-a846-1d134d2909f8"
      },
      "source": [
        "similar_songs = cosine_similarity(songs_tfidf, songs_tfidf)\r\n",
        "similar_songs"
      ],
      "execution_count": 56,
      "outputs": [
        {
          "output_type": "execute_result",
          "data": {
            "text/plain": [
              "array([[1.        , 0.        , 0.        , ..., 0.        , 0.        ,\n",
              "        0.        ],\n",
              "       [0.        , 1.        , 0.        , ..., 0.        , 0.        ,\n",
              "        0.        ],\n",
              "       [0.        , 0.        , 1.        , ..., 0.        , 0.        ,\n",
              "        0.        ],\n",
              "       ...,\n",
              "       [0.        , 0.        , 0.        , ..., 1.        , 0.        ,\n",
              "        0.07679538],\n",
              "       [0.        , 0.        , 0.        , ..., 0.        , 1.        ,\n",
              "        0.        ],\n",
              "       [0.        , 0.        , 0.        , ..., 0.07679538, 0.        ,\n",
              "        1.        ]])"
            ]
          },
          "metadata": {
            "tags": []
          },
          "execution_count": 56
        }
      ]
    },
    {
      "cell_type": "code",
      "metadata": {
        "id": "aygv4F91G84q"
      },
      "source": [
        "# function that takes in song title as input and returns the top 10 recommended songs\r\n",
        "def recommendations(title, similar_songs):\r\n",
        "    \r\n",
        "    recommended_songs = []\r\n",
        "    \r\n",
        "    # gettin the index of the movie that matches the title\r\n",
        "    idx = indices[indices == title].index[0]\r\n",
        "\r\n",
        "    # creating a Series with the similarity scores in descending order\r\n",
        "    score_series = pd.Series(similar_songs[idx]).sort_values(ascending = False)\r\n",
        "\r\n",
        "    # getting the indexes of the 10 most similar movies\r\n",
        "    top_10_indexes = list(score_series.iloc[1:11].index)\r\n",
        "    print(top_10_indexes)\r\n",
        "    \r\n",
        "    # populating the list with the titles of the best 10 matching songs\r\n",
        "    for i in top_10_indexes:\r\n",
        "        recommended_songs.append(list(song_data_with_genre.index)[i])\r\n",
        "        \r\n",
        "    return recommended_songs"
      ],
      "execution_count": 57,
      "outputs": []
    },
    {
      "cell_type": "code",
      "metadata": {
        "colab": {
          "base_uri": "https://localhost:8080/"
        },
        "id": "UbaDsktWHl54",
        "outputId": "acacfc30-af68-46bf-cb27-7633b94ea86d"
      },
      "source": [
        "recommendations('Rock-N-Rule', similar_songs)"
      ],
      "execution_count": 58,
      "outputs": [
        {
          "output_type": "stream",
          "text": [
            "[284, 250, 860, 604, 634, 156, 173, 771, 791, 830]\n"
          ],
          "name": "stdout"
        },
        {
          "output_type": "execute_result",
          "data": {
            "text/plain": [
              "['Just A Man (Ellen Allien Version)',\n",
              " 'So Hott (Explicit Album Version)',\n",
              " 'Working Man (Rio Live Album Version)',\n",
              " 'Outbroken (That Track)',\n",
              " 'Straight Outta Now Rule',\n",
              " \"Tu n'es pas là\",\n",
              " 'Wipe Out (LP Version)',\n",
              " 'Who?',\n",
              " 'The Man In The Bed',\n",
              " 'Radioshadow']"
            ]
          },
          "metadata": {
            "tags": []
          },
          "execution_count": 58
        }
      ]
    }
  ]
}