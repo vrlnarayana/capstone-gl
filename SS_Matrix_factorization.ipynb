{
  "nbformat": 4,
  "nbformat_minor": 0,
  "metadata": {
    "colab": {
      "name": "SS_Matrix_factorization.ipynb",
      "provenance": [],
      "collapsed_sections": [],
      "authorship_tag": "ABX9TyMY1llnCNiPPphJqUk6QlfE",
      "include_colab_link": true
    },
    "kernelspec": {
      "name": "python3",
      "display_name": "Python 3"
    }
  },
  "cells": [
    {
      "cell_type": "markdown",
      "metadata": {
        "id": "view-in-github",
        "colab_type": "text"
      },
      "source": [
        "<a href=\"https://colab.research.google.com/github/vrlnarayana/capstone-gl/blob/main/SS_Matrix_factorization.ipynb\" target=\"_parent\"><img src=\"https://colab.research.google.com/assets/colab-badge.svg\" alt=\"Open In Colab\"/></a>"
      ]
    },
    {
      "cell_type": "code",
      "metadata": {
        "colab": {
          "base_uri": "https://localhost:8080/"
        },
        "id": "Ojf5ccLrYLod",
        "outputId": "6ab254a5-c2f1-4002-835b-2ca7c71b1426"
      },
      "source": [
        "from google.colab import drive\n",
        "drive.mount('/content/drive')"
      ],
      "execution_count": 1,
      "outputs": [
        {
          "output_type": "stream",
          "text": [
            "Mounted at /content/drive\n"
          ],
          "name": "stdout"
        }
      ]
    },
    {
      "cell_type": "code",
      "metadata": {
        "id": "95MQe-A0YRzj"
      },
      "source": [
        "import numpy as np\n",
        "import pandas as pd\n",
        "import seaborn as sns\n",
        "import plotly.express as px\n",
        "import matplotlib.pyplot as plt\n",
        "from google.colab import files\n",
        "from scipy.sparse import csr_matrix\n",
        "import warnings; warnings.simplefilter('ignore')\n",
        "\n",
        "# Remove scientific notations and display numbers with 2 decimal points instead\n",
        "pd.options.display.float_format = '{:,.2f}'.format   \n",
        "\n",
        "plt.rcParams[\"figure.figsize\"] = [20, 6]  # width, height\n",
        "plt.rcParams['xtick.direction'] = 'out'"
      ],
      "execution_count": 2,
      "outputs": []
    },
    {
      "cell_type": "code",
      "metadata": {
        "id": "WtljuCdpY0Ak"
      },
      "source": [
        "song_data=pd.read_csv(r'/content/drive/My Drive/song_data_with_gender.csv')"
      ],
      "execution_count": 19,
      "outputs": []
    },
    {
      "cell_type": "code",
      "metadata": {
        "id": "gOhMOoyrY25C"
      },
      "source": [
        "count_data=pd.read_csv(r'/content/drive/My Drive/count_data.csv', index_col='Unnamed: 0') #Making unnamed: 0 an index column"
      ],
      "execution_count": 20,
      "outputs": []
    },
    {
      "cell_type": "code",
      "metadata": {
        "colab": {
          "base_uri": "https://localhost:8080/"
        },
        "id": "McJ59CTIY7Gf",
        "outputId": "f88f8d43-b114-4920-a9ac-86ab3a577449"
      },
      "source": [
        "song_data.drop(song_data[song_data.duplicated('song_id')].index, inplace=True)\n",
        "len(song_data)"
      ],
      "execution_count": 21,
      "outputs": [
        {
          "output_type": "execute_result",
          "data": {
            "text/plain": [
              "999056"
            ]
          },
          "metadata": {
            "tags": []
          },
          "execution_count": 21
        }
      ]
    },
    {
      "cell_type": "code",
      "metadata": {
        "id": "V3W0erhuZIMx"
      },
      "source": [
        "count_data_with_song_info_df = pd.merge(count_data, song_data, on=\"song_id\", how=\"left\")"
      ],
      "execution_count": 31,
      "outputs": []
    },
    {
      "cell_type": "code",
      "metadata": {
        "colab": {
          "base_uri": "https://localhost:8080/",
          "height": 335
        },
        "id": "RQb4mwH1Zm9R",
        "outputId": "3c81ca22-12f1-4b17-fc6e-21ac38981d2d"
      },
      "source": [
        "count_data_with_song_info_df.head(10)"
      ],
      "execution_count": 32,
      "outputs": [
        {
          "output_type": "execute_result",
          "data": {
            "text/html": [
              "<div>\n",
              "<style scoped>\n",
              "    .dataframe tbody tr th:only-of-type {\n",
              "        vertical-align: middle;\n",
              "    }\n",
              "\n",
              "    .dataframe tbody tr th {\n",
              "        vertical-align: top;\n",
              "    }\n",
              "\n",
              "    .dataframe thead th {\n",
              "        text-align: right;\n",
              "    }\n",
              "</style>\n",
              "<table border=\"1\" class=\"dataframe\">\n",
              "  <thead>\n",
              "    <tr style=\"text-align: right;\">\n",
              "      <th></th>\n",
              "      <th>user_id</th>\n",
              "      <th>song_id</th>\n",
              "      <th>play_count</th>\n",
              "      <th>Unnamed: 0</th>\n",
              "      <th>title</th>\n",
              "      <th>release</th>\n",
              "      <th>artist_name</th>\n",
              "      <th>year</th>\n",
              "      <th>artist_gender</th>\n",
              "    </tr>\n",
              "  </thead>\n",
              "  <tbody>\n",
              "    <tr>\n",
              "      <th>0</th>\n",
              "      <td>b80344d063b5ccb3212f76538f3d9e43d87dca9e</td>\n",
              "      <td>SOAKIMP12A8C130995</td>\n",
              "      <td>1</td>\n",
              "      <td>397229</td>\n",
              "      <td>The Cove</td>\n",
              "      <td>Thicker Than Water</td>\n",
              "      <td>Jack Johnson</td>\n",
              "      <td>0</td>\n",
              "      <td>male</td>\n",
              "    </tr>\n",
              "    <tr>\n",
              "      <th>1</th>\n",
              "      <td>b80344d063b5ccb3212f76538f3d9e43d87dca9e</td>\n",
              "      <td>SOBBMDR12A8C13253B</td>\n",
              "      <td>2</td>\n",
              "      <td>4822</td>\n",
              "      <td>Entre Dos Aguas</td>\n",
              "      <td>Flamenco Para Niños</td>\n",
              "      <td>Paco De Lucia</td>\n",
              "      <td>1976</td>\n",
              "      <td>female</td>\n",
              "    </tr>\n",
              "    <tr>\n",
              "      <th>2</th>\n",
              "      <td>b80344d063b5ccb3212f76538f3d9e43d87dca9e</td>\n",
              "      <td>SOBXHDL12A81C204C0</td>\n",
              "      <td>1</td>\n",
              "      <td>133174</td>\n",
              "      <td>Stronger</td>\n",
              "      <td>Graduation</td>\n",
              "      <td>Kanye West</td>\n",
              "      <td>2007</td>\n",
              "      <td>male</td>\n",
              "    </tr>\n",
              "    <tr>\n",
              "      <th>3</th>\n",
              "      <td>b80344d063b5ccb3212f76538f3d9e43d87dca9e</td>\n",
              "      <td>SOBYHAJ12A6701BF1D</td>\n",
              "      <td>1</td>\n",
              "      <td>971391</td>\n",
              "      <td>Constellations</td>\n",
              "      <td>In Between Dreams</td>\n",
              "      <td>Jack Johnson</td>\n",
              "      <td>2005</td>\n",
              "      <td>male</td>\n",
              "    </tr>\n",
              "    <tr>\n",
              "      <th>4</th>\n",
              "      <td>b80344d063b5ccb3212f76538f3d9e43d87dca9e</td>\n",
              "      <td>SODACBL12A8C13C273</td>\n",
              "      <td>1</td>\n",
              "      <td>930757</td>\n",
              "      <td>Learn To Fly</td>\n",
              "      <td>There Is Nothing Left To Lose</td>\n",
              "      <td>Foo Fighters</td>\n",
              "      <td>1999</td>\n",
              "      <td>male</td>\n",
              "    </tr>\n",
              "    <tr>\n",
              "      <th>5</th>\n",
              "      <td>b80344d063b5ccb3212f76538f3d9e43d87dca9e</td>\n",
              "      <td>SODDNQT12A6D4F5F7E</td>\n",
              "      <td>5</td>\n",
              "      <td>521570</td>\n",
              "      <td>Apuesta Por El Rock 'N' Roll</td>\n",
              "      <td>Antología Audiovisual</td>\n",
              "      <td>Héroes del Silencio</td>\n",
              "      <td>2007</td>\n",
              "      <td>male</td>\n",
              "    </tr>\n",
              "    <tr>\n",
              "      <th>6</th>\n",
              "      <td>b80344d063b5ccb3212f76538f3d9e43d87dca9e</td>\n",
              "      <td>SODXRTY12AB0180F3B</td>\n",
              "      <td>1</td>\n",
              "      <td>292254</td>\n",
              "      <td>Paper Gangsta</td>\n",
              "      <td>The Fame Monster</td>\n",
              "      <td>Lady GaGa</td>\n",
              "      <td>2008</td>\n",
              "      <td>female</td>\n",
              "    </tr>\n",
              "    <tr>\n",
              "      <th>7</th>\n",
              "      <td>b80344d063b5ccb3212f76538f3d9e43d87dca9e</td>\n",
              "      <td>SOFGUAY12AB017B0A8</td>\n",
              "      <td>1</td>\n",
              "      <td>561728</td>\n",
              "      <td>Stacked Actors</td>\n",
              "      <td>There Is Nothing Left To Lose</td>\n",
              "      <td>Foo Fighters</td>\n",
              "      <td>1999</td>\n",
              "      <td>male</td>\n",
              "    </tr>\n",
              "    <tr>\n",
              "      <th>8</th>\n",
              "      <td>b80344d063b5ccb3212f76538f3d9e43d87dca9e</td>\n",
              "      <td>SOFRQTD12A81C233C0</td>\n",
              "      <td>1</td>\n",
              "      <td>808198</td>\n",
              "      <td>Sehr kosmisch</td>\n",
              "      <td>Musik von Harmonia</td>\n",
              "      <td>Harmonia</td>\n",
              "      <td>0</td>\n",
              "      <td>female</td>\n",
              "    </tr>\n",
              "    <tr>\n",
              "      <th>9</th>\n",
              "      <td>b80344d063b5ccb3212f76538f3d9e43d87dca9e</td>\n",
              "      <td>SOHQWYZ12A6D4FA701</td>\n",
              "      <td>1</td>\n",
              "      <td>147425</td>\n",
              "      <td>Heaven's gonna burn your eyes</td>\n",
              "      <td>Hôtel Costes 7 by Stéphane Pompougnac</td>\n",
              "      <td>Thievery Corporation feat. Emiliana Torrini</td>\n",
              "      <td>2002</td>\n",
              "      <td>female</td>\n",
              "    </tr>\n",
              "  </tbody>\n",
              "</table>\n",
              "</div>"
            ],
            "text/plain": [
              "                                    user_id  ... artist_gender\n",
              "0  b80344d063b5ccb3212f76538f3d9e43d87dca9e  ...          male\n",
              "1  b80344d063b5ccb3212f76538f3d9e43d87dca9e  ...        female\n",
              "2  b80344d063b5ccb3212f76538f3d9e43d87dca9e  ...          male\n",
              "3  b80344d063b5ccb3212f76538f3d9e43d87dca9e  ...          male\n",
              "4  b80344d063b5ccb3212f76538f3d9e43d87dca9e  ...          male\n",
              "5  b80344d063b5ccb3212f76538f3d9e43d87dca9e  ...          male\n",
              "6  b80344d063b5ccb3212f76538f3d9e43d87dca9e  ...        female\n",
              "7  b80344d063b5ccb3212f76538f3d9e43d87dca9e  ...          male\n",
              "8  b80344d063b5ccb3212f76538f3d9e43d87dca9e  ...        female\n",
              "9  b80344d063b5ccb3212f76538f3d9e43d87dca9e  ...        female\n",
              "\n",
              "[10 rows x 9 columns]"
            ]
          },
          "metadata": {
            "tags": []
          },
          "execution_count": 32
        }
      ]
    },
    {
      "cell_type": "code",
      "metadata": {
        "id": "vC0LQm31ZpMv"
      },
      "source": [
        "count_data_with_song_info_df = count_data_with_song_info_df.drop(columns=['Unnamed: 0'])"
      ],
      "execution_count": 33,
      "outputs": []
    },
    {
      "cell_type": "code",
      "metadata": {
        "colab": {
          "base_uri": "https://localhost:8080/",
          "height": 391
        },
        "id": "jfCaS760aGaC",
        "outputId": "92c143cd-c513-41e8-b162-0975882af193"
      },
      "source": [
        "count_data_with_song_info_df"
      ],
      "execution_count": 34,
      "outputs": [
        {
          "output_type": "execute_result",
          "data": {
            "text/html": [
              "<div>\n",
              "<style scoped>\n",
              "    .dataframe tbody tr th:only-of-type {\n",
              "        vertical-align: middle;\n",
              "    }\n",
              "\n",
              "    .dataframe tbody tr th {\n",
              "        vertical-align: top;\n",
              "    }\n",
              "\n",
              "    .dataframe thead th {\n",
              "        text-align: right;\n",
              "    }\n",
              "</style>\n",
              "<table border=\"1\" class=\"dataframe\">\n",
              "  <thead>\n",
              "    <tr style=\"text-align: right;\">\n",
              "      <th></th>\n",
              "      <th>user_id</th>\n",
              "      <th>song_id</th>\n",
              "      <th>play_count</th>\n",
              "      <th>title</th>\n",
              "      <th>release</th>\n",
              "      <th>artist_name</th>\n",
              "      <th>year</th>\n",
              "      <th>artist_gender</th>\n",
              "    </tr>\n",
              "  </thead>\n",
              "  <tbody>\n",
              "    <tr>\n",
              "      <th>0</th>\n",
              "      <td>b80344d063b5ccb3212f76538f3d9e43d87dca9e</td>\n",
              "      <td>SOAKIMP12A8C130995</td>\n",
              "      <td>1</td>\n",
              "      <td>The Cove</td>\n",
              "      <td>Thicker Than Water</td>\n",
              "      <td>Jack Johnson</td>\n",
              "      <td>0</td>\n",
              "      <td>male</td>\n",
              "    </tr>\n",
              "    <tr>\n",
              "      <th>1</th>\n",
              "      <td>b80344d063b5ccb3212f76538f3d9e43d87dca9e</td>\n",
              "      <td>SOBBMDR12A8C13253B</td>\n",
              "      <td>2</td>\n",
              "      <td>Entre Dos Aguas</td>\n",
              "      <td>Flamenco Para Niños</td>\n",
              "      <td>Paco De Lucia</td>\n",
              "      <td>1976</td>\n",
              "      <td>female</td>\n",
              "    </tr>\n",
              "    <tr>\n",
              "      <th>2</th>\n",
              "      <td>b80344d063b5ccb3212f76538f3d9e43d87dca9e</td>\n",
              "      <td>SOBXHDL12A81C204C0</td>\n",
              "      <td>1</td>\n",
              "      <td>Stronger</td>\n",
              "      <td>Graduation</td>\n",
              "      <td>Kanye West</td>\n",
              "      <td>2007</td>\n",
              "      <td>male</td>\n",
              "    </tr>\n",
              "    <tr>\n",
              "      <th>3</th>\n",
              "      <td>b80344d063b5ccb3212f76538f3d9e43d87dca9e</td>\n",
              "      <td>SOBYHAJ12A6701BF1D</td>\n",
              "      <td>1</td>\n",
              "      <td>Constellations</td>\n",
              "      <td>In Between Dreams</td>\n",
              "      <td>Jack Johnson</td>\n",
              "      <td>2005</td>\n",
              "      <td>male</td>\n",
              "    </tr>\n",
              "    <tr>\n",
              "      <th>4</th>\n",
              "      <td>b80344d063b5ccb3212f76538f3d9e43d87dca9e</td>\n",
              "      <td>SODACBL12A8C13C273</td>\n",
              "      <td>1</td>\n",
              "      <td>Learn To Fly</td>\n",
              "      <td>There Is Nothing Left To Lose</td>\n",
              "      <td>Foo Fighters</td>\n",
              "      <td>1999</td>\n",
              "      <td>male</td>\n",
              "    </tr>\n",
              "    <tr>\n",
              "      <th>...</th>\n",
              "      <td>...</td>\n",
              "      <td>...</td>\n",
              "      <td>...</td>\n",
              "      <td>...</td>\n",
              "      <td>...</td>\n",
              "      <td>...</td>\n",
              "      <td>...</td>\n",
              "      <td>...</td>\n",
              "    </tr>\n",
              "    <tr>\n",
              "      <th>1999995</th>\n",
              "      <td>d8bfd4ec88f0f3773a9e022e3c1a0f1d3b7b6a92</td>\n",
              "      <td>SOJEYPO12AAA8C6B0E</td>\n",
              "      <td>2</td>\n",
              "      <td>Ignorance (Album Version)</td>\n",
              "      <td>Ignorance</td>\n",
              "      <td>Paramore</td>\n",
              "      <td>0</td>\n",
              "      <td>female</td>\n",
              "    </tr>\n",
              "    <tr>\n",
              "      <th>1999996</th>\n",
              "      <td>d8bfd4ec88f0f3773a9e022e3c1a0f1d3b7b6a92</td>\n",
              "      <td>SOJJYDE12AF729FC16</td>\n",
              "      <td>4</td>\n",
              "      <td>Two Is Better Than One</td>\n",
              "      <td>Love Drunk</td>\n",
              "      <td>Boys Like Girls featuring Taylor Swift</td>\n",
              "      <td>2009</td>\n",
              "      <td>male</td>\n",
              "    </tr>\n",
              "    <tr>\n",
              "      <th>1999997</th>\n",
              "      <td>d8bfd4ec88f0f3773a9e022e3c1a0f1d3b7b6a92</td>\n",
              "      <td>SOJKQSF12A6D4F5EE9</td>\n",
              "      <td>3</td>\n",
              "      <td>What I've Done (Album Version)</td>\n",
              "      <td>What I've Done</td>\n",
              "      <td>Linkin Park</td>\n",
              "      <td>2007</td>\n",
              "      <td>male</td>\n",
              "    </tr>\n",
              "    <tr>\n",
              "      <th>1999998</th>\n",
              "      <td>d8bfd4ec88f0f3773a9e022e3c1a0f1d3b7b6a92</td>\n",
              "      <td>SOJUXGA12AC961885C</td>\n",
              "      <td>1</td>\n",
              "      <td>Up</td>\n",
              "      <td>My Worlds</td>\n",
              "      <td>Justin Bieber</td>\n",
              "      <td>2010</td>\n",
              "      <td>male</td>\n",
              "    </tr>\n",
              "    <tr>\n",
              "      <th>1999999</th>\n",
              "      <td>d8bfd4ec88f0f3773a9e022e3c1a0f1d3b7b6a92</td>\n",
              "      <td>SOJYOLS12A8C13C06F</td>\n",
              "      <td>1</td>\n",
              "      <td>Soil_ Soil (Album Version)</td>\n",
              "      <td>The Con</td>\n",
              "      <td>Tegan And Sara</td>\n",
              "      <td>2007</td>\n",
              "      <td>female</td>\n",
              "    </tr>\n",
              "  </tbody>\n",
              "</table>\n",
              "<p>2000000 rows × 8 columns</p>\n",
              "</div>"
            ],
            "text/plain": [
              "                                          user_id  ... artist_gender\n",
              "0        b80344d063b5ccb3212f76538f3d9e43d87dca9e  ...          male\n",
              "1        b80344d063b5ccb3212f76538f3d9e43d87dca9e  ...        female\n",
              "2        b80344d063b5ccb3212f76538f3d9e43d87dca9e  ...          male\n",
              "3        b80344d063b5ccb3212f76538f3d9e43d87dca9e  ...          male\n",
              "4        b80344d063b5ccb3212f76538f3d9e43d87dca9e  ...          male\n",
              "...                                           ...  ...           ...\n",
              "1999995  d8bfd4ec88f0f3773a9e022e3c1a0f1d3b7b6a92  ...        female\n",
              "1999996  d8bfd4ec88f0f3773a9e022e3c1a0f1d3b7b6a92  ...          male\n",
              "1999997  d8bfd4ec88f0f3773a9e022e3c1a0f1d3b7b6a92  ...          male\n",
              "1999998  d8bfd4ec88f0f3773a9e022e3c1a0f1d3b7b6a92  ...          male\n",
              "1999999  d8bfd4ec88f0f3773a9e022e3c1a0f1d3b7b6a92  ...        female\n",
              "\n",
              "[2000000 rows x 8 columns]"
            ]
          },
          "metadata": {
            "tags": []
          },
          "execution_count": 34
        }
      ]
    },
    {
      "cell_type": "code",
      "metadata": {
        "colab": {
          "base_uri": "https://localhost:8080/",
          "height": 390
        },
        "id": "bL4v3roAaUXQ",
        "outputId": "b00f7827-6bba-48c2-b481-bfe5223d9f6e"
      },
      "source": [
        "#Modified by Lakshminarayanan\n",
        "\n",
        "#Commented Sachin's code below\n",
        "#count_data_with_song_info_df=count_data_with_song_info_df.iloc[0:50000,] # we should take user who have played more no of songs than top 50k records\n",
        "#users = count_data_with_song_info_df['user_id'].unique()\n",
        "#len(users)\n",
        "\n",
        "counts = count_data_with_song_info_df['user_id'].value_counts()\n",
        "print(counts.plot())"
      ],
      "execution_count": 35,
      "outputs": [
        {
          "output_type": "stream",
          "text": [
            "AxesSubplot(0.125,0.125;0.775x0.755)\n"
          ],
          "name": "stdout"
        },
        {
          "output_type": "display_data",
          "data": {
            "image/png": "[encoded data removed]",
            "text/plain": [
              "<Figure size 1440x432 with 1 Axes>"
            ]
          },
          "metadata": {
            "tags": [],
            "needs_background": "light"
          }
        }
      ]
    },
    {
      "cell_type": "code",
      "metadata": {
        "colab": {
          "base_uri": "https://localhost:8080/",
          "height": 391
        },
        "id": "lim_FWmyZ8Ku",
        "outputId": "7cca7cb5-3d4c-4716-ab23-7784a4c7025b"
      },
      "source": [
        "#Modified by Lakshminarayanan\n",
        "#Based on the above plot consider users who have played 60 times or more\n",
        "count_data_with_song_info_df_final = count_data_with_song_info_df[count_data_with_song_info_df['user_id'].isin(counts[counts >= 60].index)]\n",
        "count_data_with_song_info_df_final"
      ],
      "execution_count": 36,
      "outputs": [
        {
          "output_type": "execute_result",
          "data": {
            "text/html": [
              "<div>\n",
              "<style scoped>\n",
              "    .dataframe tbody tr th:only-of-type {\n",
              "        vertical-align: middle;\n",
              "    }\n",
              "\n",
              "    .dataframe tbody tr th {\n",
              "        vertical-align: top;\n",
              "    }\n",
              "\n",
              "    .dataframe thead th {\n",
              "        text-align: right;\n",
              "    }\n",
              "</style>\n",
              "<table border=\"1\" class=\"dataframe\">\n",
              "  <thead>\n",
              "    <tr style=\"text-align: right;\">\n",
              "      <th></th>\n",
              "      <th>user_id</th>\n",
              "      <th>song_id</th>\n",
              "      <th>play_count</th>\n",
              "      <th>title</th>\n",
              "      <th>release</th>\n",
              "      <th>artist_name</th>\n",
              "      <th>year</th>\n",
              "      <th>artist_gender</th>\n",
              "    </tr>\n",
              "  </thead>\n",
              "  <tbody>\n",
              "    <tr>\n",
              "      <th>130</th>\n",
              "      <td>b64cdd1a0bd907e5e00b39e345194768e330d652</td>\n",
              "      <td>SOAFTRR12AF72A8D4D</td>\n",
              "      <td>3</td>\n",
              "      <td>Harder Better Faster Stronger</td>\n",
              "      <td>Discovery</td>\n",
              "      <td>Daft Punk</td>\n",
              "      <td>2007</td>\n",
              "      <td>male</td>\n",
              "    </tr>\n",
              "    <tr>\n",
              "      <th>131</th>\n",
              "      <td>b64cdd1a0bd907e5e00b39e345194768e330d652</td>\n",
              "      <td>SOALEQA12A58A77839</td>\n",
              "      <td>1</td>\n",
              "      <td>Jumping Jack Flash</td>\n",
              "      <td>Shine A Light</td>\n",
              "      <td>The Rolling Stones</td>\n",
              "      <td>1982</td>\n",
              "      <td>male</td>\n",
              "    </tr>\n",
              "    <tr>\n",
              "      <th>132</th>\n",
              "      <td>b64cdd1a0bd907e5e00b39e345194768e330d652</td>\n",
              "      <td>SOATNYF12AF72A8D48</td>\n",
              "      <td>3</td>\n",
              "      <td>Aerodynamic</td>\n",
              "      <td>Discovery</td>\n",
              "      <td>Daft Punk</td>\n",
              "      <td>2001</td>\n",
              "      <td>male</td>\n",
              "    </tr>\n",
              "    <tr>\n",
              "      <th>133</th>\n",
              "      <td>b64cdd1a0bd907e5e00b39e345194768e330d652</td>\n",
              "      <td>SOBDKVR12A8C13E705</td>\n",
              "      <td>1</td>\n",
              "      <td>You Know What You Are?</td>\n",
              "      <td>With Teeth</td>\n",
              "      <td>Nine Inch Nails</td>\n",
              "      <td>2005</td>\n",
              "      <td>male</td>\n",
              "    </tr>\n",
              "    <tr>\n",
              "      <th>134</th>\n",
              "      <td>b64cdd1a0bd907e5e00b39e345194768e330d652</td>\n",
              "      <td>SOBDMNP12AF72AB1E1</td>\n",
              "      <td>2</td>\n",
              "      <td>Indo Silver Club</td>\n",
              "      <td>Homework</td>\n",
              "      <td>Daft Punk</td>\n",
              "      <td>1996</td>\n",
              "      <td>male</td>\n",
              "    </tr>\n",
              "    <tr>\n",
              "      <th>...</th>\n",
              "      <td>...</td>\n",
              "      <td>...</td>\n",
              "      <td>...</td>\n",
              "      <td>...</td>\n",
              "      <td>...</td>\n",
              "      <td>...</td>\n",
              "      <td>...</td>\n",
              "      <td>...</td>\n",
              "    </tr>\n",
              "    <tr>\n",
              "      <th>1999765</th>\n",
              "      <td>9fb0717a34c90c91ce09ab460969a8a428d3ac87</td>\n",
              "      <td>SOZOIUU12A67ADFA39</td>\n",
              "      <td>1</td>\n",
              "      <td>He Can Only Hold Her</td>\n",
              "      <td>Back To Black</td>\n",
              "      <td>Amy Winehouse</td>\n",
              "      <td>2006</td>\n",
              "      <td>female</td>\n",
              "    </tr>\n",
              "    <tr>\n",
              "      <th>1999766</th>\n",
              "      <td>9fb0717a34c90c91ce09ab460969a8a428d3ac87</td>\n",
              "      <td>SOZPLKR12A6D4F8421</td>\n",
              "      <td>5</td>\n",
              "      <td>Drunk Kid Catholic</td>\n",
              "      <td>Noise Floor [Rarities 98 - 05]</td>\n",
              "      <td>Bright Eyes</td>\n",
              "      <td>2000</td>\n",
              "      <td>male</td>\n",
              "    </tr>\n",
              "    <tr>\n",
              "      <th>1999767</th>\n",
              "      <td>9fb0717a34c90c91ce09ab460969a8a428d3ac87</td>\n",
              "      <td>SOZRILK12A8C139F4F</td>\n",
              "      <td>2</td>\n",
              "      <td>Cool Dry Place (2007 Remastered LP Version)</td>\n",
              "      <td>Traveling Wilburys Vol. 3</td>\n",
              "      <td>Traveling Wilburys</td>\n",
              "      <td>0</td>\n",
              "      <td>male</td>\n",
              "    </tr>\n",
              "    <tr>\n",
              "      <th>1999768</th>\n",
              "      <td>9fb0717a34c90c91ce09ab460969a8a428d3ac87</td>\n",
              "      <td>SOZWQWL12A58A7EA09</td>\n",
              "      <td>3</td>\n",
              "      <td>Let's Live For Today</td>\n",
              "      <td>150 Rock 'N' Roll Classics</td>\n",
              "      <td>The Grass Roots</td>\n",
              "      <td>1987</td>\n",
              "      <td>male</td>\n",
              "    </tr>\n",
              "    <tr>\n",
              "      <th>1999769</th>\n",
              "      <td>9fb0717a34c90c91ce09ab460969a8a428d3ac87</td>\n",
              "      <td>SOZXVUF12AC909762A</td>\n",
              "      <td>2</td>\n",
              "      <td>Your Picture</td>\n",
              "      <td>Underachievers Please Try Harder</td>\n",
              "      <td>Camera Obscura</td>\n",
              "      <td>0</td>\n",
              "      <td>female</td>\n",
              "    </tr>\n",
              "  </tbody>\n",
              "</table>\n",
              "<p>736514 rows × 8 columns</p>\n",
              "</div>"
            ],
            "text/plain": [
              "                                          user_id  ... artist_gender\n",
              "130      b64cdd1a0bd907e5e00b39e345194768e330d652  ...          male\n",
              "131      b64cdd1a0bd907e5e00b39e345194768e330d652  ...          male\n",
              "132      b64cdd1a0bd907e5e00b39e345194768e330d652  ...          male\n",
              "133      b64cdd1a0bd907e5e00b39e345194768e330d652  ...          male\n",
              "134      b64cdd1a0bd907e5e00b39e345194768e330d652  ...          male\n",
              "...                                           ...  ...           ...\n",
              "1999765  9fb0717a34c90c91ce09ab460969a8a428d3ac87  ...        female\n",
              "1999766  9fb0717a34c90c91ce09ab460969a8a428d3ac87  ...          male\n",
              "1999767  9fb0717a34c90c91ce09ab460969a8a428d3ac87  ...          male\n",
              "1999768  9fb0717a34c90c91ce09ab460969a8a428d3ac87  ...          male\n",
              "1999769  9fb0717a34c90c91ce09ab460969a8a428d3ac87  ...        female\n",
              "\n",
              "[736514 rows x 8 columns]"
            ]
          },
          "metadata": {
            "tags": []
          },
          "execution_count": 36
        }
      ]
    },
    {
      "cell_type": "code",
      "metadata": {
        "colab": {
          "base_uri": "https://localhost:8080/"
        },
        "id": "H9XF11auab0e",
        "outputId": "b6434b8d-6e73-421d-91ad-aa1396cfe10b"
      },
      "source": [
        "#Modified by Lakshminarayanan\n",
        "users = count_data_with_song_info_df_final['user_id'].unique()\n",
        "len(users)"
      ],
      "execution_count": 37,
      "outputs": [
        {
          "output_type": "execute_result",
          "data": {
            "text/plain": [
              "7298"
            ]
          },
          "metadata": {
            "tags": []
          },
          "execution_count": 37
        }
      ]
    },
    {
      "cell_type": "markdown",
      "metadata": {
        "id": "jcVrFJ86i0ib"
      },
      "source": [
        "## User-Song - Derive and normalize Implicit Rating \n",
        "We do not have “rating” in our data; all we have are the play counts of various songs which can be considered as “implicit feedback”. We will replace the play count with a fractional play count. The logic being that this will measure the strength of “likeness” for a song in the range of [0,1]. "
      ]
    },
    {
      "cell_type": "code",
      "metadata": {
        "id": "lACwEpiHdbiM"
      },
      "source": [
        "#Modified by Lakshminarayanan\n",
        "user_song_sum_df = count_data_with_song_info_df_final[['user_id','play_count']].groupby('user_id').sum().reset_index()"
      ],
      "execution_count": 42,
      "outputs": []
    },
    {
      "cell_type": "code",
      "metadata": {
        "id": "rPu-F2f4dbZP"
      },
      "source": [
        "user_song_sum_df.rename(columns={'play_count':'total_play_count'},inplace=True)"
      ],
      "execution_count": 43,
      "outputs": []
    },
    {
      "cell_type": "code",
      "metadata": {
        "id": "kQI27NVrdbQP"
      },
      "source": [
        "count_data_with_song_info_df = pd.merge(count_data_with_song_info_df,user_song_sum_df)\n",
        "count_data_with_song_info_df['fractional_play_count'] = count_data_with_song_info_df['play_count']/count_data_with_song_info_df['total_play_count']"
      ],
      "execution_count": 44,
      "outputs": []
    },
    {
      "cell_type": "code",
      "metadata": {
        "colab": {
          "base_uri": "https://localhost:8080/",
          "height": 272
        },
        "id": "RQxEHfJKdbE1",
        "outputId": "61604e9d-4ea1-4d4e-cef1-9eb388f2c33b"
      },
      "source": [
        "count_data_with_song_info_df.tail(5)"
      ],
      "execution_count": 45,
      "outputs": [
        {
          "output_type": "execute_result",
          "data": {
            "text/html": [
              "<div>\n",
              "<style scoped>\n",
              "    .dataframe tbody tr th:only-of-type {\n",
              "        vertical-align: middle;\n",
              "    }\n",
              "\n",
              "    .dataframe tbody tr th {\n",
              "        vertical-align: top;\n",
              "    }\n",
              "\n",
              "    .dataframe thead th {\n",
              "        text-align: right;\n",
              "    }\n",
              "</style>\n",
              "<table border=\"1\" class=\"dataframe\">\n",
              "  <thead>\n",
              "    <tr style=\"text-align: right;\">\n",
              "      <th></th>\n",
              "      <th>user_id</th>\n",
              "      <th>song_id</th>\n",
              "      <th>play_count</th>\n",
              "      <th>title</th>\n",
              "      <th>release</th>\n",
              "      <th>artist_name</th>\n",
              "      <th>year</th>\n",
              "      <th>artist_gender</th>\n",
              "      <th>total_play_count</th>\n",
              "      <th>fractional_play_count</th>\n",
              "    </tr>\n",
              "  </thead>\n",
              "  <tbody>\n",
              "    <tr>\n",
              "      <th>736509</th>\n",
              "      <td>9fb0717a34c90c91ce09ab460969a8a428d3ac87</td>\n",
              "      <td>SOZOIUU12A67ADFA39</td>\n",
              "      <td>1</td>\n",
              "      <td>He Can Only Hold Her</td>\n",
              "      <td>Back To Black</td>\n",
              "      <td>Amy Winehouse</td>\n",
              "      <td>2006</td>\n",
              "      <td>female</td>\n",
              "      <td>798</td>\n",
              "      <td>0.00</td>\n",
              "    </tr>\n",
              "    <tr>\n",
              "      <th>736510</th>\n",
              "      <td>9fb0717a34c90c91ce09ab460969a8a428d3ac87</td>\n",
              "      <td>SOZPLKR12A6D4F8421</td>\n",
              "      <td>5</td>\n",
              "      <td>Drunk Kid Catholic</td>\n",
              "      <td>Noise Floor [Rarities 98 - 05]</td>\n",
              "      <td>Bright Eyes</td>\n",
              "      <td>2000</td>\n",
              "      <td>male</td>\n",
              "      <td>798</td>\n",
              "      <td>0.01</td>\n",
              "    </tr>\n",
              "    <tr>\n",
              "      <th>736511</th>\n",
              "      <td>9fb0717a34c90c91ce09ab460969a8a428d3ac87</td>\n",
              "      <td>SOZRILK12A8C139F4F</td>\n",
              "      <td>2</td>\n",
              "      <td>Cool Dry Place (2007 Remastered LP Version)</td>\n",
              "      <td>Traveling Wilburys Vol. 3</td>\n",
              "      <td>Traveling Wilburys</td>\n",
              "      <td>0</td>\n",
              "      <td>male</td>\n",
              "      <td>798</td>\n",
              "      <td>0.00</td>\n",
              "    </tr>\n",
              "    <tr>\n",
              "      <th>736512</th>\n",
              "      <td>9fb0717a34c90c91ce09ab460969a8a428d3ac87</td>\n",
              "      <td>SOZWQWL12A58A7EA09</td>\n",
              "      <td>3</td>\n",
              "      <td>Let's Live For Today</td>\n",
              "      <td>150 Rock 'N' Roll Classics</td>\n",
              "      <td>The Grass Roots</td>\n",
              "      <td>1987</td>\n",
              "      <td>male</td>\n",
              "      <td>798</td>\n",
              "      <td>0.00</td>\n",
              "    </tr>\n",
              "    <tr>\n",
              "      <th>736513</th>\n",
              "      <td>9fb0717a34c90c91ce09ab460969a8a428d3ac87</td>\n",
              "      <td>SOZXVUF12AC909762A</td>\n",
              "      <td>2</td>\n",
              "      <td>Your Picture</td>\n",
              "      <td>Underachievers Please Try Harder</td>\n",
              "      <td>Camera Obscura</td>\n",
              "      <td>0</td>\n",
              "      <td>female</td>\n",
              "      <td>798</td>\n",
              "      <td>0.00</td>\n",
              "    </tr>\n",
              "  </tbody>\n",
              "</table>\n",
              "</div>"
            ],
            "text/plain": [
              "                                         user_id  ... fractional_play_count\n",
              "736509  9fb0717a34c90c91ce09ab460969a8a428d3ac87  ...                  0.00\n",
              "736510  9fb0717a34c90c91ce09ab460969a8a428d3ac87  ...                  0.01\n",
              "736511  9fb0717a34c90c91ce09ab460969a8a428d3ac87  ...                  0.00\n",
              "736512  9fb0717a34c90c91ce09ab460969a8a428d3ac87  ...                  0.00\n",
              "736513  9fb0717a34c90c91ce09ab460969a8a428d3ac87  ...                  0.00\n",
              "\n",
              "[5 rows x 10 columns]"
            ]
          },
          "metadata": {
            "tags": []
          },
          "execution_count": 45
        }
      ]
    },
    {
      "cell_type": "markdown",
      "metadata": {
        "id": "oINaUqyTa2F7"
      },
      "source": [
        "## Create utility matrix¶\n",
        "convert the dataframe into a numpy matrix in\n",
        "the format of utility matrix"
      ]
    },
    {
      "cell_type": "code",
      "metadata": {
        "id": "cYKIr_I9aoWw"
      },
      "source": [
        "from scipy.sparse import coo_matrix"
      ],
      "execution_count": 46,
      "outputs": []
    },
    {
      "cell_type": "code",
      "metadata": {
        "id": "kyTcaS8Hkt2T"
      },
      "source": [
        "small_set = count_data_with_song_info_df\n",
        "user_codes = small_set['user_id'].drop_duplicates().reset_index()\n",
        "song_codes = small_set['song_id'].drop_duplicates().reset_index() \n",
        "user_codes.rename(columns={'index':'user_index'}, inplace=True) \n",
        "song_codes.rename(columns={'index':'song_index'}, inplace=True) "
      ],
      "execution_count": 47,
      "outputs": []
    },
    {
      "cell_type": "code",
      "metadata": {
        "id": "s3TwJ-Wrktvb"
      },
      "source": [
        "song_codes['so_index_value'] = list(song_codes.index)\n",
        "user_codes['us_index_value'] = list(user_codes.index)\n",
        "small_set = pd.merge(small_set,song_codes,how='left')\n",
        "small_set = pd.merge(small_set,user_codes,how='left')\n",
        "mat_candidate = small_set[['us_index_value','so_index_value','fractional_play_count']] \n",
        "data_array = mat_candidate['fractional_play_count'].values\n",
        "row_array = mat_candidate['us_index_value'].values\n",
        "col_array = mat_candidate['so_index_value'].values\n",
        "data_sparse = coo_matrix((data_array, (row_array, col_array)),dtype=float)"
      ],
      "execution_count": 48,
      "outputs": []
    },
    {
      "cell_type": "code",
      "metadata": {
        "colab": {
          "base_uri": "https://localhost:8080/"
        },
        "id": "DKs1oLVektr_",
        "outputId": "466103f6-029c-4fe1-ad38-da0b423ec2d0"
      },
      "source": [
        "data_sparse.shape"
      ],
      "execution_count": 49,
      "outputs": [
        {
          "output_type": "execute_result",
          "data": {
            "text/plain": [
              "(7298, 10000)"
            ]
          },
          "metadata": {
            "tags": []
          },
          "execution_count": 49
        }
      ]
    },
    {
      "cell_type": "code",
      "metadata": {
        "colab": {
          "base_uri": "https://localhost:8080/"
        },
        "id": "gldKda0UktnZ",
        "outputId": "e1661b99-4f1f-46ff-d843-61bd3f0bb6a1"
      },
      "source": [
        "len(user_codes)"
      ],
      "execution_count": 50,
      "outputs": [
        {
          "output_type": "execute_result",
          "data": {
            "text/plain": [
              "7298"
            ]
          },
          "metadata": {
            "tags": []
          },
          "execution_count": 50
        }
      ]
    },
    {
      "cell_type": "code",
      "metadata": {
        "colab": {
          "base_uri": "https://localhost:8080/"
        },
        "id": "nI17Mo4ektj_",
        "outputId": "aa04e992-782e-4a02-88c5-b665a21f2751"
      },
      "source": [
        "len(song_codes)"
      ],
      "execution_count": 51,
      "outputs": [
        {
          "output_type": "execute_result",
          "data": {
            "text/plain": [
              "10000"
            ]
          },
          "metadata": {
            "tags": []
          },
          "execution_count": 51
        }
      ]
    },
    {
      "cell_type": "code",
      "metadata": {
        "colab": {
          "base_uri": "https://localhost:8080/",
          "height": 47
        },
        "id": "SH-HEIjRpqZm",
        "outputId": "5a6f8202-454b-4b11-f236-c8005eae9e84"
      },
      "source": [
        "user_codes[user_codes['user_id'] =='befdd50134a9ad0e512d1604d057b540cbef87dd']"
      ],
      "execution_count": 52,
      "outputs": [
        {
          "output_type": "execute_result",
          "data": {
            "text/html": [
              "<div>\n",
              "<style scoped>\n",
              "    .dataframe tbody tr th:only-of-type {\n",
              "        vertical-align: middle;\n",
              "    }\n",
              "\n",
              "    .dataframe tbody tr th {\n",
              "        vertical-align: top;\n",
              "    }\n",
              "\n",
              "    .dataframe thead th {\n",
              "        text-align: right;\n",
              "    }\n",
              "</style>\n",
              "<table border=\"1\" class=\"dataframe\">\n",
              "  <thead>\n",
              "    <tr style=\"text-align: right;\">\n",
              "      <th></th>\n",
              "      <th>user_index</th>\n",
              "      <th>user_id</th>\n",
              "      <th>us_index_value</th>\n",
              "    </tr>\n",
              "  </thead>\n",
              "  <tbody>\n",
              "  </tbody>\n",
              "</table>\n",
              "</div>"
            ],
            "text/plain": [
              "Empty DataFrame\n",
              "Columns: [user_index, user_id, us_index_value]\n",
              "Index: []"
            ]
          },
          "metadata": {
            "tags": []
          },
          "execution_count": 52
        }
      ]
    },
    {
      "cell_type": "markdown",
      "metadata": {
        "id": "0jbVAgErb9CP"
      },
      "source": [
        "### Singular Value Decomposition\n",
        "we will use the svds function provided by the scipy library to break down our utility matrix into three different matrices. We will use 50 latent factors\n"
      ]
    },
    {
      "cell_type": "code",
      "metadata": {
        "id": "BPyGtzNSqHr9"
      },
      "source": [
        "import math as mt\n",
        "from scipy.sparse.linalg import * #used for matrix multiplication\n",
        "from scipy.sparse.linalg import svds\n",
        "from scipy.sparse import csc_matrix"
      ],
      "execution_count": null,
      "outputs": []
    },
    {
      "cell_type": "code",
      "metadata": {
        "id": "ur9b4X96qHgV"
      },
      "source": [
        "\n",
        "def compute_svd(urm, K):\n",
        "    U, s, Vt = svds(urm, K)\n",
        "\n",
        "    dim = (len(s), len(s))\n",
        "    S = np.zeros(dim, dtype=np.float32)\n",
        "    for i in range(0, len(s)):\n",
        "        S[i,i] = mt.sqrt(s[i])\n",
        "\n",
        "    U = csc_matrix(U, dtype=np.float32)\n",
        "    S = csc_matrix(S, dtype=np.float32)\n",
        "    Vt = csc_matrix(Vt, dtype=np.float32)\n",
        "    \n",
        "    return U, S, Vt\n",
        "\n",
        "def compute_estimated_matrix(urm, U, S, Vt, uTest, K, test):\n",
        "    rightTerm = S*Vt \n",
        "    max_recommendation = 250\n",
        "    estimatedRatings = np.zeros(shape=(MAX_UID, MAX_PID), dtype=np.float16)\n",
        "    recomendRatings = np.zeros(shape=(MAX_UID,max_recommendation ), dtype=np.float16)\n",
        "    for userTest in uTest:\n",
        "        prod = U[userTest, :]*rightTerm\n",
        "        estimatedRatings[userTest, :] = prod.todense()\n",
        "        recomendRatings[userTest, :] = (-estimatedRatings[userTest, :]).argsort()[:max_recommendation]\n",
        "    return recomendRatings"
      ],
      "execution_count": null,
      "outputs": []
    },
    {
      "cell_type": "code",
      "metadata": {
        "id": "cnL9_7JBbwul"
      },
      "source": [
        "K=50\n",
        "urm = data_sparse\n",
        "MAX_PID = urm.shape[1]\n",
        "MAX_UID = urm.shape[0]\n",
        "U, S, Vt = compute_svd(urm, K)"
      ],
      "execution_count": null,
      "outputs": []
    },
    {
      "cell_type": "code",
      "metadata": {
        "id": "btsbiCGkcBbh"
      },
      "source": [
        "uTest = [4,5,6,7,8,873,23]\n",
        "\n",
        "uTest_recommended_items = compute_estimated_matrix(urm, U, S, Vt, uTest, K, True)"
      ],
      "execution_count": null,
      "outputs": []
    },
    {
      "cell_type": "code",
      "metadata": {
        "colab": {
          "base_uri": "https://localhost:8080/"
        },
        "id": "9Jo3OxuFqx7J",
        "outputId": "d9490952-2ec6-4c72-c4ca-2e0c24d4b5fd"
      },
      "source": [
        "for user in uTest:\n",
        "    print(\"Recommendation for user with user id {}\". format(user))\n",
        "    rank_value = 1\n",
        "    for i in uTest_recommended_items[user,0:10]:\n",
        "        song_details = small_set[small_set.so_index_value == i].drop_duplicates('so_index_value')[['title','artist_name']]\n",
        "        print(\"The number {} recommended song is {} BY {}\".format(rank_value, list(song_details['title'])[0],list(song_details['artist_name'])[0]))\n",
        "        rank_value+=1"
      ],
      "execution_count": null,
      "outputs": [
        {
          "output_type": "stream",
          "text": [
            "Recommendation for user with user id 4\n",
            "The number 1 recommended song is Found Home BY 59 Times the Pain\n",
            "The number 2 recommended song is Under The Bridge (Album Version) BY Red Hot Chili Peppers\n",
            "The number 3 recommended song is Walking For You BY The Avett Brothers\n",
            "The number 4 recommended song is Make Love To Your Mind BY Bill Withers\n",
            "The number 5 recommended song is Dog Days Are Over (Radio Edit) BY Florence + The Machine\n",
            "The number 6 recommended song is The Devil Never Sleeps (Album) BY Iron And Wine\n",
            "The number 7 recommended song is The Gift BY Angels and Airwaves\n",
            "The number 8 recommended song is Sincerité Et Jalousie BY Alliance Ethnik\n",
            "The number 9 recommended song is Horn Concerto No. 4 in E flat K495: II. Romance (Andante cantabile) BY Barry Tuckwell/Academy of St Martin-in-the-Fields/Sir Neville Marriner\n",
            "The number 10 recommended song is Can't Have You BY Jonas Brothers\n",
            "Recommendation for user with user id 5\n",
            "The number 1 recommended song is Invalid BY Tub Ring\n",
            "The number 2 recommended song is Speechless BY Lady GaGa\n",
            "The number 3 recommended song is Drop The World BY Lil Wayne / Eminem\n",
            "The number 4 recommended song is I Will Still Love You BY Britney Spears duet with Don Phillip\n",
            "The number 5 recommended song is Hey_ Soul Sister BY Train\n",
            "The number 6 recommended song is Billionaire [feat. Bruno Mars]  (Explicit Album Version) BY Travie McCoy\n",
            "The number 7 recommended song is Pon De Floor BY Major Lazer / Vybz Kartel / Afrojack\n",
            "The number 8 recommended song is The Gift BY Angels and Airwaves\n",
            "The number 9 recommended song is Fuck Kitty BY Frumpies\n",
            "The number 10 recommended song is Marry Me BY Train\n",
            "Recommendation for user with user id 6\n",
            "The number 1 recommended song is Sehr kosmisch BY Harmonia\n",
            "The number 2 recommended song is Horn Concerto No. 4 in E flat K495: II. Romance (Andante cantabile) BY Barry Tuckwell/Academy of St Martin-in-the-Fields/Sir Neville Marriner\n",
            "The number 3 recommended song is Dog Days Are Over (Radio Edit) BY Florence + The Machine\n",
            "The number 4 recommended song is Secrets BY OneRepublic\n",
            "The number 5 recommended song is Drop The World BY Lil Wayne / Eminem\n",
            "The number 6 recommended song is Revelry BY Kings Of Leon\n",
            "The number 7 recommended song is You're The One BY Dwight Yoakam\n",
            "The number 8 recommended song is Undo BY Björk\n",
            "The number 9 recommended song is Marry Me BY Train\n",
            "The number 10 recommended song is Hey_ Soul Sister BY Train\n",
            "Recommendation for user with user id 7\n",
            "The number 1 recommended song is Clocks BY Coldplay\n",
            "The number 2 recommended song is The Scientist BY Coldplay\n",
            "The number 3 recommended song is Yellow BY Coldplay\n",
            "The number 4 recommended song is Woman BY Wolfmother\n",
            "The number 5 recommended song is Sincerité Et Jalousie BY Alliance Ethnik\n",
            "The number 6 recommended song is Fix You BY Coldplay\n",
            "The number 7 recommended song is Speed Of Sound BY Coldplay\n",
            "The number 8 recommended song is Billionaire [feat. Bruno Mars]  (Explicit Album Version) BY Travie McCoy\n",
            "The number 9 recommended song is Hey_ Soul Sister BY Train\n",
            "The number 10 recommended song is Life In Technicolor ii BY Coldplay\n",
            "Recommendation for user with user id 8\n",
            "The number 1 recommended song is Sincerité Et Jalousie BY Alliance Ethnik\n",
            "The number 2 recommended song is Hey_ Soul Sister BY Train\n",
            "The number 3 recommended song is Forgive Me BY Leona Lewis\n",
            "The number 4 recommended song is Billionaire [feat. Bruno Mars]  (Explicit Album Version) BY Travie McCoy\n",
            "The number 5 recommended song is Drop The World BY Lil Wayne / Eminem\n",
            "The number 6 recommended song is Secrets BY OneRepublic\n",
            "The number 7 recommended song is Ain't Misbehavin BY Sam Cooke\n",
            "The number 8 recommended song is You've Got The Love BY Florence + The Machine\n",
            "The number 9 recommended song is Day 'N' Nite BY Kid Cudi Vs Crookers\n",
            "The number 10 recommended song is Dream On BY Aerosmith\n",
            "Recommendation for user with user id 873\n",
            "The number 1 recommended song is Canada BY Five Iron Frenzy\n",
            "The number 2 recommended song is Visions BY Cut Copy\n",
            "The number 3 recommended song is Dog Days Are Over (Radio Edit) BY Florence + The Machine\n",
            "The number 4 recommended song is The Gift BY Angels and Airwaves\n",
            "The number 5 recommended song is Sincerité Et Jalousie BY Alliance Ethnik\n",
            "The number 6 recommended song is You've Got The Love BY Florence + The Machine\n",
            "The number 7 recommended song is Secrets BY OneRepublic\n",
            "The number 8 recommended song is Bigger Isn't Better BY The String Cheese Incident\n",
            "The number 9 recommended song is Hey_ Soul Sister BY Train\n",
            "The number 10 recommended song is Woman BY Wolfmother\n",
            "Recommendation for user with user id 23\n",
            "The number 1 recommended song is Drop The World BY Lil Wayne / Eminem\n",
            "The number 2 recommended song is Hey_ Soul Sister BY Train\n",
            "The number 3 recommended song is Sincerité Et Jalousie BY Alliance Ethnik\n",
            "The number 4 recommended song is Billionaire [feat. Bruno Mars]  (Explicit Album Version) BY Travie McCoy\n",
            "The number 5 recommended song is Marry Me BY Train\n",
            "The number 6 recommended song is The Gift BY Angels and Airwaves\n",
            "The number 7 recommended song is Secrets BY OneRepublic\n",
            "The number 8 recommended song is Day 'N' Nite BY Kid Cudi Vs Crookers\n",
            "The number 9 recommended song is OMG BY Usher featuring will.i.am\n",
            "The number 10 recommended song is Sehr kosmisch BY Harmonia\n"
          ],
          "name": "stdout"
        }
      ]
    },
    {
      "cell_type": "code",
      "metadata": {
        "id": "PjXHDVWqq5Ix"
      },
      "source": [
        ""
      ],
      "execution_count": null,
      "outputs": []
    }
  ]
}