{
  "nbformat": 4,
  "nbformat_minor": 0,
  "metadata": {
    "colab": {
      "name": "SS_Matrix_factorization.ipynb",
      "provenance": [],
      "collapsed_sections": [],
      "authorship_tag": "ABX9TyMFbrpdDYdWs9GdHqmQJfyA",
      "include_colab_link": true
    },
    "kernelspec": {
      "name": "python3",
      "display_name": "Python 3"
    }
  },
  "cells": [
    {
      "cell_type": "markdown",
      "metadata": {
        "id": "view-in-github",
        "colab_type": "text"
      },
      "source": [
        "<a href=\"https://colab.research.google.com/github/vrlnarayana/capstone-gl/blob/main/SS_Matrix_factorization.ipynb\" target=\"_parent\"><img src=\"https://colab.research.google.com/assets/colab-badge.svg\" alt=\"Open In Colab\"/></a>"
      ]
    },
    {
      "cell_type": "code",
      "metadata": {
        "colab": {
          "base_uri": "https://localhost:8080/"
        },
        "id": "Ojf5ccLrYLod",
        "outputId": "d45fbcbb-adb6-473d-ee59-a0c6078e6b6d"
      },
      "source": [
        "from google.colab import drive\n",
        "drive.mount('/content/drive')"
      ],
      "execution_count": 155,
      "outputs": [
        {
          "output_type": "stream",
          "text": [
            "Drive already mounted at /content/drive; to attempt to forcibly remount, call drive.mount(\"/content/drive\", force_remount=True).\n"
          ],
          "name": "stdout"
        }
      ]
    },
    {
      "cell_type": "code",
      "metadata": {
        "id": "95MQe-A0YRzj"
      },
      "source": [
        "import numpy as np\n",
        "import pandas as pd\n",
        "import seaborn as sns\n",
        "import plotly.express as px\n",
        "import matplotlib.pyplot as plt\n",
        "from google.colab import files\n",
        "from scipy.sparse import csr_matrix\n",
        "import warnings; warnings.simplefilter('ignore')\n",
        "\n",
        "# Remove scientific notations and display numbers with 2 decimal points instead\n",
        "pd.options.display.float_format = '{:,.2f}'.format   \n",
        "\n",
        "plt.rcParams[\"figure.figsize\"] = [20, 6]  # width, height\n",
        "plt.rcParams['xtick.direction'] = 'out'"
      ],
      "execution_count": 156,
      "outputs": []
    },
    {
      "cell_type": "code",
      "metadata": {
        "id": "WtljuCdpY0Ak"
      },
      "source": [
        "song_data=pd.read_csv(r'/content/drive/My Drive/song_data_with_gender.csv')"
      ],
      "execution_count": 157,
      "outputs": []
    },
    {
      "cell_type": "code",
      "metadata": {
        "id": "gOhMOoyrY25C"
      },
      "source": [
        "count_data=pd.read_csv(r'/content/drive/My Drive/count_data.csv', index_col='Unnamed: 0') #Making unnamed: 0 an index column"
      ],
      "execution_count": 158,
      "outputs": []
    },
    {
      "cell_type": "code",
      "metadata": {
        "colab": {
          "base_uri": "https://localhost:8080/"
        },
        "id": "McJ59CTIY7Gf",
        "outputId": "aa6876ef-1712-431b-c561-c43c562f5822"
      },
      "source": [
        "song_data.drop(song_data[song_data.duplicated('song_id')].index, inplace=True)\n",
        "len(song_data)"
      ],
      "execution_count": 159,
      "outputs": [
        {
          "output_type": "execute_result",
          "data": {
            "text/plain": [
              "999056"
            ]
          },
          "metadata": {
            "tags": []
          },
          "execution_count": 159
        }
      ]
    },
    {
      "cell_type": "code",
      "metadata": {
        "id": "V3W0erhuZIMx"
      },
      "source": [
        "count_data_with_song_info_df = pd.merge(count_data, song_data, on=\"song_id\", how=\"left\")"
      ],
      "execution_count": 160,
      "outputs": []
    },
    {
      "cell_type": "code",
      "metadata": {
        "colab": {
          "base_uri": "https://localhost:8080/",
          "height": 335
        },
        "id": "RQb4mwH1Zm9R",
        "outputId": "1dee6407-fa3c-4df9-a01c-837278512495"
      },
      "source": [
        "count_data_with_song_info_df.head(10)"
      ],
      "execution_count": 161,
      "outputs": [
        {
          "output_type": "execute_result",
          "data": {
            "text/html": [
              "<div>\n",
              "<style scoped>\n",
              "    .dataframe tbody tr th:only-of-type {\n",
              "        vertical-align: middle;\n",
              "    }\n",
              "\n",
              "    .dataframe tbody tr th {\n",
              "        vertical-align: top;\n",
              "    }\n",
              "\n",
              "    .dataframe thead th {\n",
              "        text-align: right;\n",
              "    }\n",
              "</style>\n",
              "<table border=\"1\" class=\"dataframe\">\n",
              "  <thead>\n",
              "    <tr style=\"text-align: right;\">\n",
              "      <th></th>\n",
              "      <th>user_id</th>\n",
              "      <th>song_id</th>\n",
              "      <th>play_count</th>\n",
              "      <th>Unnamed: 0</th>\n",
              "      <th>title</th>\n",
              "      <th>release</th>\n",
              "      <th>artist_name</th>\n",
              "      <th>year</th>\n",
              "      <th>artist_gender</th>\n",
              "    </tr>\n",
              "  </thead>\n",
              "  <tbody>\n",
              "    <tr>\n",
              "      <th>0</th>\n",
              "      <td>b80344d063b5ccb3212f76538f3d9e43d87dca9e</td>\n",
              "      <td>SOAKIMP12A8C130995</td>\n",
              "      <td>1</td>\n",
              "      <td>397229</td>\n",
              "      <td>The Cove</td>\n",
              "      <td>Thicker Than Water</td>\n",
              "      <td>Jack Johnson</td>\n",
              "      <td>0</td>\n",
              "      <td>male</td>\n",
              "    </tr>\n",
              "    <tr>\n",
              "      <th>1</th>\n",
              "      <td>b80344d063b5ccb3212f76538f3d9e43d87dca9e</td>\n",
              "      <td>SOBBMDR12A8C13253B</td>\n",
              "      <td>2</td>\n",
              "      <td>4822</td>\n",
              "      <td>Entre Dos Aguas</td>\n",
              "      <td>Flamenco Para Niños</td>\n",
              "      <td>Paco De Lucia</td>\n",
              "      <td>1976</td>\n",
              "      <td>female</td>\n",
              "    </tr>\n",
              "    <tr>\n",
              "      <th>2</th>\n",
              "      <td>b80344d063b5ccb3212f76538f3d9e43d87dca9e</td>\n",
              "      <td>SOBXHDL12A81C204C0</td>\n",
              "      <td>1</td>\n",
              "      <td>133174</td>\n",
              "      <td>Stronger</td>\n",
              "      <td>Graduation</td>\n",
              "      <td>Kanye West</td>\n",
              "      <td>2007</td>\n",
              "      <td>male</td>\n",
              "    </tr>\n",
              "    <tr>\n",
              "      <th>3</th>\n",
              "      <td>b80344d063b5ccb3212f76538f3d9e43d87dca9e</td>\n",
              "      <td>SOBYHAJ12A6701BF1D</td>\n",
              "      <td>1</td>\n",
              "      <td>971391</td>\n",
              "      <td>Constellations</td>\n",
              "      <td>In Between Dreams</td>\n",
              "      <td>Jack Johnson</td>\n",
              "      <td>2005</td>\n",
              "      <td>male</td>\n",
              "    </tr>\n",
              "    <tr>\n",
              "      <th>4</th>\n",
              "      <td>b80344d063b5ccb3212f76538f3d9e43d87dca9e</td>\n",
              "      <td>SODACBL12A8C13C273</td>\n",
              "      <td>1</td>\n",
              "      <td>930757</td>\n",
              "      <td>Learn To Fly</td>\n",
              "      <td>There Is Nothing Left To Lose</td>\n",
              "      <td>Foo Fighters</td>\n",
              "      <td>1999</td>\n",
              "      <td>male</td>\n",
              "    </tr>\n",
              "    <tr>\n",
              "      <th>5</th>\n",
              "      <td>b80344d063b5ccb3212f76538f3d9e43d87dca9e</td>\n",
              "      <td>SODDNQT12A6D4F5F7E</td>\n",
              "      <td>5</td>\n",
              "      <td>521570</td>\n",
              "      <td>Apuesta Por El Rock 'N' Roll</td>\n",
              "      <td>Antología Audiovisual</td>\n",
              "      <td>Héroes del Silencio</td>\n",
              "      <td>2007</td>\n",
              "      <td>male</td>\n",
              "    </tr>\n",
              "    <tr>\n",
              "      <th>6</th>\n",
              "      <td>b80344d063b5ccb3212f76538f3d9e43d87dca9e</td>\n",
              "      <td>SODXRTY12AB0180F3B</td>\n",
              "      <td>1</td>\n",
              "      <td>292254</td>\n",
              "      <td>Paper Gangsta</td>\n",
              "      <td>The Fame Monster</td>\n",
              "      <td>Lady GaGa</td>\n",
              "      <td>2008</td>\n",
              "      <td>female</td>\n",
              "    </tr>\n",
              "    <tr>\n",
              "      <th>7</th>\n",
              "      <td>b80344d063b5ccb3212f76538f3d9e43d87dca9e</td>\n",
              "      <td>SOFGUAY12AB017B0A8</td>\n",
              "      <td>1</td>\n",
              "      <td>561728</td>\n",
              "      <td>Stacked Actors</td>\n",
              "      <td>There Is Nothing Left To Lose</td>\n",
              "      <td>Foo Fighters</td>\n",
              "      <td>1999</td>\n",
              "      <td>male</td>\n",
              "    </tr>\n",
              "    <tr>\n",
              "      <th>8</th>\n",
              "      <td>b80344d063b5ccb3212f76538f3d9e43d87dca9e</td>\n",
              "      <td>SOFRQTD12A81C233C0</td>\n",
              "      <td>1</td>\n",
              "      <td>808198</td>\n",
              "      <td>Sehr kosmisch</td>\n",
              "      <td>Musik von Harmonia</td>\n",
              "      <td>Harmonia</td>\n",
              "      <td>0</td>\n",
              "      <td>female</td>\n",
              "    </tr>\n",
              "    <tr>\n",
              "      <th>9</th>\n",
              "      <td>b80344d063b5ccb3212f76538f3d9e43d87dca9e</td>\n",
              "      <td>SOHQWYZ12A6D4FA701</td>\n",
              "      <td>1</td>\n",
              "      <td>147425</td>\n",
              "      <td>Heaven's gonna burn your eyes</td>\n",
              "      <td>Hôtel Costes 7 by Stéphane Pompougnac</td>\n",
              "      <td>Thievery Corporation feat. Emiliana Torrini</td>\n",
              "      <td>2002</td>\n",
              "      <td>female</td>\n",
              "    </tr>\n",
              "  </tbody>\n",
              "</table>\n",
              "</div>"
            ],
            "text/plain": [
              "                                    user_id  ... artist_gender\n",
              "0  b80344d063b5ccb3212f76538f3d9e43d87dca9e  ...          male\n",
              "1  b80344d063b5ccb3212f76538f3d9e43d87dca9e  ...        female\n",
              "2  b80344d063b5ccb3212f76538f3d9e43d87dca9e  ...          male\n",
              "3  b80344d063b5ccb3212f76538f3d9e43d87dca9e  ...          male\n",
              "4  b80344d063b5ccb3212f76538f3d9e43d87dca9e  ...          male\n",
              "5  b80344d063b5ccb3212f76538f3d9e43d87dca9e  ...          male\n",
              "6  b80344d063b5ccb3212f76538f3d9e43d87dca9e  ...        female\n",
              "7  b80344d063b5ccb3212f76538f3d9e43d87dca9e  ...          male\n",
              "8  b80344d063b5ccb3212f76538f3d9e43d87dca9e  ...        female\n",
              "9  b80344d063b5ccb3212f76538f3d9e43d87dca9e  ...        female\n",
              "\n",
              "[10 rows x 9 columns]"
            ]
          },
          "metadata": {
            "tags": []
          },
          "execution_count": 161
        }
      ]
    },
    {
      "cell_type": "code",
      "metadata": {
        "id": "vC0LQm31ZpMv"
      },
      "source": [
        "count_data_with_song_info_df = count_data_with_song_info_df.drop(columns=['Unnamed: 0'])"
      ],
      "execution_count": 162,
      "outputs": []
    },
    {
      "cell_type": "code",
      "metadata": {
        "colab": {
          "base_uri": "https://localhost:8080/",
          "height": 391
        },
        "id": "jfCaS760aGaC",
        "outputId": "438ba4a2-0438-441d-82fa-5ecf9bcef061"
      },
      "source": [
        "count_data_with_song_info_df"
      ],
      "execution_count": 163,
      "outputs": [
        {
          "output_type": "execute_result",
          "data": {
            "text/html": [
              "<div>\n",
              "<style scoped>\n",
              "    .dataframe tbody tr th:only-of-type {\n",
              "        vertical-align: middle;\n",
              "    }\n",
              "\n",
              "    .dataframe tbody tr th {\n",
              "        vertical-align: top;\n",
              "    }\n",
              "\n",
              "    .dataframe thead th {\n",
              "        text-align: right;\n",
              "    }\n",
              "</style>\n",
              "<table border=\"1\" class=\"dataframe\">\n",
              "  <thead>\n",
              "    <tr style=\"text-align: right;\">\n",
              "      <th></th>\n",
              "      <th>user_id</th>\n",
              "      <th>song_id</th>\n",
              "      <th>play_count</th>\n",
              "      <th>title</th>\n",
              "      <th>release</th>\n",
              "      <th>artist_name</th>\n",
              "      <th>year</th>\n",
              "      <th>artist_gender</th>\n",
              "    </tr>\n",
              "  </thead>\n",
              "  <tbody>\n",
              "    <tr>\n",
              "      <th>0</th>\n",
              "      <td>b80344d063b5ccb3212f76538f3d9e43d87dca9e</td>\n",
              "      <td>SOAKIMP12A8C130995</td>\n",
              "      <td>1</td>\n",
              "      <td>The Cove</td>\n",
              "      <td>Thicker Than Water</td>\n",
              "      <td>Jack Johnson</td>\n",
              "      <td>0</td>\n",
              "      <td>male</td>\n",
              "    </tr>\n",
              "    <tr>\n",
              "      <th>1</th>\n",
              "      <td>b80344d063b5ccb3212f76538f3d9e43d87dca9e</td>\n",
              "      <td>SOBBMDR12A8C13253B</td>\n",
              "      <td>2</td>\n",
              "      <td>Entre Dos Aguas</td>\n",
              "      <td>Flamenco Para Niños</td>\n",
              "      <td>Paco De Lucia</td>\n",
              "      <td>1976</td>\n",
              "      <td>female</td>\n",
              "    </tr>\n",
              "    <tr>\n",
              "      <th>2</th>\n",
              "      <td>b80344d063b5ccb3212f76538f3d9e43d87dca9e</td>\n",
              "      <td>SOBXHDL12A81C204C0</td>\n",
              "      <td>1</td>\n",
              "      <td>Stronger</td>\n",
              "      <td>Graduation</td>\n",
              "      <td>Kanye West</td>\n",
              "      <td>2007</td>\n",
              "      <td>male</td>\n",
              "    </tr>\n",
              "    <tr>\n",
              "      <th>3</th>\n",
              "      <td>b80344d063b5ccb3212f76538f3d9e43d87dca9e</td>\n",
              "      <td>SOBYHAJ12A6701BF1D</td>\n",
              "      <td>1</td>\n",
              "      <td>Constellations</td>\n",
              "      <td>In Between Dreams</td>\n",
              "      <td>Jack Johnson</td>\n",
              "      <td>2005</td>\n",
              "      <td>male</td>\n",
              "    </tr>\n",
              "    <tr>\n",
              "      <th>4</th>\n",
              "      <td>b80344d063b5ccb3212f76538f3d9e43d87dca9e</td>\n",
              "      <td>SODACBL12A8C13C273</td>\n",
              "      <td>1</td>\n",
              "      <td>Learn To Fly</td>\n",
              "      <td>There Is Nothing Left To Lose</td>\n",
              "      <td>Foo Fighters</td>\n",
              "      <td>1999</td>\n",
              "      <td>male</td>\n",
              "    </tr>\n",
              "    <tr>\n",
              "      <th>...</th>\n",
              "      <td>...</td>\n",
              "      <td>...</td>\n",
              "      <td>...</td>\n",
              "      <td>...</td>\n",
              "      <td>...</td>\n",
              "      <td>...</td>\n",
              "      <td>...</td>\n",
              "      <td>...</td>\n",
              "    </tr>\n",
              "    <tr>\n",
              "      <th>1999995</th>\n",
              "      <td>d8bfd4ec88f0f3773a9e022e3c1a0f1d3b7b6a92</td>\n",
              "      <td>SOJEYPO12AAA8C6B0E</td>\n",
              "      <td>2</td>\n",
              "      <td>Ignorance (Album Version)</td>\n",
              "      <td>Ignorance</td>\n",
              "      <td>Paramore</td>\n",
              "      <td>0</td>\n",
              "      <td>female</td>\n",
              "    </tr>\n",
              "    <tr>\n",
              "      <th>1999996</th>\n",
              "      <td>d8bfd4ec88f0f3773a9e022e3c1a0f1d3b7b6a92</td>\n",
              "      <td>SOJJYDE12AF729FC16</td>\n",
              "      <td>4</td>\n",
              "      <td>Two Is Better Than One</td>\n",
              "      <td>Love Drunk</td>\n",
              "      <td>Boys Like Girls featuring Taylor Swift</td>\n",
              "      <td>2009</td>\n",
              "      <td>male</td>\n",
              "    </tr>\n",
              "    <tr>\n",
              "      <th>1999997</th>\n",
              "      <td>d8bfd4ec88f0f3773a9e022e3c1a0f1d3b7b6a92</td>\n",
              "      <td>SOJKQSF12A6D4F5EE9</td>\n",
              "      <td>3</td>\n",
              "      <td>What I've Done (Album Version)</td>\n",
              "      <td>What I've Done</td>\n",
              "      <td>Linkin Park</td>\n",
              "      <td>2007</td>\n",
              "      <td>male</td>\n",
              "    </tr>\n",
              "    <tr>\n",
              "      <th>1999998</th>\n",
              "      <td>d8bfd4ec88f0f3773a9e022e3c1a0f1d3b7b6a92</td>\n",
              "      <td>SOJUXGA12AC961885C</td>\n",
              "      <td>1</td>\n",
              "      <td>Up</td>\n",
              "      <td>My Worlds</td>\n",
              "      <td>Justin Bieber</td>\n",
              "      <td>2010</td>\n",
              "      <td>male</td>\n",
              "    </tr>\n",
              "    <tr>\n",
              "      <th>1999999</th>\n",
              "      <td>d8bfd4ec88f0f3773a9e022e3c1a0f1d3b7b6a92</td>\n",
              "      <td>SOJYOLS12A8C13C06F</td>\n",
              "      <td>1</td>\n",
              "      <td>Soil_ Soil (Album Version)</td>\n",
              "      <td>The Con</td>\n",
              "      <td>Tegan And Sara</td>\n",
              "      <td>2007</td>\n",
              "      <td>female</td>\n",
              "    </tr>\n",
              "  </tbody>\n",
              "</table>\n",
              "<p>2000000 rows × 8 columns</p>\n",
              "</div>"
            ],
            "text/plain": [
              "                                          user_id  ... artist_gender\n",
              "0        b80344d063b5ccb3212f76538f3d9e43d87dca9e  ...          male\n",
              "1        b80344d063b5ccb3212f76538f3d9e43d87dca9e  ...        female\n",
              "2        b80344d063b5ccb3212f76538f3d9e43d87dca9e  ...          male\n",
              "3        b80344d063b5ccb3212f76538f3d9e43d87dca9e  ...          male\n",
              "4        b80344d063b5ccb3212f76538f3d9e43d87dca9e  ...          male\n",
              "...                                           ...  ...           ...\n",
              "1999995  d8bfd4ec88f0f3773a9e022e3c1a0f1d3b7b6a92  ...        female\n",
              "1999996  d8bfd4ec88f0f3773a9e022e3c1a0f1d3b7b6a92  ...          male\n",
              "1999997  d8bfd4ec88f0f3773a9e022e3c1a0f1d3b7b6a92  ...          male\n",
              "1999998  d8bfd4ec88f0f3773a9e022e3c1a0f1d3b7b6a92  ...          male\n",
              "1999999  d8bfd4ec88f0f3773a9e022e3c1a0f1d3b7b6a92  ...        female\n",
              "\n",
              "[2000000 rows x 8 columns]"
            ]
          },
          "metadata": {
            "tags": []
          },
          "execution_count": 163
        }
      ]
    },
    {
      "cell_type": "code",
      "metadata": {
        "colab": {
          "base_uri": "https://localhost:8080/",
          "height": 420
        },
        "id": "bL4v3roAaUXQ",
        "outputId": "cabd2e0a-d76f-4726-d050-08a8ce17e2cc"
      },
      "source": [
        "#Modified by Lakshminarayanan\n",
        "\n",
        "#Commented Sachin's code below\n",
        "#count_data_with_song_info_df=count_data_with_song_info_df.iloc[0:50000,] # I felt, we should take users who have played more no of songs than considering top 50k records as used by Sachin\n",
        "#users = count_data_with_song_info_df['user_id'].unique()\n",
        "#len(users)\n",
        "\n",
        "counts = count_data_with_song_info_df['user_id'].value_counts()\n",
        "print(counts.plot(xlabel = 'users', ylabel = 'no of times played', title='Users who played most no of songs'))"
      ],
      "execution_count": 164,
      "outputs": [
        {
          "output_type": "stream",
          "text": [
            "AxesSubplot(0.125,0.125;0.775x0.755)\n"
          ],
          "name": "stdout"
        },
        {
          "output_type": "display_data",
          "data": {
            "image/png": "[encoded data removed]",
            "text/plain": [
              "<Figure size 1440x432 with 1 Axes>"
            ]
          },
          "metadata": {
            "tags": [],
            "needs_background": "light"
          }
        }
      ]
    },
    {
      "cell_type": "code",
      "metadata": {
        "colab": {
          "base_uri": "https://localhost:8080/",
          "height": 391
        },
        "id": "lim_FWmyZ8Ku",
        "outputId": "7b566f32-534b-46f7-902b-8b4691789100"
      },
      "source": [
        "#Modified by Lakshminarayanan\n",
        "#Based on the above plot consider users who have played 60 times or more\n",
        "count_data_with_song_info_df_final = count_data_with_song_info_df[count_data_with_song_info_df['user_id'].isin(counts[counts >= 60].index)]\n",
        "count_data_with_song_info_df_final"
      ],
      "execution_count": 165,
      "outputs": [
        {
          "output_type": "execute_result",
          "data": {
            "text/html": [
              "<div>\n",
              "<style scoped>\n",
              "    .dataframe tbody tr th:only-of-type {\n",
              "        vertical-align: middle;\n",
              "    }\n",
              "\n",
              "    .dataframe tbody tr th {\n",
              "        vertical-align: top;\n",
              "    }\n",
              "\n",
              "    .dataframe thead th {\n",
              "        text-align: right;\n",
              "    }\n",
              "</style>\n",
              "<table border=\"1\" class=\"dataframe\">\n",
              "  <thead>\n",
              "    <tr style=\"text-align: right;\">\n",
              "      <th></th>\n",
              "      <th>user_id</th>\n",
              "      <th>song_id</th>\n",
              "      <th>play_count</th>\n",
              "      <th>title</th>\n",
              "      <th>release</th>\n",
              "      <th>artist_name</th>\n",
              "      <th>year</th>\n",
              "      <th>artist_gender</th>\n",
              "    </tr>\n",
              "  </thead>\n",
              "  <tbody>\n",
              "    <tr>\n",
              "      <th>130</th>\n",
              "      <td>b64cdd1a0bd907e5e00b39e345194768e330d652</td>\n",
              "      <td>SOAFTRR12AF72A8D4D</td>\n",
              "      <td>3</td>\n",
              "      <td>Harder Better Faster Stronger</td>\n",
              "      <td>Discovery</td>\n",
              "      <td>Daft Punk</td>\n",
              "      <td>2007</td>\n",
              "      <td>male</td>\n",
              "    </tr>\n",
              "    <tr>\n",
              "      <th>131</th>\n",
              "      <td>b64cdd1a0bd907e5e00b39e345194768e330d652</td>\n",
              "      <td>SOALEQA12A58A77839</td>\n",
              "      <td>1</td>\n",
              "      <td>Jumping Jack Flash</td>\n",
              "      <td>Shine A Light</td>\n",
              "      <td>The Rolling Stones</td>\n",
              "      <td>1982</td>\n",
              "      <td>male</td>\n",
              "    </tr>\n",
              "    <tr>\n",
              "      <th>132</th>\n",
              "      <td>b64cdd1a0bd907e5e00b39e345194768e330d652</td>\n",
              "      <td>SOATNYF12AF72A8D48</td>\n",
              "      <td>3</td>\n",
              "      <td>Aerodynamic</td>\n",
              "      <td>Discovery</td>\n",
              "      <td>Daft Punk</td>\n",
              "      <td>2001</td>\n",
              "      <td>male</td>\n",
              "    </tr>\n",
              "    <tr>\n",
              "      <th>133</th>\n",
              "      <td>b64cdd1a0bd907e5e00b39e345194768e330d652</td>\n",
              "      <td>SOBDKVR12A8C13E705</td>\n",
              "      <td>1</td>\n",
              "      <td>You Know What You Are?</td>\n",
              "      <td>With Teeth</td>\n",
              "      <td>Nine Inch Nails</td>\n",
              "      <td>2005</td>\n",
              "      <td>male</td>\n",
              "    </tr>\n",
              "    <tr>\n",
              "      <th>134</th>\n",
              "      <td>b64cdd1a0bd907e5e00b39e345194768e330d652</td>\n",
              "      <td>SOBDMNP12AF72AB1E1</td>\n",
              "      <td>2</td>\n",
              "      <td>Indo Silver Club</td>\n",
              "      <td>Homework</td>\n",
              "      <td>Daft Punk</td>\n",
              "      <td>1996</td>\n",
              "      <td>male</td>\n",
              "    </tr>\n",
              "    <tr>\n",
              "      <th>...</th>\n",
              "      <td>...</td>\n",
              "      <td>...</td>\n",
              "      <td>...</td>\n",
              "      <td>...</td>\n",
              "      <td>...</td>\n",
              "      <td>...</td>\n",
              "      <td>...</td>\n",
              "      <td>...</td>\n",
              "    </tr>\n",
              "    <tr>\n",
              "      <th>1999765</th>\n",
              "      <td>9fb0717a34c90c91ce09ab460969a8a428d3ac87</td>\n",
              "      <td>SOZOIUU12A67ADFA39</td>\n",
              "      <td>1</td>\n",
              "      <td>He Can Only Hold Her</td>\n",
              "      <td>Back To Black</td>\n",
              "      <td>Amy Winehouse</td>\n",
              "      <td>2006</td>\n",
              "      <td>female</td>\n",
              "    </tr>\n",
              "    <tr>\n",
              "      <th>1999766</th>\n",
              "      <td>9fb0717a34c90c91ce09ab460969a8a428d3ac87</td>\n",
              "      <td>SOZPLKR12A6D4F8421</td>\n",
              "      <td>5</td>\n",
              "      <td>Drunk Kid Catholic</td>\n",
              "      <td>Noise Floor [Rarities 98 - 05]</td>\n",
              "      <td>Bright Eyes</td>\n",
              "      <td>2000</td>\n",
              "      <td>male</td>\n",
              "    </tr>\n",
              "    <tr>\n",
              "      <th>1999767</th>\n",
              "      <td>9fb0717a34c90c91ce09ab460969a8a428d3ac87</td>\n",
              "      <td>SOZRILK12A8C139F4F</td>\n",
              "      <td>2</td>\n",
              "      <td>Cool Dry Place (2007 Remastered LP Version)</td>\n",
              "      <td>Traveling Wilburys Vol. 3</td>\n",
              "      <td>Traveling Wilburys</td>\n",
              "      <td>0</td>\n",
              "      <td>male</td>\n",
              "    </tr>\n",
              "    <tr>\n",
              "      <th>1999768</th>\n",
              "      <td>9fb0717a34c90c91ce09ab460969a8a428d3ac87</td>\n",
              "      <td>SOZWQWL12A58A7EA09</td>\n",
              "      <td>3</td>\n",
              "      <td>Let's Live For Today</td>\n",
              "      <td>150 Rock 'N' Roll Classics</td>\n",
              "      <td>The Grass Roots</td>\n",
              "      <td>1987</td>\n",
              "      <td>male</td>\n",
              "    </tr>\n",
              "    <tr>\n",
              "      <th>1999769</th>\n",
              "      <td>9fb0717a34c90c91ce09ab460969a8a428d3ac87</td>\n",
              "      <td>SOZXVUF12AC909762A</td>\n",
              "      <td>2</td>\n",
              "      <td>Your Picture</td>\n",
              "      <td>Underachievers Please Try Harder</td>\n",
              "      <td>Camera Obscura</td>\n",
              "      <td>0</td>\n",
              "      <td>female</td>\n",
              "    </tr>\n",
              "  </tbody>\n",
              "</table>\n",
              "<p>736514 rows × 8 columns</p>\n",
              "</div>"
            ],
            "text/plain": [
              "                                          user_id  ... artist_gender\n",
              "130      b64cdd1a0bd907e5e00b39e345194768e330d652  ...          male\n",
              "131      b64cdd1a0bd907e5e00b39e345194768e330d652  ...          male\n",
              "132      b64cdd1a0bd907e5e00b39e345194768e330d652  ...          male\n",
              "133      b64cdd1a0bd907e5e00b39e345194768e330d652  ...          male\n",
              "134      b64cdd1a0bd907e5e00b39e345194768e330d652  ...          male\n",
              "...                                           ...  ...           ...\n",
              "1999765  9fb0717a34c90c91ce09ab460969a8a428d3ac87  ...        female\n",
              "1999766  9fb0717a34c90c91ce09ab460969a8a428d3ac87  ...          male\n",
              "1999767  9fb0717a34c90c91ce09ab460969a8a428d3ac87  ...          male\n",
              "1999768  9fb0717a34c90c91ce09ab460969a8a428d3ac87  ...          male\n",
              "1999769  9fb0717a34c90c91ce09ab460969a8a428d3ac87  ...        female\n",
              "\n",
              "[736514 rows x 8 columns]"
            ]
          },
          "metadata": {
            "tags": []
          },
          "execution_count": 165
        }
      ]
    },
    {
      "cell_type": "code",
      "metadata": {
        "colab": {
          "base_uri": "https://localhost:8080/"
        },
        "id": "H9XF11auab0e",
        "outputId": "82e3fa12-881e-4bab-e815-0a244f9e0453"
      },
      "source": [
        "#Modified by Lakshminarayanan\n",
        "users = count_data_with_song_info_df_final['user_id'].unique()\n",
        "len(users)"
      ],
      "execution_count": 166,
      "outputs": [
        {
          "output_type": "execute_result",
          "data": {
            "text/plain": [
              "7298"
            ]
          },
          "metadata": {
            "tags": []
          },
          "execution_count": 166
        }
      ]
    },
    {
      "cell_type": "markdown",
      "metadata": {
        "id": "jcVrFJ86i0ib"
      },
      "source": [
        "## User-Song - Derive and normalize Implicit Rating \n",
        "We do not have “rating” in our data; all we have are the play counts of various songs which can be considered as “implicit feedback”. We will replace the play count with a fractional play count. The logic being that this will measure the strength of “likeness” for a song in the range of [0,1]. "
      ]
    },
    {
      "cell_type": "code",
      "metadata": {
        "id": "lACwEpiHdbiM"
      },
      "source": [
        "#Modified by Lakshminarayanan\n",
        "user_song_sum_df = count_data_with_song_info_df_final[['user_id','play_count']].groupby('user_id').sum().reset_index()"
      ],
      "execution_count": 167,
      "outputs": []
    },
    {
      "cell_type": "code",
      "metadata": {
        "id": "rPu-F2f4dbZP"
      },
      "source": [
        "user_song_sum_df.rename(columns={'play_count':'total_play_count'},inplace=True)"
      ],
      "execution_count": 168,
      "outputs": []
    },
    {
      "cell_type": "code",
      "metadata": {
        "id": "kQI27NVrdbQP"
      },
      "source": [
        "count_data_with_song_info_df_final = pd.merge(count_data_with_song_info_df_final,user_song_sum_df)\n",
        "count_data_with_song_info_df_final['fractional_play_count'] = count_data_with_song_info_df_final['play_count']/count_data_with_song_info_df_final['total_play_count']"
      ],
      "execution_count": 169,
      "outputs": []
    },
    {
      "cell_type": "code",
      "metadata": {
        "id": "BWOJKzQcY5Lb"
      },
      "source": [
        "#minmaxscaler\n",
        "from sklearn.preprocessing import MinMaxScaler\n",
        "scaler = MinMaxScaler()"
      ],
      "execution_count": 170,
      "outputs": []
    },
    {
      "cell_type": "code",
      "metadata": {
        "colab": {
          "base_uri": "https://localhost:8080/"
        },
        "id": "YjLgtmBYaK2b",
        "outputId": "8e6b2e35-f738-4a0f-abaf-493a531d8b8e"
      },
      "source": [
        "count_data_with_song_info_df_final['total_play_count'].values"
      ],
      "execution_count": 171,
      "outputs": [
        {
          "output_type": "execute_result",
          "data": {
            "text/plain": [
              "array([106, 106, 106, ..., 798, 798, 798])"
            ]
          },
          "metadata": {
            "tags": []
          },
          "execution_count": 171
        }
      ]
    },
    {
      "cell_type": "code",
      "metadata": {
        "id": "BPq6hB-XY5Us"
      },
      "source": [
        "scaled_play_count = scaler.fit_transform(np.array(count_data_with_song_info_df_final['total_play_count']).reshape(-1, 1))"
      ],
      "execution_count": 172,
      "outputs": []
    },
    {
      "cell_type": "code",
      "metadata": {
        "colab": {
          "base_uri": "https://localhost:8080/"
        },
        "id": "fhouxy7QY5fu",
        "outputId": "e74db659-ed6c-444c-c0fe-b0d6a7ca535d"
      },
      "source": [
        "scaled_play_count"
      ],
      "execution_count": 173,
      "outputs": [
        {
          "output_type": "execute_result",
          "data": {
            "text/plain": [
              "array([[0.01008249],\n",
              "       [0.01008249],\n",
              "       [0.01008249],\n",
              "       ...,\n",
              "       [0.16865261],\n",
              "       [0.16865261],\n",
              "       [0.16865261]])"
            ]
          },
          "metadata": {
            "tags": []
          },
          "execution_count": 173
        }
      ]
    },
    {
      "cell_type": "code",
      "metadata": {
        "id": "vRv_QhobafuB"
      },
      "source": [
        "count_data_with_song_info_df_final['scaled_play_count'] = scaled_play_count"
      ],
      "execution_count": 174,
      "outputs": []
    },
    {
      "cell_type": "code",
      "metadata": {
        "colab": {
          "base_uri": "https://localhost:8080/",
          "height": 321
        },
        "id": "RQxEHfJKdbE1",
        "outputId": "07976cf9-abd8-411b-ea6d-a878ff204922"
      },
      "source": [
        "count_data_with_song_info_df_final.tail(5)"
      ],
      "execution_count": 175,
      "outputs": [
        {
          "output_type": "execute_result",
          "data": {
            "text/html": [
              "<div>\n",
              "<style scoped>\n",
              "    .dataframe tbody tr th:only-of-type {\n",
              "        vertical-align: middle;\n",
              "    }\n",
              "\n",
              "    .dataframe tbody tr th {\n",
              "        vertical-align: top;\n",
              "    }\n",
              "\n",
              "    .dataframe thead th {\n",
              "        text-align: right;\n",
              "    }\n",
              "</style>\n",
              "<table border=\"1\" class=\"dataframe\">\n",
              "  <thead>\n",
              "    <tr style=\"text-align: right;\">\n",
              "      <th></th>\n",
              "      <th>user_id</th>\n",
              "      <th>song_id</th>\n",
              "      <th>play_count</th>\n",
              "      <th>title</th>\n",
              "      <th>release</th>\n",
              "      <th>artist_name</th>\n",
              "      <th>year</th>\n",
              "      <th>artist_gender</th>\n",
              "      <th>total_play_count</th>\n",
              "      <th>fractional_play_count</th>\n",
              "      <th>scaled_play_count</th>\n",
              "    </tr>\n",
              "  </thead>\n",
              "  <tbody>\n",
              "    <tr>\n",
              "      <th>736509</th>\n",
              "      <td>9fb0717a34c90c91ce09ab460969a8a428d3ac87</td>\n",
              "      <td>SOZOIUU12A67ADFA39</td>\n",
              "      <td>1</td>\n",
              "      <td>He Can Only Hold Her</td>\n",
              "      <td>Back To Black</td>\n",
              "      <td>Amy Winehouse</td>\n",
              "      <td>2006</td>\n",
              "      <td>female</td>\n",
              "      <td>798</td>\n",
              "      <td>0.00</td>\n",
              "      <td>0.17</td>\n",
              "    </tr>\n",
              "    <tr>\n",
              "      <th>736510</th>\n",
              "      <td>9fb0717a34c90c91ce09ab460969a8a428d3ac87</td>\n",
              "      <td>SOZPLKR12A6D4F8421</td>\n",
              "      <td>5</td>\n",
              "      <td>Drunk Kid Catholic</td>\n",
              "      <td>Noise Floor [Rarities 98 - 05]</td>\n",
              "      <td>Bright Eyes</td>\n",
              "      <td>2000</td>\n",
              "      <td>male</td>\n",
              "      <td>798</td>\n",
              "      <td>0.01</td>\n",
              "      <td>0.17</td>\n",
              "    </tr>\n",
              "    <tr>\n",
              "      <th>736511</th>\n",
              "      <td>9fb0717a34c90c91ce09ab460969a8a428d3ac87</td>\n",
              "      <td>SOZRILK12A8C139F4F</td>\n",
              "      <td>2</td>\n",
              "      <td>Cool Dry Place (2007 Remastered LP Version)</td>\n",
              "      <td>Traveling Wilburys Vol. 3</td>\n",
              "      <td>Traveling Wilburys</td>\n",
              "      <td>0</td>\n",
              "      <td>male</td>\n",
              "      <td>798</td>\n",
              "      <td>0.00</td>\n",
              "      <td>0.17</td>\n",
              "    </tr>\n",
              "    <tr>\n",
              "      <th>736512</th>\n",
              "      <td>9fb0717a34c90c91ce09ab460969a8a428d3ac87</td>\n",
              "      <td>SOZWQWL12A58A7EA09</td>\n",
              "      <td>3</td>\n",
              "      <td>Let's Live For Today</td>\n",
              "      <td>150 Rock 'N' Roll Classics</td>\n",
              "      <td>The Grass Roots</td>\n",
              "      <td>1987</td>\n",
              "      <td>male</td>\n",
              "      <td>798</td>\n",
              "      <td>0.00</td>\n",
              "      <td>0.17</td>\n",
              "    </tr>\n",
              "    <tr>\n",
              "      <th>736513</th>\n",
              "      <td>9fb0717a34c90c91ce09ab460969a8a428d3ac87</td>\n",
              "      <td>SOZXVUF12AC909762A</td>\n",
              "      <td>2</td>\n",
              "      <td>Your Picture</td>\n",
              "      <td>Underachievers Please Try Harder</td>\n",
              "      <td>Camera Obscura</td>\n",
              "      <td>0</td>\n",
              "      <td>female</td>\n",
              "      <td>798</td>\n",
              "      <td>0.00</td>\n",
              "      <td>0.17</td>\n",
              "    </tr>\n",
              "  </tbody>\n",
              "</table>\n",
              "</div>"
            ],
            "text/plain": [
              "                                         user_id  ... scaled_play_count\n",
              "736509  9fb0717a34c90c91ce09ab460969a8a428d3ac87  ...              0.17\n",
              "736510  9fb0717a34c90c91ce09ab460969a8a428d3ac87  ...              0.17\n",
              "736511  9fb0717a34c90c91ce09ab460969a8a428d3ac87  ...              0.17\n",
              "736512  9fb0717a34c90c91ce09ab460969a8a428d3ac87  ...              0.17\n",
              "736513  9fb0717a34c90c91ce09ab460969a8a428d3ac87  ...              0.17\n",
              "\n",
              "[5 rows x 11 columns]"
            ]
          },
          "metadata": {
            "tags": []
          },
          "execution_count": 175
        }
      ]
    },
    {
      "cell_type": "markdown",
      "metadata": {
        "id": "oINaUqyTa2F7"
      },
      "source": [
        "## Create utility matrix¶\n",
        "convert the dataframe into a numpy matrix in\n",
        "the format of utility matrix"
      ]
    },
    {
      "cell_type": "code",
      "metadata": {
        "id": "cYKIr_I9aoWw"
      },
      "source": [
        "from scipy.sparse import coo_matrix"
      ],
      "execution_count": 176,
      "outputs": []
    },
    {
      "cell_type": "code",
      "metadata": {
        "id": "kyTcaS8Hkt2T"
      },
      "source": [
        "small_set = count_data_with_song_info_df_final\n",
        "user_codes = small_set['user_id'].drop_duplicates().reset_index()\n",
        "song_codes = small_set['song_id'].drop_duplicates().reset_index() \n",
        "user_codes.rename(columns={'index':'user_index'}, inplace=True) \n",
        "song_codes.rename(columns={'index':'song_index'}, inplace=True) "
      ],
      "execution_count": 177,
      "outputs": []
    },
    {
      "cell_type": "code",
      "metadata": {
        "id": "s3TwJ-Wrktvb"
      },
      "source": [
        "song_codes['so_index_value'] = list(song_codes.index)\n",
        "user_codes['us_index_value'] = list(user_codes.index)\n",
        "small_set = pd.merge(small_set,song_codes,how='left')\n",
        "small_set = pd.merge(small_set,user_codes,how='left')\n",
        "mat_candidate = small_set[['us_index_value','so_index_value','scaled_play_count']] \n",
        "data_array = mat_candidate['scaled_play_count'].values\n",
        "row_array = mat_candidate['us_index_value'].values\n",
        "col_array = mat_candidate['so_index_value'].values\n",
        "data_sparse = coo_matrix((data_array, (row_array, col_array)),dtype=float)"
      ],
      "execution_count": 178,
      "outputs": []
    },
    {
      "cell_type": "code",
      "metadata": {
        "colab": {
          "base_uri": "https://localhost:8080/",
          "height": 391
        },
        "id": "9JfMkap5AhOf",
        "outputId": "c7ff43fa-f10c-4783-fe7a-d12ed4bd6e89"
      },
      "source": [
        "user_codes"
      ],
      "execution_count": 179,
      "outputs": [
        {
          "output_type": "execute_result",
          "data": {
            "text/html": [
              "<div>\n",
              "<style scoped>\n",
              "    .dataframe tbody tr th:only-of-type {\n",
              "        vertical-align: middle;\n",
              "    }\n",
              "\n",
              "    .dataframe tbody tr th {\n",
              "        vertical-align: top;\n",
              "    }\n",
              "\n",
              "    .dataframe thead th {\n",
              "        text-align: right;\n",
              "    }\n",
              "</style>\n",
              "<table border=\"1\" class=\"dataframe\">\n",
              "  <thead>\n",
              "    <tr style=\"text-align: right;\">\n",
              "      <th></th>\n",
              "      <th>user_index</th>\n",
              "      <th>user_id</th>\n",
              "      <th>us_index_value</th>\n",
              "    </tr>\n",
              "  </thead>\n",
              "  <tbody>\n",
              "    <tr>\n",
              "      <th>0</th>\n",
              "      <td>0</td>\n",
              "      <td>b64cdd1a0bd907e5e00b39e345194768e330d652</td>\n",
              "      <td>0</td>\n",
              "    </tr>\n",
              "    <tr>\n",
              "      <th>1</th>\n",
              "      <td>66</td>\n",
              "      <td>17aa9f6dbdf753831da8f38c71b66b64373de613</td>\n",
              "      <td>1</td>\n",
              "    </tr>\n",
              "    <tr>\n",
              "      <th>2</th>\n",
              "      <td>169</td>\n",
              "      <td>5a905f000fc1ff3df7ca807d57edb608863db05d</td>\n",
              "      <td>2</td>\n",
              "    </tr>\n",
              "    <tr>\n",
              "      <th>3</th>\n",
              "      <td>570</td>\n",
              "      <td>baf47ed8da24d607e50d8684cde78b923538640f</td>\n",
              "      <td>3</td>\n",
              "    </tr>\n",
              "    <tr>\n",
              "      <th>4</th>\n",
              "      <td>670</td>\n",
              "      <td>bd8475385f0aa78830fa6dfce9e7242164b035c8</td>\n",
              "      <td>4</td>\n",
              "    </tr>\n",
              "    <tr>\n",
              "      <th>...</th>\n",
              "      <td>...</td>\n",
              "      <td>...</td>\n",
              "      <td>...</td>\n",
              "    </tr>\n",
              "    <tr>\n",
              "      <th>7293</th>\n",
              "      <td>735718</td>\n",
              "      <td>f1189408d147640fd89bf198b58f4eb99122d74d</td>\n",
              "      <td>7293</td>\n",
              "    </tr>\n",
              "    <tr>\n",
              "      <th>7294</th>\n",
              "      <td>735847</td>\n",
              "      <td>613148566a2fd83e881ca467dd4caee075cf6141</td>\n",
              "      <td>7294</td>\n",
              "    </tr>\n",
              "    <tr>\n",
              "      <th>7295</th>\n",
              "      <td>735924</td>\n",
              "      <td>2601c4d316bd78af441377d82cdb2ff7918f6169</td>\n",
              "      <td>7295</td>\n",
              "    </tr>\n",
              "    <tr>\n",
              "      <th>7296</th>\n",
              "      <td>736010</td>\n",
              "      <td>5e822bca7bad373504c813b762c1d2fba3a250ff</td>\n",
              "      <td>7296</td>\n",
              "    </tr>\n",
              "    <tr>\n",
              "      <th>7297</th>\n",
              "      <td>736088</td>\n",
              "      <td>9fb0717a34c90c91ce09ab460969a8a428d3ac87</td>\n",
              "      <td>7297</td>\n",
              "    </tr>\n",
              "  </tbody>\n",
              "</table>\n",
              "<p>7298 rows × 3 columns</p>\n",
              "</div>"
            ],
            "text/plain": [
              "      user_index                                   user_id  us_index_value\n",
              "0              0  b64cdd1a0bd907e5e00b39e345194768e330d652               0\n",
              "1             66  17aa9f6dbdf753831da8f38c71b66b64373de613               1\n",
              "2            169  5a905f000fc1ff3df7ca807d57edb608863db05d               2\n",
              "3            570  baf47ed8da24d607e50d8684cde78b923538640f               3\n",
              "4            670  bd8475385f0aa78830fa6dfce9e7242164b035c8               4\n",
              "...          ...                                       ...             ...\n",
              "7293      735718  f1189408d147640fd89bf198b58f4eb99122d74d            7293\n",
              "7294      735847  613148566a2fd83e881ca467dd4caee075cf6141            7294\n",
              "7295      735924  2601c4d316bd78af441377d82cdb2ff7918f6169            7295\n",
              "7296      736010  5e822bca7bad373504c813b762c1d2fba3a250ff            7296\n",
              "7297      736088  9fb0717a34c90c91ce09ab460969a8a428d3ac87            7297\n",
              "\n",
              "[7298 rows x 3 columns]"
            ]
          },
          "metadata": {
            "tags": []
          },
          "execution_count": 179
        }
      ]
    },
    {
      "cell_type": "code",
      "metadata": {
        "id": "PxcrUUq8Ahbj"
      },
      "source": [
        ""
      ],
      "execution_count": 179,
      "outputs": []
    },
    {
      "cell_type": "code",
      "metadata": {
        "colab": {
          "base_uri": "https://localhost:8080/"
        },
        "id": "DKs1oLVektr_",
        "outputId": "a869294e-c932-4aa7-8642-4aca364a9d7d"
      },
      "source": [
        "data_sparse.shape"
      ],
      "execution_count": 180,
      "outputs": [
        {
          "output_type": "execute_result",
          "data": {
            "text/plain": [
              "(7298, 10000)"
            ]
          },
          "metadata": {
            "tags": []
          },
          "execution_count": 180
        }
      ]
    },
    {
      "cell_type": "code",
      "metadata": {
        "colab": {
          "base_uri": "https://localhost:8080/"
        },
        "id": "Gp4bUeOh2YNV",
        "outputId": "ca9fc70b-d99e-40b7-cbea-7c04ce61d769"
      },
      "source": [
        "data_sparse"
      ],
      "execution_count": 181,
      "outputs": [
        {
          "output_type": "execute_result",
          "data": {
            "text/plain": [
              "<7298x10000 sparse matrix of type '<class 'numpy.float64'>'\n",
              "\twith 736514 stored elements in COOrdinate format>"
            ]
          },
          "metadata": {
            "tags": []
          },
          "execution_count": 181
        }
      ]
    },
    {
      "cell_type": "code",
      "metadata": {
        "colab": {
          "base_uri": "https://localhost:8080/"
        },
        "id": "gldKda0UktnZ",
        "outputId": "84b20249-3f6e-48bf-eca1-a3a6962c7b61"
      },
      "source": [
        "len(user_codes)"
      ],
      "execution_count": 182,
      "outputs": [
        {
          "output_type": "execute_result",
          "data": {
            "text/plain": [
              "7298"
            ]
          },
          "metadata": {
            "tags": []
          },
          "execution_count": 182
        }
      ]
    },
    {
      "cell_type": "code",
      "metadata": {
        "colab": {
          "base_uri": "https://localhost:8080/"
        },
        "id": "nI17Mo4ektj_",
        "outputId": "d208d0db-30b8-4748-a5ce-e1ff373406df"
      },
      "source": [
        "len(song_codes)"
      ],
      "execution_count": 183,
      "outputs": [
        {
          "output_type": "execute_result",
          "data": {
            "text/plain": [
              "10000"
            ]
          },
          "metadata": {
            "tags": []
          },
          "execution_count": 183
        }
      ]
    },
    {
      "cell_type": "code",
      "metadata": {
        "colab": {
          "base_uri": "https://localhost:8080/",
          "height": 47
        },
        "id": "SH-HEIjRpqZm",
        "outputId": "c5517b3b-396c-46dc-d25d-09979830fe2e"
      },
      "source": [
        "user_codes[user_codes['user_id'] =='befdd50134a9ad0e512d1604d057b540cbef87dd']"
      ],
      "execution_count": 184,
      "outputs": [
        {
          "output_type": "execute_result",
          "data": {
            "text/html": [
              "<div>\n",
              "<style scoped>\n",
              "    .dataframe tbody tr th:only-of-type {\n",
              "        vertical-align: middle;\n",
              "    }\n",
              "\n",
              "    .dataframe tbody tr th {\n",
              "        vertical-align: top;\n",
              "    }\n",
              "\n",
              "    .dataframe thead th {\n",
              "        text-align: right;\n",
              "    }\n",
              "</style>\n",
              "<table border=\"1\" class=\"dataframe\">\n",
              "  <thead>\n",
              "    <tr style=\"text-align: right;\">\n",
              "      <th></th>\n",
              "      <th>user_index</th>\n",
              "      <th>user_id</th>\n",
              "      <th>us_index_value</th>\n",
              "    </tr>\n",
              "  </thead>\n",
              "  <tbody>\n",
              "  </tbody>\n",
              "</table>\n",
              "</div>"
            ],
            "text/plain": [
              "Empty DataFrame\n",
              "Columns: [user_index, user_id, us_index_value]\n",
              "Index: []"
            ]
          },
          "metadata": {
            "tags": []
          },
          "execution_count": 184
        }
      ]
    },
    {
      "cell_type": "markdown",
      "metadata": {
        "id": "0jbVAgErb9CP"
      },
      "source": [
        "### Singular Value Decomposition\n",
        "we will use the svds function provided by the scipy library to break down our utility matrix into three different matrices. We will use 50 latent factors\n"
      ]
    },
    {
      "cell_type": "code",
      "metadata": {
        "id": "BPyGtzNSqHr9"
      },
      "source": [
        "import math as mt\n",
        "from scipy.sparse.linalg import * #used for matrix multiplication\n",
        "from scipy.sparse.linalg import svds\n",
        "from scipy.sparse import csc_matrix"
      ],
      "execution_count": 185,
      "outputs": []
    },
    {
      "cell_type": "code",
      "metadata": {
        "id": "ur9b4X96qHgV"
      },
      "source": [
        "\n",
        "def compute_svd(urm, K):\n",
        "    U, s, Vt = svds(urm, K)\n",
        "\n",
        "    dim = (len(s), len(s))\n",
        "    S = np.zeros(dim, dtype=np.float32)\n",
        "    for i in range(0, len(s)):\n",
        "        S[i,i] = mt.sqrt(s[i])\n",
        "\n",
        "    U = csc_matrix(U, dtype=np.float32)\n",
        "    S = csc_matrix(S, dtype=np.float32)\n",
        "    Vt = csc_matrix(Vt, dtype=np.float32)\n",
        "    \n",
        "    return U, S, Vt\n",
        "\n",
        "def compute_estimated_matrix(urm, U, S, Vt, uTest, K, test):\n",
        "    rightTerm = S*Vt \n",
        "    max_recommendation = 250\n",
        "    estimatedRatings = np.zeros(shape=(MAX_UID, MAX_PID), dtype=np.float16)\n",
        "    recomendRatings = np.zeros(shape=(MAX_UID,max_recommendation ), dtype=np.float16)\n",
        "    for userTest in uTest:\n",
        "        prod = U[userTest, :]*rightTerm\n",
        "        estimatedRatings[userTest, :] = prod.todense()\n",
        "        recomendRatings[userTest, :] = (-estimatedRatings[userTest, :]).argsort()[:max_recommendation]\n",
        "    return recomendRatings"
      ],
      "execution_count": 186,
      "outputs": []
    },
    {
      "cell_type": "code",
      "metadata": {
        "id": "cnL9_7JBbwul"
      },
      "source": [
        "K=50\n",
        "urm = data_sparse\n",
        "MAX_PID = urm.shape[1]\n",
        "MAX_UID = urm.shape[0]\n",
        "U, S, Vt = compute_svd(urm, K)"
      ],
      "execution_count": 187,
      "outputs": []
    },
    {
      "cell_type": "code",
      "metadata": {
        "colab": {
          "base_uri": "https://localhost:8080/",
          "height": 76
        },
        "id": "e5iXKQnjA9SD",
        "outputId": "a5ada1b2-1e72-4e7a-c57f-30afde32ada4"
      },
      "source": [
        "user_codes[user_codes.us_index_value == np.random.choice(user_codes.us_index_value)]"
      ],
      "execution_count": 188,
      "outputs": [
        {
          "output_type": "execute_result",
          "data": {
            "text/html": [
              "<div>\n",
              "<style scoped>\n",
              "    .dataframe tbody tr th:only-of-type {\n",
              "        vertical-align: middle;\n",
              "    }\n",
              "\n",
              "    .dataframe tbody tr th {\n",
              "        vertical-align: top;\n",
              "    }\n",
              "\n",
              "    .dataframe thead th {\n",
              "        text-align: right;\n",
              "    }\n",
              "</style>\n",
              "<table border=\"1\" class=\"dataframe\">\n",
              "  <thead>\n",
              "    <tr style=\"text-align: right;\">\n",
              "      <th></th>\n",
              "      <th>user_index</th>\n",
              "      <th>user_id</th>\n",
              "      <th>us_index_value</th>\n",
              "    </tr>\n",
              "  </thead>\n",
              "  <tbody>\n",
              "    <tr>\n",
              "      <th>6262</th>\n",
              "      <td>632888</td>\n",
              "      <td>dc898265422e7f193774409a85063fd6ad61e771</td>\n",
              "      <td>6262</td>\n",
              "    </tr>\n",
              "  </tbody>\n",
              "</table>\n",
              "</div>"
            ],
            "text/plain": [
              "      user_index                                   user_id  us_index_value\n",
              "6262      632888  dc898265422e7f193774409a85063fd6ad61e771            6262"
            ]
          },
          "metadata": {
            "tags": []
          },
          "execution_count": 188
        }
      ]
    },
    {
      "cell_type": "code",
      "metadata": {
        "colab": {
          "base_uri": "https://localhost:8080/"
        },
        "id": "qNaboTS_ES4m",
        "outputId": "48c10ea9-128e-4293-e2da-a7f69d8de65d"
      },
      "source": [
        "user_codes.info()"
      ],
      "execution_count": 189,
      "outputs": [
        {
          "output_type": "stream",
          "text": [
            "<class 'pandas.core.frame.DataFrame'>\n",
            "RangeIndex: 7298 entries, 0 to 7297\n",
            "Data columns (total 3 columns):\n",
            " #   Column          Non-Null Count  Dtype \n",
            "---  ------          --------------  ----- \n",
            " 0   user_index      7298 non-null   int64 \n",
            " 1   user_id         7298 non-null   object\n",
            " 2   us_index_value  7298 non-null   int64 \n",
            "dtypes: int64(2), object(1)\n",
            "memory usage: 171.2+ KB\n"
          ],
          "name": "stdout"
        }
      ]
    },
    {
      "cell_type": "code",
      "metadata": {
        "id": "btsbiCGkcBbh"
      },
      "source": [
        "uTest = [4,5,6,7,8,873,23]\n",
        "\n",
        "uTest_recommended_items = compute_estimated_matrix(urm, U, S, Vt, uTest, K, True)"
      ],
      "execution_count": 190,
      "outputs": []
    },
    {
      "cell_type": "code",
      "metadata": {
        "colab": {
          "base_uri": "https://localhost:8080/"
        },
        "id": "CnG0FEAT4Tu8",
        "outputId": "8fba56be-78ba-4b2c-946d-4b0005799cc0"
      },
      "source": [
        "len(uTest_recommended_items), uTest_recommended_items[5338,0:10]"
      ],
      "execution_count": 191,
      "outputs": [
        {
          "output_type": "execute_result",
          "data": {
            "text/plain": [
              "(7298, array([0., 0., 0., 0., 0., 0., 0., 0., 0., 0.], dtype=float16))"
            ]
          },
          "metadata": {
            "tags": []
          },
          "execution_count": 191
        }
      ]
    },
    {
      "cell_type": "code",
      "metadata": {
        "colab": {
          "base_uri": "https://localhost:8080/"
        },
        "id": "XrqDc4nJ-CHE",
        "outputId": "3e646a2f-dbfb-48e3-b3d1-adffa27452eb"
      },
      "source": [
        "list(uTest_recommended_items[873,0:10])"
      ],
      "execution_count": 192,
      "outputs": [
        {
          "output_type": "execute_result",
          "data": {
            "text/plain": [
              "[283.0, 193.0, 651.0, 303.0, 510.0, 231.0, 269.0, 317.0, 326.0, 37.0]"
            ]
          },
          "metadata": {
            "tags": []
          },
          "execution_count": 192
        }
      ]
    },
    {
      "cell_type": "code",
      "metadata": {
        "colab": {
          "base_uri": "https://localhost:8080/"
        },
        "id": "9Jo3OxuFqx7J",
        "outputId": "b160b889-ced3-4deb-cb9b-dd636bc5308b"
      },
      "source": [
        "for user in uTest:\n",
        "    print(\"Recommendation for user with user id {}\". format(user))\n",
        "    rank_value = 1\n",
        "    for i in uTest_recommended_items[user,0:10]:\n",
        "        song_details = small_set[small_set.so_index_value == i].drop_duplicates('so_index_value')[['title','artist_name']]\n",
        "        print(\"The number {} recommended song is {} BY {}\".format(rank_value, list(song_details['title'])[0],list(song_details['artist_name'])[0]))\n",
        "        rank_value+=1"
      ],
      "execution_count": 193,
      "outputs": [
        {
          "output_type": "stream",
          "text": [
            "Recommendation for user with user id 4\n",
            "The number 1 recommended song is Use Somebody BY Kings Of Leon\n",
            "The number 2 recommended song is Dog Days Are Over (Radio Edit) BY Florence + The Machine\n",
            "The number 3 recommended song is Secrets BY OneRepublic\n",
            "The number 4 recommended song is The Scientist BY Coldplay\n",
            "The number 5 recommended song is Lucky (Album Version) BY Jason Mraz & Colbie Caillat\n",
            "The number 6 recommended song is Fireflies BY Charttraxx Karaoke\n",
            "The number 7 recommended song is Uprising BY Muse\n",
            "The number 8 recommended song is Heartbreak Warfare BY John Mayer\n",
            "The number 9 recommended song is The Only Exception (Album Version) BY Paramore\n",
            "The number 10 recommended song is Marry Me BY Train\n",
            "Recommendation for user with user id 5\n",
            "The number 1 recommended song is Billionaire [feat. Bruno Mars]  (Explicit Album Version) BY Travie McCoy\n",
            "The number 2 recommended song is Electric Feel BY MGMT\n",
            "The number 3 recommended song is Bleed It Out [Live At Milton Keynes] BY Linkin Park\n",
            "The number 4 recommended song is Creep (Explicit) BY Radiohead\n",
            "The number 5 recommended song is Here Without You BY 3 Doors Down\n",
            "The number 6 recommended song is Uprising BY Muse\n",
            "The number 7 recommended song is Sample Track 2 BY Simon Harris\n",
            "The number 8 recommended song is Kryptonite BY 3 Doors Down\n",
            "The number 9 recommended song is Cosmic Love BY Florence + The Machine\n",
            "The number 10 recommended song is In The End (Album Version) BY Linkin Park\n",
            "Recommendation for user with user id 6\n",
            "The number 1 recommended song is Fireflies BY Charttraxx Karaoke\n",
            "The number 2 recommended song is Lucky (Album Version) BY Jason Mraz & Colbie Caillat\n",
            "The number 3 recommended song is Sehr kosmisch BY Harmonia\n",
            "The number 4 recommended song is Love Story BY Taylor Swift\n",
            "The number 5 recommended song is Halo BY Beyoncé\n",
            "The number 6 recommended song is Hey_ Soul Sister BY Train\n",
            "The number 7 recommended song is You Belong With Me BY Taylor Swift\n",
            "The number 8 recommended song is Half Of My Heart BY John Mayer\n",
            "The number 9 recommended song is Billionaire [feat. Bruno Mars]  (Explicit Album Version) BY Travie McCoy\n",
            "The number 10 recommended song is Heartbreak Warfare BY John Mayer\n",
            "Recommendation for user with user id 7\n",
            "The number 1 recommended song is Revelry BY Kings Of Leon\n",
            "The number 2 recommended song is Sehr kosmisch BY Harmonia\n",
            "The number 3 recommended song is Drop The World BY Lil Wayne / Eminem\n",
            "The number 4 recommended song is Dog Days Are Over (Radio Edit) BY Florence + The Machine\n",
            "The number 5 recommended song is You're The One BY Dwight Yoakam\n",
            "The number 6 recommended song is Fireflies BY Charttraxx Karaoke\n",
            "The number 7 recommended song is OMG BY Usher featuring will.i.am\n",
            "The number 8 recommended song is Secrets BY OneRepublic\n",
            "The number 9 recommended song is Marry Me BY Train\n",
            "The number 10 recommended song is Use Somebody BY Kings Of Leon\n",
            "Recommendation for user with user id 8\n",
            "The number 1 recommended song is Undo BY Björk\n",
            "The number 2 recommended song is Tive Sim BY Cartola\n",
            "The number 3 recommended song is You're The One BY Dwight Yoakam\n",
            "The number 4 recommended song is Horn Concerto No. 4 in E flat K495: II. Romance (Andante cantabile) BY Barry Tuckwell/Academy of St Martin-in-the-Fields/Sir Neville Marriner\n",
            "The number 5 recommended song is Dog Days Are Over (Radio Edit) BY Florence + The Machine\n",
            "The number 6 recommended song is Revelry BY Kings Of Leon\n",
            "The number 7 recommended song is Sehr kosmisch BY Harmonia\n",
            "The number 8 recommended song is Catch You Baby (Steve Pitron & Max Sanna Radio Edit) BY Lonnie Gordon\n",
            "The number 9 recommended song is Secrets BY OneRepublic\n",
            "The number 10 recommended song is Learning To Fall BY Boys Like Girls\n",
            "Recommendation for user with user id 873\n",
            "The number 1 recommended song is Waters Of Nazareth (album version) BY Justice\n",
            "The number 2 recommended song is TTHHEE PPAARRTTYY BY Justice\n",
            "The number 3 recommended song is Dog Days Are Over (Radio Edit) BY Florence + The Machine\n",
            "The number 4 recommended song is Hypnopaedia BY Octopus Project\n",
            "The number 5 recommended song is Nightly Journey BY Dim Pees\n",
            "The number 6 recommended song is Tuxedo Hat BY Octopus Project\n",
            "The number 7 recommended song is Kut-Off BY Skream\n",
            "The number 8 recommended song is Oh! BY Boys Noize\n",
            "The number 9 recommended song is Simple BY Simian Mobile Disco\n",
            "The number 10 recommended song is DVNO BY Justice\n",
            "Recommendation for user with user id 23\n",
            "The number 1 recommended song is Clocks BY Coldplay\n",
            "The number 2 recommended song is Yellow BY Coldplay\n",
            "The number 3 recommended song is The Scientist BY Coldplay\n",
            "The number 4 recommended song is Fix You BY Coldplay\n",
            "The number 5 recommended song is Shiver BY Coldplay\n",
            "The number 6 recommended song is Secrets BY OneRepublic\n",
            "The number 7 recommended song is In My Place BY Coldplay\n",
            "The number 8 recommended song is A Rush Of Blood To The Head BY Coldplay\n",
            "The number 9 recommended song is Speed Of Sound BY Coldplay\n",
            "The number 10 recommended song is Heartbreak Warfare BY John Mayer\n"
          ],
          "name": "stdout"
        }
      ]
    },
    {
      "cell_type": "code",
      "metadata": {
        "id": "PjXHDVWqq5Ix"
      },
      "source": [
        "def ui_recommendation(small_set, user_index=873,n=10):\n",
        "  rank_value = 1\n",
        "  rank = []\n",
        "  title = []\n",
        "  artist = []\n",
        "  release = []\n",
        "  df = pd.DataFrame()\n",
        "  for i in uTest_recommended_items[user_index,0:n]:\n",
        "    song_details = small_set[small_set.so_index_value == i].drop_duplicates('so_index_value')[['title','artist_name','release']]\n",
        "    rank.append(rank_value)\n",
        "    title.append(list(song_details['title'])[0])\n",
        "    artist.append(list(song_details['artist_name'])[0])\n",
        "    release.append(list(song_details['release'])[0])\n",
        "    rank_value+=1\n",
        "  df['sno'] = rank\n",
        "  df['title'] = title\n",
        "  df['artist_name'] = artist\n",
        "  df['release'] = release\n",
        "  df.set_index('sno', inplace=True)\n",
        "  return df"
      ],
      "execution_count": 194,
      "outputs": []
    },
    {
      "cell_type": "code",
      "metadata": {
        "colab": {
          "base_uri": "https://localhost:8080/",
          "height": 363
        },
        "id": "xHQb0Z_gJPmf",
        "outputId": "1959f911-1f2c-4f4d-a703-8fc928ca8156"
      },
      "source": [
        "ui_recommendation(small_set,474,10)"
      ],
      "execution_count": 195,
      "outputs": [
        {
          "output_type": "execute_result",
          "data": {
            "text/html": [
              "<div>\n",
              "<style scoped>\n",
              "    .dataframe tbody tr th:only-of-type {\n",
              "        vertical-align: middle;\n",
              "    }\n",
              "\n",
              "    .dataframe tbody tr th {\n",
              "        vertical-align: top;\n",
              "    }\n",
              "\n",
              "    .dataframe thead th {\n",
              "        text-align: right;\n",
              "    }\n",
              "</style>\n",
              "<table border=\"1\" class=\"dataframe\">\n",
              "  <thead>\n",
              "    <tr style=\"text-align: right;\">\n",
              "      <th></th>\n",
              "      <th>title</th>\n",
              "      <th>artist_name</th>\n",
              "      <th>release</th>\n",
              "    </tr>\n",
              "    <tr>\n",
              "      <th>sno</th>\n",
              "      <th></th>\n",
              "      <th></th>\n",
              "      <th></th>\n",
              "    </tr>\n",
              "  </thead>\n",
              "  <tbody>\n",
              "    <tr>\n",
              "      <th>1</th>\n",
              "      <td>Harder Better Faster Stronger</td>\n",
              "      <td>Daft Punk</td>\n",
              "      <td>Discovery</td>\n",
              "    </tr>\n",
              "    <tr>\n",
              "      <th>2</th>\n",
              "      <td>Harder Better Faster Stronger</td>\n",
              "      <td>Daft Punk</td>\n",
              "      <td>Discovery</td>\n",
              "    </tr>\n",
              "    <tr>\n",
              "      <th>3</th>\n",
              "      <td>Harder Better Faster Stronger</td>\n",
              "      <td>Daft Punk</td>\n",
              "      <td>Discovery</td>\n",
              "    </tr>\n",
              "    <tr>\n",
              "      <th>4</th>\n",
              "      <td>Harder Better Faster Stronger</td>\n",
              "      <td>Daft Punk</td>\n",
              "      <td>Discovery</td>\n",
              "    </tr>\n",
              "    <tr>\n",
              "      <th>5</th>\n",
              "      <td>Harder Better Faster Stronger</td>\n",
              "      <td>Daft Punk</td>\n",
              "      <td>Discovery</td>\n",
              "    </tr>\n",
              "    <tr>\n",
              "      <th>6</th>\n",
              "      <td>Harder Better Faster Stronger</td>\n",
              "      <td>Daft Punk</td>\n",
              "      <td>Discovery</td>\n",
              "    </tr>\n",
              "    <tr>\n",
              "      <th>7</th>\n",
              "      <td>Harder Better Faster Stronger</td>\n",
              "      <td>Daft Punk</td>\n",
              "      <td>Discovery</td>\n",
              "    </tr>\n",
              "    <tr>\n",
              "      <th>8</th>\n",
              "      <td>Harder Better Faster Stronger</td>\n",
              "      <td>Daft Punk</td>\n",
              "      <td>Discovery</td>\n",
              "    </tr>\n",
              "    <tr>\n",
              "      <th>9</th>\n",
              "      <td>Harder Better Faster Stronger</td>\n",
              "      <td>Daft Punk</td>\n",
              "      <td>Discovery</td>\n",
              "    </tr>\n",
              "    <tr>\n",
              "      <th>10</th>\n",
              "      <td>Harder Better Faster Stronger</td>\n",
              "      <td>Daft Punk</td>\n",
              "      <td>Discovery</td>\n",
              "    </tr>\n",
              "  </tbody>\n",
              "</table>\n",
              "</div>"
            ],
            "text/plain": [
              "                             title artist_name    release\n",
              "sno                                                      \n",
              "1    Harder Better Faster Stronger   Daft Punk  Discovery\n",
              "2    Harder Better Faster Stronger   Daft Punk  Discovery\n",
              "3    Harder Better Faster Stronger   Daft Punk  Discovery\n",
              "4    Harder Better Faster Stronger   Daft Punk  Discovery\n",
              "5    Harder Better Faster Stronger   Daft Punk  Discovery\n",
              "6    Harder Better Faster Stronger   Daft Punk  Discovery\n",
              "7    Harder Better Faster Stronger   Daft Punk  Discovery\n",
              "8    Harder Better Faster Stronger   Daft Punk  Discovery\n",
              "9    Harder Better Faster Stronger   Daft Punk  Discovery\n",
              "10   Harder Better Faster Stronger   Daft Punk  Discovery"
            ]
          },
          "metadata": {
            "tags": []
          },
          "execution_count": 195
        }
      ]
    },
    {
      "cell_type": "code",
      "metadata": {
        "id": "q7esgwIEK2Sp"
      },
      "source": [
        ""
      ],
      "execution_count": 195,
      "outputs": []
    }
  ]
}