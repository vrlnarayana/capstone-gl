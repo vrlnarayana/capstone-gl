{
  "nbformat": 4,
  "nbformat_minor": 0,
  "metadata": {
    "colab": {
      "name": "SS_Content_based_filtering.ipynb",
      "provenance": [],
      "collapsed_sections": [],
      "toc_visible": true,
      "include_colab_link": true
    },
    "kernelspec": {
      "name": "python3",
      "display_name": "Python 3"
    }
  },
  "cells": [
    {
      "cell_type": "markdown",
      "metadata": {
        "id": "view-in-github",
        "colab_type": "text"
      },
      "source": [
        "<a href=\"https://colab.research.google.com/github/vrlnarayana/capstone-gl/blob/main/SS_Content_based_filtering.ipynb\" target=\"_parent\"><img src=\"https://colab.research.google.com/assets/colab-badge.svg\" alt=\"Open In Colab\"/></a>"
      ]
    },
    {
      "cell_type": "markdown",
      "metadata": {
        "id": "I60AXnI-z14Y"
      },
      "source": [
        "# Capstone Project : Group 4 : Song Recommendation through content based filtering"
      ]
    },
    {
      "cell_type": "code",
      "metadata": {
        "id": "2SvIV_IhrMG3",
        "colab": {
          "base_uri": "https://localhost:8080/"
        },
        "outputId": "9afe12be-ef01-4e08-c781-1cbea8d35023"
      },
      "source": [
        "from google.colab import drive\r\n",
        "drive.mount('/content/drive')"
      ],
      "execution_count": 1,
      "outputs": [
        {
          "output_type": "stream",
          "text": [
            "Mounted at /content/drive\n"
          ],
          "name": "stdout"
        }
      ]
    },
    {
      "cell_type": "code",
      "metadata": {
        "id": "uAPKit6mrSnO"
      },
      "source": [
        "import numpy as np\r\n",
        "import pandas as pd\r\n",
        "import seaborn as sns\r\n",
        "import plotly.express as px\r\n",
        "import matplotlib.pyplot as plt\r\n",
        "from google.colab import files\r\n",
        "from scipy.sparse import csr_matrix\r\n",
        "import warnings; warnings.simplefilter('ignore')\r\n",
        "\r\n",
        "# Remove scientific notations and display numbers with 2 decimal points instead\r\n",
        "pd.options.display.float_format = '{:,.2f}'.format   \r\n",
        "\r\n",
        "plt.rcParams[\"figure.figsize\"] = [20, 6]  # width, height\r\n",
        "plt.rcParams['xtick.direction'] = 'out'"
      ],
      "execution_count": 2,
      "outputs": []
    },
    {
      "cell_type": "markdown",
      "metadata": {
        "id": "VXAs8W3v2ifc"
      },
      "source": [
        "**READ SONG DATA**"
      ]
    },
    {
      "cell_type": "code",
      "metadata": {
        "id": "USjp6v_jrnsK"
      },
      "source": [
        "song_data_df =pd.read_csv(r'/content/drive/My Drive/songs_with_genre_year_location.csv')"
      ],
      "execution_count": 3,
      "outputs": []
    },
    {
      "cell_type": "code",
      "metadata": {
        "colab": {
          "base_uri": "https://localhost:8080/"
        },
        "id": "lv9smWluHaVY",
        "outputId": "f6f080ec-eef4-4fd0-fd5e-f5d4bb08b876"
      },
      "source": [
        "song_data_df.duplicated(subset=['track_id']).value_counts()"
      ],
      "execution_count": 4,
      "outputs": [
        {
          "output_type": "execute_result",
          "data": {
            "text/plain": [
              "False    112154\n",
              "True        209\n",
              "dtype: int64"
            ]
          },
          "metadata": {
            "tags": []
          },
          "execution_count": 4
        }
      ]
    },
    {
      "cell_type": "markdown",
      "metadata": {
        "id": "kqcDDcEoHop8"
      },
      "source": [
        "There are 209 duplicate records in the song dataframe"
      ]
    },
    {
      "cell_type": "code",
      "metadata": {
        "id": "66fSeN1WHvdK"
      },
      "source": [
        "song_data_df = song_data_df.drop_duplicates(subset=['track_id'])"
      ],
      "execution_count": 5,
      "outputs": []
    },
    {
      "cell_type": "markdown",
      "metadata": {
        "id": "4uThbZDs-pX8"
      },
      "source": [
        "**READ Bags of words, extracting them from the train dataset \"**"
      ]
    },
    {
      "cell_type": "code",
      "metadata": {
        "id": "5WrEuc9B-pys"
      },
      "source": [
        "#import file\n",
        "lyrics = pd.read_table(r'/content/drive/My Drive/mxm_dataset_train.txt', error_bad_lines=False)\n",
        "\n",
        "#change name of the column\n",
        "lyrics.columns = ['Raw_Training']\n",
        "\n",
        "# take the bag of word to use it later\n",
        "words_train = lyrics.iloc[16]\n",
        "\n",
        "#drop useless rows\n",
        "lyrics=lyrics[17:].copy()\n",
        "\n",
        "# get TrackID, MxMID and lyrics and put them separated columns\n",
        "def sortdata(x):\n",
        "    splitted = x['Raw_Training'].split(',')\n",
        "    x['Tid']=splitted[0]\n",
        "    #x['MXM_Tid']=splitted[1]\n",
        "    x['words_freq']=splitted[2:]\n",
        "    return x\n",
        "\n",
        "#Apply the function to every column\n",
        "lyrics = lyrics.apply(sortdata,axis=1)\n",
        "lyrics = lyrics[['Tid','words_freq']]"
      ],
      "execution_count": 6,
      "outputs": []
    },
    {
      "cell_type": "code",
      "metadata": {
        "id": "8mSCBG_wr4GP",
        "colab": {
          "base_uri": "https://localhost:8080/",
          "height": 419
        },
        "outputId": "3c3eb6a5-317b-4351-b389-2407565ac738"
      },
      "source": [
        "lyrics"
      ],
      "execution_count": 7,
      "outputs": [
        {
          "output_type": "execute_result",
          "data": {
            "text/html": [
              "<div>\n",
              "<style scoped>\n",
              "    .dataframe tbody tr th:only-of-type {\n",
              "        vertical-align: middle;\n",
              "    }\n",
              "\n",
              "    .dataframe tbody tr th {\n",
              "        vertical-align: top;\n",
              "    }\n",
              "\n",
              "    .dataframe thead th {\n",
              "        text-align: right;\n",
              "    }\n",
              "</style>\n",
              "<table border=\"1\" class=\"dataframe\">\n",
              "  <thead>\n",
              "    <tr style=\"text-align: right;\">\n",
              "      <th></th>\n",
              "      <th>Tid</th>\n",
              "      <th>words_freq</th>\n",
              "    </tr>\n",
              "  </thead>\n",
              "  <tbody>\n",
              "    <tr>\n",
              "      <th>17</th>\n",
              "      <td>TRAAAAV128F421A322</td>\n",
              "      <td>[1:6, 2:4, 3:2, 4:2, 5:5, 6:3, 7:1, 8:1, 11:1,...</td>\n",
              "    </tr>\n",
              "    <tr>\n",
              "      <th>18</th>\n",
              "      <td>TRAAABD128F429CF47</td>\n",
              "      <td>[1:10, 3:17, 4:8, 5:2, 6:2, 7:1, 8:3, 9:2, 10:...</td>\n",
              "    </tr>\n",
              "    <tr>\n",
              "      <th>19</th>\n",
              "      <td>TRAAAED128E0783FAB</td>\n",
              "      <td>[1:28, 2:15, 3:2, 4:12, 5:22, 6:2, 7:2, 8:4, 9...</td>\n",
              "    </tr>\n",
              "    <tr>\n",
              "      <th>20</th>\n",
              "      <td>TRAAAEF128F4273421</td>\n",
              "      <td>[1:5, 2:4, 3:3, 4:2, 5:1, 6:11, 9:4, 12:9, 13:...</td>\n",
              "    </tr>\n",
              "    <tr>\n",
              "      <th>21</th>\n",
              "      <td>TRAAAEW128F42930C0</td>\n",
              "      <td>[1:4, 4:5, 5:7, 6:2, 7:4, 9:1, 10:1, 11:9, 15:...</td>\n",
              "    </tr>\n",
              "    <tr>\n",
              "      <th>...</th>\n",
              "      <td>...</td>\n",
              "      <td>...</td>\n",
              "    </tr>\n",
              "    <tr>\n",
              "      <th>210531</th>\n",
              "      <td>TRZZZWS128F429CF87</td>\n",
              "      <td>[6:1, 24:9, 38:7, 42:1, 77:4, 90:1, 112:5, 114...</td>\n",
              "    </tr>\n",
              "    <tr>\n",
              "      <th>210532</th>\n",
              "      <td>TRZZZXA128F428ED56</td>\n",
              "      <td>[1:1, 2:13, 3:6, 4:5, 5:4, 6:6, 9:4, 10:4, 12:...</td>\n",
              "    </tr>\n",
              "    <tr>\n",
              "      <th>210533</th>\n",
              "      <td>TRZZZXV128F4289747</td>\n",
              "      <td>[1:13, 2:3, 3:17, 4:5, 5:9, 7:8, 8:2, 9:1, 11:...</td>\n",
              "    </tr>\n",
              "    <tr>\n",
              "      <th>210534</th>\n",
              "      <td>TRZZZYV128F92E996D</td>\n",
              "      <td>[1:10, 2:6, 3:20, 5:2, 7:30, 8:1, 9:6, 10:3, 1...</td>\n",
              "    </tr>\n",
              "    <tr>\n",
              "      <th>210535</th>\n",
              "      <td>TRZZZYX128F92D32C6</td>\n",
              "      <td>[1:4, 2:18, 4:3, 5:6, 6:9, 7:1, 8:5, 9:1, 10:1...</td>\n",
              "    </tr>\n",
              "  </tbody>\n",
              "</table>\n",
              "<p>210519 rows × 2 columns</p>\n",
              "</div>"
            ],
            "text/plain": [
              "                       Tid                                         words_freq\n",
              "17      TRAAAAV128F421A322  [1:6, 2:4, 3:2, 4:2, 5:5, 6:3, 7:1, 8:1, 11:1,...\n",
              "18      TRAAABD128F429CF47  [1:10, 3:17, 4:8, 5:2, 6:2, 7:1, 8:3, 9:2, 10:...\n",
              "19      TRAAAED128E0783FAB  [1:28, 2:15, 3:2, 4:12, 5:22, 6:2, 7:2, 8:4, 9...\n",
              "20      TRAAAEF128F4273421  [1:5, 2:4, 3:3, 4:2, 5:1, 6:11, 9:4, 12:9, 13:...\n",
              "21      TRAAAEW128F42930C0  [1:4, 4:5, 5:7, 6:2, 7:4, 9:1, 10:1, 11:9, 15:...\n",
              "...                    ...                                                ...\n",
              "210531  TRZZZWS128F429CF87  [6:1, 24:9, 38:7, 42:1, 77:4, 90:1, 112:5, 114...\n",
              "210532  TRZZZXA128F428ED56  [1:1, 2:13, 3:6, 4:5, 5:4, 6:6, 9:4, 10:4, 12:...\n",
              "210533  TRZZZXV128F4289747  [1:13, 2:3, 3:17, 4:5, 5:9, 7:8, 8:2, 9:1, 11:...\n",
              "210534  TRZZZYV128F92E996D  [1:10, 2:6, 3:20, 5:2, 7:30, 8:1, 9:6, 10:3, 1...\n",
              "210535  TRZZZYX128F92D32C6  [1:4, 2:18, 4:3, 5:6, 6:9, 7:1, 8:5, 9:1, 10:1...\n",
              "\n",
              "[210519 rows x 2 columns]"
            ]
          },
          "metadata": {
            "tags": []
          },
          "execution_count": 7
        }
      ]
    },
    {
      "cell_type": "markdown",
      "metadata": {
        "id": "DZarD39xGurz"
      },
      "source": [
        "There are no duplicates inn the lyrics dataframe"
      ]
    },
    {
      "cell_type": "code",
      "metadata": {
        "colab": {
          "base_uri": "https://localhost:8080/"
        },
        "id": "SC5cU7FwJPOp",
        "outputId": "1cc150a7-ec0e-49f6-e2dc-4b9282113ea5"
      },
      "source": [
        "len(song_data_df)"
      ],
      "execution_count": 8,
      "outputs": [
        {
          "output_type": "execute_result",
          "data": {
            "text/plain": [
              "112154"
            ]
          },
          "metadata": {
            "tags": []
          },
          "execution_count": 8
        }
      ]
    },
    {
      "cell_type": "code",
      "metadata": {
        "colab": {
          "base_uri": "https://localhost:8080/"
        },
        "id": "ZCe0tUdEGURr",
        "outputId": "1bf7c87b-820c-4a80-8141-8cf5171771a4"
      },
      "source": [
        "len(lyrics['Tid'].unique())"
      ],
      "execution_count": 9,
      "outputs": [
        {
          "output_type": "execute_result",
          "data": {
            "text/plain": [
              "210519"
            ]
          },
          "metadata": {
            "tags": []
          },
          "execution_count": 9
        }
      ]
    },
    {
      "cell_type": "code",
      "metadata": {
        "id": "JrPbmr7bG6TC"
      },
      "source": [
        "song_data_bow_df =pd.merge(song_data_df,lyrics,left_on='track_id', right_on='Tid',how='left')"
      ],
      "execution_count": 10,
      "outputs": []
    },
    {
      "cell_type": "code",
      "metadata": {
        "colab": {
          "base_uri": "https://localhost:8080/",
          "height": 796
        },
        "id": "ZylU1e1mJFWN",
        "outputId": "7f37459e-00ce-4410-d02b-cce9ca3947b1"
      },
      "source": [
        "song_data_bow_df"
      ],
      "execution_count": 11,
      "outputs": [
        {
          "output_type": "execute_result",
          "data": {
            "text/html": [
              "<div>\n",
              "<style scoped>\n",
              "    .dataframe tbody tr th:only-of-type {\n",
              "        vertical-align: middle;\n",
              "    }\n",
              "\n",
              "    .dataframe tbody tr th {\n",
              "        vertical-align: top;\n",
              "    }\n",
              "\n",
              "    .dataframe thead th {\n",
              "        text-align: right;\n",
              "    }\n",
              "</style>\n",
              "<table border=\"1\" class=\"dataframe\">\n",
              "  <thead>\n",
              "    <tr style=\"text-align: right;\">\n",
              "      <th></th>\n",
              "      <th>song_id</th>\n",
              "      <th>title</th>\n",
              "      <th>release</th>\n",
              "      <th>artist_name</th>\n",
              "      <th>year</th>\n",
              "      <th>track_id</th>\n",
              "      <th>artist_id</th>\n",
              "      <th>duration</th>\n",
              "      <th>artist_familiarity</th>\n",
              "      <th>artist_hotttnesss</th>\n",
              "      <th>lat</th>\n",
              "      <th>long</th>\n",
              "      <th>location</th>\n",
              "      <th>genre</th>\n",
              "      <th>Tid</th>\n",
              "      <th>words_freq</th>\n",
              "    </tr>\n",
              "  </thead>\n",
              "  <tbody>\n",
              "    <tr>\n",
              "      <th>0</th>\n",
              "      <td>SOGTUKN12AB017F4F1</td>\n",
              "      <td>No One Could Ever</td>\n",
              "      <td>Butter</td>\n",
              "      <td>Hudson Mohawke</td>\n",
              "      <td>2006</td>\n",
              "      <td>TRMMMRX128F93187D9</td>\n",
              "      <td>ARGEKB01187FB50750</td>\n",
              "      <td>138.97</td>\n",
              "      <td>0.64</td>\n",
              "      <td>0.44</td>\n",
              "      <td>55.86</td>\n",
              "      <td>-4.24</td>\n",
              "      <td>Glasgow, Scotland</td>\n",
              "      <td>Electronic</td>\n",
              "      <td>NaN</td>\n",
              "      <td>NaN</td>\n",
              "    </tr>\n",
              "    <tr>\n",
              "      <th>1</th>\n",
              "      <td>SOEYRFT12AB018936C</td>\n",
              "      <td>2 Da Beat Ch'yall</td>\n",
              "      <td>Da Bomb</td>\n",
              "      <td>Kris Kross</td>\n",
              "      <td>1993</td>\n",
              "      <td>TRMMMBB12903CB7D21</td>\n",
              "      <td>AR3Z9WY1187FB4CDC2</td>\n",
              "      <td>221.20</td>\n",
              "      <td>0.59</td>\n",
              "      <td>0.40</td>\n",
              "      <td>38.90</td>\n",
              "      <td>-77.03</td>\n",
              "      <td>Washington DC</td>\n",
              "      <td>Rap</td>\n",
              "      <td>NaN</td>\n",
              "      <td>NaN</td>\n",
              "    </tr>\n",
              "    <tr>\n",
              "      <th>2</th>\n",
              "      <td>SOBARPM12A8C133DFF</td>\n",
              "      <td>(Looking For) The Heart Of Saturday</td>\n",
              "      <td>Cover Girl</td>\n",
              "      <td>Shawn Colvin</td>\n",
              "      <td>1994</td>\n",
              "      <td>TRMMMUT128F42646E8</td>\n",
              "      <td>ARDW5AW1187FB55708</td>\n",
              "      <td>216.48</td>\n",
              "      <td>0.69</td>\n",
              "      <td>0.45</td>\n",
              "      <td>42.79</td>\n",
              "      <td>-96.93</td>\n",
              "      <td>Vermillion, SD</td>\n",
              "      <td>Pop_Rock</td>\n",
              "      <td>TRMMMUT128F42646E8</td>\n",
              "      <td>[2:36, 3:25, 4:2, 5:8, 6:2, 7:1, 8:6, 10:8, 12...</td>\n",
              "    </tr>\n",
              "    <tr>\n",
              "      <th>3</th>\n",
              "      <td>SOKOVRQ12A8C142811</td>\n",
              "      <td>Ethos of Coercion</td>\n",
              "      <td>Descend Into Depravity</td>\n",
              "      <td>Dying Fetus</td>\n",
              "      <td>2009</td>\n",
              "      <td>TRMMMQY128F92F0EA3</td>\n",
              "      <td>ARGWPP11187B9AEF43</td>\n",
              "      <td>196.02</td>\n",
              "      <td>0.73</td>\n",
              "      <td>0.51</td>\n",
              "      <td>38.82</td>\n",
              "      <td>-75.92</td>\n",
              "      <td>Maryland</td>\n",
              "      <td>Pop_Rock</td>\n",
              "      <td>NaN</td>\n",
              "      <td>NaN</td>\n",
              "    </tr>\n",
              "    <tr>\n",
              "      <th>4</th>\n",
              "      <td>SOOLRHW12A8C142643</td>\n",
              "      <td>All of the same blood</td>\n",
              "      <td>Violent revolution</td>\n",
              "      <td>Kreator</td>\n",
              "      <td>2001</td>\n",
              "      <td>TRMMMKQ128F92EBCB5</td>\n",
              "      <td>AR79L0D1187FB3AFB6</td>\n",
              "      <td>372.43</td>\n",
              "      <td>0.74</td>\n",
              "      <td>0.47</td>\n",
              "      <td>51.45</td>\n",
              "      <td>7.01</td>\n",
              "      <td>Essen</td>\n",
              "      <td>Pop_Rock</td>\n",
              "      <td>TRMMMKQ128F92EBCB5</td>\n",
              "      <td>[2:12, 3:2, 4:3, 5:4, 10:2, 12:1, 13:9, 15:2, ...</td>\n",
              "    </tr>\n",
              "    <tr>\n",
              "      <th>...</th>\n",
              "      <td>...</td>\n",
              "      <td>...</td>\n",
              "      <td>...</td>\n",
              "      <td>...</td>\n",
              "      <td>...</td>\n",
              "      <td>...</td>\n",
              "      <td>...</td>\n",
              "      <td>...</td>\n",
              "      <td>...</td>\n",
              "      <td>...</td>\n",
              "      <td>...</td>\n",
              "      <td>...</td>\n",
              "      <td>...</td>\n",
              "      <td>...</td>\n",
              "      <td>...</td>\n",
              "      <td>...</td>\n",
              "    </tr>\n",
              "    <tr>\n",
              "      <th>112149</th>\n",
              "      <td>SOSCSAQ12A6D4FC60F</td>\n",
              "      <td>Papa's Medicine Show</td>\n",
              "      <td>Local Gentry</td>\n",
              "      <td>Bobbie Gentry</td>\n",
              "      <td>1968</td>\n",
              "      <td>TRYYKQP128F14A3A6D</td>\n",
              "      <td>ARQXAUH1187B9BA010</td>\n",
              "      <td>229.98</td>\n",
              "      <td>0.58</td>\n",
              "      <td>0.38</td>\n",
              "      <td>33.91</td>\n",
              "      <td>-88.96</td>\n",
              "      <td>Chickasaw County, MS</td>\n",
              "      <td>Country</td>\n",
              "      <td>NaN</td>\n",
              "      <td>NaN</td>\n",
              "    </tr>\n",
              "    <tr>\n",
              "      <th>112150</th>\n",
              "      <td>SOCZDVJ12AB0184A17</td>\n",
              "      <td>Dalla finestra</td>\n",
              "      <td>I Grandi Successi: Pierangelo Bertoli</td>\n",
              "      <td>Pierangelo Bertoli</td>\n",
              "      <td>1984</td>\n",
              "      <td>TRYYKFJ128F93465A0</td>\n",
              "      <td>ARX8BQT1187B9AB472</td>\n",
              "      <td>275.83</td>\n",
              "      <td>0.48</td>\n",
              "      <td>0.43</td>\n",
              "      <td>44.54</td>\n",
              "      <td>10.78</td>\n",
              "      <td>Sassuolo, Italy</td>\n",
              "      <td>Pop_Rock</td>\n",
              "      <td>NaN</td>\n",
              "      <td>NaN</td>\n",
              "    </tr>\n",
              "    <tr>\n",
              "      <th>112151</th>\n",
              "      <td>SOFGQKB12AB017D895</td>\n",
              "      <td>Feeding The Demons</td>\n",
              "      <td>Serpent Smiles And Killer Eyes</td>\n",
              "      <td>Hatesphere</td>\n",
              "      <td>2007</td>\n",
              "      <td>TRYYYAF128F930C01F</td>\n",
              "      <td>ARLPWXD1187FB4CB6A</td>\n",
              "      <td>266.63</td>\n",
              "      <td>0.65</td>\n",
              "      <td>0.41</td>\n",
              "      <td>55.68</td>\n",
              "      <td>12.57</td>\n",
              "      <td>Copenhagen/Aarhus - Denmark</td>\n",
              "      <td>Pop_Rock</td>\n",
              "      <td>TRYYYAF128F930C01F</td>\n",
              "      <td>[1:5, 2:2, 4:2, 6:1, 7:7, 8:5, 11:7, 13:1, 15:...</td>\n",
              "    </tr>\n",
              "    <tr>\n",
              "      <th>112152</th>\n",
              "      <td>SONVYTH12AB0182C89</td>\n",
              "      <td>So Sad About Us / Brrr</td>\n",
              "      <td>Scoop</td>\n",
              "      <td>Pete Townshend</td>\n",
              "      <td>1983</td>\n",
              "      <td>TRYYYOI128F933F153</td>\n",
              "      <td>ARLVX371187B9AF852</td>\n",
              "      <td>284.53</td>\n",
              "      <td>0.61</td>\n",
              "      <td>0.45</td>\n",
              "      <td>51.49</td>\n",
              "      <td>-0.26</td>\n",
              "      <td>Chiswick, Greater London, England</td>\n",
              "      <td>Pop_Rock</td>\n",
              "      <td>NaN</td>\n",
              "      <td>NaN</td>\n",
              "    </tr>\n",
              "    <tr>\n",
              "      <th>112153</th>\n",
              "      <td>SOJYTFC12A6D4FD812</td>\n",
              "      <td>Deliverance</td>\n",
              "      <td>Rock Love</td>\n",
              "      <td>Steve Miller Band</td>\n",
              "      <td>1971</td>\n",
              "      <td>TRYYYJZ128F424BFA1</td>\n",
              "      <td>ARNLVQB1187B9AEAB0</td>\n",
              "      <td>561.19</td>\n",
              "      <td>0.77</td>\n",
              "      <td>0.55</td>\n",
              "      <td>36.61</td>\n",
              "      <td>-86.44</td>\n",
              "      <td>Swingtown</td>\n",
              "      <td>Pop_Rock</td>\n",
              "      <td>NaN</td>\n",
              "      <td>NaN</td>\n",
              "    </tr>\n",
              "  </tbody>\n",
              "</table>\n",
              "<p>112154 rows × 16 columns</p>\n",
              "</div>"
            ],
            "text/plain": [
              "                   song_id  ...                                         words_freq\n",
              "0       SOGTUKN12AB017F4F1  ...                                                NaN\n",
              "1       SOEYRFT12AB018936C  ...                                                NaN\n",
              "2       SOBARPM12A8C133DFF  ...  [2:36, 3:25, 4:2, 5:8, 6:2, 7:1, 8:6, 10:8, 12...\n",
              "3       SOKOVRQ12A8C142811  ...                                                NaN\n",
              "4       SOOLRHW12A8C142643  ...  [2:12, 3:2, 4:3, 5:4, 10:2, 12:1, 13:9, 15:2, ...\n",
              "...                    ...  ...                                                ...\n",
              "112149  SOSCSAQ12A6D4FC60F  ...                                                NaN\n",
              "112150  SOCZDVJ12AB0184A17  ...                                                NaN\n",
              "112151  SOFGQKB12AB017D895  ...  [1:5, 2:2, 4:2, 6:1, 7:7, 8:5, 11:7, 13:1, 15:...\n",
              "112152  SONVYTH12AB0182C89  ...                                                NaN\n",
              "112153  SOJYTFC12A6D4FD812  ...                                                NaN\n",
              "\n",
              "[112154 rows x 16 columns]"
            ]
          },
          "metadata": {
            "tags": []
          },
          "execution_count": 11
        }
      ]
    },
    {
      "cell_type": "code",
      "metadata": {
        "id": "8vV_LB-4JHcD"
      },
      "source": [
        "song_data_bow_df = song_data_bow_df[song_data_bow_df['words_freq'].notna()]"
      ],
      "execution_count": 12,
      "outputs": []
    },
    {
      "cell_type": "code",
      "metadata": {
        "colab": {
          "base_uri": "https://localhost:8080/",
          "height": 564
        },
        "id": "eIaUh3mrJn9w",
        "outputId": "e8933208-f1f6-4404-adae-a8b02e50edec"
      },
      "source": [
        "#Displaying the results\n",
        "print(song_data_bow_df.shape)\n",
        "display(song_data_bow_df.head())"
      ],
      "execution_count": 13,
      "outputs": [
        {
          "output_type": "stream",
          "text": [
            "(40628, 16)\n"
          ],
          "name": "stdout"
        },
        {
          "output_type": "display_data",
          "data": {
            "text/html": [
              "<div>\n",
              "<style scoped>\n",
              "    .dataframe tbody tr th:only-of-type {\n",
              "        vertical-align: middle;\n",
              "    }\n",
              "\n",
              "    .dataframe tbody tr th {\n",
              "        vertical-align: top;\n",
              "    }\n",
              "\n",
              "    .dataframe thead th {\n",
              "        text-align: right;\n",
              "    }\n",
              "</style>\n",
              "<table border=\"1\" class=\"dataframe\">\n",
              "  <thead>\n",
              "    <tr style=\"text-align: right;\">\n",
              "      <th></th>\n",
              "      <th>song_id</th>\n",
              "      <th>title</th>\n",
              "      <th>release</th>\n",
              "      <th>artist_name</th>\n",
              "      <th>year</th>\n",
              "      <th>track_id</th>\n",
              "      <th>artist_id</th>\n",
              "      <th>duration</th>\n",
              "      <th>artist_familiarity</th>\n",
              "      <th>artist_hotttnesss</th>\n",
              "      <th>lat</th>\n",
              "      <th>long</th>\n",
              "      <th>location</th>\n",
              "      <th>genre</th>\n",
              "      <th>Tid</th>\n",
              "      <th>words_freq</th>\n",
              "    </tr>\n",
              "  </thead>\n",
              "  <tbody>\n",
              "    <tr>\n",
              "      <th>2</th>\n",
              "      <td>SOBARPM12A8C133DFF</td>\n",
              "      <td>(Looking For) The Heart Of Saturday</td>\n",
              "      <td>Cover Girl</td>\n",
              "      <td>Shawn Colvin</td>\n",
              "      <td>1994</td>\n",
              "      <td>TRMMMUT128F42646E8</td>\n",
              "      <td>ARDW5AW1187FB55708</td>\n",
              "      <td>216.48</td>\n",
              "      <td>0.69</td>\n",
              "      <td>0.45</td>\n",
              "      <td>42.79</td>\n",
              "      <td>-96.93</td>\n",
              "      <td>Vermillion, SD</td>\n",
              "      <td>Pop_Rock</td>\n",
              "      <td>TRMMMUT128F42646E8</td>\n",
              "      <td>[2:36, 3:25, 4:2, 5:8, 6:2, 7:1, 8:6, 10:8, 12...</td>\n",
              "    </tr>\n",
              "    <tr>\n",
              "      <th>4</th>\n",
              "      <td>SOOLRHW12A8C142643</td>\n",
              "      <td>All of the same blood</td>\n",
              "      <td>Violent revolution</td>\n",
              "      <td>Kreator</td>\n",
              "      <td>2001</td>\n",
              "      <td>TRMMMKQ128F92EBCB5</td>\n",
              "      <td>AR79L0D1187FB3AFB6</td>\n",
              "      <td>372.43</td>\n",
              "      <td>0.74</td>\n",
              "      <td>0.47</td>\n",
              "      <td>51.45</td>\n",
              "      <td>7.01</td>\n",
              "      <td>Essen</td>\n",
              "      <td>Pop_Rock</td>\n",
              "      <td>TRMMMKQ128F92EBCB5</td>\n",
              "      <td>[2:12, 3:2, 4:3, 5:4, 10:2, 12:1, 13:9, 15:2, ...</td>\n",
              "    </tr>\n",
              "    <tr>\n",
              "      <th>9</th>\n",
              "      <td>SOVOIOQ12AC4688FAC</td>\n",
              "      <td>The Rest of the Night</td>\n",
              "      <td>The Wind</td>\n",
              "      <td>Warren Zevon</td>\n",
              "      <td>2003</td>\n",
              "      <td>TRMMWNY12903CF28D2</td>\n",
              "      <td>ARUQFUJ1187FB42AEC</td>\n",
              "      <td>279.30</td>\n",
              "      <td>0.69</td>\n",
              "      <td>0.47</td>\n",
              "      <td>41.88</td>\n",
              "      <td>-87.63</td>\n",
              "      <td>Chicago, IL</td>\n",
              "      <td>Pop_Rock</td>\n",
              "      <td>TRMMWNY12903CF28D2</td>\n",
              "      <td>[1:1, 2:31, 3:2, 4:1, 5:2, 6:1, 7:4, 8:2, 10:1...</td>\n",
              "    </tr>\n",
              "    <tr>\n",
              "      <th>13</th>\n",
              "      <td>SOGXPYA12A58A769A7</td>\n",
              "      <td>Rock Can't Last Forever  (You Hate Me Hate Mus...</td>\n",
              "      <td>You Make Me Hate Music</td>\n",
              "      <td>Fine China</td>\n",
              "      <td>2002</td>\n",
              "      <td>TRMMGDQ128F4277AE7</td>\n",
              "      <td>AR6KJQA1187FB3EF30</td>\n",
              "      <td>295.94</td>\n",
              "      <td>0.49</td>\n",
              "      <td>0.36</td>\n",
              "      <td>33.45</td>\n",
              "      <td>-112.08</td>\n",
              "      <td>Phoenix, Arizona</td>\n",
              "      <td>Pop_Rock</td>\n",
              "      <td>TRMMGDQ128F4277AE7</td>\n",
              "      <td>[1:5, 2:1, 3:4, 4:5, 5:6, 6:3, 7:2, 8:3, 9:3, ...</td>\n",
              "    </tr>\n",
              "    <tr>\n",
              "      <th>21</th>\n",
              "      <td>SOWSOVJ12A8C13A8C1</td>\n",
              "      <td>Zuviel Hitze</td>\n",
              "      <td>Einzelhaft</td>\n",
              "      <td>Falco</td>\n",
              "      <td>1982</td>\n",
              "      <td>TRMMHVN128F428E67E</td>\n",
              "      <td>AR5DXUU1187B9B0E42</td>\n",
              "      <td>274.02</td>\n",
              "      <td>0.67</td>\n",
              "      <td>0.46</td>\n",
              "      <td>48.20</td>\n",
              "      <td>16.37</td>\n",
              "      <td>Vienna, Austria</td>\n",
              "      <td>Pop_Rock</td>\n",
              "      <td>TRMMHVN128F428E67E</td>\n",
              "      <td>[3:1, 10:5, 14:1, 20:1, 28:2, 32:1, 33:1, 73:1...</td>\n",
              "    </tr>\n",
              "  </tbody>\n",
              "</table>\n",
              "</div>"
            ],
            "text/plain": [
              "               song_id  ...                                         words_freq\n",
              "2   SOBARPM12A8C133DFF  ...  [2:36, 3:25, 4:2, 5:8, 6:2, 7:1, 8:6, 10:8, 12...\n",
              "4   SOOLRHW12A8C142643  ...  [2:12, 3:2, 4:3, 5:4, 10:2, 12:1, 13:9, 15:2, ...\n",
              "9   SOVOIOQ12AC4688FAC  ...  [1:1, 2:31, 3:2, 4:1, 5:2, 6:1, 7:4, 8:2, 10:1...\n",
              "13  SOGXPYA12A58A769A7  ...  [1:5, 2:1, 3:4, 4:5, 5:6, 6:3, 7:2, 8:3, 9:3, ...\n",
              "21  SOWSOVJ12A8C13A8C1  ...  [3:1, 10:5, 14:1, 20:1, 28:2, 32:1, 33:1, 73:1...\n",
              "\n",
              "[5 rows x 16 columns]"
            ]
          },
          "metadata": {
            "tags": []
          }
        }
      ]
    },
    {
      "cell_type": "markdown",
      "metadata": {
        "id": "1ka0hNXWKWYl"
      },
      "source": [
        "\n",
        "**From generic bags of words to lyrics**"
      ]
    },
    {
      "cell_type": "code",
      "metadata": {
        "colab": {
          "base_uri": "https://localhost:8080/",
          "height": 51
        },
        "id": "vPu0ewisJuDB",
        "outputId": "7c62159d-80f2-4835-c439-2d7b33b530c4"
      },
      "source": [
        "#get the word data\n",
        "bag_of_words = words_train\n",
        "# clean the data and split it to create a list of 5000 words\n",
        "bag_of_words = bag_of_words.str.replace('%','')\n",
        "bag_of_words = bag_of_words.str.split(',')\n",
        "\n",
        "display(bag_of_words.head())\n"
      ],
      "execution_count": 14,
      "outputs": [
        {
          "output_type": "display_data",
          "data": {
            "text/plain": [
              "Raw_Training    [i, the, you, to, and, a, me, it, not, in, my,...\n",
              "Name: 16, dtype: object"
            ]
          },
          "metadata": {
            "tags": []
          }
        }
      ]
    },
    {
      "cell_type": "code",
      "metadata": {
        "id": "P_AYRdhwKh5t"
      },
      "source": [
        "#Defining a function\n",
        "def create_text(words_freq):\n",
        "    #create the final list of all words\n",
        "    list_words=''\n",
        "    #iterate over every id of words\n",
        "    for compteur in words_freq:\n",
        "        \n",
        "        word = bag_of_words[0][int(compteur.split(':')[0])-1]\n",
        "        times = int(compteur.split(':')[1])\n",
        "        \n",
        "        #Separating every word with a space to be able to work on it with librairies during part 2\n",
        "        for i in range(times):\n",
        "            list_words += ' ' + word + ' '\n",
        "    return list_words"
      ],
      "execution_count": 15,
      "outputs": []
    },
    {
      "cell_type": "code",
      "metadata": {
        "colab": {
          "base_uri": "https://localhost:8080/"
        },
        "id": "VVAHpYgRKodP",
        "outputId": "3cb17a58-ca3f-4e9e-962f-22895afb22c0"
      },
      "source": [
        "#Testing the function\n",
        "print(create_text(lyrics.iloc[0]['words_freq']))"
      ],
      "execution_count": 17,
      "outputs": [
        {
          "output_type": "stream",
          "text": [
            " i  i  i  i  i  i  the  the  the  the  you  you  to  to  and  and  and  and  and  a  a  a  me  it  my  is  is  of  of  of  your  that  are  are  we  we  am  am  will  will  for  for  for  for  be  have  have  so  this  like  like  de  up  was  was  if  got  would  been  these  these  seem  someon  understand  pass  river  met  piec  damn  worth  flesh  grace  poor  poor  somehow  ignor  passion  tide  season  seed  resist  order  order  piti  fashion  grant  captur  captur  ici  soil  patienc  social  social  highest  highest  slice  leaf  lifeless  arrang  wilder  shark  devast  element \n"
          ],
          "name": "stdout"
        }
      ]
    },
    {
      "cell_type": "code",
      "metadata": {
        "id": "7Q0w5tOGSEYE"
      },
      "source": [
        "song_data_bow_df['text'] = song_data_bow_df['words_freq'].apply(create_text)"
      ],
      "execution_count": 18,
      "outputs": []
    },
    {
      "cell_type": "code",
      "metadata": {
        "id": "jOC-ycPANN3a"
      },
      "source": [
        "sample_song_df = song_data_bow_df.head(1000)"
      ],
      "execution_count": 19,
      "outputs": []
    },
    {
      "cell_type": "code",
      "metadata": {
        "colab": {
          "base_uri": "https://localhost:8080/",
          "height": 819
        },
        "id": "DXZvljzDUnmF",
        "outputId": "98401789-175e-4a71-bbc7-961a4a3ab696"
      },
      "source": [
        "sample_song_df = sample_song_df.set_index('title')\n",
        "sample_song_df.head(4)"
      ],
      "execution_count": 20,
      "outputs": [
        {
          "output_type": "execute_result",
          "data": {
            "text/html": [
              "<div>\n",
              "<style scoped>\n",
              "    .dataframe tbody tr th:only-of-type {\n",
              "        vertical-align: middle;\n",
              "    }\n",
              "\n",
              "    .dataframe tbody tr th {\n",
              "        vertical-align: top;\n",
              "    }\n",
              "\n",
              "    .dataframe thead th {\n",
              "        text-align: right;\n",
              "    }\n",
              "</style>\n",
              "<table border=\"1\" class=\"dataframe\">\n",
              "  <thead>\n",
              "    <tr style=\"text-align: right;\">\n",
              "      <th></th>\n",
              "      <th>song_id</th>\n",
              "      <th>release</th>\n",
              "      <th>artist_name</th>\n",
              "      <th>year</th>\n",
              "      <th>track_id</th>\n",
              "      <th>artist_id</th>\n",
              "      <th>duration</th>\n",
              "      <th>artist_familiarity</th>\n",
              "      <th>artist_hotttnesss</th>\n",
              "      <th>lat</th>\n",
              "      <th>long</th>\n",
              "      <th>location</th>\n",
              "      <th>genre</th>\n",
              "      <th>Tid</th>\n",
              "      <th>words_freq</th>\n",
              "      <th>text</th>\n",
              "    </tr>\n",
              "    <tr>\n",
              "      <th>title</th>\n",
              "      <th></th>\n",
              "      <th></th>\n",
              "      <th></th>\n",
              "      <th></th>\n",
              "      <th></th>\n",
              "      <th></th>\n",
              "      <th></th>\n",
              "      <th></th>\n",
              "      <th></th>\n",
              "      <th></th>\n",
              "      <th></th>\n",
              "      <th></th>\n",
              "      <th></th>\n",
              "      <th></th>\n",
              "      <th></th>\n",
              "      <th></th>\n",
              "    </tr>\n",
              "  </thead>\n",
              "  <tbody>\n",
              "    <tr>\n",
              "      <th>(Looking For) The Heart Of Saturday</th>\n",
              "      <td>SOBARPM12A8C133DFF</td>\n",
              "      <td>Cover Girl</td>\n",
              "      <td>Shawn Colvin</td>\n",
              "      <td>1994</td>\n",
              "      <td>TRMMMUT128F42646E8</td>\n",
              "      <td>ARDW5AW1187FB55708</td>\n",
              "      <td>216.48</td>\n",
              "      <td>0.69</td>\n",
              "      <td>0.45</td>\n",
              "      <td>42.79</td>\n",
              "      <td>-96.93</td>\n",
              "      <td>Vermillion, SD</td>\n",
              "      <td>Pop_Rock</td>\n",
              "      <td>TRMMMUT128F42646E8</td>\n",
              "      <td>[2:36, 3:25, 4:2, 5:8, 6:2, 7:1, 8:6, 10:8, 12...</td>\n",
              "      <td>the  the  the  the  the  the  the  the  the  ...</td>\n",
              "    </tr>\n",
              "    <tr>\n",
              "      <th>All of the same blood</th>\n",
              "      <td>SOOLRHW12A8C142643</td>\n",
              "      <td>Violent revolution</td>\n",
              "      <td>Kreator</td>\n",
              "      <td>2001</td>\n",
              "      <td>TRMMMKQ128F92EBCB5</td>\n",
              "      <td>AR79L0D1187FB3AFB6</td>\n",
              "      <td>372.43</td>\n",
              "      <td>0.74</td>\n",
              "      <td>0.47</td>\n",
              "      <td>51.45</td>\n",
              "      <td>7.01</td>\n",
              "      <td>Essen</td>\n",
              "      <td>Pop_Rock</td>\n",
              "      <td>TRMMMKQ128F92EBCB5</td>\n",
              "      <td>[2:12, 3:2, 4:3, 5:4, 10:2, 12:1, 13:9, 15:2, ...</td>\n",
              "      <td>the  the  the  the  the  the  the  the  the  ...</td>\n",
              "    </tr>\n",
              "    <tr>\n",
              "      <th>The Rest of the Night</th>\n",
              "      <td>SOVOIOQ12AC4688FAC</td>\n",
              "      <td>The Wind</td>\n",
              "      <td>Warren Zevon</td>\n",
              "      <td>2003</td>\n",
              "      <td>TRMMWNY12903CF28D2</td>\n",
              "      <td>ARUQFUJ1187FB42AEC</td>\n",
              "      <td>279.30</td>\n",
              "      <td>0.69</td>\n",
              "      <td>0.47</td>\n",
              "      <td>41.88</td>\n",
              "      <td>-87.63</td>\n",
              "      <td>Chicago, IL</td>\n",
              "      <td>Pop_Rock</td>\n",
              "      <td>TRMMWNY12903CF28D2</td>\n",
              "      <td>[1:1, 2:31, 3:2, 4:1, 5:2, 6:1, 7:4, 8:2, 10:1...</td>\n",
              "      <td>i  the  the  the  the  the  the  the  the  th...</td>\n",
              "    </tr>\n",
              "    <tr>\n",
              "      <th>Rock Can't Last Forever  (You Hate Me Hate Music Album Version)</th>\n",
              "      <td>SOGXPYA12A58A769A7</td>\n",
              "      <td>You Make Me Hate Music</td>\n",
              "      <td>Fine China</td>\n",
              "      <td>2002</td>\n",
              "      <td>TRMMGDQ128F4277AE7</td>\n",
              "      <td>AR6KJQA1187FB3EF30</td>\n",
              "      <td>295.94</td>\n",
              "      <td>0.49</td>\n",
              "      <td>0.36</td>\n",
              "      <td>33.45</td>\n",
              "      <td>-112.08</td>\n",
              "      <td>Phoenix, Arizona</td>\n",
              "      <td>Pop_Rock</td>\n",
              "      <td>TRMMGDQ128F4277AE7</td>\n",
              "      <td>[1:5, 2:1, 3:4, 4:5, 5:6, 6:3, 7:2, 8:3, 9:3, ...</td>\n",
              "      <td>i  i  i  i  i  the  you  you  you  you  to  t...</td>\n",
              "    </tr>\n",
              "  </tbody>\n",
              "</table>\n",
              "</div>"
            ],
            "text/plain": [
              "                                                               song_id  ...                                               text\n",
              "title                                                                   ...                                                   \n",
              "(Looking For) The Heart Of Saturday                 SOBARPM12A8C133DFF  ...   the  the  the  the  the  the  the  the  the  ...\n",
              "All of the same blood                               SOOLRHW12A8C142643  ...   the  the  the  the  the  the  the  the  the  ...\n",
              "The Rest of the Night                               SOVOIOQ12AC4688FAC  ...   i  the  the  the  the  the  the  the  the  th...\n",
              "Rock Can't Last Forever  (You Hate Me Hate Musi...  SOGXPYA12A58A769A7  ...   i  i  i  i  i  the  you  you  you  you  to  t...\n",
              "\n",
              "[4 rows x 16 columns]"
            ]
          },
          "metadata": {
            "tags": []
          },
          "execution_count": 20
        }
      ]
    },
    {
      "cell_type": "code",
      "metadata": {
        "colab": {
          "base_uri": "https://localhost:8080/"
        },
        "id": "UgXm8D18VrbB",
        "outputId": "9e797244-58e0-485d-fbcf-ca235d56e3d8"
      },
      "source": [
        "indices = pd.Series(sample_song_df.index)\n",
        "indices[:5]"
      ],
      "execution_count": 21,
      "outputs": [
        {
          "output_type": "execute_result",
          "data": {
            "text/plain": [
              "0                  (Looking For) The Heart Of Saturday\n",
              "1                                All of the same blood\n",
              "2                                The Rest of the Night\n",
              "3    Rock Can't Last Forever  (You Hate Me Hate Mus...\n",
              "4                                         Zuviel Hitze\n",
              "Name: title, dtype: object"
            ]
          },
          "metadata": {
            "tags": []
          },
          "execution_count": 21
        }
      ]
    },
    {
      "cell_type": "markdown",
      "metadata": {
        "id": "qIJQM0O2K6rM"
      },
      "source": [
        " \n",
        "Comments data processing:\n",
        "As it is noticeable through each step, we loose data every time we merge datasets. We chose this approach because we only want to deal with complete information in order to be coherent. We want to compare parameters between items and we believe that the analysis is less relevant if we consider a larger dataset that contains data incomplete data."
      ]
    },
    {
      "cell_type": "code",
      "metadata": {
        "colab": {
          "base_uri": "https://localhost:8080/"
        },
        "id": "rDqrefcxPr18",
        "outputId": "3e39ac40-8123-46d2-8761-c38284273772"
      },
      "source": [
        "#!pip install nltk\n",
        "import nltk\n",
        "nltk.download('punkt')\n",
        "nltk.download('stopwords')\n",
        "nltk.download('wordnet')\n",
        "  "
      ],
      "execution_count": 22,
      "outputs": [
        {
          "output_type": "stream",
          "text": [
            "[nltk_data] Downloading package punkt to /root/nltk_data...\n",
            "[nltk_data]   Unzipping tokenizers/punkt.zip.\n",
            "[nltk_data] Downloading package stopwords to /root/nltk_data...\n",
            "[nltk_data]   Unzipping corpora/stopwords.zip.\n",
            "[nltk_data] Downloading package wordnet to /root/nltk_data...\n",
            "[nltk_data]   Unzipping corpora/wordnet.zip.\n"
          ],
          "name": "stdout"
        },
        {
          "output_type": "execute_result",
          "data": {
            "text/plain": [
              "True"
            ]
          },
          "metadata": {
            "tags": []
          },
          "execution_count": 22
        }
      ]
    },
    {
      "cell_type": "code",
      "metadata": {
        "id": "iOqFxo3EKtBF"
      },
      "source": [
        "import re\n",
        "from nltk import word_tokenize\n",
        "from nltk.stem import WordNetLemmatizer\n",
        "from nltk.corpus import stopwords\n",
        "from sklearn.feature_extraction.text import CountVectorizer, TfidfVectorizer"
      ],
      "execution_count": 23,
      "outputs": []
    },
    {
      "cell_type": "code",
      "metadata": {
        "id": "lQ4O6hycNC-O"
      },
      "source": [
        "def tokenize(text):\n",
        "    text = re.sub(r\"[^a-zA-Z]\",\" \",text.lower())\n",
        "    tokens = word_tokenize(text)\n",
        "    words = [word for word in tokens if word not in stopwords.words(\"english\")]\n",
        "    text_lems = [WordNetLemmatizer().lemmatize(lem).strip() for lem in words]\n",
        "\n",
        "    return text_lems"
      ],
      "execution_count": 24,
      "outputs": []
    },
    {
      "cell_type": "code",
      "metadata": {
        "id": "nndy-fsZNgcT"
      },
      "source": [
        "tfidf = TfidfVectorizer(tokenizer=tokenize)\n",
        "song_tfidf = tfidf.fit_transform(sample_song_df['text'].values).toarray()"
      ],
      "execution_count": 25,
      "outputs": []
    },
    {
      "cell_type": "code",
      "metadata": {
        "id": "WAVCaKxKO9je"
      },
      "source": [
        "from sklearn.metrics.pairwise import cosine_similarity"
      ],
      "execution_count": 26,
      "outputs": []
    },
    {
      "cell_type": "code",
      "metadata": {
        "colab": {
          "base_uri": "https://localhost:8080/"
        },
        "id": "SR4VWZfgTnPn",
        "outputId": "3ad1e7f4-193f-4289-b578-42f7166faedc"
      },
      "source": [
        "similar_songs = cosine_similarity(song_tfidf, song_tfidf)\n",
        "similar_songs"
      ],
      "execution_count": 27,
      "outputs": [
        {
          "output_type": "execute_result",
          "data": {
            "text/plain": [
              "array([[1.        , 0.01841732, 0.06638799, ..., 0.02476007, 0.02001813,\n",
              "        0.02268992],\n",
              "       [0.01841732, 1.        , 0.        , ..., 0.01377702, 0.05526707,\n",
              "        0.03081957],\n",
              "       [0.06638799, 0.        , 1.        , ..., 0.00878402, 0.00638369,\n",
              "        0.00752986],\n",
              "       ...,\n",
              "       [0.02476007, 0.01377702, 0.00878402, ..., 1.        , 0.00816878,\n",
              "        0.09504809],\n",
              "       [0.02001813, 0.05526707, 0.00638369, ..., 0.00816878, 1.        ,\n",
              "        0.03236887],\n",
              "       [0.02268992, 0.03081957, 0.00752986, ..., 0.09504809, 0.03236887,\n",
              "        1.        ]])"
            ]
          },
          "metadata": {
            "tags": []
          },
          "execution_count": 27
        }
      ]
    },
    {
      "cell_type": "code",
      "metadata": {
        "id": "Fk3kQZ6FT0nf"
      },
      "source": [
        "# function that takes in song title as input and returns the top 10 recommended songs\n",
        "def recommendations(title, similar_songs):\n",
        "    \n",
        "    recommended_songs = []\n",
        "    \n",
        "    # gettin the index of the movie that matches the title\n",
        "    idx = indices[indices == title].index[0]\n",
        "\n",
        "    # creating a Series with the similarity scores in descending order\n",
        "    score_series = pd.Series(similar_songs[idx]).sort_values(ascending = False)\n",
        "\n",
        "    # getting the indexes of the 10 most similar movies\n",
        "    top_10_indexes = list(score_series.iloc[1:11].index)\n",
        "    print(top_10_indexes)\n",
        "    \n",
        "    # populating the list with the titles of the best 10 matching movies\n",
        "    for i in top_10_indexes:\n",
        "        recommended_songs.append(list(sample_song_df.index)[i])\n",
        "        \n",
        "    return recommended_songs"
      ],
      "execution_count": 28,
      "outputs": []
    },
    {
      "cell_type": "code",
      "metadata": {
        "colab": {
          "base_uri": "https://localhost:8080/"
        },
        "id": "VHAOfJXuUYAq",
        "outputId": "7710554a-9385-4fe9-cd71-defa1033bd33"
      },
      "source": [
        "recommendations('The Rest of the Night', similar_songs)"
      ],
      "execution_count": 29,
      "outputs": [
        {
          "output_type": "stream",
          "text": [
            "[71, 300, 283, 677, 986, 428, 733, 208, 848, 812]\n"
          ],
          "name": "stdout"
        },
        {
          "output_type": "execute_result",
          "data": {
            "text/plain": [
              "['Co Star (Album Version)',\n",
              " 'The Get Go',\n",
              " 'Undeclared',\n",
              " 'Pretty',\n",
              " \"It's Love\",\n",
              " \"I'll Be Your Lampshade\",\n",
              " 'Nothing From Something (Album Version)',\n",
              " \"She's Got To Know  (LP Version)\",\n",
              " 'Show Me The Money',\n",
              " 'Rest Stop Cleaning']"
            ]
          },
          "metadata": {
            "tags": []
          },
          "execution_count": 29
        }
      ]
    },
    {
      "cell_type": "code",
      "metadata": {
        "colab": {
          "base_uri": "https://localhost:8080/"
        },
        "id": "Fnp_LE2oU4gO",
        "outputId": "48bf116f-1aa6-44b2-adf3-da36b749d573"
      },
      "source": [
        "print(sample_song_df.index[71])\n",
        "print(sample_song_df.iloc[71]['genre'])"
      ],
      "execution_count": 30,
      "outputs": [
        {
          "output_type": "stream",
          "text": [
            "Co Star (Album Version)\n",
            "RnB\n"
          ],
          "name": "stdout"
        }
      ]
    },
    {
      "cell_type": "code",
      "metadata": {
        "colab": {
          "base_uri": "https://localhost:8080/"
        },
        "id": "bTDhIMQwTHkc",
        "outputId": "dc09f6c2-55f0-4b77-84d3-8d7b3d05315e"
      },
      "source": [
        "!pip install vaderSentiment"
      ],
      "execution_count": 32,
      "outputs": [
        {
          "output_type": "stream",
          "text": [
            "Collecting vaderSentiment\n",
            "\u001b[?25l  Downloading https://files.pythonhosted.org/packages/76/fc/310e16254683c1ed35eeb97386986d6c00bc29df17ce280aed64d55537e9/vaderSentiment-3.3.2-py2.py3-none-any.whl (125kB)\n",
            "\r\u001b[K     |██▋                             | 10kB 15.6MB/s eta 0:00:01\r\u001b[K     |█████▏                          | 20kB 20.1MB/s eta 0:00:01\r\u001b[K     |███████▉                        | 30kB 16.7MB/s eta 0:00:01\r\u001b[K     |██████████▍                     | 40kB 11.6MB/s eta 0:00:01\r\u001b[K     |█████████████                   | 51kB 7.9MB/s eta 0:00:01\r\u001b[K     |███████████████▋                | 61kB 8.2MB/s eta 0:00:01\r\u001b[K     |██████████████████▏             | 71kB 7.8MB/s eta 0:00:01\r\u001b[K     |████████████████████▉           | 81kB 8.1MB/s eta 0:00:01\r\u001b[K     |███████████████████████▍        | 92kB 8.9MB/s eta 0:00:01\r\u001b[K     |██████████████████████████      | 102kB 7.5MB/s eta 0:00:01\r\u001b[K     |████████████████████████████▋   | 112kB 7.5MB/s eta 0:00:01\r\u001b[K     |███████████████████████████████▏| 122kB 7.5MB/s eta 0:00:01\r\u001b[K     |████████████████████████████████| 133kB 7.5MB/s \n",
            "\u001b[?25hRequirement already satisfied: requests in /usr/local/lib/python3.6/dist-packages (from vaderSentiment) (2.23.0)\n",
            "Requirement already satisfied: idna<3,>=2.5 in /usr/local/lib/python3.6/dist-packages (from requests->vaderSentiment) (2.10)\n",
            "Requirement already satisfied: chardet<4,>=3.0.2 in /usr/local/lib/python3.6/dist-packages (from requests->vaderSentiment) (3.0.4)\n",
            "Requirement already satisfied: certifi>=2017.4.17 in /usr/local/lib/python3.6/dist-packages (from requests->vaderSentiment) (2020.12.5)\n",
            "Requirement already satisfied: urllib3!=1.25.0,!=1.25.1,<1.26,>=1.21.1 in /usr/local/lib/python3.6/dist-packages (from requests->vaderSentiment) (1.24.3)\n",
            "Installing collected packages: vaderSentiment\n",
            "Successfully installed vaderSentiment-3.3.2\n"
          ],
          "name": "stdout"
        }
      ]
    },
    {
      "cell_type": "code",
      "metadata": {
        "id": "5H3dWPFSaW6P"
      },
      "source": [
        "import nltk.sentiment.sentiment_analyzer\n",
        "from vaderSentiment.vaderSentiment import SentimentIntensityAnalyzer"
      ],
      "execution_count": 33,
      "outputs": []
    },
    {
      "cell_type": "code",
      "metadata": {
        "id": "6tnJG_peSx7c"
      },
      "source": [
        "analyser = SentimentIntensityAnalyzer()"
      ],
      "execution_count": 34,
      "outputs": []
    },
    {
      "cell_type": "code",
      "metadata": {
        "colab": {
          "base_uri": "https://localhost:8080/",
          "height": 1000
        },
        "id": "hJ0_RR5mTUsR",
        "outputId": "a1f1af62-42e9-423d-979c-d9dc4d1a5723"
      },
      "source": [
        "sample_song_df.reset_index()"
      ],
      "execution_count": 35,
      "outputs": [
        {
          "output_type": "execute_result",
          "data": {
            "text/html": [
              "<div>\n",
              "<style scoped>\n",
              "    .dataframe tbody tr th:only-of-type {\n",
              "        vertical-align: middle;\n",
              "    }\n",
              "\n",
              "    .dataframe tbody tr th {\n",
              "        vertical-align: top;\n",
              "    }\n",
              "\n",
              "    .dataframe thead th {\n",
              "        text-align: right;\n",
              "    }\n",
              "</style>\n",
              "<table border=\"1\" class=\"dataframe\">\n",
              "  <thead>\n",
              "    <tr style=\"text-align: right;\">\n",
              "      <th></th>\n",
              "      <th>title</th>\n",
              "      <th>song_id</th>\n",
              "      <th>release</th>\n",
              "      <th>artist_name</th>\n",
              "      <th>year</th>\n",
              "      <th>track_id</th>\n",
              "      <th>artist_id</th>\n",
              "      <th>duration</th>\n",
              "      <th>artist_familiarity</th>\n",
              "      <th>artist_hotttnesss</th>\n",
              "      <th>lat</th>\n",
              "      <th>long</th>\n",
              "      <th>location</th>\n",
              "      <th>genre</th>\n",
              "      <th>Tid</th>\n",
              "      <th>words_freq</th>\n",
              "      <th>text</th>\n",
              "    </tr>\n",
              "  </thead>\n",
              "  <tbody>\n",
              "    <tr>\n",
              "      <th>0</th>\n",
              "      <td>(Looking For) The Heart Of Saturday</td>\n",
              "      <td>SOBARPM12A8C133DFF</td>\n",
              "      <td>Cover Girl</td>\n",
              "      <td>Shawn Colvin</td>\n",
              "      <td>1994</td>\n",
              "      <td>TRMMMUT128F42646E8</td>\n",
              "      <td>ARDW5AW1187FB55708</td>\n",
              "      <td>216.48</td>\n",
              "      <td>0.69</td>\n",
              "      <td>0.45</td>\n",
              "      <td>42.79</td>\n",
              "      <td>-96.93</td>\n",
              "      <td>Vermillion, SD</td>\n",
              "      <td>Pop_Rock</td>\n",
              "      <td>TRMMMUT128F42646E8</td>\n",
              "      <td>[2:36, 3:25, 4:2, 5:8, 6:2, 7:1, 8:6, 10:8, 12...</td>\n",
              "      <td>the  the  the  the  the  the  the  the  the  ...</td>\n",
              "    </tr>\n",
              "    <tr>\n",
              "      <th>1</th>\n",
              "      <td>All of the same blood</td>\n",
              "      <td>SOOLRHW12A8C142643</td>\n",
              "      <td>Violent revolution</td>\n",
              "      <td>Kreator</td>\n",
              "      <td>2001</td>\n",
              "      <td>TRMMMKQ128F92EBCB5</td>\n",
              "      <td>AR79L0D1187FB3AFB6</td>\n",
              "      <td>372.43</td>\n",
              "      <td>0.74</td>\n",
              "      <td>0.47</td>\n",
              "      <td>51.45</td>\n",
              "      <td>7.01</td>\n",
              "      <td>Essen</td>\n",
              "      <td>Pop_Rock</td>\n",
              "      <td>TRMMMKQ128F92EBCB5</td>\n",
              "      <td>[2:12, 3:2, 4:3, 5:4, 10:2, 12:1, 13:9, 15:2, ...</td>\n",
              "      <td>the  the  the  the  the  the  the  the  the  ...</td>\n",
              "    </tr>\n",
              "    <tr>\n",
              "      <th>2</th>\n",
              "      <td>The Rest of the Night</td>\n",
              "      <td>SOVOIOQ12AC4688FAC</td>\n",
              "      <td>The Wind</td>\n",
              "      <td>Warren Zevon</td>\n",
              "      <td>2003</td>\n",
              "      <td>TRMMWNY12903CF28D2</td>\n",
              "      <td>ARUQFUJ1187FB42AEC</td>\n",
              "      <td>279.30</td>\n",
              "      <td>0.69</td>\n",
              "      <td>0.47</td>\n",
              "      <td>41.88</td>\n",
              "      <td>-87.63</td>\n",
              "      <td>Chicago, IL</td>\n",
              "      <td>Pop_Rock</td>\n",
              "      <td>TRMMWNY12903CF28D2</td>\n",
              "      <td>[1:1, 2:31, 3:2, 4:1, 5:2, 6:1, 7:4, 8:2, 10:1...</td>\n",
              "      <td>i  the  the  the  the  the  the  the  the  th...</td>\n",
              "    </tr>\n",
              "    <tr>\n",
              "      <th>3</th>\n",
              "      <td>Rock Can't Last Forever  (You Hate Me Hate Mus...</td>\n",
              "      <td>SOGXPYA12A58A769A7</td>\n",
              "      <td>You Make Me Hate Music</td>\n",
              "      <td>Fine China</td>\n",
              "      <td>2002</td>\n",
              "      <td>TRMMGDQ128F4277AE7</td>\n",
              "      <td>AR6KJQA1187FB3EF30</td>\n",
              "      <td>295.94</td>\n",
              "      <td>0.49</td>\n",
              "      <td>0.36</td>\n",
              "      <td>33.45</td>\n",
              "      <td>-112.08</td>\n",
              "      <td>Phoenix, Arizona</td>\n",
              "      <td>Pop_Rock</td>\n",
              "      <td>TRMMGDQ128F4277AE7</td>\n",
              "      <td>[1:5, 2:1, 3:4, 4:5, 5:6, 6:3, 7:2, 8:3, 9:3, ...</td>\n",
              "      <td>i  i  i  i  i  the  you  you  you  you  to  t...</td>\n",
              "    </tr>\n",
              "    <tr>\n",
              "      <th>4</th>\n",
              "      <td>Zuviel Hitze</td>\n",
              "      <td>SOWSOVJ12A8C13A8C1</td>\n",
              "      <td>Einzelhaft</td>\n",
              "      <td>Falco</td>\n",
              "      <td>1982</td>\n",
              "      <td>TRMMHVN128F428E67E</td>\n",
              "      <td>AR5DXUU1187B9B0E42</td>\n",
              "      <td>274.02</td>\n",
              "      <td>0.67</td>\n",
              "      <td>0.46</td>\n",
              "      <td>48.20</td>\n",
              "      <td>16.37</td>\n",
              "      <td>Vienna, Austria</td>\n",
              "      <td>Pop_Rock</td>\n",
              "      <td>TRMMHVN128F428E67E</td>\n",
              "      <td>[3:1, 10:5, 14:1, 20:1, 28:2, 32:1, 33:1, 73:1...</td>\n",
              "      <td>you  in  in  in  in  in  your  am  so  so  wi...</td>\n",
              "    </tr>\n",
              "    <tr>\n",
              "      <th>...</th>\n",
              "      <td>...</td>\n",
              "      <td>...</td>\n",
              "      <td>...</td>\n",
              "      <td>...</td>\n",
              "      <td>...</td>\n",
              "      <td>...</td>\n",
              "      <td>...</td>\n",
              "      <td>...</td>\n",
              "      <td>...</td>\n",
              "      <td>...</td>\n",
              "      <td>...</td>\n",
              "      <td>...</td>\n",
              "      <td>...</td>\n",
              "      <td>...</td>\n",
              "      <td>...</td>\n",
              "      <td>...</td>\n",
              "      <td>...</td>\n",
              "    </tr>\n",
              "    <tr>\n",
              "      <th>995</th>\n",
              "      <td>New Breed</td>\n",
              "      <td>SOTVDJD12A58A7DACE</td>\n",
              "      <td>Negative Outlook</td>\n",
              "      <td>Sworn Enemy</td>\n",
              "      <td>2004</td>\n",
              "      <td>TRMLHXD128F422872B</td>\n",
              "      <td>ARLL29O1187B996028</td>\n",
              "      <td>205.11</td>\n",
              "      <td>0.68</td>\n",
              "      <td>0.37</td>\n",
              "      <td>40.70</td>\n",
              "      <td>-73.83</td>\n",
              "      <td>Queens, NY</td>\n",
              "      <td>Pop_Rock</td>\n",
              "      <td>TRMLHXD128F422872B</td>\n",
              "      <td>[2:18, 3:1, 4:7, 5:4, 6:4, 8:1, 9:11, 10:3, 12...</td>\n",
              "      <td>the  the  the  the  the  the  the  the  the  ...</td>\n",
              "    </tr>\n",
              "    <tr>\n",
              "      <th>996</th>\n",
              "      <td>Lightning Rod (Album Version)</td>\n",
              "      <td>SOLDAZZ12A6D4F8DA5</td>\n",
              "      <td>Ganging Up On The Sun</td>\n",
              "      <td>Guster</td>\n",
              "      <td>2006</td>\n",
              "      <td>TRMLHNZ128F1480EE8</td>\n",
              "      <td>AR57LEA1187B9AD137</td>\n",
              "      <td>175.57</td>\n",
              "      <td>0.73</td>\n",
              "      <td>0.54</td>\n",
              "      <td>42.41</td>\n",
              "      <td>-71.13</td>\n",
              "      <td>West Somerville, Massachusetts</td>\n",
              "      <td>Pop_Rock</td>\n",
              "      <td>TRMLHNZ128F1480EE8</td>\n",
              "      <td>[1:3, 2:4, 5:2, 6:2, 10:2, 12:1, 17:2, 18:3, 2...</td>\n",
              "      <td>i  i  i  the  the  the  the  and  and  a  a  ...</td>\n",
              "    </tr>\n",
              "    <tr>\n",
              "      <th>997</th>\n",
              "      <td>Houston We Have a Problem</td>\n",
              "      <td>SOBFQDS12A8C13A1D1</td>\n",
              "      <td>Munki Brain</td>\n",
              "      <td>The Queers</td>\n",
              "      <td>2007</td>\n",
              "      <td>TRMLCSC128F4270F6C</td>\n",
              "      <td>ARIEKZA1187B98FED4</td>\n",
              "      <td>129.07</td>\n",
              "      <td>0.68</td>\n",
              "      <td>0.40</td>\n",
              "      <td>43.07</td>\n",
              "      <td>-70.77</td>\n",
              "      <td>Portsmouth, New Hampshire</td>\n",
              "      <td>Pop_Rock</td>\n",
              "      <td>TRMLCSC128F4270F6C</td>\n",
              "      <td>[1:11, 2:7, 3:1, 4:3, 5:11, 6:5, 8:2, 9:2, 10:...</td>\n",
              "      <td>i  i  i  i  i  i  i  i  i  i  i  the  the  th...</td>\n",
              "    </tr>\n",
              "    <tr>\n",
              "      <th>998</th>\n",
              "      <td>Sweet Charity And Adoration</td>\n",
              "      <td>SOMAVEE12A8C13C741</td>\n",
              "      <td>Diary Of A Hollow Horse</td>\n",
              "      <td>China Crisis</td>\n",
              "      <td>1989</td>\n",
              "      <td>TRMLCUL128F427D6BB</td>\n",
              "      <td>ARGJ84O1187B98CD2C</td>\n",
              "      <td>291.79</td>\n",
              "      <td>0.61</td>\n",
              "      <td>0.39</td>\n",
              "      <td>53.48</td>\n",
              "      <td>-2.88</td>\n",
              "      <td>Kirkby, Merseyside, England</td>\n",
              "      <td>Pop_Rock</td>\n",
              "      <td>TRMLCUL128F427D6BB</td>\n",
              "      <td>[1:5, 2:2, 3:23, 4:1, 5:1, 6:3, 7:1, 9:1, 10:5...</td>\n",
              "      <td>i  i  i  i  i  the  the  you  you  you  you  ...</td>\n",
              "    </tr>\n",
              "    <tr>\n",
              "      <th>999</th>\n",
              "      <td>Enemy</td>\n",
              "      <td>SOFDEVS12A8C137EB0</td>\n",
              "      <td>Sleep Through The Static</td>\n",
              "      <td>Jack Johnson</td>\n",
              "      <td>2008</td>\n",
              "      <td>TRMLREB128F4252E0C</td>\n",
              "      <td>ARC8CQZ1187B98DECA</td>\n",
              "      <td>228.44</td>\n",
              "      <td>0.83</td>\n",
              "      <td>0.64</td>\n",
              "      <td>40.70</td>\n",
              "      <td>-73.83</td>\n",
              "      <td>Queens, NY</td>\n",
              "      <td>Pop_Rock</td>\n",
              "      <td>TRMLREB128F4252E0C</td>\n",
              "      <td>[1:8, 2:9, 3:19, 4:15, 5:6, 6:1, 7:1, 8:14, 9:...</td>\n",
              "      <td>i  i  i  i  i  i  i  i  the  the  the  the  t...</td>\n",
              "    </tr>\n",
              "  </tbody>\n",
              "</table>\n",
              "<p>1000 rows × 17 columns</p>\n",
              "</div>"
            ],
            "text/plain": [
              "                                                 title  ...                                               text\n",
              "0                  (Looking For) The Heart Of Saturday  ...   the  the  the  the  the  the  the  the  the  ...\n",
              "1                                All of the same blood  ...   the  the  the  the  the  the  the  the  the  ...\n",
              "2                                The Rest of the Night  ...   i  the  the  the  the  the  the  the  the  th...\n",
              "3    Rock Can't Last Forever  (You Hate Me Hate Mus...  ...   i  i  i  i  i  the  you  you  you  you  to  t...\n",
              "4                                         Zuviel Hitze  ...   you  in  in  in  in  in  your  am  so  so  wi...\n",
              "..                                                 ...  ...                                                ...\n",
              "995                                          New Breed  ...   the  the  the  the  the  the  the  the  the  ...\n",
              "996                      Lightning Rod (Album Version)  ...   i  i  i  the  the  the  the  and  and  a  a  ...\n",
              "997                          Houston We Have a Problem  ...   i  i  i  i  i  i  i  i  i  i  i  the  the  th...\n",
              "998                        Sweet Charity And Adoration  ...   i  i  i  i  i  the  the  you  you  you  you  ...\n",
              "999                                              Enemy  ...   i  i  i  i  i  i  i  i  the  the  the  the  t...\n",
              "\n",
              "[1000 rows x 17 columns]"
            ]
          },
          "metadata": {
            "tags": []
          },
          "execution_count": 35
        }
      ]
    },
    {
      "cell_type": "code",
      "metadata": {
        "id": "aGic4mZvUEnY"
      },
      "source": [
        "\n",
        "#Applying the polarity analysis for the bags of words\n",
        "for i in sample_song_df.index:\n",
        "    sample_song_df.at[i, 'Polarity_score'] = analyser.polarity_scores(sample_song_df.at[i, 'text'])['compound']\n",
        "    \n",
        "#Sorting values to have a meaningfull plot\n",
        "sample_song_df = sample_song_df.sort_values('Polarity_score', ascending=False)"
      ],
      "execution_count": 36,
      "outputs": []
    },
    {
      "cell_type": "code",
      "metadata": {
        "colab": {
          "base_uri": "https://localhost:8080/"
        },
        "id": "L8qK83C6Ugzz",
        "outputId": "3e5c3853-e379-416d-be39-e0844c22f66e"
      },
      "source": [
        "sample_song_df['Polarity_score'].unique()\n"
      ],
      "execution_count": 38,
      "outputs": [
        {
          "output_type": "execute_result",
          "data": {
            "text/plain": [
              "array([ 0.9998,  0.9997,  0.9994,  0.9993,  0.9992,  0.9991,  0.9989,\n",
              "        0.9988,  0.9987,  0.9986,  0.9985,  0.9984,  0.9983,  0.9982,\n",
              "        0.9981,  0.998 ,  0.9979,  0.9978,  0.9977,  0.9976,  0.9975,\n",
              "        0.9973,  0.9972,  0.9971,  0.997 ,  0.9969,  0.9966,  0.9965,\n",
              "        0.9964,  0.9963,  0.9962,  0.9961,  0.996 ,  0.9959,  0.9957,\n",
              "        0.9956,  0.9954,  0.9953,  0.9951,  0.995 ,  0.9949,  0.9948,\n",
              "        0.9946,  0.9945,  0.9944,  0.9943,  0.9942,  0.9939,  0.9938,\n",
              "        0.9936,  0.9935,  0.9933,  0.9931,  0.993 ,  0.9929,  0.9928,\n",
              "        0.9926,  0.9925,  0.9924,  0.9922,  0.992 ,  0.9917,  0.9915,\n",
              "        0.9914,  0.9913,  0.9912,  0.9911,  0.991 ,  0.9908,  0.9904,\n",
              "        0.9902,  0.9899,  0.9897,  0.9896,  0.9895,  0.9892,  0.9888,\n",
              "        0.9885,  0.9881,  0.988 ,  0.9879,  0.9877,  0.9875,  0.9874,\n",
              "        0.9872,  0.9871,  0.987 ,  0.9869,  0.9868,  0.9867,  0.9866,\n",
              "        0.9865,  0.9861,  0.9858,  0.9856,  0.9851,  0.9842,  0.9841,\n",
              "        0.984 ,  0.9839,  0.9838,  0.9836,  0.9834,  0.9833,  0.9831,\n",
              "        0.983 ,  0.9829,  0.9828,  0.9825,  0.9824,  0.9823,  0.982 ,\n",
              "        0.9819,  0.9818,  0.9815,  0.9814,  0.9808,  0.9806,  0.9804,\n",
              "        0.9803,  0.9799,  0.9798,  0.9795,  0.9793,  0.9792,  0.9791,\n",
              "        0.979 ,  0.9788,  0.9787,  0.9786,  0.9785,  0.9784,  0.9783,\n",
              "        0.9781,  0.978 ,  0.9779,  0.9776,  0.9773,  0.9769,  0.9766,\n",
              "        0.9762,  0.9761,  0.9752,  0.9747,  0.9746,  0.9745,  0.9744,\n",
              "        0.9741,  0.974 ,  0.9735,  0.9726,  0.9721,  0.9718,  0.9714,\n",
              "        0.9712,  0.9711,  0.9709,  0.9706,  0.9702,  0.9698,  0.9694,\n",
              "        0.969 ,  0.9688,  0.9686,  0.9678,  0.9677,  0.9676,  0.9674,\n",
              "        0.9666,  0.9665,  0.9664,  0.9657,  0.965 ,  0.9645,  0.9638,\n",
              "        0.9635,  0.9632,  0.962 ,  0.9618,  0.9617,  0.9615,  0.9612,\n",
              "        0.9608,  0.9607,  0.9604,  0.9601,  0.9597,  0.9593,  0.959 ,\n",
              "        0.9584,  0.9579,  0.9578,  0.9576,  0.9565,  0.9562,  0.9559,\n",
              "        0.9549,  0.9545,  0.9541,  0.9536,  0.9535,  0.9516,  0.9509,\n",
              "        0.9508,  0.9505,  0.9503,  0.9497,  0.9493,  0.9468,  0.9466,\n",
              "        0.946 ,  0.9458,  0.9455,  0.9451,  0.9442,  0.9439,  0.9437,\n",
              "        0.9429,  0.9427,  0.9424,  0.9422,  0.9413,  0.941 ,  0.9409,\n",
              "        0.9403,  0.9401,  0.9398,  0.9393,  0.9382,  0.9379,  0.9375,\n",
              "        0.9371,  0.9366,  0.9363,  0.936 ,  0.935 ,  0.9349,  0.9331,\n",
              "        0.9325,  0.9319,  0.9313,  0.93  ,  0.9294,  0.9287,  0.9284,\n",
              "        0.9282,  0.9274,  0.9268,  0.926 ,  0.9253,  0.9246,  0.9245,\n",
              "        0.9237,  0.9231,  0.9222,  0.9217,  0.9213,  0.9211,  0.9204,\n",
              "        0.9194,  0.9191,  0.9186,  0.9185,  0.9161,  0.9159,  0.9153,\n",
              "        0.9141,  0.9136,  0.9127,  0.9118,  0.91  ,  0.9081,  0.9062,\n",
              "        0.9052,  0.9042,  0.9037,  0.9033,  0.9022,  0.9018,  0.901 ,\n",
              "        0.8998,  0.899 ,  0.8979,  0.8944,  0.8935,  0.8929,  0.8922,\n",
              "        0.892 ,  0.8917,  0.891 ,  0.8904,  0.8893,  0.8885,  0.8866,\n",
              "        0.8824,  0.8815,  0.8811,  0.8807,  0.8796,  0.8779,  0.8765,\n",
              "        0.8762,  0.8759,  0.8743,  0.8741,  0.8721,  0.872 ,  0.8717,\n",
              "        0.8696,  0.8689,  0.8674,  0.8659,  0.8625,  0.8623,  0.8608,\n",
              "        0.8606,  0.8586,  0.8543,  0.8519,  0.85  ,  0.8481,  0.8472,\n",
              "        0.8442,  0.8433,  0.8408,  0.8402,  0.8387,  0.8338,  0.8316,\n",
              "        0.8271,  0.8266,  0.8251,  0.8248,  0.8246,  0.8228,  0.8225,\n",
              "        0.8176,  0.8126,  0.802 ,  0.7976,  0.7964,  0.7945,  0.7935,\n",
              "        0.7884,  0.7872,  0.7783,  0.7775,  0.7717,  0.7684,  0.7676,\n",
              "        0.765 ,  0.7592,  0.7579,  0.7571,  0.7476,  0.7469,  0.743 ,\n",
              "        0.7421,  0.7351,  0.7332,  0.7306,  0.7284,  0.7269,  0.7227,\n",
              "        0.7185,  0.7096,  0.7004,  0.7003,  0.6808,  0.6784,  0.6759,\n",
              "        0.6705,  0.6597,  0.6486,  0.6479,  0.6369,  0.6343,  0.631 ,\n",
              "        0.6283,  0.6249,  0.6161,  0.6124,  0.5994,  0.5927,  0.5859,\n",
              "        0.584 ,  0.5759,  0.5719,  0.5667,  0.5556,  0.5412,  0.5267,\n",
              "        0.5239,  0.5119,  0.5106,  0.5023,  0.4939,  0.4767,  0.4685,\n",
              "        0.4588,  0.4404,  0.4215,  0.4203,  0.4144,  0.3919,  0.3883,\n",
              "        0.3818,  0.3612,  0.3561,  0.34  ,  0.3291,  0.3182,  0.291 ,\n",
              "        0.2856,  0.2851,  0.2732,  0.2707,  0.25  ,  0.2418,  0.2382,\n",
              "        0.2263,  0.2235,  0.212 ,  0.2023,  0.1747,  0.1449,  0.1411,\n",
              "        0.1395,  0.128 ,  0.122 ,  0.1027,  0.0997,  0.0772,  0.0757,\n",
              "        0.0598,  0.0516,  0.0387,  0.    , -0.0258, -0.0387, -0.0516,\n",
              "       -0.0531, -0.0772, -0.1058, -0.1088, -0.128 , -0.1451, -0.1531,\n",
              "       -0.1546, -0.1615, -0.1728, -0.1779, -0.1901, -0.1923, -0.1982,\n",
              "       -0.2023, -0.2263, -0.2498, -0.25  , -0.2566, -0.2732, -0.276 ,\n",
              "       -0.2878, -0.296 , -0.3071, -0.3182, -0.34  , -0.3451, -0.3521,\n",
              "       -0.3612, -0.4019, -0.4215, -0.4238, -0.4404, -0.4445, -0.4576,\n",
              "       -0.4588, -0.4767, -0.4804, -0.4939, -0.5023, -0.5106, -0.5165,\n",
              "       -0.5267, -0.5478, -0.5499, -0.5526, -0.5574, -0.5679, -0.5719,\n",
              "       -0.5859, -0.5927, -0.6124, -0.6148, -0.631 , -0.632 , -0.6398,\n",
              "       -0.6486, -0.6597, -0.6652, -0.6705, -0.6786, -0.6808, -0.6876,\n",
              "       -0.6908, -0.6956, -0.7003, -0.7048, -0.7096, -0.7101, -0.7149,\n",
              "       -0.7153, -0.7184, -0.7227, -0.7269, -0.7351, -0.744 , -0.7469,\n",
              "       -0.7506, -0.7579, -0.7704, -0.7783, -0.7786, -0.781 , -0.7814,\n",
              "       -0.7845, -0.7876, -0.7964, -0.802 , -0.8054, -0.8057, -0.8176,\n",
              "       -0.8204, -0.8225, -0.8267, -0.8316, -0.8343, -0.8521, -0.856 ,\n",
              "       -0.8625, -0.8641, -0.8679, -0.8689, -0.87  , -0.8721, -0.8724,\n",
              "       -0.8726, -0.875 , -0.8825, -0.8834, -0.8842, -0.886 , -0.8885,\n",
              "       -0.8898, -0.891 , -0.8923, -0.8957, -0.8962, -0.9001, -0.9012,\n",
              "       -0.9022, -0.9029, -0.9062, -0.9112, -0.9122, -0.9136, -0.9156,\n",
              "       -0.9161, -0.9163, -0.9196, -0.92  , -0.9209, -0.921 , -0.9224,\n",
              "       -0.9246, -0.9248, -0.9254, -0.926 , -0.9265, -0.9274, -0.9286,\n",
              "       -0.9294, -0.9302, -0.9325, -0.9334, -0.9349, -0.9382, -0.9413,\n",
              "       -0.9416, -0.9423, -0.9442, -0.9451, -0.946 , -0.9492, -0.9493,\n",
              "       -0.9524, -0.9538, -0.9541, -0.9549, -0.9552, -0.9557, -0.9578,\n",
              "       -0.9589, -0.959 , -0.9591, -0.9607, -0.9611, -0.9612, -0.9614,\n",
              "       -0.962 , -0.9623, -0.9629, -0.9643, -0.967 , -0.9674, -0.9679,\n",
              "       -0.969 , -0.9694, -0.9705, -0.9709, -0.9711, -0.9716, -0.9719,\n",
              "       -0.973 , -0.9735, -0.9741, -0.9743, -0.9749, -0.9753, -0.9757,\n",
              "       -0.9758, -0.9761, -0.9764, -0.9771, -0.9772, -0.9774, -0.9776,\n",
              "       -0.9781, -0.9782, -0.9786, -0.9793, -0.9794, -0.9808, -0.9809,\n",
              "       -0.9823, -0.9828, -0.9829, -0.9832, -0.9839, -0.9843, -0.9845,\n",
              "       -0.9851, -0.9855, -0.9862, -0.9864, -0.9866, -0.9869, -0.9871,\n",
              "       -0.9878, -0.988 , -0.9887, -0.9889, -0.9892, -0.9895, -0.9896,\n",
              "       -0.9897, -0.9898, -0.9899, -0.99  , -0.9901, -0.9902, -0.9905,\n",
              "       -0.9906, -0.9908, -0.9914, -0.9915, -0.9928, -0.993 , -0.9931,\n",
              "       -0.9932, -0.9933, -0.9935, -0.9938, -0.9944, -0.9945, -0.9947,\n",
              "       -0.9951, -0.9956, -0.9958, -0.9959, -0.9964, -0.9969, -0.9971,\n",
              "       -0.9974, -0.9975, -0.9976, -0.9978, -0.9979, -0.9981, -0.9984,\n",
              "       -0.9986, -0.9987, -0.9991])"
            ]
          },
          "metadata": {
            "tags": []
          },
          "execution_count": 38
        }
      ]
    },
    {
      "cell_type": "code",
      "metadata": {
        "id": "6LsB4AKQUkc0"
      },
      "source": [
        ""
      ],
      "execution_count": null,
      "outputs": []
    }
  ]
}