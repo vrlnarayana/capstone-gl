{
  "nbformat": 4,
  "nbformat_minor": 0,
  "metadata": {
    "colab": {
      "name": "lakshminarayanan_vader_sentiment_based_analysis_and_content_based_filtering_using_gensim.ipynb",
      "provenance": [],
      "collapsed_sections": [],
      "toc_visible": true,
      "include_colab_link": true
    },
    "kernelspec": {
      "name": "python3",
      "display_name": "Python 3"
    }
  },
  "cells": [
    {
      "cell_type": "markdown",
      "metadata": {
        "id": "view-in-github",
        "colab_type": "text"
      },
      "source": [
        "<a href=\"https://colab.research.google.com/github/vrlnarayana/capstone-gl/blob/main/lakshminarayanan_vader_sentiment_based_analysis_and_content_based_filtering_using_gensim.ipynb\" target=\"_parent\"><img src=\"https://colab.research.google.com/assets/colab-badge.svg\" alt=\"Open In Colab\"/></a>"
      ]
    },
    {
      "cell_type": "markdown",
      "metadata": {
        "id": "I60AXnI-z14Y"
      },
      "source": [
        "# Capstone Project : Group 4 : Song Recommendation through content based filtering"
      ]
    },
    {
      "cell_type": "markdown",
      "metadata": {
        "id": "d6upmLsbPipc"
      },
      "source": [
        "MODIFIED by LAKSHMINARAYANAN"
      ]
    },
    {
      "cell_type": "code",
      "metadata": {
        "id": "2SvIV_IhrMG3",
        "colab": {
          "base_uri": "https://localhost:8080/"
        },
        "outputId": "55b87aef-2433-4e71-91fb-65b3a43a606f"
      },
      "source": [
        "from google.colab import drive\r\n",
        "drive.mount('/content/drive')"
      ],
      "execution_count": 4,
      "outputs": [
        {
          "output_type": "stream",
          "text": [
            "Mounted at /content/drive\n"
          ],
          "name": "stdout"
        }
      ]
    },
    {
      "cell_type": "code",
      "metadata": {
        "id": "uAPKit6mrSnO"
      },
      "source": [
        "import numpy as np\r\n",
        "import pandas as pd\r\n",
        "import seaborn as sns\r\n",
        "import plotly.express as px\r\n",
        "import matplotlib.pyplot as plt\r\n",
        "from google.colab import files\r\n",
        "import warnings; warnings.simplefilter('ignore')\r\n",
        "\r\n",
        "# Remove scientific notations and display numbers with 2 decimal points instead\r\n",
        "pd.options.display.float_format = '{:,.2f}'.format   \r\n",
        "\r\n",
        "plt.rcParams[\"figure.figsize\"] = [20, 6]  # width, height\r\n",
        "plt.rcParams['xtick.direction'] = 'out'"
      ],
      "execution_count": 5,
      "outputs": []
    },
    {
      "cell_type": "markdown",
      "metadata": {
        "id": "VXAs8W3v2ifc"
      },
      "source": [
        "**READ SONG DATA**"
      ]
    },
    {
      "cell_type": "code",
      "metadata": {
        "id": "USjp6v_jrnsK"
      },
      "source": [
        "song_data_df =pd.read_csv(r'/content/drive/My Drive/songs_with_genre_year_location.csv')"
      ],
      "execution_count": 6,
      "outputs": []
    },
    {
      "cell_type": "code",
      "metadata": {
        "colab": {
          "base_uri": "https://localhost:8080/"
        },
        "id": "lv9smWluHaVY",
        "outputId": "cb983bfc-9c59-46ec-d490-0d0eef801bbf"
      },
      "source": [
        "song_data_df.duplicated(subset=['track_id']).value_counts()"
      ],
      "execution_count": 7,
      "outputs": [
        {
          "output_type": "execute_result",
          "data": {
            "text/plain": [
              "False    112154\n",
              "True        209\n",
              "dtype: int64"
            ]
          },
          "metadata": {
            "tags": []
          },
          "execution_count": 7
        }
      ]
    },
    {
      "cell_type": "markdown",
      "metadata": {
        "id": "kqcDDcEoHop8"
      },
      "source": [
        "There are 209 duplicate records in the song dataframe"
      ]
    },
    {
      "cell_type": "code",
      "metadata": {
        "id": "66fSeN1WHvdK"
      },
      "source": [
        "song_data_df = song_data_df.drop_duplicates(subset=['track_id'])"
      ],
      "execution_count": 8,
      "outputs": []
    },
    {
      "cell_type": "markdown",
      "metadata": {
        "id": "4uThbZDs-pX8"
      },
      "source": [
        "**READ Bags of words, extracting them from the train dataset \"**"
      ]
    },
    {
      "cell_type": "code",
      "metadata": {
        "id": "5WrEuc9B-pys"
      },
      "source": [
        "#import file\n",
        "lyrics = pd.read_table(r'/content/drive/My Drive/mxm_dataset_train.txt', error_bad_lines=False)"
      ],
      "execution_count": 44,
      "outputs": []
    },
    {
      "cell_type": "code",
      "metadata": {
        "id": "uw6Rakd1YjIU"
      },
      "source": [
        "#change name of the column\n",
        "lyrics.columns = ['Raw_Training']\n",
        "\n",
        "# take the bag of word to use it later\n",
        "words_train = lyrics.iloc[16]\n",
        "\n",
        "#drop useless rows\n",
        "lyrics=lyrics[17:].copy()\n",
        "\n",
        "# get TrackID, MxMID and lyrics and put them separated columns\n",
        "def sortdata(x):\n",
        "    splitted = x['Raw_Training'].split(',')\n",
        "    x['Tid']=splitted[0]\n",
        "    #x['MXM_Tid']=splitted[1]\n",
        "    x['words_freq']=splitted[2:]\n",
        "    return x\n",
        "\n",
        "#Apply the function to every column\n",
        "lyrics = lyrics.apply(sortdata,axis=1)\n",
        "lyrics = lyrics[['Tid','words_freq']]"
      ],
      "execution_count": 45,
      "outputs": []
    },
    {
      "cell_type": "code",
      "metadata": {
        "id": "8mSCBG_wr4GP",
        "colab": {
          "base_uri": "https://localhost:8080/",
          "height": 391
        },
        "outputId": "ced5d65d-5440-41b7-fd92-c844b061a658"
      },
      "source": [
        "#lyrics=lyrics.drop(columns=['index'])\n",
        "lyrics"
      ],
      "execution_count": 46,
      "outputs": [
        {
          "output_type": "execute_result",
          "data": {
            "text/html": [
              "<div>\n",
              "<style scoped>\n",
              "    .dataframe tbody tr th:only-of-type {\n",
              "        vertical-align: middle;\n",
              "    }\n",
              "\n",
              "    .dataframe tbody tr th {\n",
              "        vertical-align: top;\n",
              "    }\n",
              "\n",
              "    .dataframe thead th {\n",
              "        text-align: right;\n",
              "    }\n",
              "</style>\n",
              "<table border=\"1\" class=\"dataframe\">\n",
              "  <thead>\n",
              "    <tr style=\"text-align: right;\">\n",
              "      <th></th>\n",
              "      <th>Tid</th>\n",
              "      <th>words_freq</th>\n",
              "    </tr>\n",
              "  </thead>\n",
              "  <tbody>\n",
              "    <tr>\n",
              "      <th>17</th>\n",
              "      <td>TRAAAAV128F421A322</td>\n",
              "      <td>[1:6, 2:4, 3:2, 4:2, 5:5, 6:3, 7:1, 8:1, 11:1,...</td>\n",
              "    </tr>\n",
              "    <tr>\n",
              "      <th>18</th>\n",
              "      <td>TRAAABD128F429CF47</td>\n",
              "      <td>[1:10, 3:17, 4:8, 5:2, 6:2, 7:1, 8:3, 9:2, 10:...</td>\n",
              "    </tr>\n",
              "    <tr>\n",
              "      <th>19</th>\n",
              "      <td>TRAAAED128E0783FAB</td>\n",
              "      <td>[1:28, 2:15, 3:2, 4:12, 5:22, 6:2, 7:2, 8:4, 9...</td>\n",
              "    </tr>\n",
              "    <tr>\n",
              "      <th>20</th>\n",
              "      <td>TRAAAEF128F4273421</td>\n",
              "      <td>[1:5, 2:4, 3:3, 4:2, 5:1, 6:11, 9:4, 12:9, 13:...</td>\n",
              "    </tr>\n",
              "    <tr>\n",
              "      <th>21</th>\n",
              "      <td>TRAAAEW128F42930C0</td>\n",
              "      <td>[1:4, 4:5, 5:7, 6:2, 7:4, 9:1, 10:1, 11:9, 15:...</td>\n",
              "    </tr>\n",
              "    <tr>\n",
              "      <th>...</th>\n",
              "      <td>...</td>\n",
              "      <td>...</td>\n",
              "    </tr>\n",
              "    <tr>\n",
              "      <th>210531</th>\n",
              "      <td>TRZZZWS128F429CF87</td>\n",
              "      <td>[6:1, 24:9, 38:7, 42:1, 77:4, 90:1, 112:5, 114...</td>\n",
              "    </tr>\n",
              "    <tr>\n",
              "      <th>210532</th>\n",
              "      <td>TRZZZXA128F428ED56</td>\n",
              "      <td>[1:1, 2:13, 3:6, 4:5, 5:4, 6:6, 9:4, 10:4, 12:...</td>\n",
              "    </tr>\n",
              "    <tr>\n",
              "      <th>210533</th>\n",
              "      <td>TRZZZXV128F4289747</td>\n",
              "      <td>[1:13, 2:3, 3:17, 4:5, 5:9, 7:8, 8:2, 9:1, 11:...</td>\n",
              "    </tr>\n",
              "    <tr>\n",
              "      <th>210534</th>\n",
              "      <td>TRZZZYV128F92E996D</td>\n",
              "      <td>[1:10, 2:6, 3:20, 5:2, 7:30, 8:1, 9:6, 10:3, 1...</td>\n",
              "    </tr>\n",
              "    <tr>\n",
              "      <th>210535</th>\n",
              "      <td>TRZZZYX128F92D32C6</td>\n",
              "      <td>[1:4, 2:18, 4:3, 5:6, 6:9, 7:1, 8:5, 9:1, 10:1...</td>\n",
              "    </tr>\n",
              "  </tbody>\n",
              "</table>\n",
              "<p>210519 rows × 2 columns</p>\n",
              "</div>"
            ],
            "text/plain": [
              "                       Tid                                         words_freq\n",
              "17      TRAAAAV128F421A322  [1:6, 2:4, 3:2, 4:2, 5:5, 6:3, 7:1, 8:1, 11:1,...\n",
              "18      TRAAABD128F429CF47  [1:10, 3:17, 4:8, 5:2, 6:2, 7:1, 8:3, 9:2, 10:...\n",
              "19      TRAAAED128E0783FAB  [1:28, 2:15, 3:2, 4:12, 5:22, 6:2, 7:2, 8:4, 9...\n",
              "20      TRAAAEF128F4273421  [1:5, 2:4, 3:3, 4:2, 5:1, 6:11, 9:4, 12:9, 13:...\n",
              "21      TRAAAEW128F42930C0  [1:4, 4:5, 5:7, 6:2, 7:4, 9:1, 10:1, 11:9, 15:...\n",
              "...                    ...                                                ...\n",
              "210531  TRZZZWS128F429CF87  [6:1, 24:9, 38:7, 42:1, 77:4, 90:1, 112:5, 114...\n",
              "210532  TRZZZXA128F428ED56  [1:1, 2:13, 3:6, 4:5, 5:4, 6:6, 9:4, 10:4, 12:...\n",
              "210533  TRZZZXV128F4289747  [1:13, 2:3, 3:17, 4:5, 5:9, 7:8, 8:2, 9:1, 11:...\n",
              "210534  TRZZZYV128F92E996D  [1:10, 2:6, 3:20, 5:2, 7:30, 8:1, 9:6, 10:3, 1...\n",
              "210535  TRZZZYX128F92D32C6  [1:4, 2:18, 4:3, 5:6, 6:9, 7:1, 8:5, 9:1, 10:1...\n",
              "\n",
              "[210519 rows x 2 columns]"
            ]
          },
          "metadata": {
            "tags": []
          },
          "execution_count": 46
        }
      ]
    },
    {
      "cell_type": "markdown",
      "metadata": {
        "id": "DZarD39xGurz"
      },
      "source": [
        "There are no duplicates inn the lyrics dataframe"
      ]
    },
    {
      "cell_type": "code",
      "metadata": {
        "colab": {
          "base_uri": "https://localhost:8080/"
        },
        "id": "SC5cU7FwJPOp",
        "outputId": "c7d967d1-0dc1-4d62-9cd6-b2fc0645523f"
      },
      "source": [
        "len(song_data_df)"
      ],
      "execution_count": 47,
      "outputs": [
        {
          "output_type": "execute_result",
          "data": {
            "text/plain": [
              "112154"
            ]
          },
          "metadata": {
            "tags": []
          },
          "execution_count": 47
        }
      ]
    },
    {
      "cell_type": "code",
      "metadata": {
        "colab": {
          "base_uri": "https://localhost:8080/"
        },
        "id": "LnE2V2LwSEF_",
        "outputId": "fe450c9f-9a61-4b45-9be2-67f85c042ac0"
      },
      "source": [
        "words_train"
      ],
      "execution_count": 48,
      "outputs": [
        {
          "output_type": "execute_result",
          "data": {
            "text/plain": [
              "Raw_Training    %i,the,you,to,and,a,me,it,not,in,my,is,of,your...\n",
              "Name: 16, dtype: object"
            ]
          },
          "metadata": {
            "tags": []
          },
          "execution_count": 48
        }
      ]
    },
    {
      "cell_type": "code",
      "metadata": {
        "colab": {
          "base_uri": "https://localhost:8080/"
        },
        "id": "ZCe0tUdEGURr",
        "outputId": "3eded273-83f7-48ab-bdd4-9e13d96d67fa"
      },
      "source": [
        "len(lyrics['Tid'].unique())"
      ],
      "execution_count": 49,
      "outputs": [
        {
          "output_type": "execute_result",
          "data": {
            "text/plain": [
              "210519"
            ]
          },
          "metadata": {
            "tags": []
          },
          "execution_count": 49
        }
      ]
    },
    {
      "cell_type": "code",
      "metadata": {
        "id": "JrPbmr7bG6TC"
      },
      "source": [
        "song_data_bow_df =pd.merge(song_data_df,lyrics,left_on='track_id', right_on='Tid',how='inner')"
      ],
      "execution_count": 50,
      "outputs": []
    },
    {
      "cell_type": "code",
      "metadata": {
        "colab": {
          "base_uri": "https://localhost:8080/",
          "height": 996
        },
        "id": "ZylU1e1mJFWN",
        "outputId": "a3dc0bee-b17b-481e-8847-885970ae3b5c"
      },
      "source": [
        "song_data_bow_df"
      ],
      "execution_count": 51,
      "outputs": [
        {
          "output_type": "execute_result",
          "data": {
            "text/html": [
              "<div>\n",
              "<style scoped>\n",
              "    .dataframe tbody tr th:only-of-type {\n",
              "        vertical-align: middle;\n",
              "    }\n",
              "\n",
              "    .dataframe tbody tr th {\n",
              "        vertical-align: top;\n",
              "    }\n",
              "\n",
              "    .dataframe thead th {\n",
              "        text-align: right;\n",
              "    }\n",
              "</style>\n",
              "<table border=\"1\" class=\"dataframe\">\n",
              "  <thead>\n",
              "    <tr style=\"text-align: right;\">\n",
              "      <th></th>\n",
              "      <th>song_id</th>\n",
              "      <th>title</th>\n",
              "      <th>release</th>\n",
              "      <th>artist_name</th>\n",
              "      <th>year</th>\n",
              "      <th>track_id</th>\n",
              "      <th>artist_id</th>\n",
              "      <th>duration</th>\n",
              "      <th>artist_familiarity</th>\n",
              "      <th>artist_hotttnesss</th>\n",
              "      <th>lat</th>\n",
              "      <th>long</th>\n",
              "      <th>location</th>\n",
              "      <th>genre</th>\n",
              "      <th>Tid</th>\n",
              "      <th>words_freq</th>\n",
              "    </tr>\n",
              "  </thead>\n",
              "  <tbody>\n",
              "    <tr>\n",
              "      <th>0</th>\n",
              "      <td>SOBARPM12A8C133DFF</td>\n",
              "      <td>(Looking For) The Heart Of Saturday</td>\n",
              "      <td>Cover Girl</td>\n",
              "      <td>Shawn Colvin</td>\n",
              "      <td>1994</td>\n",
              "      <td>TRMMMUT128F42646E8</td>\n",
              "      <td>ARDW5AW1187FB55708</td>\n",
              "      <td>216.48</td>\n",
              "      <td>0.69</td>\n",
              "      <td>0.45</td>\n",
              "      <td>42.79</td>\n",
              "      <td>-96.93</td>\n",
              "      <td>Vermillion, SD</td>\n",
              "      <td>Pop_Rock</td>\n",
              "      <td>TRMMMUT128F42646E8</td>\n",
              "      <td>[2:36, 3:25, 4:2, 5:8, 6:2, 7:1, 8:6, 10:8, 12...</td>\n",
              "    </tr>\n",
              "    <tr>\n",
              "      <th>1</th>\n",
              "      <td>SOOLRHW12A8C142643</td>\n",
              "      <td>All of the same blood</td>\n",
              "      <td>Violent revolution</td>\n",
              "      <td>Kreator</td>\n",
              "      <td>2001</td>\n",
              "      <td>TRMMMKQ128F92EBCB5</td>\n",
              "      <td>AR79L0D1187FB3AFB6</td>\n",
              "      <td>372.43</td>\n",
              "      <td>0.74</td>\n",
              "      <td>0.47</td>\n",
              "      <td>51.45</td>\n",
              "      <td>7.01</td>\n",
              "      <td>Essen</td>\n",
              "      <td>Pop_Rock</td>\n",
              "      <td>TRMMMKQ128F92EBCB5</td>\n",
              "      <td>[2:12, 3:2, 4:3, 5:4, 10:2, 12:1, 13:9, 15:2, ...</td>\n",
              "    </tr>\n",
              "    <tr>\n",
              "      <th>2</th>\n",
              "      <td>SOVOIOQ12AC4688FAC</td>\n",
              "      <td>The Rest of the Night</td>\n",
              "      <td>The Wind</td>\n",
              "      <td>Warren Zevon</td>\n",
              "      <td>2003</td>\n",
              "      <td>TRMMWNY12903CF28D2</td>\n",
              "      <td>ARUQFUJ1187FB42AEC</td>\n",
              "      <td>279.30</td>\n",
              "      <td>0.69</td>\n",
              "      <td>0.47</td>\n",
              "      <td>41.88</td>\n",
              "      <td>-87.63</td>\n",
              "      <td>Chicago, IL</td>\n",
              "      <td>Pop_Rock</td>\n",
              "      <td>TRMMWNY12903CF28D2</td>\n",
              "      <td>[1:1, 2:31, 3:2, 4:1, 5:2, 6:1, 7:4, 8:2, 10:1...</td>\n",
              "    </tr>\n",
              "    <tr>\n",
              "      <th>3</th>\n",
              "      <td>SOGXPYA12A58A769A7</td>\n",
              "      <td>Rock Can't Last Forever  (You Hate Me Hate Mus...</td>\n",
              "      <td>You Make Me Hate Music</td>\n",
              "      <td>Fine China</td>\n",
              "      <td>2002</td>\n",
              "      <td>TRMMGDQ128F4277AE7</td>\n",
              "      <td>AR6KJQA1187FB3EF30</td>\n",
              "      <td>295.94</td>\n",
              "      <td>0.49</td>\n",
              "      <td>0.36</td>\n",
              "      <td>33.45</td>\n",
              "      <td>-112.08</td>\n",
              "      <td>Phoenix, Arizona</td>\n",
              "      <td>Pop_Rock</td>\n",
              "      <td>TRMMGDQ128F4277AE7</td>\n",
              "      <td>[1:5, 2:1, 3:4, 4:5, 5:6, 6:3, 7:2, 8:3, 9:3, ...</td>\n",
              "    </tr>\n",
              "    <tr>\n",
              "      <th>4</th>\n",
              "      <td>SOWSOVJ12A8C13A8C1</td>\n",
              "      <td>Zuviel Hitze</td>\n",
              "      <td>Einzelhaft</td>\n",
              "      <td>Falco</td>\n",
              "      <td>1982</td>\n",
              "      <td>TRMMHVN128F428E67E</td>\n",
              "      <td>AR5DXUU1187B9B0E42</td>\n",
              "      <td>274.02</td>\n",
              "      <td>0.67</td>\n",
              "      <td>0.46</td>\n",
              "      <td>48.20</td>\n",
              "      <td>16.37</td>\n",
              "      <td>Vienna, Austria</td>\n",
              "      <td>Pop_Rock</td>\n",
              "      <td>TRMMHVN128F428E67E</td>\n",
              "      <td>[3:1, 10:5, 14:1, 20:1, 28:2, 32:1, 33:1, 73:1...</td>\n",
              "    </tr>\n",
              "    <tr>\n",
              "      <th>...</th>\n",
              "      <td>...</td>\n",
              "      <td>...</td>\n",
              "      <td>...</td>\n",
              "      <td>...</td>\n",
              "      <td>...</td>\n",
              "      <td>...</td>\n",
              "      <td>...</td>\n",
              "      <td>...</td>\n",
              "      <td>...</td>\n",
              "      <td>...</td>\n",
              "      <td>...</td>\n",
              "      <td>...</td>\n",
              "      <td>...</td>\n",
              "      <td>...</td>\n",
              "      <td>...</td>\n",
              "      <td>...</td>\n",
              "    </tr>\n",
              "    <tr>\n",
              "      <th>40623</th>\n",
              "      <td>SOKDSNF12A8C139164</td>\n",
              "      <td>Carry Me High</td>\n",
              "      <td>God</td>\n",
              "      <td>Rebecca St. James</td>\n",
              "      <td>1996</td>\n",
              "      <td>TRYYOXP128F428F303</td>\n",
              "      <td>ARD0ROE1187FB46A17</td>\n",
              "      <td>279.95</td>\n",
              "      <td>0.70</td>\n",
              "      <td>0.51</td>\n",
              "      <td>-33.87</td>\n",
              "      <td>151.21</td>\n",
              "      <td>Sydney, New South Wales, Australi</td>\n",
              "      <td>Religious</td>\n",
              "      <td>TRYYOXP128F428F303</td>\n",
              "      <td>[1:8, 2:9, 3:14, 4:9, 7:29, 9:2, 10:1, 14:4, 1...</td>\n",
              "    </tr>\n",
              "    <tr>\n",
              "      <th>40624</th>\n",
              "      <td>SOKQRMK12A8C134E85</td>\n",
              "      <td>Ich denk an...</td>\n",
              "      <td>Es wird Morgen</td>\n",
              "      <td>2raumwohnung</td>\n",
              "      <td>2004</td>\n",
              "      <td>TRYYOOB128F424FF58</td>\n",
              "      <td>ARNJVSL1187B99AFD4</td>\n",
              "      <td>221.18</td>\n",
              "      <td>0.66</td>\n",
              "      <td>0.40</td>\n",
              "      <td>52.52</td>\n",
              "      <td>13.38</td>\n",
              "      <td>Berlin, Germany</td>\n",
              "      <td>Electronic</td>\n",
              "      <td>TRYYOOB128F424FF58</td>\n",
              "      <td>[10:5, 22:3, 28:1, 54:1, 97:3, 122:8, 123:2, 1...</td>\n",
              "    </tr>\n",
              "    <tr>\n",
              "      <th>40625</th>\n",
              "      <td>SOOXIGM12AB018B4A7</td>\n",
              "      <td>I Will Always Go On Missing You</td>\n",
              "      <td>Heart To Believe</td>\n",
              "      <td>Itchy Poopzkid</td>\n",
              "      <td>2007</td>\n",
              "      <td>TRYYXJO128F933B2E4</td>\n",
              "      <td>AR8YUTR1187B9B82E1</td>\n",
              "      <td>189.81</td>\n",
              "      <td>0.58</td>\n",
              "      <td>0.49</td>\n",
              "      <td>52.88</td>\n",
              "      <td>-1.97</td>\n",
              "      <td>Inglaterra</td>\n",
              "      <td>Pop_Rock</td>\n",
              "      <td>TRYYXJO128F933B2E4</td>\n",
              "      <td>[1:30, 2:6, 3:14, 4:1, 5:11, 7:5, 8:5, 9:10, 1...</td>\n",
              "    </tr>\n",
              "    <tr>\n",
              "      <th>40626</th>\n",
              "      <td>SOZZIBA12AB0184030</td>\n",
              "      <td>Iris Art</td>\n",
              "      <td>Lustra</td>\n",
              "      <td>Echobelly</td>\n",
              "      <td>1997</td>\n",
              "      <td>TRYYXBT128F932E725</td>\n",
              "      <td>AROB7AO1187B9B4F00</td>\n",
              "      <td>224.84</td>\n",
              "      <td>0.53</td>\n",
              "      <td>0.40</td>\n",
              "      <td>51.51</td>\n",
              "      <td>-0.13</td>\n",
              "      <td>London, England</td>\n",
              "      <td>Pop_Rock</td>\n",
              "      <td>TRYYXBT128F932E725</td>\n",
              "      <td>[1:3, 2:1, 3:8, 4:1, 5:1, 6:13, 7:13, 8:1, 9:2...</td>\n",
              "    </tr>\n",
              "    <tr>\n",
              "      <th>40627</th>\n",
              "      <td>SOFGQKB12AB017D895</td>\n",
              "      <td>Feeding The Demons</td>\n",
              "      <td>Serpent Smiles And Killer Eyes</td>\n",
              "      <td>Hatesphere</td>\n",
              "      <td>2007</td>\n",
              "      <td>TRYYYAF128F930C01F</td>\n",
              "      <td>ARLPWXD1187FB4CB6A</td>\n",
              "      <td>266.63</td>\n",
              "      <td>0.65</td>\n",
              "      <td>0.41</td>\n",
              "      <td>55.68</td>\n",
              "      <td>12.57</td>\n",
              "      <td>Copenhagen/Aarhus - Denmark</td>\n",
              "      <td>Pop_Rock</td>\n",
              "      <td>TRYYYAF128F930C01F</td>\n",
              "      <td>[1:5, 2:2, 4:2, 6:1, 7:7, 8:5, 11:7, 13:1, 15:...</td>\n",
              "    </tr>\n",
              "  </tbody>\n",
              "</table>\n",
              "<p>40628 rows × 16 columns</p>\n",
              "</div>"
            ],
            "text/plain": [
              "                  song_id  ...                                         words_freq\n",
              "0      SOBARPM12A8C133DFF  ...  [2:36, 3:25, 4:2, 5:8, 6:2, 7:1, 8:6, 10:8, 12...\n",
              "1      SOOLRHW12A8C142643  ...  [2:12, 3:2, 4:3, 5:4, 10:2, 12:1, 13:9, 15:2, ...\n",
              "2      SOVOIOQ12AC4688FAC  ...  [1:1, 2:31, 3:2, 4:1, 5:2, 6:1, 7:4, 8:2, 10:1...\n",
              "3      SOGXPYA12A58A769A7  ...  [1:5, 2:1, 3:4, 4:5, 5:6, 6:3, 7:2, 8:3, 9:3, ...\n",
              "4      SOWSOVJ12A8C13A8C1  ...  [3:1, 10:5, 14:1, 20:1, 28:2, 32:1, 33:1, 73:1...\n",
              "...                   ...  ...                                                ...\n",
              "40623  SOKDSNF12A8C139164  ...  [1:8, 2:9, 3:14, 4:9, 7:29, 9:2, 10:1, 14:4, 1...\n",
              "40624  SOKQRMK12A8C134E85  ...  [10:5, 22:3, 28:1, 54:1, 97:3, 122:8, 123:2, 1...\n",
              "40625  SOOXIGM12AB018B4A7  ...  [1:30, 2:6, 3:14, 4:1, 5:11, 7:5, 8:5, 9:10, 1...\n",
              "40626  SOZZIBA12AB0184030  ...  [1:3, 2:1, 3:8, 4:1, 5:1, 6:13, 7:13, 8:1, 9:2...\n",
              "40627  SOFGQKB12AB017D895  ...  [1:5, 2:2, 4:2, 6:1, 7:7, 8:5, 11:7, 13:1, 15:...\n",
              "\n",
              "[40628 rows x 16 columns]"
            ]
          },
          "metadata": {
            "tags": []
          },
          "execution_count": 51
        }
      ]
    },
    {
      "cell_type": "code",
      "metadata": {
        "colab": {
          "base_uri": "https://localhost:8080/",
          "height": 536
        },
        "id": "eIaUh3mrJn9w",
        "outputId": "7fe1ff10-2e74-4c93-d5be-2f99598ee09a"
      },
      "source": [
        "#Displaying the results\n",
        "print(song_data_bow_df.shape)\n",
        "display(song_data_bow_df.head())"
      ],
      "execution_count": 52,
      "outputs": [
        {
          "output_type": "stream",
          "text": [
            "(40628, 16)\n"
          ],
          "name": "stdout"
        },
        {
          "output_type": "display_data",
          "data": {
            "text/html": [
              "<div>\n",
              "<style scoped>\n",
              "    .dataframe tbody tr th:only-of-type {\n",
              "        vertical-align: middle;\n",
              "    }\n",
              "\n",
              "    .dataframe tbody tr th {\n",
              "        vertical-align: top;\n",
              "    }\n",
              "\n",
              "    .dataframe thead th {\n",
              "        text-align: right;\n",
              "    }\n",
              "</style>\n",
              "<table border=\"1\" class=\"dataframe\">\n",
              "  <thead>\n",
              "    <tr style=\"text-align: right;\">\n",
              "      <th></th>\n",
              "      <th>song_id</th>\n",
              "      <th>title</th>\n",
              "      <th>release</th>\n",
              "      <th>artist_name</th>\n",
              "      <th>year</th>\n",
              "      <th>track_id</th>\n",
              "      <th>artist_id</th>\n",
              "      <th>duration</th>\n",
              "      <th>artist_familiarity</th>\n",
              "      <th>artist_hotttnesss</th>\n",
              "      <th>lat</th>\n",
              "      <th>long</th>\n",
              "      <th>location</th>\n",
              "      <th>genre</th>\n",
              "      <th>Tid</th>\n",
              "      <th>words_freq</th>\n",
              "    </tr>\n",
              "  </thead>\n",
              "  <tbody>\n",
              "    <tr>\n",
              "      <th>0</th>\n",
              "      <td>SOBARPM12A8C133DFF</td>\n",
              "      <td>(Looking For) The Heart Of Saturday</td>\n",
              "      <td>Cover Girl</td>\n",
              "      <td>Shawn Colvin</td>\n",
              "      <td>1994</td>\n",
              "      <td>TRMMMUT128F42646E8</td>\n",
              "      <td>ARDW5AW1187FB55708</td>\n",
              "      <td>216.48</td>\n",
              "      <td>0.69</td>\n",
              "      <td>0.45</td>\n",
              "      <td>42.79</td>\n",
              "      <td>-96.93</td>\n",
              "      <td>Vermillion, SD</td>\n",
              "      <td>Pop_Rock</td>\n",
              "      <td>TRMMMUT128F42646E8</td>\n",
              "      <td>[2:36, 3:25, 4:2, 5:8, 6:2, 7:1, 8:6, 10:8, 12...</td>\n",
              "    </tr>\n",
              "    <tr>\n",
              "      <th>1</th>\n",
              "      <td>SOOLRHW12A8C142643</td>\n",
              "      <td>All of the same blood</td>\n",
              "      <td>Violent revolution</td>\n",
              "      <td>Kreator</td>\n",
              "      <td>2001</td>\n",
              "      <td>TRMMMKQ128F92EBCB5</td>\n",
              "      <td>AR79L0D1187FB3AFB6</td>\n",
              "      <td>372.43</td>\n",
              "      <td>0.74</td>\n",
              "      <td>0.47</td>\n",
              "      <td>51.45</td>\n",
              "      <td>7.01</td>\n",
              "      <td>Essen</td>\n",
              "      <td>Pop_Rock</td>\n",
              "      <td>TRMMMKQ128F92EBCB5</td>\n",
              "      <td>[2:12, 3:2, 4:3, 5:4, 10:2, 12:1, 13:9, 15:2, ...</td>\n",
              "    </tr>\n",
              "    <tr>\n",
              "      <th>2</th>\n",
              "      <td>SOVOIOQ12AC4688FAC</td>\n",
              "      <td>The Rest of the Night</td>\n",
              "      <td>The Wind</td>\n",
              "      <td>Warren Zevon</td>\n",
              "      <td>2003</td>\n",
              "      <td>TRMMWNY12903CF28D2</td>\n",
              "      <td>ARUQFUJ1187FB42AEC</td>\n",
              "      <td>279.30</td>\n",
              "      <td>0.69</td>\n",
              "      <td>0.47</td>\n",
              "      <td>41.88</td>\n",
              "      <td>-87.63</td>\n",
              "      <td>Chicago, IL</td>\n",
              "      <td>Pop_Rock</td>\n",
              "      <td>TRMMWNY12903CF28D2</td>\n",
              "      <td>[1:1, 2:31, 3:2, 4:1, 5:2, 6:1, 7:4, 8:2, 10:1...</td>\n",
              "    </tr>\n",
              "    <tr>\n",
              "      <th>3</th>\n",
              "      <td>SOGXPYA12A58A769A7</td>\n",
              "      <td>Rock Can't Last Forever  (You Hate Me Hate Mus...</td>\n",
              "      <td>You Make Me Hate Music</td>\n",
              "      <td>Fine China</td>\n",
              "      <td>2002</td>\n",
              "      <td>TRMMGDQ128F4277AE7</td>\n",
              "      <td>AR6KJQA1187FB3EF30</td>\n",
              "      <td>295.94</td>\n",
              "      <td>0.49</td>\n",
              "      <td>0.36</td>\n",
              "      <td>33.45</td>\n",
              "      <td>-112.08</td>\n",
              "      <td>Phoenix, Arizona</td>\n",
              "      <td>Pop_Rock</td>\n",
              "      <td>TRMMGDQ128F4277AE7</td>\n",
              "      <td>[1:5, 2:1, 3:4, 4:5, 5:6, 6:3, 7:2, 8:3, 9:3, ...</td>\n",
              "    </tr>\n",
              "    <tr>\n",
              "      <th>4</th>\n",
              "      <td>SOWSOVJ12A8C13A8C1</td>\n",
              "      <td>Zuviel Hitze</td>\n",
              "      <td>Einzelhaft</td>\n",
              "      <td>Falco</td>\n",
              "      <td>1982</td>\n",
              "      <td>TRMMHVN128F428E67E</td>\n",
              "      <td>AR5DXUU1187B9B0E42</td>\n",
              "      <td>274.02</td>\n",
              "      <td>0.67</td>\n",
              "      <td>0.46</td>\n",
              "      <td>48.20</td>\n",
              "      <td>16.37</td>\n",
              "      <td>Vienna, Austria</td>\n",
              "      <td>Pop_Rock</td>\n",
              "      <td>TRMMHVN128F428E67E</td>\n",
              "      <td>[3:1, 10:5, 14:1, 20:1, 28:2, 32:1, 33:1, 73:1...</td>\n",
              "    </tr>\n",
              "  </tbody>\n",
              "</table>\n",
              "</div>"
            ],
            "text/plain": [
              "              song_id  ...                                         words_freq\n",
              "0  SOBARPM12A8C133DFF  ...  [2:36, 3:25, 4:2, 5:8, 6:2, 7:1, 8:6, 10:8, 12...\n",
              "1  SOOLRHW12A8C142643  ...  [2:12, 3:2, 4:3, 5:4, 10:2, 12:1, 13:9, 15:2, ...\n",
              "2  SOVOIOQ12AC4688FAC  ...  [1:1, 2:31, 3:2, 4:1, 5:2, 6:1, 7:4, 8:2, 10:1...\n",
              "3  SOGXPYA12A58A769A7  ...  [1:5, 2:1, 3:4, 4:5, 5:6, 6:3, 7:2, 8:3, 9:3, ...\n",
              "4  SOWSOVJ12A8C13A8C1  ...  [3:1, 10:5, 14:1, 20:1, 28:2, 32:1, 33:1, 73:1...\n",
              "\n",
              "[5 rows x 16 columns]"
            ]
          },
          "metadata": {
            "tags": []
          }
        }
      ]
    },
    {
      "cell_type": "markdown",
      "metadata": {
        "id": "1ka0hNXWKWYl"
      },
      "source": [
        "\n",
        "**From generic bags of words to lyrics**"
      ]
    },
    {
      "cell_type": "code",
      "metadata": {
        "colab": {
          "base_uri": "https://localhost:8080/",
          "height": 50
        },
        "id": "vPu0ewisJuDB",
        "outputId": "8734a2e9-1ded-4657-d6cb-bf6e2acd17d7"
      },
      "source": [
        "#get the word data\n",
        "bag_of_words = words_train\n",
        "# clean the data and split it to create a list of 5000 words\n",
        "bag_of_words = bag_of_words.str.replace('%','')\n",
        "bag_of_words = bag_of_words.str.split(',')\n",
        "\n",
        "display(bag_of_words.head())\n"
      ],
      "execution_count": 53,
      "outputs": [
        {
          "output_type": "display_data",
          "data": {
            "text/plain": [
              "Raw_Training    [i, the, you, to, and, a, me, it, not, in, my,...\n",
              "Name: 16, dtype: object"
            ]
          },
          "metadata": {
            "tags": []
          }
        }
      ]
    },
    {
      "cell_type": "code",
      "metadata": {
        "id": "P_AYRdhwKh5t"
      },
      "source": [
        "#Defining a function\n",
        "def create_text(words_freq):\n",
        "    #create the final list of all words\n",
        "    list_words=''\n",
        "    #iterate over every id of words\n",
        "    for compteur in words_freq:\n",
        "        \n",
        "        word = bag_of_words[0][int(compteur.split(':')[0])-1]\n",
        "        times = int(compteur.split(':')[1])\n",
        "        \n",
        "        #Separating every word with a space to be able to work on it with librairies during part 2\n",
        "        for i in range(times):\n",
        "            list_words += ' ' + word + ' '\n",
        "    return list_words"
      ],
      "execution_count": 54,
      "outputs": []
    },
    {
      "cell_type": "code",
      "metadata": {
        "colab": {
          "base_uri": "https://localhost:8080/"
        },
        "id": "VVAHpYgRKodP",
        "outputId": "f4c7a63c-7f32-4c7b-b927-7f79ce91a95e"
      },
      "source": [
        "#Testing the function\n",
        "print(create_text(lyrics.iloc[0]['words_freq']))"
      ],
      "execution_count": 55,
      "outputs": [
        {
          "output_type": "stream",
          "text": [
            " i  i  i  i  i  i  the  the  the  the  you  you  to  to  and  and  and  and  and  a  a  a  me  it  my  is  is  of  of  of  your  that  are  are  we  we  am  am  will  will  for  for  for  for  be  have  have  so  this  like  like  de  up  was  was  if  got  would  been  these  these  seem  someon  understand  pass  river  met  piec  damn  worth  flesh  grace  poor  poor  somehow  ignor  passion  tide  season  seed  resist  order  order  piti  fashion  grant  captur  captur  ici  soil  patienc  social  social  highest  highest  slice  leaf  lifeless  arrang  wilder  shark  devast  element \n"
          ],
          "name": "stdout"
        }
      ]
    },
    {
      "cell_type": "code",
      "metadata": {
        "id": "7Q0w5tOGSEYE"
      },
      "source": [
        "song_data_bow_df['text'] = song_data_bow_df['words_freq'].apply(create_text)"
      ],
      "execution_count": 56,
      "outputs": []
    },
    {
      "cell_type": "code",
      "metadata": {
        "id": "jOC-ycPANN3a",
        "colab": {
          "base_uri": "https://localhost:8080/",
          "height": 1000
        },
        "outputId": "1a7c4986-4b10-4e4a-d0fe-bf8819bb42ed"
      },
      "source": [
        "song_data_bow_df"
      ],
      "execution_count": 57,
      "outputs": [
        {
          "output_type": "execute_result",
          "data": {
            "text/html": [
              "<div>\n",
              "<style scoped>\n",
              "    .dataframe tbody tr th:only-of-type {\n",
              "        vertical-align: middle;\n",
              "    }\n",
              "\n",
              "    .dataframe tbody tr th {\n",
              "        vertical-align: top;\n",
              "    }\n",
              "\n",
              "    .dataframe thead th {\n",
              "        text-align: right;\n",
              "    }\n",
              "</style>\n",
              "<table border=\"1\" class=\"dataframe\">\n",
              "  <thead>\n",
              "    <tr style=\"text-align: right;\">\n",
              "      <th></th>\n",
              "      <th>song_id</th>\n",
              "      <th>title</th>\n",
              "      <th>release</th>\n",
              "      <th>artist_name</th>\n",
              "      <th>year</th>\n",
              "      <th>track_id</th>\n",
              "      <th>artist_id</th>\n",
              "      <th>duration</th>\n",
              "      <th>artist_familiarity</th>\n",
              "      <th>artist_hotttnesss</th>\n",
              "      <th>lat</th>\n",
              "      <th>long</th>\n",
              "      <th>location</th>\n",
              "      <th>genre</th>\n",
              "      <th>Tid</th>\n",
              "      <th>words_freq</th>\n",
              "      <th>text</th>\n",
              "    </tr>\n",
              "  </thead>\n",
              "  <tbody>\n",
              "    <tr>\n",
              "      <th>0</th>\n",
              "      <td>SOBARPM12A8C133DFF</td>\n",
              "      <td>(Looking For) The Heart Of Saturday</td>\n",
              "      <td>Cover Girl</td>\n",
              "      <td>Shawn Colvin</td>\n",
              "      <td>1994</td>\n",
              "      <td>TRMMMUT128F42646E8</td>\n",
              "      <td>ARDW5AW1187FB55708</td>\n",
              "      <td>216.48</td>\n",
              "      <td>0.69</td>\n",
              "      <td>0.45</td>\n",
              "      <td>42.79</td>\n",
              "      <td>-96.93</td>\n",
              "      <td>Vermillion, SD</td>\n",
              "      <td>Pop_Rock</td>\n",
              "      <td>TRMMMUT128F42646E8</td>\n",
              "      <td>[2:36, 3:25, 4:2, 5:8, 6:2, 7:1, 8:6, 10:8, 12...</td>\n",
              "      <td>the  the  the  the  the  the  the  the  the  ...</td>\n",
              "    </tr>\n",
              "    <tr>\n",
              "      <th>1</th>\n",
              "      <td>SOOLRHW12A8C142643</td>\n",
              "      <td>All of the same blood</td>\n",
              "      <td>Violent revolution</td>\n",
              "      <td>Kreator</td>\n",
              "      <td>2001</td>\n",
              "      <td>TRMMMKQ128F92EBCB5</td>\n",
              "      <td>AR79L0D1187FB3AFB6</td>\n",
              "      <td>372.43</td>\n",
              "      <td>0.74</td>\n",
              "      <td>0.47</td>\n",
              "      <td>51.45</td>\n",
              "      <td>7.01</td>\n",
              "      <td>Essen</td>\n",
              "      <td>Pop_Rock</td>\n",
              "      <td>TRMMMKQ128F92EBCB5</td>\n",
              "      <td>[2:12, 3:2, 4:3, 5:4, 10:2, 12:1, 13:9, 15:2, ...</td>\n",
              "      <td>the  the  the  the  the  the  the  the  the  ...</td>\n",
              "    </tr>\n",
              "    <tr>\n",
              "      <th>2</th>\n",
              "      <td>SOVOIOQ12AC4688FAC</td>\n",
              "      <td>The Rest of the Night</td>\n",
              "      <td>The Wind</td>\n",
              "      <td>Warren Zevon</td>\n",
              "      <td>2003</td>\n",
              "      <td>TRMMWNY12903CF28D2</td>\n",
              "      <td>ARUQFUJ1187FB42AEC</td>\n",
              "      <td>279.30</td>\n",
              "      <td>0.69</td>\n",
              "      <td>0.47</td>\n",
              "      <td>41.88</td>\n",
              "      <td>-87.63</td>\n",
              "      <td>Chicago, IL</td>\n",
              "      <td>Pop_Rock</td>\n",
              "      <td>TRMMWNY12903CF28D2</td>\n",
              "      <td>[1:1, 2:31, 3:2, 4:1, 5:2, 6:1, 7:4, 8:2, 10:1...</td>\n",
              "      <td>i  the  the  the  the  the  the  the  the  th...</td>\n",
              "    </tr>\n",
              "    <tr>\n",
              "      <th>3</th>\n",
              "      <td>SOGXPYA12A58A769A7</td>\n",
              "      <td>Rock Can't Last Forever  (You Hate Me Hate Mus...</td>\n",
              "      <td>You Make Me Hate Music</td>\n",
              "      <td>Fine China</td>\n",
              "      <td>2002</td>\n",
              "      <td>TRMMGDQ128F4277AE7</td>\n",
              "      <td>AR6KJQA1187FB3EF30</td>\n",
              "      <td>295.94</td>\n",
              "      <td>0.49</td>\n",
              "      <td>0.36</td>\n",
              "      <td>33.45</td>\n",
              "      <td>-112.08</td>\n",
              "      <td>Phoenix, Arizona</td>\n",
              "      <td>Pop_Rock</td>\n",
              "      <td>TRMMGDQ128F4277AE7</td>\n",
              "      <td>[1:5, 2:1, 3:4, 4:5, 5:6, 6:3, 7:2, 8:3, 9:3, ...</td>\n",
              "      <td>i  i  i  i  i  the  you  you  you  you  to  t...</td>\n",
              "    </tr>\n",
              "    <tr>\n",
              "      <th>4</th>\n",
              "      <td>SOWSOVJ12A8C13A8C1</td>\n",
              "      <td>Zuviel Hitze</td>\n",
              "      <td>Einzelhaft</td>\n",
              "      <td>Falco</td>\n",
              "      <td>1982</td>\n",
              "      <td>TRMMHVN128F428E67E</td>\n",
              "      <td>AR5DXUU1187B9B0E42</td>\n",
              "      <td>274.02</td>\n",
              "      <td>0.67</td>\n",
              "      <td>0.46</td>\n",
              "      <td>48.20</td>\n",
              "      <td>16.37</td>\n",
              "      <td>Vienna, Austria</td>\n",
              "      <td>Pop_Rock</td>\n",
              "      <td>TRMMHVN128F428E67E</td>\n",
              "      <td>[3:1, 10:5, 14:1, 20:1, 28:2, 32:1, 33:1, 73:1...</td>\n",
              "      <td>you  in  in  in  in  in  your  am  so  so  wi...</td>\n",
              "    </tr>\n",
              "    <tr>\n",
              "      <th>...</th>\n",
              "      <td>...</td>\n",
              "      <td>...</td>\n",
              "      <td>...</td>\n",
              "      <td>...</td>\n",
              "      <td>...</td>\n",
              "      <td>...</td>\n",
              "      <td>...</td>\n",
              "      <td>...</td>\n",
              "      <td>...</td>\n",
              "      <td>...</td>\n",
              "      <td>...</td>\n",
              "      <td>...</td>\n",
              "      <td>...</td>\n",
              "      <td>...</td>\n",
              "      <td>...</td>\n",
              "      <td>...</td>\n",
              "      <td>...</td>\n",
              "    </tr>\n",
              "    <tr>\n",
              "      <th>40623</th>\n",
              "      <td>SOKDSNF12A8C139164</td>\n",
              "      <td>Carry Me High</td>\n",
              "      <td>God</td>\n",
              "      <td>Rebecca St. James</td>\n",
              "      <td>1996</td>\n",
              "      <td>TRYYOXP128F428F303</td>\n",
              "      <td>ARD0ROE1187FB46A17</td>\n",
              "      <td>279.95</td>\n",
              "      <td>0.70</td>\n",
              "      <td>0.51</td>\n",
              "      <td>-33.87</td>\n",
              "      <td>151.21</td>\n",
              "      <td>Sydney, New South Wales, Australi</td>\n",
              "      <td>Religious</td>\n",
              "      <td>TRYYOXP128F428F303</td>\n",
              "      <td>[1:8, 2:9, 3:14, 4:9, 7:29, 9:2, 10:1, 14:4, 1...</td>\n",
              "      <td>i  i  i  i  i  i  i  i  the  the  the  the  t...</td>\n",
              "    </tr>\n",
              "    <tr>\n",
              "      <th>40624</th>\n",
              "      <td>SOKQRMK12A8C134E85</td>\n",
              "      <td>Ich denk an...</td>\n",
              "      <td>Es wird Morgen</td>\n",
              "      <td>2raumwohnung</td>\n",
              "      <td>2004</td>\n",
              "      <td>TRYYOOB128F424FF58</td>\n",
              "      <td>ARNJVSL1187B99AFD4</td>\n",
              "      <td>221.18</td>\n",
              "      <td>0.66</td>\n",
              "      <td>0.40</td>\n",
              "      <td>52.52</td>\n",
              "      <td>13.38</td>\n",
              "      <td>Berlin, Germany</td>\n",
              "      <td>Electronic</td>\n",
              "      <td>TRYYOOB128F424FF58</td>\n",
              "      <td>[10:5, 22:3, 28:1, 54:1, 97:3, 122:8, 123:2, 1...</td>\n",
              "      <td>in  in  in  in  in  all  all  all  so  was  d...</td>\n",
              "    </tr>\n",
              "    <tr>\n",
              "      <th>40625</th>\n",
              "      <td>SOOXIGM12AB018B4A7</td>\n",
              "      <td>I Will Always Go On Missing You</td>\n",
              "      <td>Heart To Believe</td>\n",
              "      <td>Itchy Poopzkid</td>\n",
              "      <td>2007</td>\n",
              "      <td>TRYYXJO128F933B2E4</td>\n",
              "      <td>AR8YUTR1187B9B82E1</td>\n",
              "      <td>189.81</td>\n",
              "      <td>0.58</td>\n",
              "      <td>0.49</td>\n",
              "      <td>52.88</td>\n",
              "      <td>-1.97</td>\n",
              "      <td>Inglaterra</td>\n",
              "      <td>Pop_Rock</td>\n",
              "      <td>TRYYXJO128F933B2E4</td>\n",
              "      <td>[1:30, 2:6, 3:14, 4:1, 5:11, 7:5, 8:5, 9:10, 1...</td>\n",
              "      <td>i  i  i  i  i  i  i  i  i  i  i  i  i  i  i  ...</td>\n",
              "    </tr>\n",
              "    <tr>\n",
              "      <th>40626</th>\n",
              "      <td>SOZZIBA12AB0184030</td>\n",
              "      <td>Iris Art</td>\n",
              "      <td>Lustra</td>\n",
              "      <td>Echobelly</td>\n",
              "      <td>1997</td>\n",
              "      <td>TRYYXBT128F932E725</td>\n",
              "      <td>AROB7AO1187B9B4F00</td>\n",
              "      <td>224.84</td>\n",
              "      <td>0.53</td>\n",
              "      <td>0.40</td>\n",
              "      <td>51.51</td>\n",
              "      <td>-0.13</td>\n",
              "      <td>London, England</td>\n",
              "      <td>Pop_Rock</td>\n",
              "      <td>TRYYXBT128F932E725</td>\n",
              "      <td>[1:3, 2:1, 3:8, 4:1, 5:1, 6:13, 7:13, 8:1, 9:2...</td>\n",
              "      <td>i  i  i  the  you  you  you  you  you  you  y...</td>\n",
              "    </tr>\n",
              "    <tr>\n",
              "      <th>40627</th>\n",
              "      <td>SOFGQKB12AB017D895</td>\n",
              "      <td>Feeding The Demons</td>\n",
              "      <td>Serpent Smiles And Killer Eyes</td>\n",
              "      <td>Hatesphere</td>\n",
              "      <td>2007</td>\n",
              "      <td>TRYYYAF128F930C01F</td>\n",
              "      <td>ARLPWXD1187FB4CB6A</td>\n",
              "      <td>266.63</td>\n",
              "      <td>0.65</td>\n",
              "      <td>0.41</td>\n",
              "      <td>55.68</td>\n",
              "      <td>12.57</td>\n",
              "      <td>Copenhagen/Aarhus - Denmark</td>\n",
              "      <td>Pop_Rock</td>\n",
              "      <td>TRYYYAF128F930C01F</td>\n",
              "      <td>[1:5, 2:2, 4:2, 6:1, 7:7, 8:5, 11:7, 13:1, 15:...</td>\n",
              "      <td>i  i  i  i  i  the  the  to  to  a  me  me  m...</td>\n",
              "    </tr>\n",
              "  </tbody>\n",
              "</table>\n",
              "<p>40628 rows × 17 columns</p>\n",
              "</div>"
            ],
            "text/plain": [
              "                  song_id  ...                                               text\n",
              "0      SOBARPM12A8C133DFF  ...   the  the  the  the  the  the  the  the  the  ...\n",
              "1      SOOLRHW12A8C142643  ...   the  the  the  the  the  the  the  the  the  ...\n",
              "2      SOVOIOQ12AC4688FAC  ...   i  the  the  the  the  the  the  the  the  th...\n",
              "3      SOGXPYA12A58A769A7  ...   i  i  i  i  i  the  you  you  you  you  to  t...\n",
              "4      SOWSOVJ12A8C13A8C1  ...   you  in  in  in  in  in  your  am  so  so  wi...\n",
              "...                   ...  ...                                                ...\n",
              "40623  SOKDSNF12A8C139164  ...   i  i  i  i  i  i  i  i  the  the  the  the  t...\n",
              "40624  SOKQRMK12A8C134E85  ...   in  in  in  in  in  all  all  all  so  was  d...\n",
              "40625  SOOXIGM12AB018B4A7  ...   i  i  i  i  i  i  i  i  i  i  i  i  i  i  i  ...\n",
              "40626  SOZZIBA12AB0184030  ...   i  i  i  the  you  you  you  you  you  you  y...\n",
              "40627  SOFGQKB12AB017D895  ...   i  i  i  i  i  the  the  to  to  a  me  me  m...\n",
              "\n",
              "[40628 rows x 17 columns]"
            ]
          },
          "metadata": {
            "tags": []
          },
          "execution_count": 57
        }
      ]
    },
    {
      "cell_type": "code",
      "metadata": {
        "colab": {
          "base_uri": "https://localhost:8080/",
          "height": 780
        },
        "id": "DXZvljzDUnmF",
        "outputId": "35b6fbbc-f93f-41f8-dfcf-5dd36efabaa3"
      },
      "source": [
        "song_data_bow_df = song_data_bow_df.set_index('title')\n",
        "song_data_bow_df.head(4)"
      ],
      "execution_count": 58,
      "outputs": [
        {
          "output_type": "execute_result",
          "data": {
            "text/html": [
              "<div>\n",
              "<style scoped>\n",
              "    .dataframe tbody tr th:only-of-type {\n",
              "        vertical-align: middle;\n",
              "    }\n",
              "\n",
              "    .dataframe tbody tr th {\n",
              "        vertical-align: top;\n",
              "    }\n",
              "\n",
              "    .dataframe thead th {\n",
              "        text-align: right;\n",
              "    }\n",
              "</style>\n",
              "<table border=\"1\" class=\"dataframe\">\n",
              "  <thead>\n",
              "    <tr style=\"text-align: right;\">\n",
              "      <th></th>\n",
              "      <th>song_id</th>\n",
              "      <th>release</th>\n",
              "      <th>artist_name</th>\n",
              "      <th>year</th>\n",
              "      <th>track_id</th>\n",
              "      <th>artist_id</th>\n",
              "      <th>duration</th>\n",
              "      <th>artist_familiarity</th>\n",
              "      <th>artist_hotttnesss</th>\n",
              "      <th>lat</th>\n",
              "      <th>long</th>\n",
              "      <th>location</th>\n",
              "      <th>genre</th>\n",
              "      <th>Tid</th>\n",
              "      <th>words_freq</th>\n",
              "      <th>text</th>\n",
              "    </tr>\n",
              "    <tr>\n",
              "      <th>title</th>\n",
              "      <th></th>\n",
              "      <th></th>\n",
              "      <th></th>\n",
              "      <th></th>\n",
              "      <th></th>\n",
              "      <th></th>\n",
              "      <th></th>\n",
              "      <th></th>\n",
              "      <th></th>\n",
              "      <th></th>\n",
              "      <th></th>\n",
              "      <th></th>\n",
              "      <th></th>\n",
              "      <th></th>\n",
              "      <th></th>\n",
              "      <th></th>\n",
              "    </tr>\n",
              "  </thead>\n",
              "  <tbody>\n",
              "    <tr>\n",
              "      <th>(Looking For) The Heart Of Saturday</th>\n",
              "      <td>SOBARPM12A8C133DFF</td>\n",
              "      <td>Cover Girl</td>\n",
              "      <td>Shawn Colvin</td>\n",
              "      <td>1994</td>\n",
              "      <td>TRMMMUT128F42646E8</td>\n",
              "      <td>ARDW5AW1187FB55708</td>\n",
              "      <td>216.48</td>\n",
              "      <td>0.69</td>\n",
              "      <td>0.45</td>\n",
              "      <td>42.79</td>\n",
              "      <td>-96.93</td>\n",
              "      <td>Vermillion, SD</td>\n",
              "      <td>Pop_Rock</td>\n",
              "      <td>TRMMMUT128F42646E8</td>\n",
              "      <td>[2:36, 3:25, 4:2, 5:8, 6:2, 7:1, 8:6, 10:8, 12...</td>\n",
              "      <td>the  the  the  the  the  the  the  the  the  ...</td>\n",
              "    </tr>\n",
              "    <tr>\n",
              "      <th>All of the same blood</th>\n",
              "      <td>SOOLRHW12A8C142643</td>\n",
              "      <td>Violent revolution</td>\n",
              "      <td>Kreator</td>\n",
              "      <td>2001</td>\n",
              "      <td>TRMMMKQ128F92EBCB5</td>\n",
              "      <td>AR79L0D1187FB3AFB6</td>\n",
              "      <td>372.43</td>\n",
              "      <td>0.74</td>\n",
              "      <td>0.47</td>\n",
              "      <td>51.45</td>\n",
              "      <td>7.01</td>\n",
              "      <td>Essen</td>\n",
              "      <td>Pop_Rock</td>\n",
              "      <td>TRMMMKQ128F92EBCB5</td>\n",
              "      <td>[2:12, 3:2, 4:3, 5:4, 10:2, 12:1, 13:9, 15:2, ...</td>\n",
              "      <td>the  the  the  the  the  the  the  the  the  ...</td>\n",
              "    </tr>\n",
              "    <tr>\n",
              "      <th>The Rest of the Night</th>\n",
              "      <td>SOVOIOQ12AC4688FAC</td>\n",
              "      <td>The Wind</td>\n",
              "      <td>Warren Zevon</td>\n",
              "      <td>2003</td>\n",
              "      <td>TRMMWNY12903CF28D2</td>\n",
              "      <td>ARUQFUJ1187FB42AEC</td>\n",
              "      <td>279.30</td>\n",
              "      <td>0.69</td>\n",
              "      <td>0.47</td>\n",
              "      <td>41.88</td>\n",
              "      <td>-87.63</td>\n",
              "      <td>Chicago, IL</td>\n",
              "      <td>Pop_Rock</td>\n",
              "      <td>TRMMWNY12903CF28D2</td>\n",
              "      <td>[1:1, 2:31, 3:2, 4:1, 5:2, 6:1, 7:4, 8:2, 10:1...</td>\n",
              "      <td>i  the  the  the  the  the  the  the  the  th...</td>\n",
              "    </tr>\n",
              "    <tr>\n",
              "      <th>Rock Can't Last Forever  (You Hate Me Hate Music Album Version)</th>\n",
              "      <td>SOGXPYA12A58A769A7</td>\n",
              "      <td>You Make Me Hate Music</td>\n",
              "      <td>Fine China</td>\n",
              "      <td>2002</td>\n",
              "      <td>TRMMGDQ128F4277AE7</td>\n",
              "      <td>AR6KJQA1187FB3EF30</td>\n",
              "      <td>295.94</td>\n",
              "      <td>0.49</td>\n",
              "      <td>0.36</td>\n",
              "      <td>33.45</td>\n",
              "      <td>-112.08</td>\n",
              "      <td>Phoenix, Arizona</td>\n",
              "      <td>Pop_Rock</td>\n",
              "      <td>TRMMGDQ128F4277AE7</td>\n",
              "      <td>[1:5, 2:1, 3:4, 4:5, 5:6, 6:3, 7:2, 8:3, 9:3, ...</td>\n",
              "      <td>i  i  i  i  i  the  you  you  you  you  to  t...</td>\n",
              "    </tr>\n",
              "  </tbody>\n",
              "</table>\n",
              "</div>"
            ],
            "text/plain": [
              "                                                               song_id  ...                                               text\n",
              "title                                                                   ...                                                   \n",
              "(Looking For) The Heart Of Saturday                 SOBARPM12A8C133DFF  ...   the  the  the  the  the  the  the  the  the  ...\n",
              "All of the same blood                               SOOLRHW12A8C142643  ...   the  the  the  the  the  the  the  the  the  ...\n",
              "The Rest of the Night                               SOVOIOQ12AC4688FAC  ...   i  the  the  the  the  the  the  the  the  th...\n",
              "Rock Can't Last Forever  (You Hate Me Hate Musi...  SOGXPYA12A58A769A7  ...   i  i  i  i  i  the  you  you  you  you  to  t...\n",
              "\n",
              "[4 rows x 16 columns]"
            ]
          },
          "metadata": {
            "tags": []
          },
          "execution_count": 58
        }
      ]
    },
    {
      "cell_type": "code",
      "metadata": {
        "id": "4vklP-3thld1"
      },
      "source": [
        "import pprint\n",
        "import pandas as pd\n",
        "import numpy as np\n",
        "import pickle\n",
        "import joblib"
      ],
      "execution_count": 59,
      "outputs": []
    },
    {
      "cell_type": "code",
      "metadata": {
        "colab": {
          "base_uri": "https://localhost:8080/"
        },
        "id": "ajYfI7TPhlrY",
        "outputId": "3d354fc3-dd78-4f89-eb4a-4f2b4088d485"
      },
      "source": [
        "list(song_data_bow_df['text'][:10])"
      ],
      "execution_count": 60,
      "outputs": [
        {
          "output_type": "execute_result",
          "data": {
            "text/plain": [
              "[' the  the  the  the  the  the  the  the  the  the  the  the  the  the  the  the  the  the  the  the  the  the  the  the  the  the  the  the  the  the  the  the  the  the  the  the  you  you  you  you  you  you  you  you  you  you  you  you  you  you  you  you  you  you  you  you  you  you  you  you  you  to  to  and  and  and  and  and  and  and  and  a  a  me  it  it  it  it  it  it  in  in  in  in  in  in  in  in  is  is  is  is  is  of  of  of  of  of  of  of  of  of  of  of  of  of  of  of  of  of  of  of  your  your  your  your  your  your  your  your  your  your  your  your  your  your  your  your  your  that  that  that  that  that  on  on  are  are  are  are  are  are  are  are  are  are  are  are  are  are  are  are  are  will  will  all  all  for  for  for  for  for  for  for  be  be  have  so  know  this  with  with  with  with  like  now  now  up  up  up  one  one  one  out  down  down  down  down  down  down  down  down  get  see  got  from  from  make  make  day  her  her  her  her  her  heart  heart  heart  heart  heart  heart  heart  heart  heart  night  night  night  night  night  night  night  night  night  look  look  look  look  look  look  eye  eye  eye  eye  caus  caus  caus  tell  well  well  around  around  around  then  light  ever  them  them  face  befor  befor  tonight  tear  tear  other  sweet  sweet  sweet  behind  behind  behind  came  came  arm  arm  arm  seen  kind  kind  red  hair  goin  second  second  nothin  green  magic  magic  lookin  wheel  wheel  wheel  crack  crack  corner  corner  tryin  week  special  trace  pocket  paid  saturday  saturday  saturday  saturday  saturday  saturday  saturday  saturday  saturday  saturday  saturday  saturday  wipe  onto  onto  telephon  telephon  friday  core  core  6  neon  neon  dreamin  dreamin  evri  peak  boulevard  boulevard  boulevard  boulevard  boulevard  boulevard  cousin  cousin  shave  comb ',\n",
              " ' the  the  the  the  the  the  the  the  the  the  the  the  you  you  to  to  to  and  and  and  and  in  in  is  of  of  of  of  of  of  of  of  of  that  that  on  will  will  all  all  all  all  all  all  all  all  no  so  so  so  this  with  what  time  come  they  out  was  see  see  see  take  day  away  life  by  by  by  by  by  heart  live  an  some  noth  into  into  ever  them  them  them  head  their  their  their  their  their  their  word  god  god  anoth  break  hope  put  same  same  same  same  dark  dark  dead  kill  cold  fear  side  side  blood  blood  blood  blood  touch  hate  truth  fade  final  lead  apart  empti  faith  cross  sign  trust  brother  within  spirit  beyond  destroy  awak  bound  path  realiti  curs  cast  march  march  built  forgotten  forgotten  grey  toward  fantasi  ancient  consum  armi  darkest  horizon  hammer  breed  belief  astray  endur  cleans  distort  ambit  atmospher  legion  legion  uniti  annihil ',\n",
              " ' i  the  the  the  the  the  the  the  the  the  the  the  the  the  the  the  the  the  the  the  the  the  the  the  the  the  the  the  the  the  the  the  you  you  to  and  and  a  me  me  me  me  it  it  in  of  of  of  of  of  of  of  of  of  of  of  of  of  of  of  of  do  we  we  we  am  all  for  for  for  for  for  for  for  for  for  for  for  for  for  for  for  be  love  this  with  when  now  now  go  up  oh  oh  oh  oh  oh  oh  one  down  get  never  never  never  let  let  let  let  let  let  let  let  let  let  let  let  let  yeah  yeah  yeah  yeah  yeah  yeah  yeah  yeah  yeah  yeah  yeah  yeah  yeah  yeah  yeah  yeah  yeah  yeah  yeah  yeah  yeah  yeah  yeah  yeah  yeah  night  night  night  night  night  night  night  night  night  night  night  night  night  night  night  our  right  again  whi  whi  whi  whi  whi  whi  well  an  wanna  fall  everi  into  leav  home  had  had  someth  stop  stop  stop  tonight  start  someon  must  fight  two  open  may  morn  chanc  hit  hit  hit  hit  rest  rest  rest  rest  rest  rest  rest  rest  rest  rest  rest  rest  rest  rest  rest  tire  slow  honey  parti  parti  parti  parti  parti  parti  parti  parti  parti  parti  parti  parti  parti  parti  parti  throw  three  ten  four  five  seven  six  nine  bag  trick  woah  woah  mix  eight  oclock  oclock  oclock  oclock  oclock  oclock  oclock  oclock  oclock  twelv  issu ',\n",
              " ' i  i  i  i  i  the  you  you  you  you  to  to  to  to  to  and  and  and  and  and  and  a  a  a  me  me  it  it  it  not  not  not  is  of  your  that  that  that  that  that  do  am  so  so  so  so  what  what  just  now  get  got  got  make  say  ca  life  need  need  tell  tri  tri  well  about  about  about  over  ever  last  friend  song  care  forev  mean  rock  everybodi  everybodi  listen  learn  learn  nobodi  heard  heard  laugh  gave  lot  band  punk  punk  honest  tape ',\n",
              " ' you  in  in  in  in  in  your  am  so  so  with  what  babi  die  die  tell  es  es  es  es  hey  ich  ich  ich  ich  und  und  und  und  und  und  und  und  und  und  und  da  da  wrong  war  war  ah  ah  der  der  nicht  nicht  nicht  nicht  ist  ist  ist  ein  im  im  ja  ja  ja  den  den  den  mich  mich  mich  mich  mich  zu  zu  zu  zu  ring  mir  mir  dich  dich  sie  sie  sie  sie  sie  sie  sie  goin  er  auf  auf  mit  dir  dir  daddi  nur  doch  dein  ei  für  für  für  für  von  von  hat  hat  hat  hat  scene  ihr  ihr  ihr  hier  hier  busi  mehr  sich  kein  kein  lieb  viel  viel  viel  bei  bei  komm  weiß  weiß  euch  tour  dies  dies  dieser  dieser  liegt  niemal  stadt  stadt  stadt  stadt  stadt  stern ',\n",
              " ' i  i  i  i  i  i  i  i  i  i  i  i  i  i  i  i  i  i  i  i  i  you  you  you  you  you  you  you  you  you  you  you  you  you  you  you  you  you  you  you  you  you  you  you  you  you  you  you  to  and  it  it  it  it  it  it  it  it  it  it  it  it  it  it  it  it  it  it  not  not  not  not  not  not  not  not  in  in  in  in  in  my  my  my  my  my  my  my  my  my  is  of  that  that  that  do  do  do  do  do  do  do  do  do  do  do  do  do  do  do  do  do  do  on  on  am  will  will  will  will  will  for  for  for  be  be  know  know  know  know  know  know  know  know  know  know  know  know  know  know  know  know  this  this  this  this  what  what  what  what  what  what  what  what  what  what  what  what  go  was  was  if  if  feel  feel  way  way  say  say  say  say  would  would  would  would  would  would  need  eye  think  think  think  think  think  think  think  think  think  about  about  about  about  about  about  about  about  about  about  about  about  about  about  about  about  alway  were  were  hold  far  smile  smile  smile  lone  anyth  anyth  anyth  anyth  anyth  anyth  anyth  anyth  strong  guess  guess  guess  guess  sad  sad  car  carri  realiz  shoe  shoe  dust  fit  awhil ',\n",
              " ' i  i  i  i  i  i  i  i  i  i  i  i  i  i  i  i  i  i  i  i  i  i  i  i  i  i  i  i  i  i  i  i  i  i  i  i  i  i  i  i  the  the  the  the  the  the  the  the  the  the  the  the  the  the  the  the  the  the  the  the  the  the  the  the  the  the  the  you  you  you  you  you  you  you  you  you  you  you  you  you  you  you  you  you  you  you  you  you  you  you  you  you  you  you  to  to  to  to  to  to  to  to  to  to  to  and  and  and  and  a  a  a  a  a  a  me  me  me  me  me  me  me  me  it  it  it  not  not  not  not  in  in  my  my  my  is  is  is  is  of  of  of  that  that  that  do  do  do  on  are  are  are  are  are  are  are  are  are  we  we  am  am  am  am  am  am  am  am  am  am  am  am  all  all  all  all  all  all  all  all  all  all  all  all  all  all  all  all  all  all  for  for  for  for  for  for  for  be  have  have  love  love  know  this  this  this  this  this  but  but  but  but  with  what  what  what  what  what  what  what  just  just  when  like  like  like  now  now  now  now  now  now  now  can  can  go  up  get  was  was  was  was  was  was  was  was  was  was  see  see  if  if  if  if  got  never  never  he  he  feel  feel  feel  feel  feel  feel  feel  feel  want  make  make  way  would  would  would  life  heart  how  how  how  how  how  how  could  look  look  look  look  look  look  caus  caus  caus  caus  caus  caus  tell  who  who  who  who  who  man  man  man  man  man  live  onli  tri  tri  tri  tri  whi  whi  over  hand  noth  alway  did  did  did  did  did  leav  had  had  had  believ  everyth  everyth  ya  cri  someth  stay  stay  better  better  better  better  better  left  him  him  him  thought  thought  made  made  made  made  made  break  chorus  chorus  chorus  chorus  tear  tear  tear  tear  tear  other  myself  myself  close  smile  smile  smile  smile  smile  open  door  help  help  help  help  help  behind  everybodi  happi  best  best  best  best  best  hurt  woman  woman  woman  woman  woman  each  happen  next  next  next  next  next  sick  perfect  plan  sorri  within  2  outsid  thank  thank  thank  thank  thank  belong  eat  win  pictur  quit  rais  finger  question  1  vers  vers  bless  bless  bless  bless  bless  bridg  book  stick  yall  kept  weight  daughter  gain  everytim  chose  deceiv  cheat  sake  stress  stress  stress  stress  stress  cook  experi  experi  experi  experi  experi  disappoint  rid  wonderin ',\n",
              " ' a  a  do  do  do  do  do  do  que  que  que  que  de  de  de  de  de  de  de  de  se  se  se  se  se  se  se  o  o  da  em  não  ser  ver  sol  sol  simpl  simpl  vai  tudo  tudo  seu  ir  depend  ond  ond  vive  terra  pro  sul  num  sonho  pela  pela  pela  pela  pela  pela  pela  determin  escond ',\n",
              " ' the  the  the  the  the  the  the  the  the  the  the  the  the  the  the  the  you  you  you  you  you  you  you  you  you  you  you  you  you  you  you  you  you  you  you  you  you  you  you  you  to  to  to  to  to  to  to  to  to  to  to  to  and  and  and  and  and  and  and  and  and  and  and  and  and  and  and  and  and  and  a  a  a  it  in  in  is  is  is  is  of  your  your  your  your  your  that  that  on  on  are  are  are  will  will  will  will  will  all  all  for  for  for  for  for  no  be  be  have  have  have  love  love  know  know  know  know  but  with  with  with  with  with  with  just  when  when  when  like  like  now  time  can  can  come  there  there  there  go  they  they  out  down  down  get  she  she  she  she  she  she  she  she  she  she  was  was  see  from  from  from  he  he  he  he  he  he  he  he  want  want  want  want  want  want  want  let  way  way  take  take  would  by  her  her  her  her  her  her  her  her  her  her  could  night  our  our  look  where  been  tell  give  onli  whi  mind  mind  mind  his  his  long  long  find  find  hand  then  said  alway  hold  walk  them  hear  befor  place  him  him  sun  show  sky  watch  free  forev  mean  while  open  touch  touch  touch  bodi  bodi  bodi  lone  morn  until  knew  sea  broken  pour  water  blind  blind  blind  crazi  men  men  upon  lover  lead  jesus  river  river  river  ladi  near  answer  stone  children  trust  honey  perfect  perfect  perfect  human  shall  wear  drown  half  spend  feed  flower  almost  mirror  beneath  travel  travel  travel  travel  travel  travel  besid  spent  hero  certain  boat  among  salvat  armi  lean  lean  wisdom  tower  himself  tea  feather  rag  china  sailor  sailor  orang  forsaken  wooden  garbag ',\n",
              " ' i  i  i  i  the  the  the  to  to  to  to  and  a  a  me  me  my  my  my  my  my  my  my  that  that  that  on  on  are  are  are  are  have  with  with  with  can  up  up  up  out  out  out  down  see  see  take  take  take  where  eye  eye  eye  too  too  an  good  good  hand  believ  believ  stand  should  sky  ride  ride  beauti  beauti  wind  wind  first  first  first  ground  woman  woman  wast  wast  pull  tree  tree  plan  cover  cover  cover  movin  movin  forgot  forgot  flight  sunris  sunris  sunris  sunris  sunris  shakin ']"
            ]
          },
          "metadata": {
            "tags": []
          },
          "execution_count": 60
        }
      ]
    },
    {
      "cell_type": "code",
      "metadata": {
        "id": "I2f1qFSKhl1P"
      },
      "source": [
        "document = song_data_bow_df['text'][0]"
      ],
      "execution_count": 61,
      "outputs": []
    },
    {
      "cell_type": "code",
      "metadata": {
        "colab": {
          "base_uri": "https://localhost:8080/",
          "height": 132
        },
        "id": "3oFU5_1nhl8L",
        "outputId": "89420bd9-c234-4a5b-e605-69bf1efe00c2"
      },
      "source": [
        "document"
      ],
      "execution_count": 62,
      "outputs": [
        {
          "output_type": "execute_result",
          "data": {
            "application/vnd.google.colaboratory.intrinsic+json": {
              "type": "string"
            },
            "text/plain": [
              "' the  the  the  the  the  the  the  the  the  the  the  the  the  the  the  the  the  the  the  the  the  the  the  the  the  the  the  the  the  the  the  the  the  the  the  the  you  you  you  you  you  you  you  you  you  you  you  you  you  you  you  you  you  you  you  you  you  you  you  you  you  to  to  and  and  and  and  and  and  and  and  a  a  me  it  it  it  it  it  it  in  in  in  in  in  in  in  in  is  is  is  is  is  of  of  of  of  of  of  of  of  of  of  of  of  of  of  of  of  of  of  of  your  your  your  your  your  your  your  your  your  your  your  your  your  your  your  your  your  that  that  that  that  that  on  on  are  are  are  are  are  are  are  are  are  are  are  are  are  are  are  are  are  will  will  all  all  for  for  for  for  for  for  for  be  be  have  so  know  this  with  with  with  with  like  now  now  up  up  up  one  one  one  out  down  down  down  down  down  down  down  down  get  see  got  from  from  make  make  day  her  her  her  her  her  heart  heart  heart  heart  heart  heart  heart  heart  heart  night  night  night  night  night  night  night  night  night  look  look  look  look  look  look  eye  eye  eye  eye  caus  caus  caus  tell  well  well  around  around  around  then  light  ever  them  them  face  befor  befor  tonight  tear  tear  other  sweet  sweet  sweet  behind  behind  behind  came  came  arm  arm  arm  seen  kind  kind  red  hair  goin  second  second  nothin  green  magic  magic  lookin  wheel  wheel  wheel  crack  crack  corner  corner  tryin  week  special  trace  pocket  paid  saturday  saturday  saturday  saturday  saturday  saturday  saturday  saturday  saturday  saturday  saturday  saturday  wipe  onto  onto  telephon  telephon  friday  core  core  6  neon  neon  dreamin  dreamin  evri  peak  boulevard  boulevard  boulevard  boulevard  boulevard  boulevard  cousin  cousin  shave  comb '"
            ]
          },
          "metadata": {
            "tags": []
          },
          "execution_count": 62
        }
      ]
    },
    {
      "cell_type": "code",
      "metadata": {
        "id": "9oLiQX6Nhl_4"
      },
      "source": [
        "text_corpus = list(song_data_bow_df['text'])"
      ],
      "execution_count": 63,
      "outputs": []
    },
    {
      "cell_type": "code",
      "metadata": {
        "colab": {
          "base_uri": "https://localhost:8080/"
        },
        "id": "VKWFl2nlhmD2",
        "outputId": "62540d7d-1174-4a2c-d060-e631707fd059"
      },
      "source": [
        "# Create a set of frequent words\n",
        "stoplist = set('for a of the and to in'.split(' '))\n",
        "# Lowercase each document, split it by white space and filter out stopwords\n",
        "texts = [[word for word in document.lower().split() if word not in stoplist]\n",
        "         for document in text_corpus]\n",
        "\n",
        "# Count word frequencies\n",
        "from collections import defaultdict\n",
        "frequency = defaultdict(int)\n",
        "for text in texts:\n",
        "    for token in text:\n",
        "        frequency[token] += 1\n",
        "\n",
        "# Only keep words that appear more than once\n",
        "processed_corpus = [[token for token in text if frequency[token] > 1] for text in texts]\n",
        "print(processed_corpus[:1])"
      ],
      "execution_count": 66,
      "outputs": [
        {
          "output_type": "stream",
          "text": [
            "[['you', 'you', 'you', 'you', 'you', 'you', 'you', 'you', 'you', 'you', 'you', 'you', 'you', 'you', 'you', 'you', 'you', 'you', 'you', 'you', 'you', 'you', 'you', 'you', 'you', 'me', 'it', 'it', 'it', 'it', 'it', 'it', 'is', 'is', 'is', 'is', 'is', 'your', 'your', 'your', 'your', 'your', 'your', 'your', 'your', 'your', 'your', 'your', 'your', 'your', 'your', 'your', 'your', 'your', 'that', 'that', 'that', 'that', 'that', 'on', 'on', 'are', 'are', 'are', 'are', 'are', 'are', 'are', 'are', 'are', 'are', 'are', 'are', 'are', 'are', 'are', 'are', 'are', 'will', 'will', 'all', 'all', 'be', 'be', 'have', 'so', 'know', 'this', 'with', 'with', 'with', 'with', 'like', 'now', 'now', 'up', 'up', 'up', 'one', 'one', 'one', 'out', 'down', 'down', 'down', 'down', 'down', 'down', 'down', 'down', 'get', 'see', 'got', 'from', 'from', 'make', 'make', 'day', 'her', 'her', 'her', 'her', 'her', 'heart', 'heart', 'heart', 'heart', 'heart', 'heart', 'heart', 'heart', 'heart', 'night', 'night', 'night', 'night', 'night', 'night', 'night', 'night', 'night', 'look', 'look', 'look', 'look', 'look', 'look', 'eye', 'eye', 'eye', 'eye', 'caus', 'caus', 'caus', 'tell', 'well', 'well', 'around', 'around', 'around', 'then', 'light', 'ever', 'them', 'them', 'face', 'befor', 'befor', 'tonight', 'tear', 'tear', 'other', 'sweet', 'sweet', 'sweet', 'behind', 'behind', 'behind', 'came', 'came', 'arm', 'arm', 'arm', 'seen', 'kind', 'kind', 'red', 'hair', 'goin', 'second', 'second', 'nothin', 'green', 'magic', 'magic', 'lookin', 'wheel', 'wheel', 'wheel', 'crack', 'crack', 'corner', 'corner', 'tryin', 'week', 'special', 'trace', 'pocket', 'paid', 'saturday', 'saturday', 'saturday', 'saturday', 'saturday', 'saturday', 'saturday', 'saturday', 'saturday', 'saturday', 'saturday', 'saturday', 'wipe', 'onto', 'onto', 'telephon', 'telephon', 'friday', 'core', 'core', '6', 'neon', 'neon', 'dreamin', 'dreamin', 'evri', 'peak', 'boulevard', 'boulevard', 'boulevard', 'boulevard', 'boulevard', 'boulevard', 'cousin', 'cousin', 'shave', 'comb']]\n"
          ],
          "name": "stdout"
        }
      ]
    },
    {
      "cell_type": "code",
      "metadata": {
        "id": "bR6Pl8_OhmHC"
      },
      "source": [
        "# pickle processed_corpus list\n",
        "lyrics_processed_corpus_pkl = \"lyrics_processed_corpus.pkl\"   \n",
        "pickle.dump(processed_corpus,open( lyrics_processed_corpus_pkl, \"wb\" ))"
      ],
      "execution_count": 68,
      "outputs": []
    },
    {
      "cell_type": "code",
      "metadata": {
        "id": "rsmRBBjmijIx"
      },
      "source": [
        "processed_corpus = pickle.load( open( \"lyrics_processed_corpus.pkl\", \"rb\" ) )"
      ],
      "execution_count": 69,
      "outputs": []
    },
    {
      "cell_type": "code",
      "metadata": {
        "id": "amQ9cijTijMO"
      },
      "source": [
        "from gensim import corpora\n",
        "\n",
        "dictionary = corpora.Dictionary(processed_corpus)\n",
        "#print(dictionary)"
      ],
      "execution_count": 70,
      "outputs": []
    },
    {
      "cell_type": "code",
      "metadata": {
        "colab": {
          "base_uri": "https://localhost:8080/"
        },
        "id": "PITsYOSjijSd",
        "outputId": "369d4e42-6e80-4c36-c8d1-db644ef5ad67"
      },
      "source": [
        "len(dictionary.token2id)"
      ],
      "execution_count": 71,
      "outputs": [
        {
          "output_type": "execute_result",
          "data": {
            "text/plain": [
              "4991"
            ]
          },
          "metadata": {
            "tags": []
          },
          "execution_count": 71
        }
      ]
    },
    {
      "cell_type": "code",
      "metadata": {
        "colab": {
          "base_uri": "https://localhost:8080/"
        },
        "id": "fKKQXdKOijVn",
        "outputId": "984d91b8-b18d-4402-e361-a57ee31ca8b2"
      },
      "source": [
        "bow_corpus = [dictionary.doc2bow(text) for text in processed_corpus]\n",
        "print(bow_corpus[:1])"
      ],
      "execution_count": 72,
      "outputs": [
        {
          "output_type": "stream",
          "text": [
            "[[(0, 1), (1, 2), (2, 17), (3, 3), (4, 3), (5, 2), (6, 2), (7, 3), (8, 6), (9, 2), (10, 3), (11, 1), (12, 2), (13, 2), (14, 2), (15, 2), (16, 1), (17, 8), (18, 2), (19, 1), (20, 1), (21, 4), (22, 1), (23, 1), (24, 2), (25, 1), (26, 1), (27, 1), (28, 1), (29, 1), (30, 1), (31, 9), (32, 5), (33, 5), (34, 6), (35, 2), (36, 1), (37, 1), (38, 1), (39, 6), (40, 1), (41, 2), (42, 2), (43, 1), (44, 2), (45, 9), (46, 1), (47, 2), (48, 2), (49, 3), (50, 2), (51, 1), (52, 1), (53, 1), (54, 1), (55, 1), (56, 1), (57, 12), (58, 2), (59, 1), (60, 1), (61, 1), (62, 1), (63, 1), (64, 3), (65, 2), (66, 2), (67, 1), (68, 5), (69, 2), (70, 1), (71, 1), (72, 1), (73, 1), (74, 1), (75, 3), (76, 1), (77, 2), (78, 3), (79, 2), (80, 1), (81, 4), (82, 25), (83, 17)]]\n"
          ],
          "name": "stdout"
        }
      ]
    },
    {
      "cell_type": "code",
      "metadata": {
        "id": "GaU0xbNSijYv"
      },
      "source": [
        "# pickle bow_corpus list\n",
        "lyrics_bow_corpus_pkl = \"lyrics_bow_corpus.pkl\"   \n",
        "pickle.dump(bow_corpus,open( lyrics_bow_corpus_pkl, \"wb\" ))"
      ],
      "execution_count": 73,
      "outputs": []
    },
    {
      "cell_type": "code",
      "metadata": {
        "id": "PvzO8CMBijb4"
      },
      "source": [
        "bow_corpus = pickle.load( open( \"lyrics_bow_corpus.pkl\", \"rb\" ) )"
      ],
      "execution_count": 74,
      "outputs": []
    },
    {
      "cell_type": "code",
      "metadata": {
        "colab": {
          "base_uri": "https://localhost:8080/"
        },
        "id": "l97ALhYWije5",
        "outputId": "9ae94ad8-0456-4ffe-e901-aab76db92d5b"
      },
      "source": [
        "# MODEL\n",
        "from gensim import models\n",
        "\n",
        "# train the model\n",
        "tfidf = models.TfidfModel(bow_corpus)\n",
        "\n",
        "# transform the \"system minors\" string\n",
        "words = \"Silent Night\".lower().split()\n",
        "print(tfidf[dictionary.doc2bow(words)])"
      ],
      "execution_count": 75,
      "outputs": [
        {
          "output_type": "stream",
          "text": [
            "[(45, 0.3793969656399331), (1237, 0.9252339933569299)]\n"
          ],
          "name": "stdout"
        }
      ]
    },
    {
      "cell_type": "code",
      "metadata": {
        "colab": {
          "base_uri": "https://localhost:8080/"
        },
        "id": "OFuuEg_Ej1Ol",
        "outputId": "0f4238fe-8cb3-469f-a07a-5e06d887a658"
      },
      "source": [
        "joblib_file = 'lyrics_gensim_tfidf_model.pkl'\n",
        "joblib.dump(tfidf, joblib_file)"
      ],
      "execution_count": 76,
      "outputs": [
        {
          "output_type": "execute_result",
          "data": {
            "text/plain": [
              "['lyrics_gensim_tfidf_model.pkl']"
            ]
          },
          "metadata": {
            "tags": []
          },
          "execution_count": 76
        }
      ]
    },
    {
      "cell_type": "code",
      "metadata": {
        "id": "2OrKgg8Ej1Yo"
      },
      "source": [
        "tfidf = joblib.load('lyrics_gensim_tfidf_model.pkl')"
      ],
      "execution_count": 77,
      "outputs": []
    },
    {
      "cell_type": "code",
      "metadata": {
        "id": "ktaBVstkj1cG"
      },
      "source": [
        "# Compute similarity against a corpus of documents by storing the sparse index matrix in memory. \n",
        "# The similarity measure used in cosine is between two vectors.\n",
        "\n",
        "from gensim import similarities\n",
        "\n",
        "index = similarities.SparseMatrixSimilarity(tfidf[bow_corpus], num_features=len(dictionary.token2id))"
      ],
      "execution_count": 78,
      "outputs": []
    },
    {
      "cell_type": "code",
      "metadata": {
        "colab": {
          "base_uri": "https://localhost:8080/"
        },
        "id": "NOalHiZZj1fI",
        "outputId": "68c4cd8b-3d16-45b6-a44e-e0d5e8595dad"
      },
      "source": [
        "# testing\n",
        "query_document = \"The Rest of the Night\".lower().split()\n",
        "query_bow = dictionary.doc2bow(query_document)\n",
        "sims = index[tfidf[query_bow]]\n",
        "sims"
      ],
      "execution_count": 84,
      "outputs": [
        {
          "output_type": "execute_result",
          "data": {
            "text/plain": [
              "array([0.07643083, 0.        , 0.4767276 , ..., 0.        , 0.        ,\n",
              "       0.01552732], dtype=float32)"
            ]
          },
          "metadata": {
            "tags": []
          },
          "execution_count": 84
        }
      ]
    },
    {
      "cell_type": "code",
      "metadata": {
        "id": "QL40goB_j1ib"
      },
      "source": [
        "doc_l = []\n",
        "score_l = []\n",
        "for document_number, score in sorted(enumerate(sims), key=lambda x: x[1], reverse=True):\n",
        "    doc_l.append(document_number)\n",
        "    score_l.append(score)\n",
        "  "
      ],
      "execution_count": 85,
      "outputs": []
    },
    {
      "cell_type": "code",
      "metadata": {
        "colab": {
          "base_uri": "https://localhost:8080/",
          "height": 363
        },
        "id": "FIRLz2H3j1lY",
        "outputId": "b6dfc11a-72ac-4dc1-f930-ceebec57666e"
      },
      "source": [
        "recommended_songs = pd.DataFrame(score_l,doc_l).head(10)\n",
        "recommended_songs=recommended_songs.reset_index()\n",
        "recommended_songs.columns = ['index','score']\n",
        "recommended_songs.set_index('index',inplace = True)\n",
        "recommended_songs"
      ],
      "execution_count": 86,
      "outputs": [
        {
          "output_type": "execute_result",
          "data": {
            "text/html": [
              "<div>\n",
              "<style scoped>\n",
              "    .dataframe tbody tr th:only-of-type {\n",
              "        vertical-align: middle;\n",
              "    }\n",
              "\n",
              "    .dataframe tbody tr th {\n",
              "        vertical-align: top;\n",
              "    }\n",
              "\n",
              "    .dataframe thead th {\n",
              "        text-align: right;\n",
              "    }\n",
              "</style>\n",
              "<table border=\"1\" class=\"dataframe\">\n",
              "  <thead>\n",
              "    <tr style=\"text-align: right;\">\n",
              "      <th></th>\n",
              "      <th>score</th>\n",
              "    </tr>\n",
              "    <tr>\n",
              "      <th>index</th>\n",
              "      <th></th>\n",
              "    </tr>\n",
              "  </thead>\n",
              "  <tbody>\n",
              "    <tr>\n",
              "      <th>23879</th>\n",
              "      <td>0.51</td>\n",
              "    </tr>\n",
              "    <tr>\n",
              "      <th>21610</th>\n",
              "      <td>0.48</td>\n",
              "    </tr>\n",
              "    <tr>\n",
              "      <th>2</th>\n",
              "      <td>0.48</td>\n",
              "    </tr>\n",
              "    <tr>\n",
              "      <th>6420</th>\n",
              "      <td>0.47</td>\n",
              "    </tr>\n",
              "    <tr>\n",
              "      <th>1127</th>\n",
              "      <td>0.45</td>\n",
              "    </tr>\n",
              "    <tr>\n",
              "      <th>8787</th>\n",
              "      <td>0.42</td>\n",
              "    </tr>\n",
              "    <tr>\n",
              "      <th>29020</th>\n",
              "      <td>0.39</td>\n",
              "    </tr>\n",
              "    <tr>\n",
              "      <th>15443</th>\n",
              "      <td>0.39</td>\n",
              "    </tr>\n",
              "    <tr>\n",
              "      <th>7023</th>\n",
              "      <td>0.39</td>\n",
              "    </tr>\n",
              "    <tr>\n",
              "      <th>11159</th>\n",
              "      <td>0.37</td>\n",
              "    </tr>\n",
              "  </tbody>\n",
              "</table>\n",
              "</div>"
            ],
            "text/plain": [
              "       score\n",
              "index       \n",
              "23879   0.51\n",
              "21610   0.48\n",
              "2       0.48\n",
              "6420    0.47\n",
              "1127    0.45\n",
              "8787    0.42\n",
              "29020   0.39\n",
              "15443   0.39\n",
              "7023    0.39\n",
              "11159   0.37"
            ]
          },
          "metadata": {
            "tags": []
          },
          "execution_count": 86
        }
      ]
    },
    {
      "cell_type": "code",
      "metadata": {
        "id": "k2zDb3TKj1oq"
      },
      "source": [
        ""
      ],
      "execution_count": null,
      "outputs": []
    },
    {
      "cell_type": "code",
      "metadata": {
        "id": "VLVC7nmfj1rd"
      },
      "source": [
        ""
      ],
      "execution_count": null,
      "outputs": []
    },
    {
      "cell_type": "code",
      "metadata": {
        "colab": {
          "base_uri": "https://localhost:8080/"
        },
        "id": "bTDhIMQwTHkc",
        "outputId": "3d5384b6-b518-4599-84b3-540f0fb6da39"
      },
      "source": [
        "!pip install vaderSentiment"
      ],
      "execution_count": 88,
      "outputs": [
        {
          "output_type": "stream",
          "text": [
            "Collecting vaderSentiment\n",
            "\u001b[?25l  Downloading https://files.pythonhosted.org/packages/76/fc/310e16254683c1ed35eeb97386986d6c00bc29df17ce280aed64d55537e9/vaderSentiment-3.3.2-py2.py3-none-any.whl (125kB)\n",
            "\r\u001b[K     |██▋                             | 10kB 10.6MB/s eta 0:00:01\r\u001b[K     |█████▏                          | 20kB 15.7MB/s eta 0:00:01\r\u001b[K     |███████▉                        | 30kB 13.6MB/s eta 0:00:01\r\u001b[K     |██████████▍                     | 40kB 9.2MB/s eta 0:00:01\r\u001b[K     |█████████████                   | 51kB 10.4MB/s eta 0:00:01\r\u001b[K     |███████████████▋                | 61kB 9.2MB/s eta 0:00:01\r\u001b[K     |██████████████████▏             | 71kB 8.0MB/s eta 0:00:01\r\u001b[K     |████████████████████▉           | 81kB 8.7MB/s eta 0:00:01\r\u001b[K     |███████████████████████▍        | 92kB 8.2MB/s eta 0:00:01\r\u001b[K     |██████████████████████████      | 102kB 8.0MB/s eta 0:00:01\r\u001b[K     |████████████████████████████▋   | 112kB 8.0MB/s eta 0:00:01\r\u001b[K     |███████████████████████████████▏| 122kB 8.0MB/s eta 0:00:01\r\u001b[K     |████████████████████████████████| 133kB 8.0MB/s \n",
            "\u001b[?25hRequirement already satisfied: requests in /usr/local/lib/python3.6/dist-packages (from vaderSentiment) (2.23.0)\n",
            "Requirement already satisfied: idna<3,>=2.5 in /usr/local/lib/python3.6/dist-packages (from requests->vaderSentiment) (2.10)\n",
            "Requirement already satisfied: urllib3!=1.25.0,!=1.25.1,<1.26,>=1.21.1 in /usr/local/lib/python3.6/dist-packages (from requests->vaderSentiment) (1.24.3)\n",
            "Requirement already satisfied: chardet<4,>=3.0.2 in /usr/local/lib/python3.6/dist-packages (from requests->vaderSentiment) (3.0.4)\n",
            "Requirement already satisfied: certifi>=2017.4.17 in /usr/local/lib/python3.6/dist-packages (from requests->vaderSentiment) (2020.12.5)\n",
            "Installing collected packages: vaderSentiment\n",
            "Successfully installed vaderSentiment-3.3.2\n"
          ],
          "name": "stdout"
        }
      ]
    },
    {
      "cell_type": "code",
      "metadata": {
        "id": "5H3dWPFSaW6P"
      },
      "source": [
        "import nltk.sentiment.sentiment_analyzer\n",
        "from vaderSentiment.vaderSentiment import SentimentIntensityAnalyzer"
      ],
      "execution_count": 89,
      "outputs": []
    },
    {
      "cell_type": "code",
      "metadata": {
        "id": "6tnJG_peSx7c"
      },
      "source": [
        "analyser = SentimentIntensityAnalyzer()"
      ],
      "execution_count": 90,
      "outputs": []
    },
    {
      "cell_type": "code",
      "metadata": {
        "colab": {
          "base_uri": "https://localhost:8080/",
          "height": 1000
        },
        "id": "hJ0_RR5mTUsR",
        "outputId": "5bc8d01a-cb5a-45ed-e7b2-65deca0bd9f9"
      },
      "source": [
        "song_data_bow_df.reset_index()"
      ],
      "execution_count": 91,
      "outputs": [
        {
          "output_type": "execute_result",
          "data": {
            "text/html": [
              "<div>\n",
              "<style scoped>\n",
              "    .dataframe tbody tr th:only-of-type {\n",
              "        vertical-align: middle;\n",
              "    }\n",
              "\n",
              "    .dataframe tbody tr th {\n",
              "        vertical-align: top;\n",
              "    }\n",
              "\n",
              "    .dataframe thead th {\n",
              "        text-align: right;\n",
              "    }\n",
              "</style>\n",
              "<table border=\"1\" class=\"dataframe\">\n",
              "  <thead>\n",
              "    <tr style=\"text-align: right;\">\n",
              "      <th></th>\n",
              "      <th>title</th>\n",
              "      <th>song_id</th>\n",
              "      <th>release</th>\n",
              "      <th>artist_name</th>\n",
              "      <th>year</th>\n",
              "      <th>track_id</th>\n",
              "      <th>artist_id</th>\n",
              "      <th>duration</th>\n",
              "      <th>artist_familiarity</th>\n",
              "      <th>artist_hotttnesss</th>\n",
              "      <th>lat</th>\n",
              "      <th>long</th>\n",
              "      <th>location</th>\n",
              "      <th>genre</th>\n",
              "      <th>Tid</th>\n",
              "      <th>words_freq</th>\n",
              "      <th>text</th>\n",
              "    </tr>\n",
              "  </thead>\n",
              "  <tbody>\n",
              "    <tr>\n",
              "      <th>0</th>\n",
              "      <td>(Looking For) The Heart Of Saturday</td>\n",
              "      <td>SOBARPM12A8C133DFF</td>\n",
              "      <td>Cover Girl</td>\n",
              "      <td>Shawn Colvin</td>\n",
              "      <td>1994</td>\n",
              "      <td>TRMMMUT128F42646E8</td>\n",
              "      <td>ARDW5AW1187FB55708</td>\n",
              "      <td>216.48</td>\n",
              "      <td>0.69</td>\n",
              "      <td>0.45</td>\n",
              "      <td>42.79</td>\n",
              "      <td>-96.93</td>\n",
              "      <td>Vermillion, SD</td>\n",
              "      <td>Pop_Rock</td>\n",
              "      <td>TRMMMUT128F42646E8</td>\n",
              "      <td>[2:36, 3:25, 4:2, 5:8, 6:2, 7:1, 8:6, 10:8, 12...</td>\n",
              "      <td>the  the  the  the  the  the  the  the  the  ...</td>\n",
              "    </tr>\n",
              "    <tr>\n",
              "      <th>1</th>\n",
              "      <td>All of the same blood</td>\n",
              "      <td>SOOLRHW12A8C142643</td>\n",
              "      <td>Violent revolution</td>\n",
              "      <td>Kreator</td>\n",
              "      <td>2001</td>\n",
              "      <td>TRMMMKQ128F92EBCB5</td>\n",
              "      <td>AR79L0D1187FB3AFB6</td>\n",
              "      <td>372.43</td>\n",
              "      <td>0.74</td>\n",
              "      <td>0.47</td>\n",
              "      <td>51.45</td>\n",
              "      <td>7.01</td>\n",
              "      <td>Essen</td>\n",
              "      <td>Pop_Rock</td>\n",
              "      <td>TRMMMKQ128F92EBCB5</td>\n",
              "      <td>[2:12, 3:2, 4:3, 5:4, 10:2, 12:1, 13:9, 15:2, ...</td>\n",
              "      <td>the  the  the  the  the  the  the  the  the  ...</td>\n",
              "    </tr>\n",
              "    <tr>\n",
              "      <th>2</th>\n",
              "      <td>The Rest of the Night</td>\n",
              "      <td>SOVOIOQ12AC4688FAC</td>\n",
              "      <td>The Wind</td>\n",
              "      <td>Warren Zevon</td>\n",
              "      <td>2003</td>\n",
              "      <td>TRMMWNY12903CF28D2</td>\n",
              "      <td>ARUQFUJ1187FB42AEC</td>\n",
              "      <td>279.30</td>\n",
              "      <td>0.69</td>\n",
              "      <td>0.47</td>\n",
              "      <td>41.88</td>\n",
              "      <td>-87.63</td>\n",
              "      <td>Chicago, IL</td>\n",
              "      <td>Pop_Rock</td>\n",
              "      <td>TRMMWNY12903CF28D2</td>\n",
              "      <td>[1:1, 2:31, 3:2, 4:1, 5:2, 6:1, 7:4, 8:2, 10:1...</td>\n",
              "      <td>i  the  the  the  the  the  the  the  the  th...</td>\n",
              "    </tr>\n",
              "    <tr>\n",
              "      <th>3</th>\n",
              "      <td>Rock Can't Last Forever  (You Hate Me Hate Mus...</td>\n",
              "      <td>SOGXPYA12A58A769A7</td>\n",
              "      <td>You Make Me Hate Music</td>\n",
              "      <td>Fine China</td>\n",
              "      <td>2002</td>\n",
              "      <td>TRMMGDQ128F4277AE7</td>\n",
              "      <td>AR6KJQA1187FB3EF30</td>\n",
              "      <td>295.94</td>\n",
              "      <td>0.49</td>\n",
              "      <td>0.36</td>\n",
              "      <td>33.45</td>\n",
              "      <td>-112.08</td>\n",
              "      <td>Phoenix, Arizona</td>\n",
              "      <td>Pop_Rock</td>\n",
              "      <td>TRMMGDQ128F4277AE7</td>\n",
              "      <td>[1:5, 2:1, 3:4, 4:5, 5:6, 6:3, 7:2, 8:3, 9:3, ...</td>\n",
              "      <td>i  i  i  i  i  the  you  you  you  you  to  t...</td>\n",
              "    </tr>\n",
              "    <tr>\n",
              "      <th>4</th>\n",
              "      <td>Zuviel Hitze</td>\n",
              "      <td>SOWSOVJ12A8C13A8C1</td>\n",
              "      <td>Einzelhaft</td>\n",
              "      <td>Falco</td>\n",
              "      <td>1982</td>\n",
              "      <td>TRMMHVN128F428E67E</td>\n",
              "      <td>AR5DXUU1187B9B0E42</td>\n",
              "      <td>274.02</td>\n",
              "      <td>0.67</td>\n",
              "      <td>0.46</td>\n",
              "      <td>48.20</td>\n",
              "      <td>16.37</td>\n",
              "      <td>Vienna, Austria</td>\n",
              "      <td>Pop_Rock</td>\n",
              "      <td>TRMMHVN128F428E67E</td>\n",
              "      <td>[3:1, 10:5, 14:1, 20:1, 28:2, 32:1, 33:1, 73:1...</td>\n",
              "      <td>you  in  in  in  in  in  your  am  so  so  wi...</td>\n",
              "    </tr>\n",
              "    <tr>\n",
              "      <th>...</th>\n",
              "      <td>...</td>\n",
              "      <td>...</td>\n",
              "      <td>...</td>\n",
              "      <td>...</td>\n",
              "      <td>...</td>\n",
              "      <td>...</td>\n",
              "      <td>...</td>\n",
              "      <td>...</td>\n",
              "      <td>...</td>\n",
              "      <td>...</td>\n",
              "      <td>...</td>\n",
              "      <td>...</td>\n",
              "      <td>...</td>\n",
              "      <td>...</td>\n",
              "      <td>...</td>\n",
              "      <td>...</td>\n",
              "      <td>...</td>\n",
              "    </tr>\n",
              "    <tr>\n",
              "      <th>40623</th>\n",
              "      <td>Carry Me High</td>\n",
              "      <td>SOKDSNF12A8C139164</td>\n",
              "      <td>God</td>\n",
              "      <td>Rebecca St. James</td>\n",
              "      <td>1996</td>\n",
              "      <td>TRYYOXP128F428F303</td>\n",
              "      <td>ARD0ROE1187FB46A17</td>\n",
              "      <td>279.95</td>\n",
              "      <td>0.70</td>\n",
              "      <td>0.51</td>\n",
              "      <td>-33.87</td>\n",
              "      <td>151.21</td>\n",
              "      <td>Sydney, New South Wales, Australi</td>\n",
              "      <td>Religious</td>\n",
              "      <td>TRYYOXP128F428F303</td>\n",
              "      <td>[1:8, 2:9, 3:14, 4:9, 7:29, 9:2, 10:1, 14:4, 1...</td>\n",
              "      <td>i  i  i  i  i  i  i  i  the  the  the  the  t...</td>\n",
              "    </tr>\n",
              "    <tr>\n",
              "      <th>40624</th>\n",
              "      <td>Ich denk an...</td>\n",
              "      <td>SOKQRMK12A8C134E85</td>\n",
              "      <td>Es wird Morgen</td>\n",
              "      <td>2raumwohnung</td>\n",
              "      <td>2004</td>\n",
              "      <td>TRYYOOB128F424FF58</td>\n",
              "      <td>ARNJVSL1187B99AFD4</td>\n",
              "      <td>221.18</td>\n",
              "      <td>0.66</td>\n",
              "      <td>0.40</td>\n",
              "      <td>52.52</td>\n",
              "      <td>13.38</td>\n",
              "      <td>Berlin, Germany</td>\n",
              "      <td>Electronic</td>\n",
              "      <td>TRYYOOB128F424FF58</td>\n",
              "      <td>[10:5, 22:3, 28:1, 54:1, 97:3, 122:8, 123:2, 1...</td>\n",
              "      <td>in  in  in  in  in  all  all  all  so  was  d...</td>\n",
              "    </tr>\n",
              "    <tr>\n",
              "      <th>40625</th>\n",
              "      <td>I Will Always Go On Missing You</td>\n",
              "      <td>SOOXIGM12AB018B4A7</td>\n",
              "      <td>Heart To Believe</td>\n",
              "      <td>Itchy Poopzkid</td>\n",
              "      <td>2007</td>\n",
              "      <td>TRYYXJO128F933B2E4</td>\n",
              "      <td>AR8YUTR1187B9B82E1</td>\n",
              "      <td>189.81</td>\n",
              "      <td>0.58</td>\n",
              "      <td>0.49</td>\n",
              "      <td>52.88</td>\n",
              "      <td>-1.97</td>\n",
              "      <td>Inglaterra</td>\n",
              "      <td>Pop_Rock</td>\n",
              "      <td>TRYYXJO128F933B2E4</td>\n",
              "      <td>[1:30, 2:6, 3:14, 4:1, 5:11, 7:5, 8:5, 9:10, 1...</td>\n",
              "      <td>i  i  i  i  i  i  i  i  i  i  i  i  i  i  i  ...</td>\n",
              "    </tr>\n",
              "    <tr>\n",
              "      <th>40626</th>\n",
              "      <td>Iris Art</td>\n",
              "      <td>SOZZIBA12AB0184030</td>\n",
              "      <td>Lustra</td>\n",
              "      <td>Echobelly</td>\n",
              "      <td>1997</td>\n",
              "      <td>TRYYXBT128F932E725</td>\n",
              "      <td>AROB7AO1187B9B4F00</td>\n",
              "      <td>224.84</td>\n",
              "      <td>0.53</td>\n",
              "      <td>0.40</td>\n",
              "      <td>51.51</td>\n",
              "      <td>-0.13</td>\n",
              "      <td>London, England</td>\n",
              "      <td>Pop_Rock</td>\n",
              "      <td>TRYYXBT128F932E725</td>\n",
              "      <td>[1:3, 2:1, 3:8, 4:1, 5:1, 6:13, 7:13, 8:1, 9:2...</td>\n",
              "      <td>i  i  i  the  you  you  you  you  you  you  y...</td>\n",
              "    </tr>\n",
              "    <tr>\n",
              "      <th>40627</th>\n",
              "      <td>Feeding The Demons</td>\n",
              "      <td>SOFGQKB12AB017D895</td>\n",
              "      <td>Serpent Smiles And Killer Eyes</td>\n",
              "      <td>Hatesphere</td>\n",
              "      <td>2007</td>\n",
              "      <td>TRYYYAF128F930C01F</td>\n",
              "      <td>ARLPWXD1187FB4CB6A</td>\n",
              "      <td>266.63</td>\n",
              "      <td>0.65</td>\n",
              "      <td>0.41</td>\n",
              "      <td>55.68</td>\n",
              "      <td>12.57</td>\n",
              "      <td>Copenhagen/Aarhus - Denmark</td>\n",
              "      <td>Pop_Rock</td>\n",
              "      <td>TRYYYAF128F930C01F</td>\n",
              "      <td>[1:5, 2:2, 4:2, 6:1, 7:7, 8:5, 11:7, 13:1, 15:...</td>\n",
              "      <td>i  i  i  i  i  the  the  to  to  a  me  me  m...</td>\n",
              "    </tr>\n",
              "  </tbody>\n",
              "</table>\n",
              "<p>40628 rows × 17 columns</p>\n",
              "</div>"
            ],
            "text/plain": [
              "                                                   title  ...                                               text\n",
              "0                    (Looking For) The Heart Of Saturday  ...   the  the  the  the  the  the  the  the  the  ...\n",
              "1                                  All of the same blood  ...   the  the  the  the  the  the  the  the  the  ...\n",
              "2                                  The Rest of the Night  ...   i  the  the  the  the  the  the  the  the  th...\n",
              "3      Rock Can't Last Forever  (You Hate Me Hate Mus...  ...   i  i  i  i  i  the  you  you  you  you  to  t...\n",
              "4                                           Zuviel Hitze  ...   you  in  in  in  in  in  your  am  so  so  wi...\n",
              "...                                                  ...  ...                                                ...\n",
              "40623                                      Carry Me High  ...   i  i  i  i  i  i  i  i  the  the  the  the  t...\n",
              "40624                                     Ich denk an...  ...   in  in  in  in  in  all  all  all  so  was  d...\n",
              "40625                    I Will Always Go On Missing You  ...   i  i  i  i  i  i  i  i  i  i  i  i  i  i  i  ...\n",
              "40626                                           Iris Art  ...   i  i  i  the  you  you  you  you  you  you  y...\n",
              "40627                                 Feeding The Demons  ...   i  i  i  i  i  the  the  to  to  a  me  me  m...\n",
              "\n",
              "[40628 rows x 17 columns]"
            ]
          },
          "metadata": {
            "tags": []
          },
          "execution_count": 91
        }
      ]
    },
    {
      "cell_type": "code",
      "metadata": {
        "id": "aGic4mZvUEnY"
      },
      "source": [
        "\n",
        "#Applying the polarity analysis for the bags of words\n",
        "for i in song_data_bow_df.index:\n",
        "    song_data_bow_df.at[i, 'Polarity_score'] = analyser.polarity_scores(song_data_bow_df.at[i, 'text'])['compound']\n",
        "    \n",
        "#Sorting values to have a meaningfull plot\n",
        "song_data_bow_df = song_data_bow_df.sort_values('Polarity_score', ascending=False)"
      ],
      "execution_count": 92,
      "outputs": []
    },
    {
      "cell_type": "code",
      "metadata": {
        "colab": {
          "base_uri": "https://localhost:8080/"
        },
        "id": "L8qK83C6Ugzz",
        "outputId": "1b9c1783-4390-40dc-a7ae-07de2430254c"
      },
      "source": [
        "song_data_bow_df['Polarity_score'].unique()\n"
      ],
      "execution_count": 93,
      "outputs": [
        {
          "output_type": "execute_result",
          "data": {
            "text/plain": [
              "array([ 1.    ,  0.9999,  0.9998, ..., -0.9998, -0.9999, -1.    ])"
            ]
          },
          "metadata": {
            "tags": []
          },
          "execution_count": 93
        }
      ]
    },
    {
      "cell_type": "code",
      "metadata": {
        "id": "3fqhzCCXn-kS"
      },
      "source": [
        "sentiment_category = ['happy' if score > 0 \n",
        "                          else 'sad' if score < 0 \n",
        "                              else 'neutral' \n",
        "                                  for score in song_data_bow_df['Polarity_score']]\n",
        "    "
      ],
      "execution_count": 94,
      "outputs": []
    },
    {
      "cell_type": "code",
      "metadata": {
        "colab": {
          "base_uri": "https://localhost:8080/"
        },
        "id": "XfuRn6Ucn-u3",
        "outputId": "ef3bb1e6-bdcb-4ff4-d1a3-01b6dc290790"
      },
      "source": [
        "sentiment_category[:10]"
      ],
      "execution_count": 96,
      "outputs": [
        {
          "output_type": "execute_result",
          "data": {
            "text/plain": [
              "['positive',\n",
              " 'positive',\n",
              " 'positive',\n",
              " 'positive',\n",
              " 'positive',\n",
              " 'positive',\n",
              " 'positive',\n",
              " 'positive',\n",
              " 'positive',\n",
              " 'positive']"
            ]
          },
          "metadata": {
            "tags": []
          },
          "execution_count": 96
        }
      ]
    },
    {
      "cell_type": "code",
      "metadata": {
        "id": "fAzJgAp1n-y6"
      },
      "source": [
        "# sentiment statistics per lyrics\n",
        "song_data_bow_df['sentiment_category'] = sentiment_category"
      ],
      "execution_count": 98,
      "outputs": []
    },
    {
      "cell_type": "code",
      "metadata": {
        "colab": {
          "base_uri": "https://localhost:8080/",
          "height": 328
        },
        "id": "cMtAKGTIn-7H",
        "outputId": "85064720-3509-4781-fc15-d5cacdb81e44"
      },
      "source": [
        "song_data_bow_df[:3]"
      ],
      "execution_count": 100,
      "outputs": [
        {
          "output_type": "execute_result",
          "data": {
            "text/html": [
              "<div>\n",
              "<style scoped>\n",
              "    .dataframe tbody tr th:only-of-type {\n",
              "        vertical-align: middle;\n",
              "    }\n",
              "\n",
              "    .dataframe tbody tr th {\n",
              "        vertical-align: top;\n",
              "    }\n",
              "\n",
              "    .dataframe thead th {\n",
              "        text-align: right;\n",
              "    }\n",
              "</style>\n",
              "<table border=\"1\" class=\"dataframe\">\n",
              "  <thead>\n",
              "    <tr style=\"text-align: right;\">\n",
              "      <th></th>\n",
              "      <th>song_id</th>\n",
              "      <th>release</th>\n",
              "      <th>artist_name</th>\n",
              "      <th>year</th>\n",
              "      <th>track_id</th>\n",
              "      <th>artist_id</th>\n",
              "      <th>duration</th>\n",
              "      <th>artist_familiarity</th>\n",
              "      <th>artist_hotttnesss</th>\n",
              "      <th>lat</th>\n",
              "      <th>long</th>\n",
              "      <th>location</th>\n",
              "      <th>genre</th>\n",
              "      <th>Tid</th>\n",
              "      <th>words_freq</th>\n",
              "      <th>text</th>\n",
              "      <th>Polarity_score</th>\n",
              "      <th>sentiment_category</th>\n",
              "    </tr>\n",
              "    <tr>\n",
              "      <th>title</th>\n",
              "      <th></th>\n",
              "      <th></th>\n",
              "      <th></th>\n",
              "      <th></th>\n",
              "      <th></th>\n",
              "      <th></th>\n",
              "      <th></th>\n",
              "      <th></th>\n",
              "      <th></th>\n",
              "      <th></th>\n",
              "      <th></th>\n",
              "      <th></th>\n",
              "      <th></th>\n",
              "      <th></th>\n",
              "      <th></th>\n",
              "      <th></th>\n",
              "      <th></th>\n",
              "      <th></th>\n",
              "    </tr>\n",
              "  </thead>\n",
              "  <tbody>\n",
              "    <tr>\n",
              "      <th>Free</th>\n",
              "      <td>SOEIYLO12A6701F7BB</td>\n",
              "      <td>7</td>\n",
              "      <td>Enrique Iglesias</td>\n",
              "      <td>2003</td>\n",
              "      <td>TRXFCXJ128E07921B8</td>\n",
              "      <td>ARDCFNZ1187FB3DDB0</td>\n",
              "      <td>215.41</td>\n",
              "      <td>0.83</td>\n",
              "      <td>0.75</td>\n",
              "      <td>38.26</td>\n",
              "      <td>-92.44</td>\n",
              "      <td>Missouri</td>\n",
              "      <td>Latin</td>\n",
              "      <td>TRXFCXJ128E07921B8</td>\n",
              "      <td>[1:25, 2:4, 3:46, 4:7, 5:6, 6:1, 7:3, 8:6, 9:1...</td>\n",
              "      <td>i  i  i  i  i  i  i  i  i  i  i  i  i  i  i  ...</td>\n",
              "      <td>1.00</td>\n",
              "      <td>positive</td>\n",
              "    </tr>\n",
              "    <tr>\n",
              "      <th>Free</th>\n",
              "      <td>SOFDKMJ12AB0183B38</td>\n",
              "      <td>Modern Times</td>\n",
              "      <td>Jefferson Starship</td>\n",
              "      <td>1981</td>\n",
              "      <td>TRXMBDP128F92FFB95</td>\n",
              "      <td>AR1WC0X1187B991056</td>\n",
              "      <td>276.11</td>\n",
              "      <td>0.63</td>\n",
              "      <td>0.42</td>\n",
              "      <td>37.78</td>\n",
              "      <td>-122.42</td>\n",
              "      <td>San Francisco, CA</td>\n",
              "      <td>Pop_Rock</td>\n",
              "      <td>TRXMBDP128F92FFB95</td>\n",
              "      <td>[1:28, 2:9, 3:18, 4:4, 5:16, 6:5, 7:35, 8:14, ...</td>\n",
              "      <td>i  i  i  i  i  i  i  i  i  i  i  i  i  i  i  ...</td>\n",
              "      <td>1.00</td>\n",
              "      <td>positive</td>\n",
              "    </tr>\n",
              "    <tr>\n",
              "      <th>Free</th>\n",
              "      <td>SOGCQBX12A8C1323B5</td>\n",
              "      <td>Train</td>\n",
              "      <td>Train</td>\n",
              "      <td>1996</td>\n",
              "      <td>TRWQWKI128F4261FF6</td>\n",
              "      <td>ARICCZI1187B9AEBB3</td>\n",
              "      <td>238.16</td>\n",
              "      <td>0.84</td>\n",
              "      <td>0.78</td>\n",
              "      <td>37.78</td>\n",
              "      <td>-122.42</td>\n",
              "      <td>San Francisco, CA</td>\n",
              "      <td>Pop_Rock</td>\n",
              "      <td>TRWQWKI128F4261FF6</td>\n",
              "      <td>[1:36, 3:1, 4:13, 5:15, 6:2, 7:5, 8:3, 9:6, 10...</td>\n",
              "      <td>i  i  i  i  i  i  i  i  i  i  i  i  i  i  i  ...</td>\n",
              "      <td>1.00</td>\n",
              "      <td>positive</td>\n",
              "    </tr>\n",
              "  </tbody>\n",
              "</table>\n",
              "</div>"
            ],
            "text/plain": [
              "                  song_id       release  ... Polarity_score  sentiment_category\n",
              "title                                    ...                                   \n",
              "Free   SOEIYLO12A6701F7BB             7  ...           1.00            positive\n",
              "Free   SOFDKMJ12AB0183B38  Modern Times  ...           1.00            positive\n",
              "Free   SOGCQBX12A8C1323B5         Train  ...           1.00            positive\n",
              "\n",
              "[3 rows x 18 columns]"
            ]
          },
          "metadata": {
            "tags": []
          },
          "execution_count": 100
        }
      ]
    },
    {
      "cell_type": "code",
      "metadata": {
        "id": "6LsB4AKQUkc0"
      },
      "source": [
        "song_data_bow_df.to_csv('song_data_bow_df.csv')"
      ],
      "execution_count": 102,
      "outputs": []
    }
  ]
}