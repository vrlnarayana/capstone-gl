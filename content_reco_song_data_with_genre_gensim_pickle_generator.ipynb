{
 "cells": [
  {
   "cell_type": "code",
   "execution_count": 28,
   "metadata": {},
   "outputs": [],
   "source": [
    "#Lakshminarayanan\n",
    "import pprint\n",
    "import pandas as pd\n",
    "import numpy as np\n",
    "import pickle\n",
    "import joblib"
   ]
  },
  {
   "cell_type": "code",
   "execution_count": 3,
   "metadata": {},
   "outputs": [],
   "source": [
    "song_data_with_genre = pd.read_csv('song_data_with_genre.csv')"
   ]
  },
  {
   "cell_type": "code",
   "execution_count": 4,
   "metadata": {},
   "outputs": [],
   "source": [
    "song_data_with_genre.drop(columns=['Unnamed: 0','tid','Unnamed: 0.1'], inplace = True)"
   ]
  },
  {
   "cell_type": "code",
   "execution_count": 5,
   "metadata": {},
   "outputs": [
    {
     "data": {
      "text/html": [
       "<div>\n",
       "<style scoped>\n",
       "    .dataframe tbody tr th:only-of-type {\n",
       "        vertical-align: middle;\n",
       "    }\n",
       "\n",
       "    .dataframe tbody tr th {\n",
       "        vertical-align: top;\n",
       "    }\n",
       "\n",
       "    .dataframe thead th {\n",
       "        text-align: right;\n",
       "    }\n",
       "</style>\n",
       "<table border=\"1\" class=\"dataframe\">\n",
       "  <thead>\n",
       "    <tr style=\"text-align: right;\">\n",
       "      <th></th>\n",
       "      <th>title</th>\n",
       "      <th>artist_name</th>\n",
       "      <th>genre</th>\n",
       "      <th>song_id</th>\n",
       "      <th>release</th>\n",
       "      <th>year</th>\n",
       "      <th>artist_gender</th>\n",
       "    </tr>\n",
       "  </thead>\n",
       "  <tbody>\n",
       "    <tr>\n",
       "      <th>0</th>\n",
       "      <td>El hijo del pueblo</td>\n",
       "      <td>Jorge Negrete</td>\n",
       "      <td>Latin</td>\n",
       "      <td>SOLJTLX12AB01890ED</td>\n",
       "      <td>32 Grandes Éxitos  CD 2</td>\n",
       "      <td>1997</td>\n",
       "      <td>female</td>\n",
       "    </tr>\n",
       "    <tr>\n",
       "      <th>1</th>\n",
       "      <td>N Gana</td>\n",
       "      <td>Waldemar Bastos</td>\n",
       "      <td>World</td>\n",
       "      <td>SOGPCJI12A8C13CCA0</td>\n",
       "      <td>Afropea 3 - Telling Stories To The Sea</td>\n",
       "      <td>0</td>\n",
       "      <td>male</td>\n",
       "    </tr>\n",
       "    <tr>\n",
       "      <th>2</th>\n",
       "      <td>006</td>\n",
       "      <td>Lena Philipsson</td>\n",
       "      <td>Pop</td>\n",
       "      <td>SOSDCFG12AB0184647</td>\n",
       "      <td>Lena 20 År</td>\n",
       "      <td>1998</td>\n",
       "      <td>male</td>\n",
       "    </tr>\n",
       "    <tr>\n",
       "      <th>3</th>\n",
       "      <td>Rock-N-Rule</td>\n",
       "      <td>Emery</td>\n",
       "      <td>Rock</td>\n",
       "      <td>SOIMMJJ12AF72AD643</td>\n",
       "      <td>I'm Only A Man (Bonus Track Version)</td>\n",
       "      <td>2007</td>\n",
       "      <td>female</td>\n",
       "    </tr>\n",
       "    <tr>\n",
       "      <th>4</th>\n",
       "      <td>I'm Ready</td>\n",
       "      <td>Aerosmith</td>\n",
       "      <td>Rock</td>\n",
       "      <td>SOEEHEY12CF5F88FB4</td>\n",
       "      <td>Honkin' On Bobo</td>\n",
       "      <td>2004</td>\n",
       "      <td>female</td>\n",
       "    </tr>\n",
       "    <tr>\n",
       "      <th>5</th>\n",
       "      <td>I'm Ready</td>\n",
       "      <td>Aerosmith</td>\n",
       "      <td>RnB</td>\n",
       "      <td>SOEEHEY12CF5F88FB4</td>\n",
       "      <td>Honkin' On Bobo</td>\n",
       "      <td>2004</td>\n",
       "      <td>female</td>\n",
       "    </tr>\n",
       "    <tr>\n",
       "      <th>6</th>\n",
       "      <td>Raspberry Beret (LP Version)</td>\n",
       "      <td>Prince &amp; The Revolution</td>\n",
       "      <td>RnB</td>\n",
       "      <td>SOGNNYL12A6D4F910B</td>\n",
       "      <td>The Hits/The B-Sides</td>\n",
       "      <td>0</td>\n",
       "      <td>male</td>\n",
       "    </tr>\n",
       "    <tr>\n",
       "      <th>7</th>\n",
       "      <td>Raspberry Beret (LP Version)</td>\n",
       "      <td>Prince &amp; The Revolution</td>\n",
       "      <td>RnB</td>\n",
       "      <td>SOTYKYC12AB018CB4B</td>\n",
       "      <td>The Hits 2</td>\n",
       "      <td>0</td>\n",
       "      <td>male</td>\n",
       "    </tr>\n",
       "    <tr>\n",
       "      <th>8</th>\n",
       "      <td>Wonderful Stash</td>\n",
       "      <td>Wishbone Ash</td>\n",
       "      <td>Rock</td>\n",
       "      <td>SOKQCDA12A6D4FA556</td>\n",
       "      <td>TRANCE VISIONARY</td>\n",
       "      <td>1998</td>\n",
       "      <td>female</td>\n",
       "    </tr>\n",
       "    <tr>\n",
       "      <th>9</th>\n",
       "      <td>Scream</td>\n",
       "      <td>Billy Idol</td>\n",
       "      <td>Rock</td>\n",
       "      <td>SOWWQXA12A81C1F9CA</td>\n",
       "      <td>Devil's Playground</td>\n",
       "      <td>2005</td>\n",
       "      <td>male</td>\n",
       "    </tr>\n",
       "  </tbody>\n",
       "</table>\n",
       "</div>"
      ],
      "text/plain": [
       "                          title              artist_name  genre  \\\n",
       "0            El hijo del pueblo            Jorge Negrete  Latin   \n",
       "1                        N Gana          Waldemar Bastos  World   \n",
       "2                           006          Lena Philipsson    Pop   \n",
       "3                   Rock-N-Rule                    Emery   Rock   \n",
       "4                     I'm Ready                Aerosmith   Rock   \n",
       "5                     I'm Ready                Aerosmith    RnB   \n",
       "6  Raspberry Beret (LP Version)  Prince & The Revolution    RnB   \n",
       "7  Raspberry Beret (LP Version)  Prince & The Revolution    RnB   \n",
       "8               Wonderful Stash             Wishbone Ash   Rock   \n",
       "9                        Scream               Billy Idol   Rock   \n",
       "\n",
       "              song_id                                 release  year  \\\n",
       "0  SOLJTLX12AB01890ED                 32 Grandes Éxitos  CD 2  1997   \n",
       "1  SOGPCJI12A8C13CCA0  Afropea 3 - Telling Stories To The Sea     0   \n",
       "2  SOSDCFG12AB0184647                              Lena 20 År  1998   \n",
       "3  SOIMMJJ12AF72AD643    I'm Only A Man (Bonus Track Version)  2007   \n",
       "4  SOEEHEY12CF5F88FB4                         Honkin' On Bobo  2004   \n",
       "5  SOEEHEY12CF5F88FB4                         Honkin' On Bobo  2004   \n",
       "6  SOGNNYL12A6D4F910B                    The Hits/The B-Sides     0   \n",
       "7  SOTYKYC12AB018CB4B                              The Hits 2     0   \n",
       "8  SOKQCDA12A6D4FA556                        TRANCE VISIONARY  1998   \n",
       "9  SOWWQXA12A81C1F9CA                      Devil's Playground  2005   \n",
       "\n",
       "  artist_gender  \n",
       "0        female  \n",
       "1          male  \n",
       "2          male  \n",
       "3        female  \n",
       "4        female  \n",
       "5        female  \n",
       "6          male  \n",
       "7          male  \n",
       "8        female  \n",
       "9          male  "
      ]
     },
     "execution_count": 5,
     "metadata": {},
     "output_type": "execute_result"
    }
   ],
   "source": [
    "song_data_with_genre.head(10)"
   ]
  },
  {
   "cell_type": "code",
   "execution_count": 6,
   "metadata": {},
   "outputs": [],
   "source": [
    "song_data_with_genre['text'] = song_data_with_genre['title'] + ' ' + song_data_with_genre['artist_name'] + ' ' + song_data_with_genre['genre'] + ' ' + song_data_with_genre['release']"
   ]
  },
  {
   "cell_type": "code",
   "execution_count": 7,
   "metadata": {},
   "outputs": [
    {
     "data": {
      "text/html": [
       "<div>\n",
       "<style scoped>\n",
       "    .dataframe tbody tr th:only-of-type {\n",
       "        vertical-align: middle;\n",
       "    }\n",
       "\n",
       "    .dataframe tbody tr th {\n",
       "        vertical-align: top;\n",
       "    }\n",
       "\n",
       "    .dataframe thead th {\n",
       "        text-align: right;\n",
       "    }\n",
       "</style>\n",
       "<table border=\"1\" class=\"dataframe\">\n",
       "  <thead>\n",
       "    <tr style=\"text-align: right;\">\n",
       "      <th></th>\n",
       "      <th>title</th>\n",
       "      <th>artist_name</th>\n",
       "      <th>genre</th>\n",
       "      <th>song_id</th>\n",
       "      <th>release</th>\n",
       "      <th>year</th>\n",
       "      <th>artist_gender</th>\n",
       "      <th>text</th>\n",
       "    </tr>\n",
       "  </thead>\n",
       "  <tbody>\n",
       "    <tr>\n",
       "      <th>0</th>\n",
       "      <td>El hijo del pueblo</td>\n",
       "      <td>Jorge Negrete</td>\n",
       "      <td>Latin</td>\n",
       "      <td>SOLJTLX12AB01890ED</td>\n",
       "      <td>32 Grandes Éxitos  CD 2</td>\n",
       "      <td>1997</td>\n",
       "      <td>female</td>\n",
       "      <td>El hijo del pueblo Jorge Negrete Latin 32 Gran...</td>\n",
       "    </tr>\n",
       "    <tr>\n",
       "      <th>1</th>\n",
       "      <td>N Gana</td>\n",
       "      <td>Waldemar Bastos</td>\n",
       "      <td>World</td>\n",
       "      <td>SOGPCJI12A8C13CCA0</td>\n",
       "      <td>Afropea 3 - Telling Stories To The Sea</td>\n",
       "      <td>0</td>\n",
       "      <td>male</td>\n",
       "      <td>N Gana Waldemar Bastos World Afropea 3 - Telli...</td>\n",
       "    </tr>\n",
       "    <tr>\n",
       "      <th>2</th>\n",
       "      <td>006</td>\n",
       "      <td>Lena Philipsson</td>\n",
       "      <td>Pop</td>\n",
       "      <td>SOSDCFG12AB0184647</td>\n",
       "      <td>Lena 20 År</td>\n",
       "      <td>1998</td>\n",
       "      <td>male</td>\n",
       "      <td>006 Lena Philipsson Pop Lena 20 År</td>\n",
       "    </tr>\n",
       "    <tr>\n",
       "      <th>3</th>\n",
       "      <td>Rock-N-Rule</td>\n",
       "      <td>Emery</td>\n",
       "      <td>Rock</td>\n",
       "      <td>SOIMMJJ12AF72AD643</td>\n",
       "      <td>I'm Only A Man (Bonus Track Version)</td>\n",
       "      <td>2007</td>\n",
       "      <td>female</td>\n",
       "      <td>Rock-N-Rule Emery Rock I'm Only A Man (Bonus T...</td>\n",
       "    </tr>\n",
       "    <tr>\n",
       "      <th>4</th>\n",
       "      <td>I'm Ready</td>\n",
       "      <td>Aerosmith</td>\n",
       "      <td>Rock</td>\n",
       "      <td>SOEEHEY12CF5F88FB4</td>\n",
       "      <td>Honkin' On Bobo</td>\n",
       "      <td>2004</td>\n",
       "      <td>female</td>\n",
       "      <td>I'm Ready Aerosmith Rock Honkin' On Bobo</td>\n",
       "    </tr>\n",
       "    <tr>\n",
       "      <th>5</th>\n",
       "      <td>I'm Ready</td>\n",
       "      <td>Aerosmith</td>\n",
       "      <td>RnB</td>\n",
       "      <td>SOEEHEY12CF5F88FB4</td>\n",
       "      <td>Honkin' On Bobo</td>\n",
       "      <td>2004</td>\n",
       "      <td>female</td>\n",
       "      <td>I'm Ready Aerosmith RnB Honkin' On Bobo</td>\n",
       "    </tr>\n",
       "    <tr>\n",
       "      <th>6</th>\n",
       "      <td>Raspberry Beret (LP Version)</td>\n",
       "      <td>Prince &amp; The Revolution</td>\n",
       "      <td>RnB</td>\n",
       "      <td>SOGNNYL12A6D4F910B</td>\n",
       "      <td>The Hits/The B-Sides</td>\n",
       "      <td>0</td>\n",
       "      <td>male</td>\n",
       "      <td>Raspberry Beret (LP Version) Prince &amp; The Revo...</td>\n",
       "    </tr>\n",
       "    <tr>\n",
       "      <th>7</th>\n",
       "      <td>Raspberry Beret (LP Version)</td>\n",
       "      <td>Prince &amp; The Revolution</td>\n",
       "      <td>RnB</td>\n",
       "      <td>SOTYKYC12AB018CB4B</td>\n",
       "      <td>The Hits 2</td>\n",
       "      <td>0</td>\n",
       "      <td>male</td>\n",
       "      <td>Raspberry Beret (LP Version) Prince &amp; The Revo...</td>\n",
       "    </tr>\n",
       "    <tr>\n",
       "      <th>8</th>\n",
       "      <td>Wonderful Stash</td>\n",
       "      <td>Wishbone Ash</td>\n",
       "      <td>Rock</td>\n",
       "      <td>SOKQCDA12A6D4FA556</td>\n",
       "      <td>TRANCE VISIONARY</td>\n",
       "      <td>1998</td>\n",
       "      <td>female</td>\n",
       "      <td>Wonderful Stash Wishbone Ash Rock TRANCE VISIO...</td>\n",
       "    </tr>\n",
       "    <tr>\n",
       "      <th>9</th>\n",
       "      <td>Scream</td>\n",
       "      <td>Billy Idol</td>\n",
       "      <td>Rock</td>\n",
       "      <td>SOWWQXA12A81C1F9CA</td>\n",
       "      <td>Devil's Playground</td>\n",
       "      <td>2005</td>\n",
       "      <td>male</td>\n",
       "      <td>Scream Billy Idol Rock Devil's Playground</td>\n",
       "    </tr>\n",
       "  </tbody>\n",
       "</table>\n",
       "</div>"
      ],
      "text/plain": [
       "                          title              artist_name  genre  \\\n",
       "0            El hijo del pueblo            Jorge Negrete  Latin   \n",
       "1                        N Gana          Waldemar Bastos  World   \n",
       "2                           006          Lena Philipsson    Pop   \n",
       "3                   Rock-N-Rule                    Emery   Rock   \n",
       "4                     I'm Ready                Aerosmith   Rock   \n",
       "5                     I'm Ready                Aerosmith    RnB   \n",
       "6  Raspberry Beret (LP Version)  Prince & The Revolution    RnB   \n",
       "7  Raspberry Beret (LP Version)  Prince & The Revolution    RnB   \n",
       "8               Wonderful Stash             Wishbone Ash   Rock   \n",
       "9                        Scream               Billy Idol   Rock   \n",
       "\n",
       "              song_id                                 release  year  \\\n",
       "0  SOLJTLX12AB01890ED                 32 Grandes Éxitos  CD 2  1997   \n",
       "1  SOGPCJI12A8C13CCA0  Afropea 3 - Telling Stories To The Sea     0   \n",
       "2  SOSDCFG12AB0184647                              Lena 20 År  1998   \n",
       "3  SOIMMJJ12AF72AD643    I'm Only A Man (Bonus Track Version)  2007   \n",
       "4  SOEEHEY12CF5F88FB4                         Honkin' On Bobo  2004   \n",
       "5  SOEEHEY12CF5F88FB4                         Honkin' On Bobo  2004   \n",
       "6  SOGNNYL12A6D4F910B                    The Hits/The B-Sides     0   \n",
       "7  SOTYKYC12AB018CB4B                              The Hits 2     0   \n",
       "8  SOKQCDA12A6D4FA556                        TRANCE VISIONARY  1998   \n",
       "9  SOWWQXA12A81C1F9CA                      Devil's Playground  2005   \n",
       "\n",
       "  artist_gender                                               text  \n",
       "0        female  El hijo del pueblo Jorge Negrete Latin 32 Gran...  \n",
       "1          male  N Gana Waldemar Bastos World Afropea 3 - Telli...  \n",
       "2          male                 006 Lena Philipsson Pop Lena 20 År  \n",
       "3        female  Rock-N-Rule Emery Rock I'm Only A Man (Bonus T...  \n",
       "4        female           I'm Ready Aerosmith Rock Honkin' On Bobo  \n",
       "5        female            I'm Ready Aerosmith RnB Honkin' On Bobo  \n",
       "6          male  Raspberry Beret (LP Version) Prince & The Revo...  \n",
       "7          male  Raspberry Beret (LP Version) Prince & The Revo...  \n",
       "8        female  Wonderful Stash Wishbone Ash Rock TRANCE VISIO...  \n",
       "9          male          Scream Billy Idol Rock Devil's Playground  "
      ]
     },
     "execution_count": 7,
     "metadata": {},
     "output_type": "execute_result"
    }
   ],
   "source": [
    "song_data_with_genre.head(10)"
   ]
  },
  {
   "cell_type": "code",
   "execution_count": 8,
   "metadata": {},
   "outputs": [
    {
     "data": {
      "text/plain": [
       "['El hijo del pueblo Jorge Negrete Latin 32 Grandes Éxitos  CD 2',\n",
       " 'N Gana Waldemar Bastos World Afropea 3 - Telling Stories To The Sea',\n",
       " '006 Lena Philipsson Pop Lena 20 År',\n",
       " \"Rock-N-Rule Emery Rock I'm Only A Man (Bonus Track Version)\",\n",
       " \"I'm Ready Aerosmith Rock Honkin' On Bobo\",\n",
       " \"I'm Ready Aerosmith RnB Honkin' On Bobo\",\n",
       " 'Raspberry Beret (LP Version) Prince & The Revolution RnB The Hits/The B-Sides',\n",
       " 'Raspberry Beret (LP Version) Prince & The Revolution RnB The Hits 2',\n",
       " 'Wonderful Stash Wishbone Ash Rock TRANCE VISIONARY',\n",
       " \"Scream Billy Idol Rock Devil's Playground\"]"
      ]
     },
     "execution_count": 8,
     "metadata": {},
     "output_type": "execute_result"
    }
   ],
   "source": [
    "list(song_data_with_genre['text'][:10])"
   ]
  },
  {
   "cell_type": "code",
   "execution_count": 9,
   "metadata": {},
   "outputs": [],
   "source": [
    "document = song_data_with_genre['text'][0]"
   ]
  },
  {
   "cell_type": "code",
   "execution_count": 10,
   "metadata": {},
   "outputs": [
    {
     "data": {
      "text/plain": [
       "'El hijo del pueblo Jorge Negrete Latin 32 Grandes Éxitos  CD 2'"
      ]
     },
     "execution_count": 10,
     "metadata": {},
     "output_type": "execute_result"
    }
   ],
   "source": [
    "document"
   ]
  },
  {
   "cell_type": "code",
   "execution_count": 11,
   "metadata": {},
   "outputs": [],
   "source": [
    "text_corpus = list(song_data_with_genre['text'])"
   ]
  },
  {
   "cell_type": "code",
   "execution_count": 12,
   "metadata": {},
   "outputs": [],
   "source": [
    "# Create a set of frequent words\n",
    "stoplist = set('for a of the and to in'.split(' '))\n",
    "# Lowercase each document, split it by white space and filter out stopwords\n",
    "texts = [[word for word in document.lower().split() if word not in stoplist]\n",
    "         for document in text_corpus]\n",
    "\n",
    "# Count word frequencies\n",
    "from collections import defaultdict\n",
    "frequency = defaultdict(int)\n",
    "for text in texts:\n",
    "    for token in text:\n",
    "        frequency[token] += 1\n",
    "\n",
    "# Only keep words that appear more than once\n",
    "processed_corpus = [[token for token in text if frequency[token] > 1] for text in texts]\n",
    "##pprint.pprint(processed_corpus)"
   ]
  },
  {
   "cell_type": "code",
   "execution_count": 13,
   "metadata": {},
   "outputs": [],
   "source": [
    "# pickle processed_corpus list\n",
    "#processed_corpus_pkl = \"processed_corpus.pkl\"   \n",
    "#pickle.dump(processed_corpus,open( processed_corpus_pkl, \"wb\" ))"
   ]
  },
  {
   "cell_type": "code",
   "execution_count": 14,
   "metadata": {},
   "outputs": [],
   "source": [
    "processed_corpus = pickle.load( open( \"processed_corpus.pkl\", \"rb\" ) )"
   ]
  },
  {
   "cell_type": "code",
   "execution_count": 15,
   "metadata": {
    "scrolled": true
   },
   "outputs": [
    {
     "name": "stdout",
     "output_type": "stream",
     "text": [
      "Dictionary(43862 unique tokens: ['2', '32', 'cd', 'del', 'el']...)\n"
     ]
    }
   ],
   "source": [
    "from gensim import corpora\n",
    "\n",
    "dictionary = corpora.Dictionary(processed_corpus)\n",
    "#print(dictionary)"
   ]
  },
  {
   "cell_type": "code",
   "execution_count": 16,
   "metadata": {},
   "outputs": [],
   "source": [
    "#processed_corpus"
   ]
  },
  {
   "cell_type": "code",
   "execution_count": 17,
   "metadata": {},
   "outputs": [
    {
     "data": {
      "text/plain": [
       "43862"
      ]
     },
     "execution_count": 17,
     "metadata": {},
     "output_type": "execute_result"
    }
   ],
   "source": [
    "len(dictionary.token2id)"
   ]
  },
  {
   "cell_type": "code",
   "execution_count": 18,
   "metadata": {},
   "outputs": [
    {
     "name": "stdout",
     "output_type": "stream",
     "text": [
      "[(3005, 1), (7351, 1)]\n"
     ]
    }
   ],
   "source": [
    "# testing with new doc\n",
    "new_doc = \"Human computer interaction\"\n",
    "new_vec = dictionary.doc2bow(new_doc.lower().split())\n",
    "print(new_vec)"
   ]
  },
  {
   "cell_type": "code",
   "execution_count": 19,
   "metadata": {},
   "outputs": [],
   "source": [
    "bow_corpus = [dictionary.doc2bow(text) for text in processed_corpus]\n",
    "##pprint.pprint(bow_corpus)"
   ]
  },
  {
   "cell_type": "code",
   "execution_count": 20,
   "metadata": {},
   "outputs": [],
   "source": [
    "# pickle bow_corpus list\n",
    "#bow_corpus_pkl = \"bow_corpus.pkl\"   \n",
    "#pickle.dump(bow_corpus,open( bow_corpus_pkl, \"wb\" ))"
   ]
  },
  {
   "cell_type": "code",
   "execution_count": 21,
   "metadata": {},
   "outputs": [],
   "source": [
    "bow_corpus = pickle.load( open( \"bow_corpus.pkl\", \"rb\" ) )"
   ]
  },
  {
   "cell_type": "code",
   "execution_count": 22,
   "metadata": {},
   "outputs": [
    {
     "name": "stdout",
     "output_type": "stream",
     "text": [
      "[(70, 0.5570966550082789), (4822, 0.8304476605895081)]\n"
     ]
    }
   ],
   "source": [
    "# MODEL\n",
    "from gensim import models\n",
    "\n",
    "# train the model\n",
    "tfidf = models.TfidfModel(bow_corpus)\n",
    "\n",
    "# transform the \"system minors\" string\n",
    "words = \"Silent Night\".lower().split()\n",
    "print(tfidf[dictionary.doc2bow(words)])"
   ]
  },
  {
   "cell_type": "code",
   "execution_count": 23,
   "metadata": {},
   "outputs": [],
   "source": [
    "#joblib_file = 'gensim_tfidf_model.pkl'\n",
    "#joblib.dump(tfidf, joblib_file)"
   ]
  },
  {
   "cell_type": "code",
   "execution_count": 24,
   "metadata": {},
   "outputs": [],
   "source": [
    "tfidf = joblib.load('gensim_tfidf_model.pkl')"
   ]
  }
 ],
 "metadata": {
  "kernelspec": {
   "display_name": "Python 3",
   "language": "python",
   "name": "python3"
  },
  "language_info": {
   "codemirror_mode": {
    "name": "ipython",
    "version": 3
   },
   "file_extension": ".py",
   "mimetype": "text/x-python",
   "name": "python",
   "nbconvert_exporter": "python",
   "pygments_lexer": "ipython3",
   "version": "3.7.2"
  }
 },
 "nbformat": 4,
 "nbformat_minor": 2
}
