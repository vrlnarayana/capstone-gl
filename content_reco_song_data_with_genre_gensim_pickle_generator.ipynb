{
  "nbformat": 4,
  "nbformat_minor": 0,
  "metadata": {
    "kernelspec": {
      "display_name": "Python 3",
      "language": "python",
      "name": "python3"
    },
    "language_info": {
      "codemirror_mode": {
        "name": "ipython",
        "version": 3
      },
      "file_extension": ".py",
      "mimetype": "text/x-python",
      "name": "python",
      "nbconvert_exporter": "python",
      "pygments_lexer": "ipython3",
      "version": "3.7.2"
    },
    "colab": {
      "name": "content_reco_song_data_with_genre_gensim_pickle_generator.ipynb",
      "provenance": [],
      "collapsed_sections": [],
      "toc_visible": true,
      "include_colab_link": true
    }
  },
  "cells": [
    {
      "cell_type": "markdown",
      "metadata": {
        "id": "view-in-github",
        "colab_type": "text"
      },
      "source": [
        "<a href=\"https://colab.research.google.com/github/vrlnarayana/capstone-gl/blob/main/content_reco_song_data_with_genre_gensim_pickle_generator.ipynb\" target=\"_parent\"><img src=\"https://colab.research.google.com/assets/colab-badge.svg\" alt=\"Open In Colab\"/></a>"
      ]
    },
    {
      "cell_type": "code",
      "metadata": {
        "colab": {
          "base_uri": "https://localhost:8080/"
        },
        "id": "tOGw3xd3cdpM",
        "outputId": "404eb863-0717-495e-84ed-ed1f2dccc1ed"
      },
      "source": [
        "from google.colab import drive\n",
        "drive.mount('/content/drive')"
      ],
      "execution_count": 72,
      "outputs": [
        {
          "output_type": "stream",
          "text": [
            "Drive already mounted at /content/drive; to attempt to forcibly remount, call drive.mount(\"/content/drive\", force_remount=True).\n"
          ],
          "name": "stdout"
        }
      ]
    },
    {
      "cell_type": "code",
      "metadata": {
        "id": "jwpb_jIXcfo2"
      },
      "source": [
        "#Lakshminarayanan\n",
        "import pprint\n",
        "import pandas as pd\n",
        "import numpy as np\n",
        "import pickle\n",
        "import joblib"
      ],
      "execution_count": 73,
      "outputs": []
    },
    {
      "cell_type": "code",
      "metadata": {
        "id": "xAsrsemAcdpT"
      },
      "source": [
        "song_data_with_genre_pkl = pd.read_pickle(r'/content/drive/My Drive/song_data_with_genre.pkl')"
      ],
      "execution_count": 74,
      "outputs": []
    },
    {
      "cell_type": "code",
      "metadata": {
        "colab": {
          "base_uri": "https://localhost:8080/"
        },
        "id": "9YpU9ovIcdpU",
        "outputId": "75c357a4-0579-4e17-c830-bad0716de82d"
      },
      "source": [
        "song_data_with_genre_pkl.isna().any()"
      ],
      "execution_count": 75,
      "outputs": [
        {
          "output_type": "execute_result",
          "data": {
            "text/plain": [
              "song_id               False\n",
              "title                  True\n",
              "release                True\n",
              "artist_name           False\n",
              "year                  False\n",
              "track_id              False\n",
              "artist_id             False\n",
              "artist_mbid            True\n",
              "duration              False\n",
              "artist_familiarity    False\n",
              "artist_hotttnesss     False\n",
              "track_7digitalid      False\n",
              "shs_perf              False\n",
              "shs_work              False\n",
              "lat                    True\n",
              "long                   True\n",
              "location               True\n",
              "genre                  True\n",
              "dtype: bool"
            ]
          },
          "metadata": {
            "tags": []
          },
          "execution_count": 75
        }
      ]
    },
    {
      "cell_type": "code",
      "metadata": {
        "colab": {
          "base_uri": "https://localhost:8080/"
        },
        "id": "KEs79eIliipv",
        "outputId": "81b82cb4-fcc9-49b4-e586-a581750b5225"
      },
      "source": [
        "song_data_with_genre_pkl.info()"
      ],
      "execution_count": 76,
      "outputs": [
        {
          "output_type": "stream",
          "text": [
            "<class 'pandas.core.frame.DataFrame'>\n",
            "Int64Index: 1000000 entries, 0 to 999999\n",
            "Data columns (total 18 columns):\n",
            " #   Column              Non-Null Count    Dtype  \n",
            "---  ------              --------------    -----  \n",
            " 0   song_id             1000000 non-null  object \n",
            " 1   title               999985 non-null   object \n",
            " 2   release             999995 non-null   object \n",
            " 3   artist_name         1000000 non-null  object \n",
            " 4   year                1000000 non-null  int64  \n",
            " 5   track_id            1000000 non-null  object \n",
            " 6   artist_id           1000000 non-null  object \n",
            " 7   artist_mbid         937429 non-null   object \n",
            " 8   duration            1000000 non-null  float64\n",
            " 9   artist_familiarity  1000000 non-null  float64\n",
            " 10  artist_hotttnesss   1000000 non-null  float64\n",
            " 11  track_7digitalid    1000000 non-null  int64  \n",
            " 12  shs_perf            1000000 non-null  int64  \n",
            " 13  shs_work            1000000 non-null  int64  \n",
            " 14  lat                 396070 non-null   float64\n",
            " 15  long                396070 non-null   float64\n",
            " 16  location            395927 non-null   object \n",
            " 17  genre               422701 non-null   object \n",
            "dtypes: float64(5), int64(4), object(9)\n",
            "memory usage: 145.0+ MB\n"
          ],
          "name": "stdout"
        }
      ]
    },
    {
      "cell_type": "code",
      "metadata": {
        "id": "xNt-H4uRcdpW"
      },
      "source": [
        "song_data_with_genre = song_data_with_genre_pkl[~song_data_with_genre_pkl.genre.isna()]"
      ],
      "execution_count": 77,
      "outputs": []
    },
    {
      "cell_type": "code",
      "metadata": {
        "id": "QXQZyjIXjuVp"
      },
      "source": [
        "song_data_with_genre.reset_index(inplace=True)"
      ],
      "execution_count": 78,
      "outputs": []
    },
    {
      "cell_type": "code",
      "metadata": {
        "id": "W6dvYv7lj7hR"
      },
      "source": [
        "song_data_with_genre = song_data_with_genre.drop(columns='index')"
      ],
      "execution_count": 79,
      "outputs": []
    },
    {
      "cell_type": "code",
      "metadata": {
        "colab": {
          "base_uri": "https://localhost:8080/"
        },
        "id": "hGzdYomEkP9_",
        "outputId": "174330e1-8234-4862-b341-da4a9a3c77da"
      },
      "source": [
        "song_data_with_genre.isna().any()"
      ],
      "execution_count": 80,
      "outputs": [
        {
          "output_type": "execute_result",
          "data": {
            "text/plain": [
              "song_id               False\n",
              "title                 False\n",
              "release               False\n",
              "artist_name           False\n",
              "year                  False\n",
              "track_id              False\n",
              "artist_id             False\n",
              "artist_mbid            True\n",
              "duration              False\n",
              "artist_familiarity    False\n",
              "artist_hotttnesss     False\n",
              "track_7digitalid      False\n",
              "shs_perf              False\n",
              "shs_work              False\n",
              "lat                    True\n",
              "long                   True\n",
              "location               True\n",
              "genre                 False\n",
              "dtype: bool"
            ]
          },
          "metadata": {
            "tags": []
          },
          "execution_count": 80
        }
      ]
    },
    {
      "cell_type": "code",
      "metadata": {
        "id": "r0kz4PCYcdpV"
      },
      "source": [
        "song_data_with_genre['text'] = song_data_with_genre['title'] + ' ' + song_data_with_genre['artist_name'] + ' ' + song_data_with_genre['genre'] + ' ' + song_data_with_genre['release']"
      ],
      "execution_count": 81,
      "outputs": []
    },
    {
      "cell_type": "code",
      "metadata": {
        "colab": {
          "base_uri": "https://localhost:8080/"
        },
        "id": "NjjftV5cr0aq",
        "outputId": "f50441c7-73f9-463c-93b9-faaedc238f65"
      },
      "source": [
        "song_data_with_genre.info()"
      ],
      "execution_count": 82,
      "outputs": [
        {
          "output_type": "stream",
          "text": [
            "<class 'pandas.core.frame.DataFrame'>\n",
            "RangeIndex: 422701 entries, 0 to 422700\n",
            "Data columns (total 19 columns):\n",
            " #   Column              Non-Null Count   Dtype  \n",
            "---  ------              --------------   -----  \n",
            " 0   song_id             422701 non-null  object \n",
            " 1   title               422701 non-null  object \n",
            " 2   release             422701 non-null  object \n",
            " 3   artist_name         422701 non-null  object \n",
            " 4   year                422701 non-null  int64  \n",
            " 5   track_id            422701 non-null  object \n",
            " 6   artist_id           422701 non-null  object \n",
            " 7   artist_mbid         406970 non-null  object \n",
            " 8   duration            422701 non-null  float64\n",
            " 9   artist_familiarity  422701 non-null  float64\n",
            " 10  artist_hotttnesss   422701 non-null  float64\n",
            " 11  track_7digitalid    422701 non-null  int64  \n",
            " 12  shs_perf            422701 non-null  int64  \n",
            " 13  shs_work            422701 non-null  int64  \n",
            " 14  lat                 177558 non-null  float64\n",
            " 15  long                177558 non-null  float64\n",
            " 16  location            177547 non-null  object \n",
            " 17  genre               422701 non-null  object \n",
            " 18  text                422701 non-null  object \n",
            "dtypes: float64(5), int64(4), object(10)\n",
            "memory usage: 61.3+ MB\n"
          ],
          "name": "stdout"
        }
      ]
    },
    {
      "cell_type": "code",
      "metadata": {
        "id": "jpwMHJf1qdwK"
      },
      "source": [
        "song_data_with_genre.to_pickle('song_data_with_genre.pkl')"
      ],
      "execution_count": 83,
      "outputs": []
    },
    {
      "cell_type": "code",
      "metadata": {
        "colab": {
          "base_uri": "https://localhost:8080/"
        },
        "id": "lftC5_xNcdpW",
        "outputId": "8b2886ba-e528-47d7-931c-e4aac5f59261"
      },
      "source": [
        "list(song_data_with_genre['text'][:10])"
      ],
      "execution_count": 84,
      "outputs": [
        {
          "output_type": "execute_result",
          "data": {
            "text/plain": [
              "['No One Could Ever Hudson Mohawke Electronic Butter',\n",
              " 'Si Vos Querés Yerba Brava International De Culo',\n",
              " \"2 Da Beat Ch'yall Kris Kross Rap Da Bomb\",\n",
              " 'Cold Beer feat. Prince Metropolitan Danny Diablo Pop_Rock International Hardcore Superstar',\n",
              " 'Pilots Tiger Lou Pop_Rock The Loyal',\n",
              " '(Looking For) The Heart Of Saturday Shawn Colvin Pop_Rock Cover Girl',\n",
              " 'Ethos of Coercion Dying Fetus Pop_Rock Descend Into Depravity',\n",
              " 'Nervous Nicolette Electronic Let No One Live Rent Free In Your Head',\n",
              " 'In The Journey Martin Sexton Folk In The Journey',\n",
              " 'Take As Needed Skinlab Pop_Rock Nerve Damage']"
            ]
          },
          "metadata": {
            "tags": []
          },
          "execution_count": 84
        }
      ]
    },
    {
      "cell_type": "code",
      "metadata": {
        "id": "0QvDSpZ7cdpX"
      },
      "source": [
        "document = song_data_with_genre['text'][0]"
      ],
      "execution_count": 85,
      "outputs": []
    },
    {
      "cell_type": "code",
      "metadata": {
        "colab": {
          "base_uri": "https://localhost:8080/",
          "height": 35
        },
        "id": "vSRfJZoUcdpX",
        "outputId": "24606160-6a18-44ad-9153-aa6655e40363"
      },
      "source": [
        "document"
      ],
      "execution_count": 86,
      "outputs": [
        {
          "output_type": "execute_result",
          "data": {
            "application/vnd.google.colaboratory.intrinsic+json": {
              "type": "string"
            },
            "text/plain": [
              "'No One Could Ever Hudson Mohawke Electronic Butter'"
            ]
          },
          "metadata": {
            "tags": []
          },
          "execution_count": 86
        }
      ]
    },
    {
      "cell_type": "code",
      "metadata": {
        "id": "boRKSn57cdpX"
      },
      "source": [
        "text_corpus = list(song_data_with_genre['text'])"
      ],
      "execution_count": 87,
      "outputs": []
    },
    {
      "cell_type": "code",
      "metadata": {
        "colab": {
          "base_uri": "https://localhost:8080/"
        },
        "id": "BTd-5xeYcdpY",
        "outputId": "45e9f581-d854-4144-fccf-9a30fc272d7f"
      },
      "source": [
        "# Create a set of frequent words\n",
        "stoplist = set('for a of the and to in'.split(' '))\n",
        "# Lowercase each document, split it by white space and filter out stopwords\n",
        "texts = [[word for word in document.lower().split() if word not in stoplist]\n",
        "         for document in text_corpus]\n",
        "\n",
        "# Count word frequencies\n",
        "from collections import defaultdict\n",
        "frequency = defaultdict(int)\n",
        "for text in texts:\n",
        "    for token in text:\n",
        "        frequency[token] += 1\n",
        "\n",
        "# Only keep words that appear more than once\n",
        "processed_corpus = [[token for token in text if frequency[token] > 1] for text in texts]\n",
        "pprint.pprint(processed_corpus[:10])"
      ],
      "execution_count": 88,
      "outputs": [
        {
          "output_type": "stream",
          "text": [
            "[['no', 'one', 'could', 'ever', 'hudson', 'mohawke', 'electronic', 'butter'],\n",
            " ['si', 'vos', 'yerba', 'brava', 'international', 'de', 'culo'],\n",
            " ['2', 'da', 'beat', 'kris', 'kross', 'rap', 'da', 'bomb'],\n",
            " ['cold',\n",
            "  'beer',\n",
            "  'feat.',\n",
            "  'prince',\n",
            "  'metropolitan',\n",
            "  'danny',\n",
            "  'diablo',\n",
            "  'pop_rock',\n",
            "  'international',\n",
            "  'hardcore',\n",
            "  'superstar'],\n",
            " ['pilots', 'tiger', 'lou', 'pop_rock', 'loyal'],\n",
            " ['(looking',\n",
            "  'for)',\n",
            "  'heart',\n",
            "  'saturday',\n",
            "  'shawn',\n",
            "  'colvin',\n",
            "  'pop_rock',\n",
            "  'cover',\n",
            "  'girl'],\n",
            " ['ethos', 'dying', 'fetus', 'pop_rock', 'descend', 'into', 'depravity'],\n",
            " ['nervous',\n",
            "  'nicolette',\n",
            "  'electronic',\n",
            "  'let',\n",
            "  'no',\n",
            "  'one',\n",
            "  'live',\n",
            "  'rent',\n",
            "  'free',\n",
            "  'your',\n",
            "  'head'],\n",
            " ['journey', 'martin', 'sexton', 'folk', 'journey'],\n",
            " ['take', 'as', 'needed', 'skinlab', 'pop_rock', 'nerve', 'damage']]\n"
          ],
          "name": "stdout"
        }
      ]
    },
    {
      "cell_type": "code",
      "metadata": {
        "id": "3YxRwap7cdpY"
      },
      "source": [
        "# pickle processed_corpus list\n",
        "processed_corpus_pkl = \"processed_corpus.pkl\"   \n",
        "pickle.dump(processed_corpus,open( processed_corpus_pkl, \"wb\" ))"
      ],
      "execution_count": 89,
      "outputs": []
    },
    {
      "cell_type": "code",
      "metadata": {
        "id": "hTQmhqbEcdpY"
      },
      "source": [
        "processed_corpus = pickle.load( open( \"processed_corpus.pkl\", \"rb\" ) )"
      ],
      "execution_count": 90,
      "outputs": []
    },
    {
      "cell_type": "code",
      "metadata": {
        "scrolled": true,
        "id": "dcx4vwFycdpZ"
      },
      "source": [
        "from gensim import corpora\n",
        "\n",
        "dictionary = corpora.Dictionary(processed_corpus)\n",
        "#print(dictionary)"
      ],
      "execution_count": 91,
      "outputs": []
    },
    {
      "cell_type": "code",
      "metadata": {
        "colab": {
          "base_uri": "https://localhost:8080/"
        },
        "id": "oOionwtWcdpZ",
        "outputId": "1fa3c479-eee2-49c3-a4fd-484d368c2e29"
      },
      "source": [
        "len(dictionary.token2id)"
      ],
      "execution_count": 92,
      "outputs": [
        {
          "output_type": "execute_result",
          "data": {
            "text/plain": [
              "68226"
            ]
          },
          "metadata": {
            "tags": []
          },
          "execution_count": 92
        }
      ]
    },
    {
      "cell_type": "code",
      "metadata": {
        "colab": {
          "base_uri": "https://localhost:8080/"
        },
        "id": "e5EChKsScdpZ",
        "outputId": "4712eec3-907a-4fd1-a84c-e5b4973bff6e"
      },
      "source": [
        "# testing with new doc\n",
        "new_doc = \"Human computer interaction\"\n",
        "new_vec = dictionary.doc2bow(new_doc.lower().split())\n",
        "print(new_vec)"
      ],
      "execution_count": 93,
      "outputs": [
        {
          "output_type": "stream",
          "text": [
            "[(826, 1), (11411, 1)]\n"
          ],
          "name": "stdout"
        }
      ]
    },
    {
      "cell_type": "code",
      "metadata": {
        "colab": {
          "base_uri": "https://localhost:8080/"
        },
        "id": "R0pfsNoucdpa",
        "outputId": "37c95166-82f5-4045-c2b7-f8a63c7d03d3"
      },
      "source": [
        "bow_corpus = [dictionary.doc2bow(text) for text in processed_corpus]\n",
        "pprint.pprint(bow_corpus[:10])"
      ],
      "execution_count": 94,
      "outputs": [
        {
          "output_type": "stream",
          "text": [
            "[[(0, 1), (1, 1), (2, 1), (3, 1), (4, 1), (5, 1), (6, 1), (7, 1)],\n",
            " [(8, 1), (9, 1), (10, 1), (11, 1), (12, 1), (13, 1), (14, 1)],\n",
            " [(15, 1), (16, 1), (17, 1), (18, 2), (19, 1), (20, 1), (21, 1)],\n",
            " [(11, 1),\n",
            "  (22, 1),\n",
            "  (23, 1),\n",
            "  (24, 1),\n",
            "  (25, 1),\n",
            "  (26, 1),\n",
            "  (27, 1),\n",
            "  (28, 1),\n",
            "  (29, 1),\n",
            "  (30, 1),\n",
            "  (31, 1)],\n",
            " [(29, 1), (32, 1), (33, 1), (34, 1), (35, 1)],\n",
            " [(29, 1),\n",
            "  (36, 1),\n",
            "  (37, 1),\n",
            "  (38, 1),\n",
            "  (39, 1),\n",
            "  (40, 1),\n",
            "  (41, 1),\n",
            "  (42, 1),\n",
            "  (43, 1)],\n",
            " [(29, 1), (44, 1), (45, 1), (46, 1), (47, 1), (48, 1), (49, 1)],\n",
            " [(2, 1),\n",
            "  (6, 1),\n",
            "  (7, 1),\n",
            "  (50, 1),\n",
            "  (51, 1),\n",
            "  (52, 1),\n",
            "  (53, 1),\n",
            "  (54, 1),\n",
            "  (55, 1),\n",
            "  (56, 1),\n",
            "  (57, 1)],\n",
            " [(58, 1), (59, 2), (60, 1), (61, 1)],\n",
            " [(29, 1), (62, 1), (63, 1), (64, 1), (65, 1), (66, 1), (67, 1)]]\n"
          ],
          "name": "stdout"
        }
      ]
    },
    {
      "cell_type": "code",
      "metadata": {
        "colab": {
          "base_uri": "https://localhost:8080/"
        },
        "id": "gSH4uYPccdpa",
        "outputId": "4147a3f2-efb9-4a70-8935-53cfee8b1223"
      },
      "source": [
        "# MODEL\n",
        "from gensim import models\n",
        "\n",
        "# train the model\n",
        "tfidf = models.TfidfModel(bow_corpus)\n",
        "\n",
        "# transform the \"system minors\" string\n",
        "words = \"Silent Night\".lower().split()\n",
        "print(tfidf[dictionary.doc2bow(words)])"
      ],
      "execution_count": 95,
      "outputs": [
        {
          "output_type": "stream",
          "text": [
            "[(158, 0.5682183935699769), (405, 0.8228777899595752)]\n"
          ],
          "name": "stdout"
        }
      ]
    },
    {
      "cell_type": "code",
      "metadata": {
        "colab": {
          "base_uri": "https://localhost:8080/"
        },
        "id": "cf2rzeV-cdpa",
        "outputId": "727815f9-a3fd-427d-a393-c92f5069e0ef"
      },
      "source": [
        "joblib_file = 'gensim_tfidf_model.pkl'\n",
        "joblib.dump(tfidf, joblib_file)"
      ],
      "execution_count": 96,
      "outputs": [
        {
          "output_type": "execute_result",
          "data": {
            "text/plain": [
              "['gensim_tfidf_model.pkl']"
            ]
          },
          "metadata": {
            "tags": []
          },
          "execution_count": 96
        }
      ]
    },
    {
      "cell_type": "code",
      "metadata": {
        "id": "5ZX4TCldcdpb"
      },
      "source": [
        "tfidf = joblib.load('gensim_tfidf_model.pkl')"
      ],
      "execution_count": 97,
      "outputs": []
    },
    {
      "cell_type": "markdown",
      "metadata": {
        "id": "TNlBMdtNcdpb"
      },
      "source": [
        "# USING SparseMatrixSimilarity FROM GENSIM"
      ]
    },
    {
      "cell_type": "code",
      "metadata": {
        "id": "ixcl4M-icdpb"
      },
      "source": [
        "# Compute similarity against a corpus of documents by storing the sparse index matrix in memory. \n",
        "# The similarity measure used in cosine is between two vectors.\n",
        "\n",
        "from gensim import similarities\n",
        "\n",
        "index = similarities.SparseMatrixSimilarity(tfidf[bow_corpus], num_features=len(dictionary.token2id))"
      ],
      "execution_count": 98,
      "outputs": []
    },
    {
      "cell_type": "code",
      "metadata": {
        "colab": {
          "base_uri": "https://localhost:8080/"
        },
        "id": "mXcN8zR2cdpb",
        "outputId": "c62d81c8-8971-4cd3-c2f5-3de9ea45a299"
      },
      "source": [
        "joblib_file = 'gensim_sparse_similarities.pkl'\n",
        "joblib.dump(index, joblib_file)"
      ],
      "execution_count": 99,
      "outputs": [
        {
          "output_type": "execute_result",
          "data": {
            "text/plain": [
              "['gensim_sparse_similarities.pkl']"
            ]
          },
          "metadata": {
            "tags": []
          },
          "execution_count": 99
        }
      ]
    },
    {
      "cell_type": "code",
      "metadata": {
        "id": "3hu6m2yScdpc"
      },
      "source": [
        "index = joblib.load('gensim_sparse_similarities.pkl')"
      ],
      "execution_count": 100,
      "outputs": []
    },
    {
      "cell_type": "code",
      "metadata": {
        "id": "S9JFO7S9cdpc"
      },
      "source": [
        ""
      ],
      "execution_count": 100,
      "outputs": []
    }
  ]
}