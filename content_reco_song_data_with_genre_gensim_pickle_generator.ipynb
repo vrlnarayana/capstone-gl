{
 "cells": [
  {
   "cell_type": "code",
   "execution_count": 1,
   "metadata": {},
   "outputs": [],
   "source": [
    "#Lakshminarayanan\n",
    "import pprint\n",
    "import pandas as pd\n",
    "import numpy as np\n",
    "import pickle\n",
    "import joblib"
   ]
  },
  {
   "cell_type": "code",
   "execution_count": 2,
   "metadata": {},
   "outputs": [],
   "source": [
    "song_data_with_genre = pd.read_csv('song_data_with_genre.csv')"
   ]
  },
  {
   "cell_type": "code",
   "execution_count": 3,
   "metadata": {},
   "outputs": [],
   "source": [
    "#song_data_with_genre.drop(columns=['Unnamed: 0','tid','Unnamed: 0.1'], inplace = True)"
   ]
  },
  {
   "cell_type": "code",
   "execution_count": 4,
   "metadata": {},
   "outputs": [],
   "source": [
    "#song_data_with_genre.drop_duplicates(subset=['song_id'], inplace=True)"
   ]
  },
  {
   "cell_type": "code",
   "execution_count": 5,
   "metadata": {},
   "outputs": [
    {
     "data": {
      "text/html": [
       "<div>\n",
       "<style scoped>\n",
       "    .dataframe tbody tr th:only-of-type {\n",
       "        vertical-align: middle;\n",
       "    }\n",
       "\n",
       "    .dataframe tbody tr th {\n",
       "        vertical-align: top;\n",
       "    }\n",
       "\n",
       "    .dataframe thead th {\n",
       "        text-align: right;\n",
       "    }\n",
       "</style>\n",
       "<table border=\"1\" class=\"dataframe\">\n",
       "  <thead>\n",
       "    <tr style=\"text-align: right;\">\n",
       "      <th></th>\n",
       "      <th>Unnamed: 0</th>\n",
       "      <th>title</th>\n",
       "      <th>artist_name</th>\n",
       "      <th>genre</th>\n",
       "      <th>song_id</th>\n",
       "      <th>release</th>\n",
       "      <th>year</th>\n",
       "      <th>artist_gender</th>\n",
       "      <th>text</th>\n",
       "    </tr>\n",
       "  </thead>\n",
       "  <tbody>\n",
       "    <tr>\n",
       "      <th>0</th>\n",
       "      <td>0</td>\n",
       "      <td>El hijo del pueblo</td>\n",
       "      <td>Jorge Negrete</td>\n",
       "      <td>Latin</td>\n",
       "      <td>SOLJTLX12AB01890ED</td>\n",
       "      <td>32 Grandes Éxitos  CD 2</td>\n",
       "      <td>1997</td>\n",
       "      <td>female</td>\n",
       "      <td>El hijo del pueblo Jorge Negrete Latin 32 Gran...</td>\n",
       "    </tr>\n",
       "    <tr>\n",
       "      <th>1</th>\n",
       "      <td>1</td>\n",
       "      <td>N Gana</td>\n",
       "      <td>Waldemar Bastos</td>\n",
       "      <td>World</td>\n",
       "      <td>SOGPCJI12A8C13CCA0</td>\n",
       "      <td>Afropea 3 - Telling Stories To The Sea</td>\n",
       "      <td>0</td>\n",
       "      <td>male</td>\n",
       "      <td>N Gana Waldemar Bastos World Afropea 3 - Telli...</td>\n",
       "    </tr>\n",
       "    <tr>\n",
       "      <th>2</th>\n",
       "      <td>2</td>\n",
       "      <td>006</td>\n",
       "      <td>Lena Philipsson</td>\n",
       "      <td>Pop</td>\n",
       "      <td>SOSDCFG12AB0184647</td>\n",
       "      <td>Lena 20 År</td>\n",
       "      <td>1998</td>\n",
       "      <td>male</td>\n",
       "      <td>006 Lena Philipsson Pop Lena 20 År</td>\n",
       "    </tr>\n",
       "    <tr>\n",
       "      <th>3</th>\n",
       "      <td>3</td>\n",
       "      <td>Rock-N-Rule</td>\n",
       "      <td>Emery</td>\n",
       "      <td>Rock</td>\n",
       "      <td>SOIMMJJ12AF72AD643</td>\n",
       "      <td>I'm Only A Man (Bonus Track Version)</td>\n",
       "      <td>2007</td>\n",
       "      <td>female</td>\n",
       "      <td>Rock-N-Rule Emery Rock I'm Only A Man (Bonus T...</td>\n",
       "    </tr>\n",
       "    <tr>\n",
       "      <th>4</th>\n",
       "      <td>4</td>\n",
       "      <td>I'm Ready</td>\n",
       "      <td>Aerosmith</td>\n",
       "      <td>Rock</td>\n",
       "      <td>SOEEHEY12CF5F88FB4</td>\n",
       "      <td>Honkin' On Bobo</td>\n",
       "      <td>2004</td>\n",
       "      <td>female</td>\n",
       "      <td>I'm Ready Aerosmith Rock Honkin' On Bobo</td>\n",
       "    </tr>\n",
       "  </tbody>\n",
       "</table>\n",
       "</div>"
      ],
      "text/plain": [
       "   Unnamed: 0               title      artist_name  genre             song_id  \\\n",
       "0           0  El hijo del pueblo    Jorge Negrete  Latin  SOLJTLX12AB01890ED   \n",
       "1           1              N Gana  Waldemar Bastos  World  SOGPCJI12A8C13CCA0   \n",
       "2           2                 006  Lena Philipsson    Pop  SOSDCFG12AB0184647   \n",
       "3           3         Rock-N-Rule            Emery   Rock  SOIMMJJ12AF72AD643   \n",
       "4           4           I'm Ready        Aerosmith   Rock  SOEEHEY12CF5F88FB4   \n",
       "\n",
       "                                  release  year artist_gender  \\\n",
       "0                 32 Grandes Éxitos  CD 2  1997        female   \n",
       "1  Afropea 3 - Telling Stories To The Sea     0          male   \n",
       "2                              Lena 20 År  1998          male   \n",
       "3    I'm Only A Man (Bonus Track Version)  2007        female   \n",
       "4                         Honkin' On Bobo  2004        female   \n",
       "\n",
       "                                                text  \n",
       "0  El hijo del pueblo Jorge Negrete Latin 32 Gran...  \n",
       "1  N Gana Waldemar Bastos World Afropea 3 - Telli...  \n",
       "2                 006 Lena Philipsson Pop Lena 20 År  \n",
       "3  Rock-N-Rule Emery Rock I'm Only A Man (Bonus T...  \n",
       "4           I'm Ready Aerosmith Rock Honkin' On Bobo  "
      ]
     },
     "execution_count": 5,
     "metadata": {},
     "output_type": "execute_result"
    }
   ],
   "source": [
    "#song_data_with_genre.to_csv('song_data_with_genre.csv')\n",
    "song_data_with_genre.head()"
   ]
  },
  {
   "cell_type": "code",
   "execution_count": 6,
   "metadata": {},
   "outputs": [],
   "source": [
    "song_data_with_genre['text'] = song_data_with_genre['title'] + ' ' + song_data_with_genre['artist_name'] + ' ' + song_data_with_genre['genre'] + ' ' + song_data_with_genre['release']"
   ]
  },
  {
   "cell_type": "code",
   "execution_count": 7,
   "metadata": {},
   "outputs": [
    {
     "data": {
      "text/html": [
       "<div>\n",
       "<style scoped>\n",
       "    .dataframe tbody tr th:only-of-type {\n",
       "        vertical-align: middle;\n",
       "    }\n",
       "\n",
       "    .dataframe tbody tr th {\n",
       "        vertical-align: top;\n",
       "    }\n",
       "\n",
       "    .dataframe thead th {\n",
       "        text-align: right;\n",
       "    }\n",
       "</style>\n",
       "<table border=\"1\" class=\"dataframe\">\n",
       "  <thead>\n",
       "    <tr style=\"text-align: right;\">\n",
       "      <th></th>\n",
       "      <th>Unnamed: 0</th>\n",
       "      <th>title</th>\n",
       "      <th>artist_name</th>\n",
       "      <th>genre</th>\n",
       "      <th>song_id</th>\n",
       "      <th>release</th>\n",
       "      <th>year</th>\n",
       "      <th>artist_gender</th>\n",
       "      <th>text</th>\n",
       "    </tr>\n",
       "  </thead>\n",
       "  <tbody>\n",
       "    <tr>\n",
       "      <th>0</th>\n",
       "      <td>0</td>\n",
       "      <td>El hijo del pueblo</td>\n",
       "      <td>Jorge Negrete</td>\n",
       "      <td>Latin</td>\n",
       "      <td>SOLJTLX12AB01890ED</td>\n",
       "      <td>32 Grandes Éxitos  CD 2</td>\n",
       "      <td>1997</td>\n",
       "      <td>female</td>\n",
       "      <td>El hijo del pueblo Jorge Negrete Latin 32 Gran...</td>\n",
       "    </tr>\n",
       "    <tr>\n",
       "      <th>1</th>\n",
       "      <td>1</td>\n",
       "      <td>N Gana</td>\n",
       "      <td>Waldemar Bastos</td>\n",
       "      <td>World</td>\n",
       "      <td>SOGPCJI12A8C13CCA0</td>\n",
       "      <td>Afropea 3 - Telling Stories To The Sea</td>\n",
       "      <td>0</td>\n",
       "      <td>male</td>\n",
       "      <td>N Gana Waldemar Bastos World Afropea 3 - Telli...</td>\n",
       "    </tr>\n",
       "    <tr>\n",
       "      <th>2</th>\n",
       "      <td>2</td>\n",
       "      <td>006</td>\n",
       "      <td>Lena Philipsson</td>\n",
       "      <td>Pop</td>\n",
       "      <td>SOSDCFG12AB0184647</td>\n",
       "      <td>Lena 20 År</td>\n",
       "      <td>1998</td>\n",
       "      <td>male</td>\n",
       "      <td>006 Lena Philipsson Pop Lena 20 År</td>\n",
       "    </tr>\n",
       "    <tr>\n",
       "      <th>3</th>\n",
       "      <td>3</td>\n",
       "      <td>Rock-N-Rule</td>\n",
       "      <td>Emery</td>\n",
       "      <td>Rock</td>\n",
       "      <td>SOIMMJJ12AF72AD643</td>\n",
       "      <td>I'm Only A Man (Bonus Track Version)</td>\n",
       "      <td>2007</td>\n",
       "      <td>female</td>\n",
       "      <td>Rock-N-Rule Emery Rock I'm Only A Man (Bonus T...</td>\n",
       "    </tr>\n",
       "    <tr>\n",
       "      <th>4</th>\n",
       "      <td>4</td>\n",
       "      <td>I'm Ready</td>\n",
       "      <td>Aerosmith</td>\n",
       "      <td>Rock</td>\n",
       "      <td>SOEEHEY12CF5F88FB4</td>\n",
       "      <td>Honkin' On Bobo</td>\n",
       "      <td>2004</td>\n",
       "      <td>female</td>\n",
       "      <td>I'm Ready Aerosmith Rock Honkin' On Bobo</td>\n",
       "    </tr>\n",
       "    <tr>\n",
       "      <th>5</th>\n",
       "      <td>6</td>\n",
       "      <td>Raspberry Beret (LP Version)</td>\n",
       "      <td>Prince &amp; The Revolution</td>\n",
       "      <td>RnB</td>\n",
       "      <td>SOGNNYL12A6D4F910B</td>\n",
       "      <td>The Hits/The B-Sides</td>\n",
       "      <td>0</td>\n",
       "      <td>male</td>\n",
       "      <td>Raspberry Beret (LP Version) Prince &amp; The Revo...</td>\n",
       "    </tr>\n",
       "    <tr>\n",
       "      <th>6</th>\n",
       "      <td>7</td>\n",
       "      <td>Raspberry Beret (LP Version)</td>\n",
       "      <td>Prince &amp; The Revolution</td>\n",
       "      <td>RnB</td>\n",
       "      <td>SOTYKYC12AB018CB4B</td>\n",
       "      <td>The Hits 2</td>\n",
       "      <td>0</td>\n",
       "      <td>male</td>\n",
       "      <td>Raspberry Beret (LP Version) Prince &amp; The Revo...</td>\n",
       "    </tr>\n",
       "    <tr>\n",
       "      <th>7</th>\n",
       "      <td>8</td>\n",
       "      <td>Wonderful Stash</td>\n",
       "      <td>Wishbone Ash</td>\n",
       "      <td>Rock</td>\n",
       "      <td>SOKQCDA12A6D4FA556</td>\n",
       "      <td>TRANCE VISIONARY</td>\n",
       "      <td>1998</td>\n",
       "      <td>female</td>\n",
       "      <td>Wonderful Stash Wishbone Ash Rock TRANCE VISIO...</td>\n",
       "    </tr>\n",
       "    <tr>\n",
       "      <th>8</th>\n",
       "      <td>9</td>\n",
       "      <td>Scream</td>\n",
       "      <td>Billy Idol</td>\n",
       "      <td>Rock</td>\n",
       "      <td>SOWWQXA12A81C1F9CA</td>\n",
       "      <td>Devil's Playground</td>\n",
       "      <td>2005</td>\n",
       "      <td>male</td>\n",
       "      <td>Scream Billy Idol Rock Devil's Playground</td>\n",
       "    </tr>\n",
       "    <tr>\n",
       "      <th>9</th>\n",
       "      <td>10</td>\n",
       "      <td>Dancing In The Dark</td>\n",
       "      <td>Diana Krall</td>\n",
       "      <td>Jazz</td>\n",
       "      <td>SOHMYGC12A6D4FAC4B</td>\n",
       "      <td>The Look Of Love</td>\n",
       "      <td>2001</td>\n",
       "      <td>male</td>\n",
       "      <td>Dancing In The Dark Diana Krall Jazz The Look ...</td>\n",
       "    </tr>\n",
       "  </tbody>\n",
       "</table>\n",
       "</div>"
      ],
      "text/plain": [
       "   Unnamed: 0                         title              artist_name  genre  \\\n",
       "0           0            El hijo del pueblo            Jorge Negrete  Latin   \n",
       "1           1                        N Gana          Waldemar Bastos  World   \n",
       "2           2                           006          Lena Philipsson    Pop   \n",
       "3           3                   Rock-N-Rule                    Emery   Rock   \n",
       "4           4                     I'm Ready                Aerosmith   Rock   \n",
       "5           6  Raspberry Beret (LP Version)  Prince & The Revolution    RnB   \n",
       "6           7  Raspberry Beret (LP Version)  Prince & The Revolution    RnB   \n",
       "7           8               Wonderful Stash             Wishbone Ash   Rock   \n",
       "8           9                        Scream               Billy Idol   Rock   \n",
       "9          10           Dancing In The Dark              Diana Krall   Jazz   \n",
       "\n",
       "              song_id                                 release  year  \\\n",
       "0  SOLJTLX12AB01890ED                 32 Grandes Éxitos  CD 2  1997   \n",
       "1  SOGPCJI12A8C13CCA0  Afropea 3 - Telling Stories To The Sea     0   \n",
       "2  SOSDCFG12AB0184647                              Lena 20 År  1998   \n",
       "3  SOIMMJJ12AF72AD643    I'm Only A Man (Bonus Track Version)  2007   \n",
       "4  SOEEHEY12CF5F88FB4                         Honkin' On Bobo  2004   \n",
       "5  SOGNNYL12A6D4F910B                    The Hits/The B-Sides     0   \n",
       "6  SOTYKYC12AB018CB4B                              The Hits 2     0   \n",
       "7  SOKQCDA12A6D4FA556                        TRANCE VISIONARY  1998   \n",
       "8  SOWWQXA12A81C1F9CA                      Devil's Playground  2005   \n",
       "9  SOHMYGC12A6D4FAC4B                        The Look Of Love  2001   \n",
       "\n",
       "  artist_gender                                               text  \n",
       "0        female  El hijo del pueblo Jorge Negrete Latin 32 Gran...  \n",
       "1          male  N Gana Waldemar Bastos World Afropea 3 - Telli...  \n",
       "2          male                 006 Lena Philipsson Pop Lena 20 År  \n",
       "3        female  Rock-N-Rule Emery Rock I'm Only A Man (Bonus T...  \n",
       "4        female           I'm Ready Aerosmith Rock Honkin' On Bobo  \n",
       "5          male  Raspberry Beret (LP Version) Prince & The Revo...  \n",
       "6          male  Raspberry Beret (LP Version) Prince & The Revo...  \n",
       "7        female  Wonderful Stash Wishbone Ash Rock TRANCE VISIO...  \n",
       "8          male          Scream Billy Idol Rock Devil's Playground  \n",
       "9          male  Dancing In The Dark Diana Krall Jazz The Look ...  "
      ]
     },
     "execution_count": 7,
     "metadata": {},
     "output_type": "execute_result"
    }
   ],
   "source": [
    "song_data_with_genre.head(10)"
   ]
  },
  {
   "cell_type": "code",
   "execution_count": 8,
   "metadata": {},
   "outputs": [
    {
     "data": {
      "text/plain": [
       "['El hijo del pueblo Jorge Negrete Latin 32 Grandes Éxitos  CD 2',\n",
       " 'N Gana Waldemar Bastos World Afropea 3 - Telling Stories To The Sea',\n",
       " '006 Lena Philipsson Pop Lena 20 År',\n",
       " \"Rock-N-Rule Emery Rock I'm Only A Man (Bonus Track Version)\",\n",
       " \"I'm Ready Aerosmith Rock Honkin' On Bobo\",\n",
       " 'Raspberry Beret (LP Version) Prince & The Revolution RnB The Hits/The B-Sides',\n",
       " 'Raspberry Beret (LP Version) Prince & The Revolution RnB The Hits 2',\n",
       " 'Wonderful Stash Wishbone Ash Rock TRANCE VISIONARY',\n",
       " \"Scream Billy Idol Rock Devil's Playground\",\n",
       " 'Dancing In The Dark Diana Krall Jazz The Look Of Love']"
      ]
     },
     "execution_count": 8,
     "metadata": {},
     "output_type": "execute_result"
    }
   ],
   "source": [
    "list(song_data_with_genre['text'][:10])"
   ]
  },
  {
   "cell_type": "code",
   "execution_count": 9,
   "metadata": {},
   "outputs": [],
   "source": [
    "document = song_data_with_genre['text'][0]"
   ]
  },
  {
   "cell_type": "code",
   "execution_count": 10,
   "metadata": {},
   "outputs": [
    {
     "data": {
      "text/plain": [
       "'El hijo del pueblo Jorge Negrete Latin 32 Grandes Éxitos  CD 2'"
      ]
     },
     "execution_count": 10,
     "metadata": {},
     "output_type": "execute_result"
    }
   ],
   "source": [
    "document"
   ]
  },
  {
   "cell_type": "code",
   "execution_count": 11,
   "metadata": {},
   "outputs": [],
   "source": [
    "text_corpus = list(song_data_with_genre['text'])"
   ]
  },
  {
   "cell_type": "code",
   "execution_count": 12,
   "metadata": {},
   "outputs": [
    {
     "name": "stdout",
     "output_type": "stream",
     "text": [
      "[['el',\n",
      "  'hijo',\n",
      "  'del',\n",
      "  'pueblo',\n",
      "  'jorge',\n",
      "  'negrete',\n",
      "  'latin',\n",
      "  '32',\n",
      "  'grandes',\n",
      "  'éxitos',\n",
      "  'cd',\n",
      "  '2'],\n",
      " ['n',\n",
      "  'gana',\n",
      "  'waldemar',\n",
      "  'bastos',\n",
      "  'world',\n",
      "  '3',\n",
      "  '-',\n",
      "  'telling',\n",
      "  'stories',\n",
      "  'sea'],\n",
      " ['006', 'lena', 'philipsson', 'pop', 'lena', '20', 'år'],\n",
      " ['emery', 'rock', \"i'm\", 'only', 'man', '(bonus', 'track', 'version)'],\n",
      " [\"i'm\", 'ready', 'aerosmith', 'rock', \"honkin'\", 'on', 'bobo'],\n",
      " ['raspberry',\n",
      "  'beret',\n",
      "  '(lp',\n",
      "  'version)',\n",
      "  'prince',\n",
      "  '&',\n",
      "  'revolution',\n",
      "  'rnb',\n",
      "  'hits/the',\n",
      "  'b-sides'],\n",
      " ['raspberry',\n",
      "  'beret',\n",
      "  '(lp',\n",
      "  'version)',\n",
      "  'prince',\n",
      "  '&',\n",
      "  'revolution',\n",
      "  'rnb',\n",
      "  'hits',\n",
      "  '2'],\n",
      " ['wonderful', 'stash', 'wishbone', 'ash', 'rock', 'trance', 'visionary'],\n",
      " ['scream', 'billy', 'idol', 'rock', \"devil's\", 'playground'],\n",
      " ['dancing', 'dark', 'diana', 'krall', 'jazz', 'look', 'love']]\n"
     ]
    }
   ],
   "source": [
    "# Create a set of frequent words\n",
    "stoplist = set('for a of the and to in'.split(' '))\n",
    "# Lowercase each document, split it by white space and filter out stopwords\n",
    "texts = [[word for word in document.lower().split() if word not in stoplist]\n",
    "         for document in text_corpus]\n",
    "\n",
    "# Count word frequencies\n",
    "from collections import defaultdict\n",
    "frequency = defaultdict(int)\n",
    "for text in texts:\n",
    "    for token in text:\n",
    "        frequency[token] += 1\n",
    "\n",
    "# Only keep words that appear more than once\n",
    "processed_corpus = [[token for token in text if frequency[token] > 1] for text in texts]\n",
    "pprint.pprint(processed_corpus[:10])"
   ]
  },
  {
   "cell_type": "code",
   "execution_count": 13,
   "metadata": {},
   "outputs": [],
   "source": [
    "# pickle processed_corpus list\n",
    "processed_corpus_pkl = \"processed_corpus.pkl\"   \n",
    "pickle.dump(processed_corpus,open( processed_corpus_pkl, \"wb\" ))"
   ]
  },
  {
   "cell_type": "code",
   "execution_count": 14,
   "metadata": {},
   "outputs": [],
   "source": [
    "processed_corpus = pickle.load( open( \"processed_corpus.pkl\", \"rb\" ) )"
   ]
  },
  {
   "cell_type": "code",
   "execution_count": 15,
   "metadata": {
    "scrolled": true
   },
   "outputs": [],
   "source": [
    "from gensim import corpora\n",
    "\n",
    "dictionary = corpora.Dictionary(processed_corpus)\n",
    "#print(dictionary)"
   ]
  },
  {
   "cell_type": "code",
   "execution_count": 16,
   "metadata": {},
   "outputs": [
    {
     "data": {
      "text/plain": [
       "43757"
      ]
     },
     "execution_count": 16,
     "metadata": {},
     "output_type": "execute_result"
    }
   ],
   "source": [
    "len(dictionary.token2id)"
   ]
  },
  {
   "cell_type": "code",
   "execution_count": 17,
   "metadata": {},
   "outputs": [
    {
     "name": "stdout",
     "output_type": "stream",
     "text": [
      "[(3004, 1), (7344, 1)]\n"
     ]
    }
   ],
   "source": [
    "# testing with new doc\n",
    "new_doc = \"Human computer interaction\"\n",
    "new_vec = dictionary.doc2bow(new_doc.lower().split())\n",
    "print(new_vec)"
   ]
  },
  {
   "cell_type": "code",
   "execution_count": 18,
   "metadata": {},
   "outputs": [
    {
     "name": "stdout",
     "output_type": "stream",
     "text": [
      "[[(0, 1),\n",
      "  (1, 1),\n",
      "  (2, 1),\n",
      "  (3, 1),\n",
      "  (4, 1),\n",
      "  (5, 1),\n",
      "  (6, 1),\n",
      "  (7, 1),\n",
      "  (8, 1),\n",
      "  (9, 1),\n",
      "  (10, 1),\n",
      "  (11, 1)],\n",
      " [(12, 1),\n",
      "  (13, 1),\n",
      "  (14, 1),\n",
      "  (15, 1),\n",
      "  (16, 1),\n",
      "  (17, 1),\n",
      "  (18, 1),\n",
      "  (19, 1),\n",
      "  (20, 1),\n",
      "  (21, 1)],\n",
      " [(22, 1), (23, 1), (24, 2), (25, 1), (26, 1), (27, 1)],\n",
      " [(28, 1), (29, 1), (30, 1), (31, 1), (32, 1), (33, 1), (34, 1), (35, 1)],\n",
      " [(30, 1), (33, 1), (36, 1), (37, 1), (38, 1), (39, 1), (40, 1)],\n",
      " [(35, 1),\n",
      "  (41, 1),\n",
      "  (42, 1),\n",
      "  (43, 1),\n",
      "  (44, 1),\n",
      "  (45, 1),\n",
      "  (46, 1),\n",
      "  (47, 1),\n",
      "  (48, 1),\n",
      "  (49, 1)],\n",
      " [(0, 1),\n",
      "  (35, 1),\n",
      "  (41, 1),\n",
      "  (42, 1),\n",
      "  (44, 1),\n",
      "  (46, 1),\n",
      "  (47, 1),\n",
      "  (48, 1),\n",
      "  (49, 1),\n",
      "  (50, 1)],\n",
      " [(33, 1), (51, 1), (52, 1), (53, 1), (54, 1), (55, 1), (56, 1)],\n",
      " [(33, 1), (57, 1), (58, 1), (59, 1), (60, 1), (61, 1)],\n",
      " [(62, 1), (63, 1), (64, 1), (65, 1), (66, 1), (67, 1), (68, 1)]]\n"
     ]
    }
   ],
   "source": [
    "bow_corpus = [dictionary.doc2bow(text) for text in processed_corpus]\n",
    "pprint.pprint(bow_corpus[:10])"
   ]
  },
  {
   "cell_type": "code",
   "execution_count": 19,
   "metadata": {},
   "outputs": [
    {
     "name": "stdout",
     "output_type": "stream",
     "text": [
      "[(70, 0.5572656502632245), (4818, 0.8303342670495453)]\n"
     ]
    }
   ],
   "source": [
    "# MODEL\n",
    "from gensim import models\n",
    "\n",
    "# train the model\n",
    "tfidf = models.TfidfModel(bow_corpus)\n",
    "\n",
    "# transform the \"system minors\" string\n",
    "words = \"Silent Night\".lower().split()\n",
    "print(tfidf[dictionary.doc2bow(words)])"
   ]
  },
  {
   "cell_type": "code",
   "execution_count": 20,
   "metadata": {},
   "outputs": [
    {
     "data": {
      "text/plain": [
       "['gensim_tfidf_model.pkl']"
      ]
     },
     "execution_count": 20,
     "metadata": {},
     "output_type": "execute_result"
    }
   ],
   "source": [
    "joblib_file = 'gensim_tfidf_model.pkl'\n",
    "joblib.dump(tfidf, joblib_file)"
   ]
  },
  {
   "cell_type": "code",
   "execution_count": 21,
   "metadata": {},
   "outputs": [],
   "source": [
    "tfidf = joblib.load('gensim_tfidf_model.pkl')"
   ]
  },
  {
   "cell_type": "markdown",
   "metadata": {},
   "source": [
    "# USING SparseMatrixSimilarity FROM GENSIM"
   ]
  },
  {
   "cell_type": "code",
   "execution_count": 22,
   "metadata": {},
   "outputs": [],
   "source": [
    "# Compute similarity against a corpus of documents by storing the sparse index matrix in memory. \n",
    "# The similarity measure used in cosine is between two vectors.\n",
    "\n",
    "from gensim import similarities\n",
    "\n",
    "index = similarities.SparseMatrixSimilarity(tfidf[bow_corpus], num_features=len(dictionary.token2id))"
   ]
  },
  {
   "cell_type": "code",
   "execution_count": 23,
   "metadata": {},
   "outputs": [
    {
     "data": {
      "text/plain": [
       "['gensim_sparse_similarities.pkl']"
      ]
     },
     "execution_count": 23,
     "metadata": {},
     "output_type": "execute_result"
    }
   ],
   "source": [
    "joblib_file = 'gensim_sparse_similarities.pkl'\n",
    "joblib.dump(index, joblib_file)"
   ]
  },
  {
   "cell_type": "code",
   "execution_count": 24,
   "metadata": {},
   "outputs": [],
   "source": [
    "index = joblib.load('gensim_sparse_similarities.pkl')"
   ]
  },
  {
   "cell_type": "code",
   "execution_count": null,
   "metadata": {},
   "outputs": [],
   "source": []
  }
 ],
 "metadata": {
  "kernelspec": {
   "display_name": "Python 3",
   "language": "python",
   "name": "python3"
  },
  "language_info": {
   "codemirror_mode": {
    "name": "ipython",
    "version": 3
   },
   "file_extension": ".py",
   "mimetype": "text/x-python",
   "name": "python",
   "nbconvert_exporter": "python",
   "pygments_lexer": "ipython3",
   "version": "3.7.2"
  }
 },
 "nbformat": 4,
 "nbformat_minor": 2
}
